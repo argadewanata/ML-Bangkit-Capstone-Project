{
 "cells": [
  {
   "cell_type": "code",
   "execution_count": 1,
   "id": "4291676f",
   "metadata": {},
   "outputs": [],
   "source": [
    "import os\n",
    "import time\n",
    "import csv\n",
    "import re\n",
    "import codecs\n",
    "import contextlib\n",
    "from tqdm import tqdm\n",
    "from selenium import webdriver\n",
    "from selenium.webdriver.common.by import By\n",
    "from selenium.webdriver.common.keys import Keys\n",
    "from selenium.webdriver.support import expected_conditions as EC\n",
    "from selenium.common.exceptions import NoSuchElementException\n",
    "from selenium.webdriver.chrome.options import Options\n",
    "from selenium.webdriver.support.ui import WebDriverWait\n",
    "from selenium.webdriver.common.action_chains import ActionChains\n",
    "from selenium.common.exceptions import ElementNotInteractableException"
   ]
  },
  {
   "cell_type": "markdown",
   "id": "0a3b81fe",
   "metadata": {},
   "source": [
    "## setup area"
   ]
  },
  {
   "cell_type": "code",
   "execution_count": 2,
   "id": "7a2c5f98",
   "metadata": {},
   "outputs": [],
   "source": [
    "read_filename = \"names.csv\"\n",
    "write_filename = \"review1.csv\"\n",
    "\n",
    "read_path =os.path.join(\"response\", read_filename)\n",
    "write_path = os.path.join(\"review\",write_filename)"
   ]
  },
  {
   "cell_type": "code",
   "execution_count": 3,
   "id": "169b4772",
   "metadata": {},
   "outputs": [],
   "source": [
    "list_kategori = ['opsi_layanan','keunggulan','aksesbilitas','penawaran',\n",
    "                'pilihan_makanan','fasilitas','suasana','tipe_pengunjung',\n",
    "                'perencanaan','pembayaran']"
   ]
  },
  {
   "cell_type": "code",
   "execution_count": 4,
   "id": "c573c230",
   "metadata": {},
   "outputs": [],
   "source": [
    "# Initialize empty lists for each category\n",
    "opsi_layanan = []\n",
    "keunggulan = []\n",
    "aksesbilitas = []\n",
    "penawaran = []\n",
    "pilihan_makanan = []\n",
    "fasilitas = []\n",
    "suasana = []\n",
    "tipe_pengunjung = []\n",
    "perencanaan = []\n",
    "pembayaran = []"
   ]
  },
  {
   "cell_type": "code",
   "execution_count": 5,
   "id": "fd9e0e9f",
   "metadata": {},
   "outputs": [],
   "source": [
    "number = 2"
   ]
  },
  {
   "cell_type": "markdown",
   "id": "2508e7c1",
   "metadata": {},
   "source": [
    "## function bantuan"
   ]
  },
  {
   "cell_type": "code",
   "execution_count": 6,
   "id": "e87db3b4",
   "metadata": {},
   "outputs": [],
   "source": [
    "def clean_filename(filename):\n",
    "    global cleaned_filename\n",
    "    # Remove special characters using regular expressions\n",
    "    cleaned_filename = re.sub(r'[^\\w\\s.-]', '', filename)"
   ]
  },
  {
   "cell_type": "markdown",
   "id": "094a967c",
   "metadata": {},
   "source": [
    "## Google maps function"
   ]
  },
  {
   "cell_type": "code",
   "execution_count": 7,
   "id": "1c6b9ba5",
   "metadata": {},
   "outputs": [],
   "source": [
    "def search(name):\n",
    "    global driver , actions\n",
    "    global link\n",
    "    \n",
    "    link = \"https://www.google.com/maps/search/{} jogja\".format(name)\n",
    "    \n",
    "    #open up chrome and stuff\n",
    "    driver = webdriver.Chrome()\n",
    "    driver.get(link)\n",
    "    actions = ActionChains(driver)\n",
    "    \n",
    "    #kalau gak langsung ketemu\n",
    "    \n",
    "    try:\n",
    "        restaurant_link = driver.find_elements(By.XPATH, '/html/body/div[3]/div[9]/div[9]/div/div/div[1]/div[2]/div/div[1]/div/div/div[2]/div[1]/div[3]/div/a')\n",
    "        \n",
    "        for links in restaurant_link:\n",
    "            link = links.get_attribute(\"href\")\n",
    "            driver.get(link)\n",
    "    except:\n",
    "        pass"
   ]
  },
  {
   "cell_type": "code",
   "execution_count": 8,
   "id": "cef5c6d9",
   "metadata": {},
   "outputs": [],
   "source": [
    "def about_button():\n",
    "    try:\n",
    "        about_button = WebDriverWait(driver, 10).until(EC.presence_of_element_located((By.XPATH, '/html/body/div[3]/div[9]/div[9]/div/div/div[1]/div[2]/div/div[1]/div/div/div[3]/div/div/button[3]')))\n",
    "        actions.move_to_element(about_button)\n",
    "        actions.click().perform()\n",
    "        \n",
    "    except:\n",
    "        about_button = WebDriverWait(driver, 10).until(EC.presence_of_element_located((By.XPATH, '/html/body/div[3]/div[9]/div[9]/div/div/div[1]/div[2]/div/div[1]/div/div/div[3]/div/div/button[2]')))\n",
    "        actions.move_to_element(about_button)\n",
    "        actions.click().perform()"
   ]
  },
  {
   "cell_type": "markdown",
   "id": "f3d526ee",
   "metadata": {},
   "source": [
    "## scrape about function"
   ]
  },
  {
   "cell_type": "code",
   "execution_count": 9,
   "id": "e358adfe",
   "metadata": {},
   "outputs": [],
   "source": [
    "def scrape_list(xpath):\n",
    "    global points , number\n",
    "    points = []\n",
    "    \n",
    "    try:\n",
    "        list_element = WebDriverWait(driver, 1).until(EC.presence_of_element_located((By.XPATH, xpath.format(number))))\n",
    "        # Extract all the points from the list\n",
    "        point_elements = list_element.find_elements(By.TAG_NAME, \"li\")\n",
    "\n",
    "        # Check the class of each point and append the points with the specified class\n",
    "        for point_element in point_elements:\n",
    "            point_class = point_element.get_attribute(\"class\")\n",
    "            if point_class == \"hpLkke \":\n",
    "                points.append(point_element.text)\n",
    "    \n",
    "    except:\n",
    "        points.append('-')\n",
    "        \n",
    "    number +=3"
   ]
  },
  {
   "cell_type": "code",
   "execution_count": 10,
   "id": "9bd48003",
   "metadata": {},
   "outputs": [],
   "source": [
    "list_kategori = ['opsi_layanan','keunggulan','aksesbilitas','penawaran',\n",
    "                'pilihan_makanan','fasilitas','suasana','tipe_pengunjung',\n",
    "                'perencanaan','pembayaran']"
   ]
  },
  {
   "cell_type": "code",
   "execution_count": 11,
   "id": "d1ec40e4",
   "metadata": {},
   "outputs": [],
   "source": [
    "def scrape_about():\n",
    "    global deskripsi , number\n",
    "    global opsi_layanan , keunggulan , aksesbilitas\n",
    "    global penawaran , pilihan_makanan , fasilitas\n",
    "    global suasana , tipe_pengunjung , perencanaan\n",
    "    global pembayaran\n",
    "    number = 2\n",
    "    xpath_deskripsi = '/html/body/div[3]/div[9]/div[9]/div/div/div[1]/div[2]/div/div[1]/div/div/div[3]/div[{}]/p'.format(number)\n",
    "    xpath_feature = '/html/body/div[3]/div[9]/div[9]/div/div/div[1]/div[2]/div/div[1]/div/div/div[3]/div[{}]/ul'\n",
    "    deskripsi = '-'\n",
    "    \n",
    "    scrape_list(xpath_feature)\n",
    "    opsi_layanan = points\n",
    "\n",
    "    scrape_list(xpath_feature)\n",
    "    keunggulan = points\n",
    "    \n",
    "    scrape_list(xpath_feature)\n",
    "    aksesbilitas = points\n",
    "    \n",
    "    scrape_list(xpath_feature)\n",
    "    penawaran = points\n",
    "    \n",
    "    scrape_list(xpath_feature)\n",
    "    pilihan_makanan = points\n",
    "    \n",
    "    scrape_list(xpath_feature)\n",
    "    fasilitas = points\n",
    "    \n",
    "    scrape_list(xpath_feature)\n",
    "    suasana = points\n",
    "    \n",
    "    scrape_list(xpath_feature)\n",
    "    tipe_pengunjung = points\n",
    "    \n",
    "    scrape_list(xpath_feature)\n",
    "    perencanaan = points\n",
    "\n",
    "    scrape_list(xpath_feature)\n",
    "    pembayaran = points\n",
    "    \n",
    "    \n",
    "    try:\n",
    "        raw_deskripsi = WebDriverWait(driver, 1).until(EC.presence_of_element_located((By.XPATH, xpath_deskripsi)))\n",
    "        deskripsi = raw_deskripsi.text\n",
    "    \n",
    "    except:\n",
    "        pass\n",
    "    \n"
   ]
  },
  {
   "cell_type": "markdown",
   "id": "489f75df",
   "metadata": {},
   "source": [
    "### setup csv file"
   ]
  },
  {
   "cell_type": "code",
   "execution_count": 12,
   "id": "8ded225f",
   "metadata": {},
   "outputs": [],
   "source": [
    "# Define the fieldnames for the CSV file\n",
    "fieldnames = ['DESCRIPTION','SERVICE OPTION','HIGHLIGHTS' , 'ACCESSIBILITY' , 'OFFERINGS' , 'DINING OPTIONS' , 'AMENITIES' , 'ATHMOSPHERE', 'CROWD', 'PLANNING', 'PAYMENTS']"
   ]
  },
  {
   "cell_type": "code",
   "execution_count": 13,
   "id": "c4984611",
   "metadata": {},
   "outputs": [
    {
     "name": "stderr",
     "output_type": "stream",
     "text": [
      "Scraping features:   1%| | 6/551 [01:44<2:56:00, 19.38s/it, SENJA croissant sand"
     ]
    },
    {
     "name": "stdout",
     "output_type": "stream",
     "text": [
      "starting scraping for:Angkringan Kopi Joss Tugu Mbak lina\n"
     ]
    },
    {
     "name": "stderr",
     "output_type": "stream",
     "text": [
      "Scraping features:   2%| | 9/551 [02:17<2:12:32, 14.67s/it, Angkringan wulan nda"
     ]
    },
    {
     "name": "stdout",
     "output_type": "stream",
     "text": [
      "starting scraping for:Kopi Joss Lek No\n"
     ]
    },
    {
     "name": "stderr",
     "output_type": "stream",
     "text": [
      "Scraping features:   2%| | 10/551 [02:28<2:00:33, 13.37s/it, Scraped features fo"
     ]
    },
    {
     "name": "stdout",
     "output_type": "stream",
     "text": [
      "starting scraping for:Loko Coffee Shop Malioboro Yogyakarta\n"
     ]
    },
    {
     "name": "stderr",
     "output_type": "stream",
     "text": [
      "Scraping features:   2%| | 11/551 [02:56<2:41:14, 17.92s/it, Scraped features fo"
     ]
    },
    {
     "name": "stdout",
     "output_type": "stream",
     "text": [
      "starting scraping for:Pink Elephant 101 Tugu\n"
     ]
    },
    {
     "name": "stderr",
     "output_type": "stream",
     "text": [
      "Scraping features:   2%| | 12/551 [03:10<2:29:28, 16.64s/it, Scraped features fo"
     ]
    },
    {
     "name": "stdout",
     "output_type": "stream",
     "text": [
      "starting scraping for:ES TEH NUSANTARA - TUGU JOGJA\n"
     ]
    },
    {
     "name": "stderr",
     "output_type": "stream",
     "text": [
      "Scraping features:   2%| | 13/551 [03:26<2:27:47, 16.48s/it, Scraped features fo"
     ]
    },
    {
     "name": "stdout",
     "output_type": "stream",
     "text": [
      "starting scraping for:Monochcoffie  kitchen\n"
     ]
    },
    {
     "name": "stderr",
     "output_type": "stream",
     "text": [
      "Scraping features:   3%| | 14/551 [03:38<2:17:01, 15.31s/it, Scraped features fo"
     ]
    },
    {
     "name": "stdout",
     "output_type": "stream",
     "text": [
      "starting scraping for:Angkringan pitulikur tugu jogja\n"
     ]
    },
    {
     "name": "stderr",
     "output_type": "stream",
     "text": [
      "Scraping features:   3%| | 15/551 [03:53<2:14:00, 15.00s/it, Scraped features fo"
     ]
    },
    {
     "name": "stdout",
     "output_type": "stream",
     "text": [
      "starting scraping for:Kebon Ndalem Coffee  Eatery\n"
     ]
    },
    {
     "name": "stderr",
     "output_type": "stream",
     "text": [
      "Scraping features:   3%| | 16/551 [04:02<1:58:00, 13.23s/it, Scraped features fo"
     ]
    },
    {
     "name": "stdout",
     "output_type": "stream",
     "text": [
      "starting scraping for:Nyore Coffee  Space\n"
     ]
    },
    {
     "name": "stderr",
     "output_type": "stream",
     "text": [
      "Scraping features:   3%| | 17/551 [04:10<1:44:46, 11.77s/it, Scraped features fo"
     ]
    },
    {
     "name": "stdout",
     "output_type": "stream",
     "text": [
      "starting scraping for:Monoch Coffee\n"
     ]
    },
    {
     "name": "stderr",
     "output_type": "stream",
     "text": [
      "Scraping features:   3%| | 18/551 [04:22<1:43:59, 11.71s/it, Scraped features fo"
     ]
    },
    {
     "name": "stdout",
     "output_type": "stream",
     "text": [
      "starting scraping for:Toegoe Coffee and Tea\n"
     ]
    },
    {
     "name": "stderr",
     "output_type": "stream",
     "text": [
      "Scraping features:   3%| | 19/551 [04:48<2:23:36, 16.20s/it, Scraped features fo"
     ]
    },
    {
     "name": "stdout",
     "output_type": "stream",
     "text": [
      "starting scraping for:Om Man coffee  milkshake\n"
     ]
    },
    {
     "name": "stderr",
     "output_type": "stream",
     "text": [
      "Scraping features:   4%| | 20/551 [05:01<2:13:22, 15.07s/it, Scraped features fo"
     ]
    },
    {
     "name": "stdout",
     "output_type": "stream",
     "text": [
      "starting scraping for:Kafe Berlayar\n"
     ]
    },
    {
     "name": "stderr",
     "output_type": "stream",
     "text": [
      "Scraping features:   4%| | 21/551 [05:14<2:06:29, 14.32s/it, Scraped features fo"
     ]
    },
    {
     "name": "stdout",
     "output_type": "stream",
     "text": [
      "starting scraping for:Semanak Coffee  Eatery\n"
     ]
    },
    {
     "name": "stderr",
     "output_type": "stream",
     "text": [
      "Scraping features:   4%| | 22/551 [05:25<1:59:29, 13.55s/it, Scraped features fo"
     ]
    },
    {
     "name": "stdout",
     "output_type": "stream",
     "text": [
      "starting scraping for:Sapulu Coffee\n"
     ]
    },
    {
     "name": "stderr",
     "output_type": "stream",
     "text": [
      "Scraping features:   4%| | 23/551 [05:38<1:57:35, 13.36s/it, Scraped features fo"
     ]
    },
    {
     "name": "stdout",
     "output_type": "stream",
     "text": [
      "starting scraping for:Kopi PM ꦏꦥꦥꦩ\n"
     ]
    },
    {
     "name": "stderr",
     "output_type": "stream",
     "text": [
      "Scraping features:   4%| | 24/551 [05:54<2:02:33, 13.95s/it, Scraped features fo"
     ]
    },
    {
     "name": "stdout",
     "output_type": "stream",
     "text": [
      "starting scraping for:Pendopo Lawas\n"
     ]
    },
    {
     "name": "stderr",
     "output_type": "stream",
     "text": [
      "Scraping features:   5%| | 25/551 [06:03<1:49:31, 12.49s/it, Scraped features fo"
     ]
    },
    {
     "name": "stdout",
     "output_type": "stream",
     "text": [
      "starting scraping for:Mamahké Jogja\n"
     ]
    },
    {
     "name": "stderr",
     "output_type": "stream",
     "text": [
      "Scraping features:   5%| | 26/551 [06:26<2:18:15, 15.80s/it, Scraped features fo"
     ]
    },
    {
     "name": "stdout",
     "output_type": "stream",
     "text": [
      "starting scraping for:Kopine Eyang\n"
     ]
    },
    {
     "name": "stderr",
     "output_type": "stream",
     "text": [
      "Scraping features:   5%| | 27/551 [06:42<2:19:20, 15.95s/it, Scraped features fo"
     ]
    },
    {
     "name": "stdout",
     "output_type": "stream",
     "text": [
      "starting scraping for:RT Cafe\n"
     ]
    },
    {
     "name": "stderr",
     "output_type": "stream",
     "text": [
      "Scraping features:   5%| | 28/551 [06:53<2:04:51, 14.32s/it, Scraped features fo"
     ]
    },
    {
     "name": "stdout",
     "output_type": "stream",
     "text": [
      "starting scraping for:The Agler Coffee\n"
     ]
    },
    {
     "name": "stderr",
     "output_type": "stream",
     "text": [
      "Scraping features:   5%| | 29/551 [07:06<2:01:04, 13.92s/it, Scraped features fo"
     ]
    },
    {
     "name": "stdout",
     "output_type": "stream",
     "text": [
      "starting scraping for:Nol Kilometer Coffee  Tea Yogyakarta\n"
     ]
    },
    {
     "name": "stderr",
     "output_type": "stream",
     "text": [
      "Scraping features:   5%| | 30/551 [07:18<1:55:37, 13.32s/it, Scraped features fo"
     ]
    },
    {
     "name": "stdout",
     "output_type": "stream",
     "text": [
      "starting scraping for:Aryon Coffee\n"
     ]
    },
    {
     "name": "stderr",
     "output_type": "stream",
     "text": [
      "Scraping features:   6%| | 31/551 [07:36<2:08:44, 14.85s/it, Scraped features fo"
     ]
    },
    {
     "name": "stdout",
     "output_type": "stream",
     "text": [
      "starting scraping for:Water castle cafe\n"
     ]
    },
    {
     "name": "stderr",
     "output_type": "stream",
     "text": [
      "Scraping features:   6%| | 32/551 [07:47<1:58:45, 13.73s/it, Scraped features fo"
     ]
    },
    {
     "name": "stdout",
     "output_type": "stream",
     "text": [
      "starting scraping for:ꦄꦏꦔꦤꦥꦭꦏꦮꦗꦭꦤ Angkringan Plengkung Wijilan\n"
     ]
    },
    {
     "name": "stderr",
     "output_type": "stream",
     "text": [
      "Scraping features:   6%| | 33/551 [08:08<2:16:20, 15.79s/it, Scraped features fo"
     ]
    },
    {
     "name": "stdout",
     "output_type": "stream",
     "text": [
      "starting scraping for:Warung Kopi Pino4d\n"
     ]
    },
    {
     "name": "stderr",
     "output_type": "stream",
     "text": [
      "Scraping features:   6%| | 34/551 [08:35<2:44:15, 19.06s/it, Scraped features fo"
     ]
    },
    {
     "name": "stdout",
     "output_type": "stream",
     "text": [
      "starting scraping for:Angkringan Hendro\n"
     ]
    },
    {
     "name": "stderr",
     "output_type": "stream",
     "text": [
      "Scraping features:   6%| | 35/551 [08:58<2:56:05, 20.48s/it, Scraped features fo"
     ]
    },
    {
     "name": "stdout",
     "output_type": "stream",
     "text": [
      "starting scraping for:Arka Coffee and Space\n"
     ]
    },
    {
     "name": "stderr",
     "output_type": "stream",
     "text": [
      "Scraping features:   7%| | 36/551 [09:11<2:34:51, 18.04s/it, Scraped features fo"
     ]
    },
    {
     "name": "stdout",
     "output_type": "stream",
     "text": [
      "starting scraping for:Bradip Warung Kopiꦧꦣꦥꦮꦫꦏꦥ\n"
     ]
    },
    {
     "name": "stderr",
     "output_type": "stream",
     "text": [
      "Scraping features:   7%| | 37/551 [09:23<2:20:12, 16.37s/it, Scraped features fo"
     ]
    },
    {
     "name": "stdout",
     "output_type": "stream",
     "text": [
      "starting scraping for:Angkringan Pak Sugeng\n"
     ]
    },
    {
     "name": "stderr",
     "output_type": "stream",
     "text": [
      "Scraping features:   7%| | 38/551 [09:39<2:17:55, 16.13s/it, Scraped features fo"
     ]
    },
    {
     "name": "stdout",
     "output_type": "stream",
     "text": [
      "starting scraping for:Soulthan Coffee Kopi Luwak 52 kopi Nusantara\n"
     ]
    },
    {
     "name": "stderr",
     "output_type": "stream",
     "text": [
      "Scraping features:   7%| | 39/551 [09:57<2:22:23, 16.69s/it, Scraped features fo"
     ]
    },
    {
     "name": "stdout",
     "output_type": "stream",
     "text": [
      "starting scraping for:Wedang Ronde Mbak Lasmiꦮꦣꦫꦤꦝꦩꦧꦏꦭꦱꦩ\n"
     ]
    },
    {
     "name": "stderr",
     "output_type": "stream",
     "text": [
      "Scraping features:   7%| | 40/551 [10:23<2:45:34, 19.44s/it, Scraped features fo"
     ]
    },
    {
     "name": "stdout",
     "output_type": "stream",
     "text": [
      "starting scraping for:Angkringan Tugu Malioboro YIArt\n"
     ]
    },
    {
     "name": "stderr",
     "output_type": "stream",
     "text": [
      "Scraping features:   7%| | 41/551 [10:42<2:44:27, 19.35s/it, Scraped features fo"
     ]
    },
    {
     "name": "stdout",
     "output_type": "stream",
     "text": [
      "starting scraping for:Parking Coffee\n"
     ]
    },
    {
     "name": "stderr",
     "output_type": "stream",
     "text": [
      "Scraping features:   8%| | 42/551 [10:59<2:38:50, 18.72s/it, Scraped features fo"
     ]
    },
    {
     "name": "stdout",
     "output_type": "stream",
     "text": [
      "starting scraping for:Ekologi Coffee\n"
     ]
    },
    {
     "name": "stderr",
     "output_type": "stream",
     "text": [
      "Scraping features:   8%| | 43/551 [11:14<2:27:48, 17.46s/it, Scraped features fo"
     ]
    },
    {
     "name": "stdout",
     "output_type": "stream",
     "text": [
      "starting scraping for:RotiO Coffee\n"
     ]
    },
    {
     "name": "stderr",
     "output_type": "stream",
     "text": [
      "Scraping features:   8%| | 44/551 [11:32<2:30:18, 17.79s/it, Scraped features fo"
     ]
    },
    {
     "name": "stdout",
     "output_type": "stream",
     "text": [
      "starting scraping for:Angkringan Bandara YIA\n"
     ]
    },
    {
     "name": "stderr",
     "output_type": "stream",
     "text": [
      "Scraping features:   8%| | 45/551 [11:44<2:15:24, 16.06s/it, Scraped features fo"
     ]
    },
    {
     "name": "stdout",
     "output_type": "stream",
     "text": [
      "starting scraping for:Hallatourism  Cafe\n"
     ]
    },
    {
     "name": "stderr",
     "output_type": "stream",
     "text": [
      "Scraping features:   8%| | 46/551 [12:08<2:34:54, 18.41s/it, Scraped features fo"
     ]
    },
    {
     "name": "stdout",
     "output_type": "stream",
     "text": [
      "starting scraping for:Roti O Yogyakarta International Airport\n"
     ]
    },
    {
     "name": "stderr",
     "output_type": "stream",
     "text": [
      "Scraping features:   9%| | 47/551 [12:21<2:21:37, 16.86s/it, Scraped features fo"
     ]
    },
    {
     "name": "stdout",
     "output_type": "stream",
     "text": [
      "starting scraping for:Kovi_Fresh Brewed Coffe YIA\n"
     ]
    },
    {
     "name": "stderr",
     "output_type": "stream",
     "text": [
      "Scraping features:   9%| | 48/551 [12:37<2:19:21, 16.62s/it, Scraped features fo"
     ]
    },
    {
     "name": "stdout",
     "output_type": "stream",
     "text": [
      "starting scraping for:Yu Djum 167 Resto  Coffee\n"
     ]
    },
    {
     "name": "stderr",
     "output_type": "stream",
     "text": [
      "Scraping features:   9%| | 49/551 [12:54<2:18:36, 16.57s/it, Scraped features fo"
     ]
    },
    {
     "name": "stdout",
     "output_type": "stream",
     "text": [
      "starting scraping for:Gudeg Yu Djum Pusat Cabang Bandara YIA\n"
     ]
    },
    {
     "name": "stderr",
     "output_type": "stream",
     "text": [
      "Scraping features:   9%| | 50/551 [13:06<2:08:10, 15.35s/it, Scraped features fo"
     ]
    },
    {
     "name": "stdout",
     "output_type": "stream",
     "text": [
      "starting scraping for:Kedai Samana  Rumah Baca\n"
     ]
    },
    {
     "name": "stderr",
     "output_type": "stream",
     "text": [
      "Scraping features:   9%| | 51/551 [13:19<2:02:03, 14.65s/it, Scraped features fo"
     ]
    },
    {
     "name": "stdout",
     "output_type": "stream",
     "text": [
      "starting scraping for:Depot Makan  Oleh2 Bu S PA\n"
     ]
    },
    {
     "name": "stderr",
     "output_type": "stream",
     "text": [
      "Scraping features:   9%| | 52/551 [13:42<2:22:10, 17.09s/it, Scraped features fo"
     ]
    },
    {
     "name": "stdout",
     "output_type": "stream",
     "text": [
      "starting scraping for:Tempat Makan  Coffee Shop S.CO\n"
     ]
    },
    {
     "name": "stderr",
     "output_type": "stream",
     "text": [
      "Scraping features:  10%| | 53/551 [14:05<2:37:20, 18.96s/it, Scraped features fo"
     ]
    },
    {
     "name": "stdout",
     "output_type": "stream",
     "text": [
      "starting scraping for:kopi 01\n"
     ]
    },
    {
     "name": "stderr",
     "output_type": "stream",
     "text": [
      "Scraping features:  10%| | 54/551 [14:28<2:45:21, 19.96s/it, Scraped features fo"
     ]
    },
    {
     "name": "stdout",
     "output_type": "stream",
     "text": [
      "starting scraping for:Cafe Rumah Laut\n"
     ]
    },
    {
     "name": "stderr",
     "output_type": "stream",
     "text": [
      "Scraping features:  10%| | 55/551 [14:40<2:25:20, 17.58s/it, Scraped features fo"
     ]
    },
    {
     "name": "stdout",
     "output_type": "stream",
     "text": [
      "starting scraping for:Angkringan Kopi Joss\n"
     ]
    },
    {
     "name": "stderr",
     "output_type": "stream",
     "text": [
      "Scraping features:  10%| | 56/551 [14:52<2:12:21, 16.04s/it, Scraped features fo"
     ]
    },
    {
     "name": "stdout",
     "output_type": "stream",
     "text": [
      "starting scraping for:KFC\n"
     ]
    },
    {
     "name": "stderr",
     "output_type": "stream",
     "text": [
      "Scraping features:  10%| | 57/551 [15:05<2:03:50, 15.04s/it, Scraped features fo"
     ]
    },
    {
     "name": "stdout",
     "output_type": "stream",
     "text": [
      "starting scraping for:ETLABORA COFFEE  ANGKRINGAN\n"
     ]
    },
    {
     "name": "stderr",
     "output_type": "stream",
     "text": [
      "Scraping features:  11%| | 58/551 [15:16<1:54:39, 13.96s/it, Scraped features fo"
     ]
    },
    {
     "name": "stdout",
     "output_type": "stream",
     "text": [
      "starting scraping for:Java INDO Cafe  Resto\n"
     ]
    },
    {
     "name": "stderr",
     "output_type": "stream",
     "text": [
      "Scraping features:  11%| | 59/551 [15:27<1:47:14, 13.08s/it, Scraped features fo"
     ]
    },
    {
     "name": "stdout",
     "output_type": "stream",
     "text": [
      "starting scraping for:Coffee Angkasa\n"
     ]
    },
    {
     "name": "stderr",
     "output_type": "stream",
     "text": [
      "Scraping features:  11%| | 60/551 [15:36<1:34:47, 11.58s/it, Scraped features fo"
     ]
    },
    {
     "name": "stdout",
     "output_type": "stream",
     "text": [
      "starting scraping for:Food Court Universitas AMIKOM Yogyakarta\n"
     ]
    },
    {
     "name": "stderr",
     "output_type": "stream",
     "text": [
      "Scraping features:  11%| | 61/551 [15:48<1:37:15, 11.91s/it, Scraped features fo"
     ]
    },
    {
     "name": "stdout",
     "output_type": "stream",
     "text": [
      "starting scraping for:Warung Reborn Concat\n"
     ]
    },
    {
     "name": "stderr",
     "output_type": "stream",
     "text": [
      "Scraping features:  11%| | 62/551 [16:00<1:36:18, 11.82s/it, Scraped features fo"
     ]
    },
    {
     "name": "stdout",
     "output_type": "stream",
     "text": [
      "starting scraping for:Nyoklat Klasik Den Gembus Condongcatur Jogja\n"
     ]
    },
    {
     "name": "stderr",
     "output_type": "stream",
     "text": [
      "Scraping features:  11%| | 63/551 [16:12<1:38:17, 12.08s/it, Scraped features fo"
     ]
    },
    {
     "name": "stdout",
     "output_type": "stream",
     "text": [
      "starting scraping for:Doppia Coffee and Bread\n"
     ]
    },
    {
     "name": "stderr",
     "output_type": "stream",
     "text": [
      "Scraping features:  12%| | 64/551 [16:26<1:42:28, 12.63s/it, Scraped features fo"
     ]
    },
    {
     "name": "stdout",
     "output_type": "stream",
     "text": [
      "starting scraping for:Pancong lumer jogja\n"
     ]
    },
    {
     "name": "stderr",
     "output_type": "stream",
     "text": [
      "Scraping features:  12%| | 65/551 [16:47<2:02:01, 15.06s/it, Scraped features fo"
     ]
    },
    {
     "name": "stdout",
     "output_type": "stream",
     "text": [
      "starting scraping for:Capcuzz Condongcatur\n"
     ]
    },
    {
     "name": "stderr",
     "output_type": "stream",
     "text": [
      "Scraping features:  12%| | 66/551 [16:59<1:54:53, 14.21s/it, Scraped features fo"
     ]
    },
    {
     "name": "stdout",
     "output_type": "stream",
     "text": [
      "starting scraping for:Kopi Kudos\n"
     ]
    },
    {
     "name": "stderr",
     "output_type": "stream",
     "text": [
      "Scraping features:  12%| | 67/551 [17:15<1:58:17, 14.66s/it, Scraped features fo"
     ]
    },
    {
     "name": "stdout",
     "output_type": "stream",
     "text": [
      "starting scraping for:KopiManah\n"
     ]
    },
    {
     "name": "stderr",
     "output_type": "stream",
     "text": [
      "Scraping features:  12%| | 68/551 [17:31<2:01:24, 15.08s/it, Scraped features fo"
     ]
    },
    {
     "name": "stdout",
     "output_type": "stream",
     "text": [
      "starting scraping for:Cappuccino Ala Cafe\n"
     ]
    },
    {
     "name": "stderr",
     "output_type": "stream",
     "text": [
      "Scraping features:  13%|▏| 69/551 [17:49<2:08:50, 16.04s/it, Scraped features fo"
     ]
    },
    {
     "name": "stdout",
     "output_type": "stream",
     "text": [
      "starting scraping for:Temporary world food omah toscha\n"
     ]
    },
    {
     "name": "stderr",
     "output_type": "stream",
     "text": [
      "Scraping features:  13%|▏| 70/551 [18:13<2:27:03, 18.34s/it, Scraped features fo"
     ]
    },
    {
     "name": "stdout",
     "output_type": "stream",
     "text": [
      "starting scraping for:Mato Kopi 3\n"
     ]
    },
    {
     "name": "stderr",
     "output_type": "stream",
     "text": [
      "Scraping features:  13%|▏| 71/551 [18:31<2:25:13, 18.15s/it, Scraped features fo"
     ]
    },
    {
     "name": "stdout",
     "output_type": "stream",
     "text": [
      "starting scraping for:Sunyi Coffee Jogja\n"
     ]
    },
    {
     "name": "stderr",
     "output_type": "stream",
     "text": [
      "Scraping features:  13%|▏| 72/551 [18:41<2:05:45, 15.75s/it, Scraped features fo"
     ]
    },
    {
     "name": "stdout",
     "output_type": "stream",
     "text": [
      "starting scraping for:retro coffee jogja\n"
     ]
    },
    {
     "name": "stderr",
     "output_type": "stream",
     "text": [
      "Scraping features:  13%|▏| 73/551 [18:55<2:02:00, 15.32s/it, Scraped features fo"
     ]
    },
    {
     "name": "stdout",
     "output_type": "stream",
     "text": [
      "starting scraping for:Bercanda Coffee  Eatery\n"
     ]
    },
    {
     "name": "stderr",
     "output_type": "stream",
     "text": [
      "Scraping features:  13%|▏| 74/551 [19:08<1:54:23, 14.39s/it, Scraped features fo"
     ]
    },
    {
     "name": "stdout",
     "output_type": "stream",
     "text": [
      "starting scraping for:Kedai Oak\n"
     ]
    },
    {
     "name": "stderr",
     "output_type": "stream",
     "text": [
      "Scraping features:  14%|▏| 75/551 [19:17<1:43:15, 13.02s/it, Scraped features fo"
     ]
    },
    {
     "name": "stdout",
     "output_type": "stream",
     "text": [
      "starting scraping for:Kata Kopi Jogja\n"
     ]
    },
    {
     "name": "stderr",
     "output_type": "stream",
     "text": [
      "Scraping features:  14%|▏| 76/551 [19:32<1:45:54, 13.38s/it, Scraped features fo"
     ]
    },
    {
     "name": "stdout",
     "output_type": "stream",
     "text": [
      "starting scraping for:JIAYU COFFEE\n"
     ]
    },
    {
     "name": "stderr",
     "output_type": "stream",
     "text": [
      "Scraping features:  14%|▏| 77/551 [19:44<1:43:47, 13.14s/it, Scraped features fo"
     ]
    },
    {
     "name": "stdout",
     "output_type": "stream",
     "text": [
      "starting scraping for:Kopi Koji\n"
     ]
    },
    {
     "name": "stderr",
     "output_type": "stream",
     "text": [
      "Scraping features:  14%|▏| 78/551 [19:58<1:44:29, 13.25s/it, Scraped features fo"
     ]
    },
    {
     "name": "stdout",
     "output_type": "stream",
     "text": [
      "starting scraping for:Moengkin\n"
     ]
    },
    {
     "name": "stderr",
     "output_type": "stream",
     "text": [
      "Scraping features:  14%|▏| 79/551 [20:20<2:06:42, 16.11s/it, Scraped features fo"
     ]
    },
    {
     "name": "stdout",
     "output_type": "stream",
     "text": [
      "starting scraping for:bjongngopi Maguwo\n"
     ]
    },
    {
     "name": "stderr",
     "output_type": "stream",
     "text": [
      "Scraping features:  15%|▏| 80/551 [20:35<2:02:06, 15.56s/it, Scraped features fo"
     ]
    },
    {
     "name": "stdout",
     "output_type": "stream",
     "text": [
      "starting scraping for:Magistra Coffee FIB\n"
     ]
    },
    {
     "name": "stderr",
     "output_type": "stream",
     "text": [
      "Scraping features:  15%|▏| 81/551 [20:46<1:51:55, 14.29s/it, Scraped features fo"
     ]
    },
    {
     "name": "stdout",
     "output_type": "stream",
     "text": [
      "starting scraping for:DIGILIB Cafe\n"
     ]
    },
    {
     "name": "stderr",
     "output_type": "stream",
     "text": [
      "Scraping features:  15%|▏| 82/551 [20:57<1:44:46, 13.40s/it, Scraped features fo"
     ]
    },
    {
     "name": "stdout",
     "output_type": "stream",
     "text": [
      "starting scraping for:EB Café\n"
     ]
    },
    {
     "name": "stderr",
     "output_type": "stream",
     "text": [
      "Scraping features:  15%|▏| 83/551 [21:19<2:04:58, 16.02s/it, Scraped features fo"
     ]
    },
    {
     "name": "stdout",
     "output_type": "stream",
     "text": [
      "starting scraping for:Kopi Lembah UGM\n"
     ]
    },
    {
     "name": "stderr",
     "output_type": "stream",
     "text": [
      "Scraping features:  15%|▏| 84/551 [21:41<2:18:35, 17.81s/it, Scraped features fo"
     ]
    },
    {
     "name": "stdout",
     "output_type": "stream",
     "text": [
      "starting scraping for:Zomia Co-Working Space\n"
     ]
    },
    {
     "name": "stderr",
     "output_type": "stream",
     "text": [
      "Scraping features:  15%|▏| 85/551 [21:53<2:02:51, 15.82s/it, Scraped features fo"
     ]
    },
    {
     "name": "stdout",
     "output_type": "stream",
     "text": [
      "starting scraping for:Sunrise Golden Bolodewo\n"
     ]
    },
    {
     "name": "stderr",
     "output_type": "stream",
     "text": [
      "Scraping features:  16%|▏| 86/551 [22:03<1:50:00, 14.19s/it, Scraped features fo"
     ]
    },
    {
     "name": "stdout",
     "output_type": "stream",
     "text": [
      "starting scraping for:Coklat Cafe\n"
     ]
    },
    {
     "name": "stderr",
     "output_type": "stream",
     "text": [
      "Scraping features:  16%|▏| 87/551 [22:12<1:38:25, 12.73s/it, Scraped features fo"
     ]
    },
    {
     "name": "stdout",
     "output_type": "stream",
     "text": [
      "starting scraping for:SIGNATURA\n"
     ]
    },
    {
     "name": "stderr",
     "output_type": "stream",
     "text": [
      "Scraping features:  16%|▏| 88/551 [22:22<1:31:14, 11.83s/it, Scraped features fo"
     ]
    },
    {
     "name": "stdout",
     "output_type": "stream",
     "text": [
      "starting scraping for:menjamu.kopi\n"
     ]
    },
    {
     "name": "stderr",
     "output_type": "stream",
     "text": [
      "Scraping features:  16%|▏| 89/551 [22:35<1:33:59, 12.21s/it, Scraped features fo"
     ]
    },
    {
     "name": "stdout",
     "output_type": "stream",
     "text": [
      "starting scraping for:Sego Tahu Jakal Bulak Sumur\n"
     ]
    },
    {
     "name": "stderr",
     "output_type": "stream",
     "text": [
      "Scraping features:  16%|▏| 90/551 [22:47<1:33:12, 12.13s/it, Scraped features fo"
     ]
    },
    {
     "name": "stdout",
     "output_type": "stream",
     "text": [
      "starting scraping for:Tekoff Coffee and Roastery\n"
     ]
    },
    {
     "name": "stderr",
     "output_type": "stream",
     "text": [
      "Scraping features:  17%|▏| 91/551 [22:57<1:28:46, 11.58s/it, Scraped features fo"
     ]
    },
    {
     "name": "stdout",
     "output_type": "stream",
     "text": [
      "starting scraping for:Hens Coffee\n"
     ]
    },
    {
     "name": "stderr",
     "output_type": "stream",
     "text": [
      "Scraping features:  17%|▏| 92/551 [23:09<1:28:13, 11.53s/it, Scraped features fo"
     ]
    },
    {
     "name": "stdout",
     "output_type": "stream",
     "text": [
      "starting scraping for:Kopi Hoja Mie  Yu\n"
     ]
    },
    {
     "name": "stderr",
     "output_type": "stream",
     "text": [
      "Scraping features:  17%|▏| 93/551 [23:21<1:29:44, 11.76s/it, Scraped features fo"
     ]
    },
    {
     "name": "stdout",
     "output_type": "stream",
     "text": [
      "starting scraping for:Uncle Jo Coffee Tea Milk\n"
     ]
    },
    {
     "name": "stderr",
     "output_type": "stream",
     "text": [
      "Scraping features:  17%|▏| 94/551 [23:33<1:30:46, 11.92s/it, Scraped features fo"
     ]
    },
    {
     "name": "stdout",
     "output_type": "stream",
     "text": [
      "starting scraping for:SENJA coffee  eatery Jakal\n"
     ]
    },
    {
     "name": "stderr",
     "output_type": "stream",
     "text": [
      "Scraping features:  17%|▏| 95/551 [23:45<1:29:07, 11.73s/it, Scraped features fo"
     ]
    },
    {
     "name": "stdout",
     "output_type": "stream",
     "text": [
      "starting scraping for:Blackbone Coffee\n"
     ]
    },
    {
     "name": "stderr",
     "output_type": "stream",
     "text": [
      "Scraping features:  17%|▏| 96/551 [24:06<1:51:22, 14.69s/it, Scraped features fo"
     ]
    },
    {
     "name": "stdout",
     "output_type": "stream",
     "text": [
      "starting scraping for:Kopi Sembilan\n"
     ]
    },
    {
     "name": "stderr",
     "output_type": "stream",
     "text": [
      "Scraping features:  18%|▏| 97/551 [24:20<1:48:21, 14.32s/it, Scraped features fo"
     ]
    },
    {
     "name": "stdout",
     "output_type": "stream",
     "text": [
      "starting scraping for:Estuary Café\n"
     ]
    },
    {
     "name": "stderr",
     "output_type": "stream",
     "text": [
      "Scraping features:  18%|▏| 98/551 [24:30<1:38:13, 13.01s/it, Scraped features fo"
     ]
    },
    {
     "name": "stdout",
     "output_type": "stream",
     "text": [
      "starting scraping for:CAPSLOCK COFFEE\n"
     ]
    },
    {
     "name": "stderr",
     "output_type": "stream",
     "text": [
      "Scraping features:  18%|▏| 99/551 [24:53<2:01:52, 16.18s/it, Scraped features fo"
     ]
    },
    {
     "name": "stdout",
     "output_type": "stream",
     "text": [
      "starting scraping for:Point Coffee\n"
     ]
    },
    {
     "name": "stderr",
     "output_type": "stream",
     "text": [
      "Scraping features:  18%|▏| 100/551 [25:07<1:55:14, 15.33s/it, Scraped features f"
     ]
    },
    {
     "name": "stdout",
     "output_type": "stream",
     "text": [
      "starting scraping for:Susu Sarjana UNY\n"
     ]
    },
    {
     "name": "stderr",
     "output_type": "stream",
     "text": [
      "Scraping features:  18%|▏| 101/551 [25:18<1:45:25, 14.06s/it, Scraped features f"
     ]
    },
    {
     "name": "stdout",
     "output_type": "stream",
     "text": [
      "starting scraping for:NAWWA KOPI\n"
     ]
    },
    {
     "name": "stderr",
     "output_type": "stream",
     "text": [
      "Scraping features:  19%|▏| 102/551 [25:40<2:04:06, 16.58s/it, Scraped features f"
     ]
    },
    {
     "name": "stdout",
     "output_type": "stream",
     "text": [
      "starting scraping for:KEDAI CINTA UNY\n"
     ]
    },
    {
     "name": "stderr",
     "output_type": "stream",
     "text": [
      "Scraping features:  19%|▏| 103/551 [25:56<2:02:12, 16.37s/it, Scraped features f"
     ]
    },
    {
     "name": "stdout",
     "output_type": "stream",
     "text": [
      "starting scraping for:Coldhans Coffee Uny\n"
     ]
    },
    {
     "name": "stderr",
     "output_type": "stream",
     "text": [
      "Scraping features:  19%|▏| 104/551 [26:13<2:03:39, 16.60s/it, Scraped features f"
     ]
    },
    {
     "name": "stdout",
     "output_type": "stream",
     "text": [
      "starting scraping for:Journey Coffee  Records\n"
     ]
    },
    {
     "name": "stderr",
     "output_type": "stream",
     "text": [
      "Scraping features:  19%|▏| 105/551 [26:23<1:47:45, 14.50s/it, Scraped features f"
     ]
    },
    {
     "name": "stdout",
     "output_type": "stream",
     "text": [
      "starting scraping for:PublicUs Coffee\n"
     ]
    },
    {
     "name": "stderr",
     "output_type": "stream",
     "text": [
      "Scraping features:  19%|▏| 106/551 [26:33<1:38:46, 13.32s/it, Scraped features f"
     ]
    },
    {
     "name": "stdout",
     "output_type": "stream",
     "text": [
      "starting scraping for:CLBK Kopi Gejayan\n"
     ]
    },
    {
     "name": "stderr",
     "output_type": "stream",
     "text": [
      "Scraping features:  19%|▏| 107/551 [26:48<1:41:41, 13.74s/it, Scraped features f"
     ]
    },
    {
     "name": "stdout",
     "output_type": "stream",
     "text": [
      "starting scraping for:SPG Artisan Coffee\n"
     ]
    },
    {
     "name": "stderr",
     "output_type": "stream",
     "text": [
      "Scraping features:  20%|▏| 108/551 [27:02<1:41:14, 13.71s/it, Scraped features f"
     ]
    },
    {
     "name": "stdout",
     "output_type": "stream",
     "text": [
      "starting scraping for:Le travail Coffee\n"
     ]
    },
    {
     "name": "stderr",
     "output_type": "stream",
     "text": [
      "Scraping features:  20%|▏| 109/551 [27:22<1:54:37, 15.56s/it, Scraped features f"
     ]
    },
    {
     "name": "stdout",
     "output_type": "stream",
     "text": [
      "starting scraping for:ESCO RESTAURANT  NO.27 COFFEE\n"
     ]
    },
    {
     "name": "stderr",
     "output_type": "stream",
     "text": [
      "Scraping features:  20%|▏| 110/551 [27:30<1:38:49, 13.45s/it, Scraped features f"
     ]
    },
    {
     "name": "stdout",
     "output_type": "stream",
     "text": [
      "starting scraping for:Svarga Coffee and Eatery\n"
     ]
    },
    {
     "name": "stderr",
     "output_type": "stream",
     "text": [
      "Scraping features:  20%|▏| 111/551 [27:40<1:31:40, 12.50s/it, Scraped features f"
     ]
    },
    {
     "name": "stdout",
     "output_type": "stream",
     "text": [
      "starting scraping for:Ayam Geprek Sarjana\n"
     ]
    },
    {
     "name": "stderr",
     "output_type": "stream",
     "text": [
      "Scraping features:  20%|▏| 112/551 [27:51<1:28:06, 12.04s/it, Scraped features f"
     ]
    },
    {
     "name": "stdout",
     "output_type": "stream",
     "text": [
      "starting scraping for:Don gO Coffee\n"
     ]
    },
    {
     "name": "stderr",
     "output_type": "stream",
     "text": [
      "Scraping features:  21%|▏| 113/551 [28:03<1:26:23, 11.83s/it, Scraped features f"
     ]
    },
    {
     "name": "stdout",
     "output_type": "stream",
     "text": [
      "starting scraping for:Fruttcoff Gejayan\n"
     ]
    },
    {
     "name": "stderr",
     "output_type": "stream",
     "text": [
      "Scraping features:  21%|▏| 114/551 [28:17<1:30:39, 12.45s/it, Scraped features f"
     ]
    },
    {
     "name": "stdout",
     "output_type": "stream",
     "text": [
      "starting scraping for:XYZ Coffee  Collabs\n"
     ]
    },
    {
     "name": "stderr",
     "output_type": "stream",
     "text": [
      "Scraping features:  21%|▏| 115/551 [28:28<1:27:23, 12.03s/it, Scraped features f"
     ]
    },
    {
     "name": "stdout",
     "output_type": "stream",
     "text": [
      "starting scraping for:Homi Coffee And Space\n"
     ]
    },
    {
     "name": "stderr",
     "output_type": "stream",
     "text": [
      "Scraping features:  21%|▏| 116/551 [28:37<1:21:54, 11.30s/it, Scraped features f"
     ]
    },
    {
     "name": "stdout",
     "output_type": "stream",
     "text": [
      "starting scraping for:Cafe  Karoke BOSCHE\n"
     ]
    },
    {
     "name": "stderr",
     "output_type": "stream",
     "text": [
      "Scraping features:  21%|▏| 117/551 [28:50<1:24:34, 11.69s/it, Scraped features f"
     ]
    },
    {
     "name": "stdout",
     "output_type": "stream",
     "text": [
      "starting scraping for:Warung Kopi Mbak Ana\n"
     ]
    },
    {
     "name": "stderr",
     "output_type": "stream",
     "text": [
      "Scraping features:  21%|▏| 118/551 [29:04<1:29:27, 12.40s/it, Scraped features f"
     ]
    },
    {
     "name": "stdout",
     "output_type": "stream",
     "text": [
      "starting scraping for:SloWae parangtritis\n"
     ]
    },
    {
     "name": "stderr",
     "output_type": "stream",
     "text": [
      "Scraping features:  22%|▏| 119/551 [29:39<2:19:09, 19.33s/it, Scraped features f"
     ]
    },
    {
     "name": "stdout",
     "output_type": "stream",
     "text": [
      "starting scraping for:BRAMANTYO Food  Drink\n"
     ]
    },
    {
     "name": "stderr",
     "output_type": "stream",
     "text": [
      "Scraping features:  22%|▏| 120/551 [29:59<2:18:34, 19.29s/it, Scraped features f"
     ]
    },
    {
     "name": "stdout",
     "output_type": "stream",
     "text": [
      "starting scraping for:Angkringan Baniyah  Gaza Barbershop\n"
     ]
    },
    {
     "name": "stderr",
     "output_type": "stream",
     "text": [
      "Scraping features:  22%|▏| 121/551 [30:18<2:18:57, 19.39s/it, Scraped features f"
     ]
    },
    {
     "name": "stdout",
     "output_type": "stream",
     "text": [
      "starting scraping for:Inggar Food And Beverage\n"
     ]
    },
    {
     "name": "stderr",
     "output_type": "stream",
     "text": [
      "Scraping features:  22%|▏| 122/551 [30:33<2:09:12, 18.07s/it, Scraped features f"
     ]
    },
    {
     "name": "stdout",
     "output_type": "stream",
     "text": [
      "starting scraping for:Rental PS3 Dan Mini Cafe Gameover\n"
     ]
    },
    {
     "name": "stderr",
     "output_type": "stream",
     "text": [
      "Scraping features:  22%|▏| 123/551 [30:50<2:05:27, 17.59s/it, Scraped features f"
     ]
    },
    {
     "name": "stdout",
     "output_type": "stream",
     "text": [
      "starting scraping for:Warung Kopi Maz Hafidz\n"
     ]
    },
    {
     "name": "stderr",
     "output_type": "stream",
     "text": [
      "Scraping features:  23%|▏| 124/551 [31:05<2:01:15, 17.04s/it, Scraped features f"
     ]
    },
    {
     "name": "stdout",
     "output_type": "stream",
     "text": [
      "starting scraping for:Warung Alfa\n"
     ]
    },
    {
     "name": "stderr",
     "output_type": "stream",
     "text": [
      "Scraping features:  23%|▏| 125/551 [31:19<1:53:14, 15.95s/it, Scraped features f"
     ]
    },
    {
     "name": "stdout",
     "output_type": "stream",
     "text": [
      "starting scraping for:Warung Kopi Sugeng\n"
     ]
    },
    {
     "name": "stderr",
     "output_type": "stream",
     "text": [
      "Scraping features:  23%|▏| 126/551 [31:43<2:10:32, 18.43s/it, Scraped features f"
     ]
    },
    {
     "name": "stdout",
     "output_type": "stream",
     "text": [
      "starting scraping for:ANGKRINGAN NYENTRIK\n"
     ]
    },
    {
     "name": "stderr",
     "output_type": "stream",
     "text": [
      "Scraping features:  23%|▏| 127/551 [32:03<2:13:36, 18.91s/it, Scraped features f"
     ]
    },
    {
     "name": "stdout",
     "output_type": "stream",
     "text": [
      "starting scraping for:PUJAKESUMA\n"
     ]
    },
    {
     "name": "stderr",
     "output_type": "stream",
     "text": [
      "Scraping features:  23%|▏| 128/551 [32:37<2:45:53, 23.53s/it, Scraped features f"
     ]
    },
    {
     "name": "stdout",
     "output_type": "stream",
     "text": [
      "starting scraping for:Warung Makan Vina Vani\n"
     ]
    },
    {
     "name": "stderr",
     "output_type": "stream",
     "text": [
      "Scraping features:  23%|▏| 129/551 [32:54<2:29:53, 21.31s/it, Scraped features f"
     ]
    },
    {
     "name": "stdout",
     "output_type": "stream",
     "text": [
      "starting scraping for:Diamond kafe Karaoke\n"
     ]
    },
    {
     "name": "stderr",
     "output_type": "stream",
     "text": [
      "Scraping features:  24%|▏| 130/551 [33:19<2:37:41, 22.48s/it, Scraped features f"
     ]
    },
    {
     "name": "stdout",
     "output_type": "stream",
     "text": [
      "starting scraping for:The Salty Spitoon\n"
     ]
    },
    {
     "name": "stderr",
     "output_type": "stream",
     "text": [
      "Scraping features:  24%|▏| 131/551 [33:42<2:39:44, 22.82s/it, Scraped features f"
     ]
    },
    {
     "name": "stdout",
     "output_type": "stream",
     "text": [
      "starting scraping for:Angkringan Mbah Aris\n"
     ]
    },
    {
     "name": "stderr",
     "output_type": "stream",
     "text": [
      "\r",
      "Scraping features:  24%|▏| 132/551 [34:16<3:03:03, 26.21s/it, Scraped features f"
     ]
    },
    {
     "name": "stdout",
     "output_type": "stream",
     "text": [
      "starting scraping for:Angkringan mbakNdha\n"
     ]
    },
    {
     "name": "stderr",
     "output_type": "stream",
     "text": [
      "Scraping features:  24%|▏| 133/551 [34:33<2:42:01, 23.26s/it, Scraped features f"
     ]
    },
    {
     "name": "stdout",
     "output_type": "stream",
     "text": [
      "starting scraping for:Kopi Paris\n"
     ]
    },
    {
     "name": "stderr",
     "output_type": "stream",
     "text": [
      "Scraping features:  24%|▏| 134/551 [34:46<2:20:02, 20.15s/it, Scraped features f"
     ]
    },
    {
     "name": "stdout",
     "output_type": "stream",
     "text": [
      "starting scraping for: Cafe de Paris  Home Stay  Resto Seafood\n"
     ]
    },
    {
     "name": "stderr",
     "output_type": "stream",
     "text": [
      "Scraping features:  25%|▏| 135/551 [35:03<2:14:32, 19.41s/it, Scraped features f"
     ]
    },
    {
     "name": "stdout",
     "output_type": "stream",
     "text": [
      "starting scraping for:Warung Dila Mbah Aris\n"
     ]
    },
    {
     "name": "stderr",
     "output_type": "stream",
     "text": [
      "Scraping features:  25%|▏| 136/551 [35:16<2:00:25, 17.41s/it, Scraped features f"
     ]
    },
    {
     "name": "stdout",
     "output_type": "stream",
     "text": [
      "starting scraping for:Fremilt Red Cafe Prambanan\n"
     ]
    },
    {
     "name": "stderr",
     "output_type": "stream",
     "text": [
      "Scraping features:  25%|▏| 137/551 [35:37<2:07:30, 18.48s/it, Scraped features f"
     ]
    },
    {
     "name": "stdout",
     "output_type": "stream",
     "text": [
      "starting scraping for:Angkringan Sor Talok TWC Prambanan\n"
     ]
    },
    {
     "name": "stderr",
     "output_type": "stream",
     "text": [
      "Scraping features:  25%|▎| 138/551 [35:58<2:12:36, 19.27s/it, Scraped features f"
     ]
    },
    {
     "name": "stdout",
     "output_type": "stream",
     "text": [
      "starting scraping for:Sepindah Kopi\n"
     ]
    },
    {
     "name": "stderr",
     "output_type": "stream",
     "text": [
      "Scraping features:  25%|▎| 139/551 [36:16<2:08:43, 18.75s/it, Scraped features f"
     ]
    },
    {
     "name": "stdout",
     "output_type": "stream",
     "text": [
      "starting scraping for:Say Story Prambanan\n"
     ]
    },
    {
     "name": "stderr",
     "output_type": "stream",
     "text": [
      "Scraping features:  25%|▎| 140/551 [36:27<1:52:46, 16.46s/it, Scraped features f"
     ]
    },
    {
     "name": "stdout",
     "output_type": "stream",
     "text": [
      "starting scraping for:KALONG Kafe\n"
     ]
    },
    {
     "name": "stderr",
     "output_type": "stream",
     "text": [
      "Scraping features:  26%|▎| 141/551 [36:41<1:47:34, 15.74s/it, Scraped features f"
     ]
    },
    {
     "name": "stdout",
     "output_type": "stream",
     "text": [
      "starting scraping for:Angkringan Pojok Candi\n"
     ]
    },
    {
     "name": "stderr",
     "output_type": "stream",
     "text": [
      "Scraping features:  26%|▎| 142/551 [36:53<1:40:05, 14.68s/it, Scraped features f"
     ]
    },
    {
     "name": "stdout",
     "output_type": "stream",
     "text": [
      "starting scraping for:Kopi Dinari\n"
     ]
    },
    {
     "name": "stderr",
     "output_type": "stream",
     "text": [
      "Scraping features:  26%|▎| 143/551 [37:02<1:28:50, 13.06s/it, Scraped features f"
     ]
    },
    {
     "name": "stdout",
     "output_type": "stream",
     "text": [
      "starting scraping for:Cafe Jamu Lumbung\n"
     ]
    },
    {
     "name": "stderr",
     "output_type": "stream",
     "text": [
      "Scraping features:  26%|▎| 144/551 [37:17<1:30:40, 13.37s/it, Scraped features f"
     ]
    },
    {
     "name": "stdout",
     "output_type": "stream",
     "text": [
      "starting scraping for:K-Space Prambanan\n"
     ]
    },
    {
     "name": "stderr",
     "output_type": "stream",
     "text": [
      "Scraping features:  26%|▎| 145/551 [37:29<1:27:42, 12.96s/it, Scraped features f"
     ]
    },
    {
     "name": "stdout",
     "output_type": "stream",
     "text": [
      "starting scraping for:CAFE RINGAN\n"
     ]
    },
    {
     "name": "stderr",
     "output_type": "stream",
     "text": [
      "Scraping features:  26%|▎| 146/551 [37:54<1:52:55, 16.73s/it, Scraped features f"
     ]
    },
    {
     "name": "stdout",
     "output_type": "stream",
     "text": [
      "starting scraping for:Angkringan Bu Pairah\n"
     ]
    },
    {
     "name": "stderr",
     "output_type": "stream",
     "text": [
      "Scraping features:  27%|▎| 147/551 [38:13<1:57:46, 17.49s/it, Scraped features f"
     ]
    },
    {
     "name": "stdout",
     "output_type": "stream",
     "text": [
      "starting scraping for:Basecamp Coffe  Eatery\n"
     ]
    },
    {
     "name": "stderr",
     "output_type": "stream",
     "text": [
      "Scraping features:  27%|▎| 148/551 [38:30<1:55:59, 17.27s/it, Scraped features f"
     ]
    },
    {
     "name": "stdout",
     "output_type": "stream",
     "text": [
      "starting scraping for:Rama Shinta Garden Resto\n"
     ]
    },
    {
     "name": "stderr",
     "output_type": "stream",
     "text": [
      "Scraping features:  27%|▎| 149/551 [38:39<1:38:51, 14.76s/it, Scraped features f"
     ]
    },
    {
     "name": "stdout",
     "output_type": "stream",
     "text": [
      "starting scraping for:Kopi Teman Lelah ꦏꦥꦠꦩꦤꦊꦭ\n"
     ]
    },
    {
     "name": "stderr",
     "output_type": "stream",
     "text": [
      "Scraping features:  27%|▎| 150/551 [38:56<1:43:49, 15.54s/it, Scraped features f"
     ]
    },
    {
     "name": "stdout",
     "output_type": "stream",
     "text": [
      "starting scraping for:Warung kopi YURIKA\n"
     ]
    },
    {
     "name": "stderr",
     "output_type": "stream",
     "text": [
      "Scraping features:  27%|▎| 151/551 [39:11<1:41:17, 15.19s/it, Scraped features f"
     ]
    },
    {
     "name": "stdout",
     "output_type": "stream",
     "text": [
      "starting scraping for:Dewi kamaratih coffee  resto\n"
     ]
    },
    {
     "name": "stderr",
     "output_type": "stream",
     "text": [
      "Scraping features:  28%|▎| 152/551 [39:40<2:09:24, 19.46s/it, Scraped features f"
     ]
    },
    {
     "name": "stdout",
     "output_type": "stream",
     "text": [
      "starting scraping for:Es Coklat Bonng.262 Prambanan\n"
     ]
    },
    {
     "name": "stderr",
     "output_type": "stream",
     "text": [
      "Scraping features:  28%|▎| 153/551 [40:01<2:11:41, 19.85s/it, Scraped features f"
     ]
    },
    {
     "name": "stdout",
     "output_type": "stream",
     "text": [
      "starting scraping for:Kedai SUKA_SUKA Prambanan\n"
     ]
    },
    {
     "name": "stderr",
     "output_type": "stream",
     "text": [
      "Scraping features:  28%|▎| 154/551 [40:13<1:55:18, 17.43s/it, Scraped features f"
     ]
    },
    {
     "name": "stdout",
     "output_type": "stream",
     "text": [
      "starting scraping for:Ndalem wuridiningratan\n"
     ]
    },
    {
     "name": "stderr",
     "output_type": "stream",
     "text": [
      "Scraping features:  28%|▎| 155/551 [40:25<1:45:46, 16.03s/it, Scraped features f"
     ]
    },
    {
     "name": "stdout",
     "output_type": "stream",
     "text": [
      "starting scraping for:Wedang Kopi Prambanan ꦮꦢꦏꦥꦥꦩꦧꦤꦤ\n"
     ]
    },
    {
     "name": "stderr",
     "output_type": "stream",
     "text": [
      "Scraping features:  28%|▎| 156/551 [40:34<1:30:15, 13.71s/it, Scraped features f"
     ]
    },
    {
     "name": "stdout",
     "output_type": "stream",
     "text": [
      "starting scraping for:Kuliner Lor Tugu\n"
     ]
    },
    {
     "name": "stderr",
     "output_type": "stream",
     "text": [
      "Scraping features:  28%|▎| 157/551 [40:48<1:32:00, 14.01s/it, Scraped features f"
     ]
    },
    {
     "name": "stdout",
     "output_type": "stream",
     "text": [
      "starting scraping for:Anggrek Executive Lounge Stasiun Tugu Yogyakarta\n"
     ]
    },
    {
     "name": "stderr",
     "output_type": "stream",
     "text": [
      "Scraping features:  29%|▎| 158/551 [40:58<1:22:20, 12.57s/it, Scraped features f"
     ]
    },
    {
     "name": "stdout",
     "output_type": "stream",
     "text": [
      "starting scraping for:Toegoe Resto\n"
     ]
    },
    {
     "name": "stderr",
     "output_type": "stream",
     "text": [
      "Scraping features:  29%|▎| 159/551 [41:10<1:22:12, 12.58s/it, Scraped features f"
     ]
    },
    {
     "name": "stdout",
     "output_type": "stream",
     "text": [
      "starting scraping for:Gudeg Yu Narni Tugu\n"
     ]
    },
    {
     "name": "stderr",
     "output_type": "stream",
     "text": [
      "Scraping features:  29%|▎| 160/551 [41:21<1:17:54, 11.96s/it, Scraped features f"
     ]
    },
    {
     "name": "stdout",
     "output_type": "stream",
     "text": [
      "starting scraping for:Gudeg Kulon Tugu\n"
     ]
    },
    {
     "name": "stderr",
     "output_type": "stream",
     "text": [
      "Scraping features:  29%|▎| 161/551 [41:32<1:15:41, 11.64s/it, Scraped features f"
     ]
    },
    {
     "name": "stdout",
     "output_type": "stream",
     "text": [
      "starting scraping for:Nasi Langgi Tugu\n"
     ]
    },
    {
     "name": "stderr",
     "output_type": "stream",
     "text": [
      "Scraping features:  29%|▎| 162/551 [41:46<1:21:21, 12.55s/it, Scraped features f"
     ]
    },
    {
     "name": "stdout",
     "output_type": "stream",
     "text": [
      "starting scraping for:Kampoeng Tugu\n"
     ]
    },
    {
     "name": "stderr",
     "output_type": "stream",
     "text": [
      "Scraping features:  30%|▎| 163/551 [41:59<1:20:24, 12.43s/it, Scraped features f"
     ]
    },
    {
     "name": "stdout",
     "output_type": "stream",
     "text": [
      "starting scraping for:Kampung Tugu Jogja\n"
     ]
    },
    {
     "name": "stderr",
     "output_type": "stream",
     "text": [
      "Scraping features:  30%|▎| 164/551 [42:11<1:19:48, 12.37s/it, Scraped features f"
     ]
    },
    {
     "name": "stdout",
     "output_type": "stream",
     "text": [
      "starting scraping for:Soto Ayam Pak Gareng Tugu\n"
     ]
    },
    {
     "name": "stderr",
     "output_type": "stream",
     "text": [
      "Scraping features:  30%|▎| 165/551 [42:34<1:41:16, 15.74s/it, Scraped features f"
     ]
    },
    {
     "name": "stdout",
     "output_type": "stream",
     "text": [
      "starting scraping for:Mc Chicken Stasiun Tugu Yogyakarta.\n"
     ]
    },
    {
     "name": "stderr",
     "output_type": "stream",
     "text": [
      "Scraping features:  30%|▎| 166/551 [42:57<1:54:14, 17.80s/it, Scraped features f"
     ]
    },
    {
     "name": "stdout",
     "output_type": "stream",
     "text": [
      "starting scraping for:Izgara UrbanGrill Tugu\n"
     ]
    },
    {
     "name": "stderr",
     "output_type": "stream",
     "text": [
      "Scraping features:  30%|▎| 167/551 [43:16<1:56:03, 18.13s/it, Scraped features f"
     ]
    },
    {
     "name": "stdout",
     "output_type": "stream",
     "text": [
      "starting scraping for:Kedai Darling 02 Lor Tugu\n"
     ]
    },
    {
     "name": "stderr",
     "output_type": "stream",
     "text": [
      "Scraping features:  30%|▎| 168/551 [43:31<1:50:31, 17.32s/it, Scraped features f"
     ]
    },
    {
     "name": "stdout",
     "output_type": "stream",
     "text": [
      "starting scraping for:Penyetan Mas Kobis Tugu\n"
     ]
    },
    {
     "name": "stderr",
     "output_type": "stream",
     "text": [
      "Scraping features:  31%|▎| 169/551 [43:42<1:38:11, 15.42s/it, Scraped features f"
     ]
    },
    {
     "name": "stdout",
     "output_type": "stream",
     "text": [
      "starting scraping for:Kuah Panas Tugu Jogja\n"
     ]
    },
    {
     "name": "stderr",
     "output_type": "stream",
     "text": [
      "Scraping features:  31%|▎| 170/551 [43:53<1:29:35, 14.11s/it, Scraped features f"
     ]
    },
    {
     "name": "stdout",
     "output_type": "stream",
     "text": [
      "starting scraping for:Rumah Makan  Travel Tugu Muda Resto\n"
     ]
    },
    {
     "name": "stderr",
     "output_type": "stream",
     "text": [
      "Scraping features:  31%|▎| 171/551 [44:06<1:26:56, 13.73s/it, Scraped features f"
     ]
    },
    {
     "name": "stdout",
     "output_type": "stream",
     "text": [
      "starting scraping for:Mister Burger Stasiun Tugu Yogyakarta\n"
     ]
    },
    {
     "name": "stderr",
     "output_type": "stream",
     "text": [
      "Scraping features:  31%|▎| 172/551 [44:18<1:22:37, 13.08s/it, Scraped features f"
     ]
    },
    {
     "name": "stdout",
     "output_type": "stream",
     "text": [
      "starting scraping for:Angkringan dan Bakmi Tugu Jogja\n"
     ]
    },
    {
     "name": "stderr",
     "output_type": "stream",
     "text": [
      "\r",
      "Scraping features:  31%|▎| 173/551 [44:44<1:46:48, 16.95s/it, Scraped features f"
     ]
    },
    {
     "name": "stdout",
     "output_type": "stream",
     "text": [
      "starting scraping for:Mie jawa smping stasiun tugu\n"
     ]
    },
    {
     "name": "stderr",
     "output_type": "stream",
     "text": [
      "Scraping features:  32%|▎| 174/551 [44:59<1:42:42, 16.35s/it, Scraped features f"
     ]
    },
    {
     "name": "stdout",
     "output_type": "stream",
     "text": [
      "starting scraping for:Angkringan Mbahe Tugu\n"
     ]
    },
    {
     "name": "stderr",
     "output_type": "stream",
     "text": [
      "Scraping features:  32%|▎| 175/551 [45:22<1:54:53, 18.33s/it, Scraped features f"
     ]
    },
    {
     "name": "stdout",
     "output_type": "stream",
     "text": [
      "starting scraping for:Bale Raos - The Sultans Dishes\n"
     ]
    },
    {
     "name": "stderr",
     "output_type": "stream",
     "text": [
      "Scraping features:  32%|▎| 176/551 [45:32<1:39:31, 15.92s/it, Scraped features f"
     ]
    },
    {
     "name": "stdout",
     "output_type": "stream",
     "text": [
      "starting scraping for:Gadri Resto\n"
     ]
    },
    {
     "name": "stderr",
     "output_type": "stream",
     "text": [
      "Scraping features:  32%|▎| 177/551 [45:42<1:28:37, 14.22s/it, Scraped features f"
     ]
    },
    {
     "name": "stdout",
     "output_type": "stream",
     "text": [
      "starting scraping for:Wedangan Sor Sawo\n"
     ]
    },
    {
     "name": "stderr",
     "output_type": "stream",
     "text": [
      "Scraping features:  32%|▎| 178/551 [45:52<1:20:00, 12.87s/it, Scraped features f"
     ]
    },
    {
     "name": "stdout",
     "output_type": "stream",
     "text": [
      "starting scraping for:nDalem Ngabean Resto\n"
     ]
    },
    {
     "name": "stderr",
     "output_type": "stream",
     "text": [
      "Scraping features:  32%|▎| 179/551 [46:10<1:29:05, 14.37s/it, Scraped features f"
     ]
    },
    {
     "name": "stdout",
     "output_type": "stream",
     "text": [
      "starting scraping for:Es Buah Gerjen Keraton Yogyakarta\n"
     ]
    },
    {
     "name": "stderr",
     "output_type": "stream",
     "text": [
      "Scraping features:  33%|▎| 180/551 [46:32<1:42:36, 16.59s/it, Scraped features f"
     ]
    },
    {
     "name": "stdout",
     "output_type": "stream",
     "text": [
      "starting scraping for:Tengkleng Bhenjoyo Keraton\n"
     ]
    },
    {
     "name": "stderr",
     "output_type": "stream",
     "text": [
      "Scraping features:  33%|▎| 181/551 [46:42<1:31:48, 14.89s/it, Scraped features f"
     ]
    },
    {
     "name": "stdout",
     "output_type": "stream",
     "text": [
      "starting scraping for:Gudeg Bu Slamet ꦒꦝꦒꦧꦱꦭꦩꦠ\n"
     ]
    },
    {
     "name": "stderr",
     "output_type": "stream",
     "text": [
      "Scraping features:  33%|▎| 182/551 [47:05<1:45:06, 17.09s/it, Scraped features f"
     ]
    },
    {
     "name": "stdout",
     "output_type": "stream",
     "text": [
      "starting scraping for:Warung Brongkos Handayani\n"
     ]
    },
    {
     "name": "stderr",
     "output_type": "stream",
     "text": [
      "Scraping features:  33%|▎| 183/551 [47:15<1:33:01, 15.17s/it, Scraped features f"
     ]
    },
    {
     "name": "stdout",
     "output_type": "stream",
     "text": [
      "starting scraping for:Gudeg Wijilan Bu Lies ꦒꦣꦒꦮꦗꦭꦤꦧꦭꦪꦱ\n"
     ]
    },
    {
     "name": "stderr",
     "output_type": "stream",
     "text": [
      "Scraping features:  33%|▎| 184/551 [47:24<1:21:31, 13.33s/it, Scraped features f"
     ]
    },
    {
     "name": "stdout",
     "output_type": "stream",
     "text": [
      "starting scraping for:kedai ndalem\n"
     ]
    },
    {
     "name": "stderr",
     "output_type": "stream",
     "text": [
      "Scraping features:  34%|▎| 185/551 [47:37<1:20:29, 13.19s/it, Scraped features f"
     ]
    },
    {
     "name": "stdout",
     "output_type": "stream",
     "text": [
      "starting scraping for:Gudeg Bu Ninuk\n"
     ]
    },
    {
     "name": "stderr",
     "output_type": "stream",
     "text": [
      "Scraping features:  34%|▎| 186/551 [47:48<1:15:42, 12.45s/it, Scraped features f"
     ]
    },
    {
     "name": "stdout",
     "output_type": "stream",
     "text": [
      "starting scraping for:Telur gulung Pojok Tamansari\n"
     ]
    },
    {
     "name": "stderr",
     "output_type": "stream",
     "text": [
      "Scraping features:  34%|▎| 187/551 [48:00<1:14:25, 12.27s/it, Scraped features f"
     ]
    },
    {
     "name": "stdout",
     "output_type": "stream",
     "text": [
      "starting scraping for:Dani Snack Mbak Dani\n"
     ]
    },
    {
     "name": "stderr",
     "output_type": "stream",
     "text": [
      "Scraping features:  34%|▎| 188/551 [48:13<1:14:58, 12.39s/it, Scraped features f"
     ]
    },
    {
     "name": "stdout",
     "output_type": "stream",
     "text": [
      "starting scraping for:Soto Sapi 19\n"
     ]
    },
    {
     "name": "stderr",
     "output_type": "stream",
     "text": [
      "Scraping features:  34%|▎| 189/551 [48:25<1:14:28, 12.34s/it, Scraped features f"
     ]
    },
    {
     "name": "stdout",
     "output_type": "stream",
     "text": [
      "starting scraping for:Warung Ramesan Mbak Meniz\n"
     ]
    },
    {
     "name": "stderr",
     "output_type": "stream",
     "text": [
      "Scraping features:  34%|▎| 190/551 [48:34<1:09:30, 11.55s/it, Scraped features f"
     ]
    },
    {
     "name": "stdout",
     "output_type": "stream",
     "text": [
      "starting scraping for:Giandras FB\n"
     ]
    },
    {
     "name": "stderr",
     "output_type": "stream",
     "text": [
      "Scraping features:  35%|▎| 191/551 [48:47<1:11:47, 11.97s/it, Scraped features f"
     ]
    },
    {
     "name": "stdout",
     "output_type": "stream",
     "text": [
      "starting scraping for:Special Bakmi  Nasi Goreng Pak Pele\n"
     ]
    },
    {
     "name": "stderr",
     "output_type": "stream",
     "text": [
      "Scraping features:  35%|▎| 192/551 [49:00<1:12:34, 12.13s/it, Scraped features f"
     ]
    },
    {
     "name": "stdout",
     "output_type": "stream",
     "text": [
      "starting scraping for:Bakmi Jawa Bu Tutik\n"
     ]
    },
    {
     "name": "stderr",
     "output_type": "stream",
     "text": [
      "Scraping features:  35%|▎| 193/551 [49:16<1:19:19, 13.29s/it, Scraped features f"
     ]
    },
    {
     "name": "stdout",
     "output_type": "stream",
     "text": [
      "starting scraping for:Kedai BeBeQi Saikoro\n"
     ]
    },
    {
     "name": "stderr",
     "output_type": "stream",
     "text": [
      "Scraping features:  35%|▎| 194/551 [49:28<1:16:43, 12.89s/it, Scraped features f"
     ]
    },
    {
     "name": "stdout",
     "output_type": "stream",
     "text": [
      "starting scraping for:Nasi Goreng Tetelan Sapi Omded\n"
     ]
    },
    {
     "name": "stderr",
     "output_type": "stream",
     "text": [
      "Scraping features:  35%|▎| 195/551 [49:50<1:32:14, 15.55s/it, Scraped features f"
     ]
    },
    {
     "name": "stdout",
     "output_type": "stream",
     "text": [
      "starting scraping for:Warunk Soto Nikmat YIA\n"
     ]
    },
    {
     "name": "stderr",
     "output_type": "stream",
     "text": [
      "Scraping features:  36%|▎| 196/551 [50:07<1:34:58, 16.05s/it, Scraped features f"
     ]
    },
    {
     "name": "stdout",
     "output_type": "stream",
     "text": [
      "starting scraping for:Solaria Yogyakarta International Airport\n"
     ]
    },
    {
     "name": "stderr",
     "output_type": "stream",
     "text": [
      "Scraping features:  36%|▎| 197/551 [50:16<1:23:10, 14.10s/it, Scraped features f"
     ]
    },
    {
     "name": "stdout",
     "output_type": "stream",
     "text": [
      "starting scraping for:CFC BANDARA YIA\n"
     ]
    },
    {
     "name": "stderr",
     "output_type": "stream",
     "text": [
      "Scraping features:  36%|▎| 198/551 [50:30<1:22:04, 13.95s/it, Scraped features f"
     ]
    },
    {
     "name": "stdout",
     "output_type": "stream",
     "text": [
      "starting scraping for:Foodcourt Yia By Kokapura\n"
     ]
    },
    {
     "name": "stderr",
     "output_type": "stream",
     "text": [
      "Scraping features:  36%|▎| 199/551 [50:42<1:17:51, 13.27s/it, Scraped features f"
     ]
    },
    {
     "name": "stdout",
     "output_type": "stream",
     "text": [
      "starting scraping for:Cantik Manis\n"
     ]
    },
    {
     "name": "stderr",
     "output_type": "stream",
     "text": [
      "Scraping features:  36%|▎| 200/551 [51:00<1:26:51, 14.85s/it, Scraped features f"
     ]
    },
    {
     "name": "stdout",
     "output_type": "stream",
     "text": [
      "starting scraping for:Warung soto Nikmat\n"
     ]
    },
    {
     "name": "stderr",
     "output_type": "stream",
     "text": [
      "Scraping features:  36%|▎| 201/551 [51:19<1:34:05, 16.13s/it, Scraped features f"
     ]
    },
    {
     "name": "stdout",
     "output_type": "stream",
     "text": [
      "starting scraping for:Kepala Djenggot Tea\n"
     ]
    },
    {
     "name": "stderr",
     "output_type": "stream",
     "text": [
      "\r",
      "Scraping features:  37%|▎| 202/551 [51:46<1:52:14, 19.30s/it, Scraped features f"
     ]
    },
    {
     "name": "stdout",
     "output_type": "stream",
     "text": [
      "starting scraping for:Angkringan KlX\n"
     ]
    },
    {
     "name": "stderr",
     "output_type": "stream",
     "text": [
      "Scraping features:  37%|▎| 203/551 [52:01<1:43:47, 17.90s/it, Scraped features f"
     ]
    },
    {
     "name": "stdout",
     "output_type": "stream",
     "text": [
      "starting scraping for:AW Restoran - Yogyakarta International Airport\n"
     ]
    },
    {
     "name": "stderr",
     "output_type": "stream",
     "text": [
      "Scraping features:  37%|▎| 204/551 [52:13<1:34:32, 16.35s/it, Scraped features f"
     ]
    },
    {
     "name": "stdout",
     "output_type": "stream",
     "text": [
      "starting scraping for:ANGKRINGAN GELORA\n"
     ]
    },
    {
     "name": "stderr",
     "output_type": "stream",
     "text": [
      "Scraping features:  37%|▎| 205/551 [52:35<1:43:23, 17.93s/it, Scraped features f"
     ]
    },
    {
     "name": "stdout",
     "output_type": "stream",
     "text": [
      "starting scraping for:Joglo Swantiti\n"
     ]
    },
    {
     "name": "stderr",
     "output_type": "stream",
     "text": [
      "Scraping features:  37%|▎| 206/551 [52:49<1:35:36, 16.63s/it, Scraped features f"
     ]
    },
    {
     "name": "stdout",
     "output_type": "stream",
     "text": [
      "starting scraping for:Bakpia Kukus Tugu Jogja - Toko Resmi Bandara YIA\n"
     ]
    },
    {
     "name": "stderr",
     "output_type": "stream",
     "text": [
      "Scraping features:  38%|▍| 207/551 [53:03<1:31:31, 15.96s/it, Scraped features f"
     ]
    },
    {
     "name": "stdout",
     "output_type": "stream",
     "text": [
      "starting scraping for:JOGLO SAERAH RESTO\n"
     ]
    },
    {
     "name": "stderr",
     "output_type": "stream",
     "text": [
      "Scraping features:  38%|▍| 208/551 [53:17<1:28:02, 15.40s/it, Scraped features f"
     ]
    },
    {
     "name": "stdout",
     "output_type": "stream",
     "text": [
      "starting scraping for:Petit Paris Boulangerie YIA\n"
     ]
    },
    {
     "name": "stderr",
     "output_type": "stream",
     "text": [
      "Scraping features:  38%|▍| 209/551 [53:29<1:21:13, 14.25s/it, Scraped features f"
     ]
    },
    {
     "name": "stdout",
     "output_type": "stream",
     "text": [
      "starting scraping for:Rumah makan  catring\n"
     ]
    },
    {
     "name": "stderr",
     "output_type": "stream",
     "text": [
      "Scraping features:  38%|▍| 210/551 [53:48<1:29:15, 15.71s/it, Scraped features f"
     ]
    },
    {
     "name": "stdout",
     "output_type": "stream",
     "text": [
      "starting scraping for:Old Town\n"
     ]
    },
    {
     "name": "stderr",
     "output_type": "stream",
     "text": [
      "Scraping features:  38%|▍| 211/551 [54:04<1:29:22, 15.77s/it, Scraped features f"
     ]
    },
    {
     "name": "stdout",
     "output_type": "stream",
     "text": [
      "starting scraping for:Yomalata\n"
     ]
    },
    {
     "name": "stderr",
     "output_type": "stream",
     "text": [
      "Scraping features:  38%|▍| 212/551 [54:15<1:21:34, 14.44s/it, Scraped features f"
     ]
    },
    {
     "name": "stdout",
     "output_type": "stream",
     "text": [
      "starting scraping for:Mie Ayam AMIKOM\n"
     ]
    },
    {
     "name": "stderr",
     "output_type": "stream",
     "text": [
      "Scraping features:  39%|▍| 213/551 [54:40<1:39:31, 17.67s/it, Scraped features f"
     ]
    },
    {
     "name": "stdout",
     "output_type": "stream",
     "text": [
      "starting scraping for:Ayam Bakar AMIKOM\n"
     ]
    },
    {
     "name": "stderr",
     "output_type": "stream",
     "text": [
      "Scraping features:  39%|▍| 214/551 [55:05<1:51:46, 19.90s/it, Scraped features f"
     ]
    },
    {
     "name": "stdout",
     "output_type": "stream",
     "text": [
      "starting scraping for:Warung makan dan penyetan kanggo riko\n"
     ]
    },
    {
     "name": "stderr",
     "output_type": "stream",
     "text": [
      "Scraping features:  39%|▍| 215/551 [55:22<1:46:13, 18.97s/it, Scraped features f"
     ]
    },
    {
     "name": "stdout",
     "output_type": "stream",
     "text": [
      "starting scraping for:Tahu Telupat dan Baso Telupat Jogja\n"
     ]
    },
    {
     "name": "stderr",
     "output_type": "stream",
     "text": [
      "Scraping features:  39%|▍| 216/551 [55:34<1:34:12, 16.87s/it, Scraped features f"
     ]
    },
    {
     "name": "stdout",
     "output_type": "stream",
     "text": [
      "starting scraping for:Aigo Seblak Korea Prasmanan\n"
     ]
    },
    {
     "name": "stderr",
     "output_type": "stream",
     "text": [
      "Scraping features:  39%|▍| 217/551 [55:44<1:22:55, 14.90s/it, Scraped features f"
     ]
    },
    {
     "name": "stdout",
     "output_type": "stream",
     "text": [
      "starting scraping for:Gorengan Mbah Bekti\n"
     ]
    },
    {
     "name": "stderr",
     "output_type": "stream",
     "text": [
      "Scraping features:  40%|▍| 218/551 [55:59<1:21:50, 14.75s/it, Scraped features f"
     ]
    },
    {
     "name": "stdout",
     "output_type": "stream",
     "text": [
      "starting scraping for:Pawon Asasta\n"
     ]
    },
    {
     "name": "stderr",
     "output_type": "stream",
     "text": [
      "Scraping features:  40%|▍| 219/551 [56:18<1:28:27, 15.99s/it, Scraped features f"
     ]
    },
    {
     "name": "stdout",
     "output_type": "stream",
     "text": [
      "starting scraping for:Mien Steak Ayank\n"
     ]
    },
    {
     "name": "stderr",
     "output_type": "stream",
     "text": [
      "Scraping features:  40%|▍| 220/551 [56:31<1:23:03, 15.06s/it, Scraped features f"
     ]
    },
    {
     "name": "stdout",
     "output_type": "stream",
     "text": [
      "starting scraping for:Gudeg Pondok\n"
     ]
    },
    {
     "name": "stderr",
     "output_type": "stream",
     "text": [
      "Scraping features:  40%|▍| 221/551 [56:42<1:16:44, 13.95s/it, Scraped features f"
     ]
    },
    {
     "name": "stdout",
     "output_type": "stream",
     "text": [
      "starting scraping for:KAVGA KEBAB\n"
     ]
    },
    {
     "name": "stderr",
     "output_type": "stream",
     "text": [
      "Scraping features:  40%|▍| 222/551 [56:55<1:14:48, 13.64s/it, Scraped features f"
     ]
    },
    {
     "name": "stdout",
     "output_type": "stream",
     "text": [
      "starting scraping for:Suqaa food - Steak  Waffle Yogyakarta\n"
     ]
    },
    {
     "name": "stderr",
     "output_type": "stream",
     "text": [
      "Scraping features:  40%|▍| 223/551 [57:07<1:12:52, 13.33s/it, Scraped features f"
     ]
    },
    {
     "name": "stdout",
     "output_type": "stream",
     "text": [
      "starting scraping for:Super Nasbak nasi bakar daging sapi pedas\n"
     ]
    },
    {
     "name": "stderr",
     "output_type": "stream",
     "text": [
      "Scraping features:  41%|▍| 224/551 [57:23<1:15:50, 13.92s/it, Scraped features f"
     ]
    },
    {
     "name": "stdout",
     "output_type": "stream",
     "text": [
      "starting scraping for:Angkringan Babe\n"
     ]
    },
    {
     "name": "stderr",
     "output_type": "stream",
     "text": [
      "Scraping features:  41%|▍| 225/551 [57:55<1:46:11, 19.54s/it, Scraped features f"
     ]
    },
    {
     "name": "stdout",
     "output_type": "stream",
     "text": [
      "starting scraping for:Mie Sapi Perjuangan  Condongcatur\n"
     ]
    },
    {
     "name": "stderr",
     "output_type": "stream",
     "text": [
      "Scraping features:  41%|▍| 226/551 [58:06<1:31:57, 16.98s/it, Scraped features f"
     ]
    },
    {
     "name": "stdout",
     "output_type": "stream",
     "text": [
      "starting scraping for:Bakso Tenis  Mie Ayam Bayam\n"
     ]
    },
    {
     "name": "stderr",
     "output_type": "stream",
     "text": [
      "Scraping features:  41%|▍| 227/551 [58:18<1:22:21, 15.25s/it, Scraped features f"
     ]
    },
    {
     "name": "stdout",
     "output_type": "stream",
     "text": [
      "starting scraping for:Warung Makan Mbak Yanti\n"
     ]
    },
    {
     "name": "stderr",
     "output_type": "stream",
     "text": [
      "Scraping features:  41%|▍| 228/551 [58:31<1:18:34, 14.60s/it, Scraped features f"
     ]
    },
    {
     "name": "stdout",
     "output_type": "stream",
     "text": [
      "starting scraping for:Sate pada yoko bana\n"
     ]
    },
    {
     "name": "stderr",
     "output_type": "stream",
     "text": [
      "Scraping features:  42%|▍| 229/551 [58:56<1:35:40, 17.83s/it, Scraped features f"
     ]
    },
    {
     "name": "stdout",
     "output_type": "stream",
     "text": [
      "starting scraping for:Penyetan Mas Kobis\n"
     ]
    },
    {
     "name": "stderr",
     "output_type": "stream",
     "text": [
      "Scraping features:  42%|▍| 230/551 [59:12<1:32:40, 17.32s/it, Scraped features f"
     ]
    },
    {
     "name": "stdout",
     "output_type": "stream",
     "text": [
      "starting scraping for:Warung Lesehan Ambar\n"
     ]
    },
    {
     "name": "stderr",
     "output_type": "stream",
     "text": [
      "Scraping features:  42%|▍| 231/551 [59:24<1:24:09, 15.78s/it, Scraped features f"
     ]
    },
    {
     "name": "stdout",
     "output_type": "stream",
     "text": [
      "starting scraping for:UC Resto\n"
     ]
    },
    {
     "name": "stderr",
     "output_type": "stream",
     "text": [
      "Scraping features:  42%|▍| 232/551 [59:36<1:16:48, 14.45s/it, Scraped features f"
     ]
    },
    {
     "name": "stdout",
     "output_type": "stream",
     "text": [
      "starting scraping for:Food Court UGM Baru\n"
     ]
    },
    {
     "name": "stderr",
     "output_type": "stream",
     "text": [
      "Scraping features:  42%|▍| 233/551 [59:52<1:20:07, 15.12s/it, Scraped features f"
     ]
    },
    {
     "name": "stdout",
     "output_type": "stream",
     "text": [
      "starting scraping for:Songo Ramen\n"
     ]
    },
    {
     "name": "stderr",
     "output_type": "stream",
     "text": [
      "Scraping features:  42%|▍| 234/551 [1:00:05<1:16:21, 14.45s/it, Scraped features"
     ]
    },
    {
     "name": "stdout",
     "output_type": "stream",
     "text": [
      "starting scraping for:Kantin Aldhan Fak. Filsafat UGM\n"
     ]
    },
    {
     "name": "stderr",
     "output_type": "stream",
     "text": [
      "Scraping features:  43%|▍| 235/551 [1:00:16<1:09:48, 13.26s/it, Scraped features"
     ]
    },
    {
     "name": "stdout",
     "output_type": "stream",
     "text": [
      "starting scraping for:Nasi Kulit Syuurga GSP UGM\n"
     ]
    },
    {
     "name": "stderr",
     "output_type": "stream",
     "text": [
      "Scraping features:  43%|▍| 236/551 [1:00:28<1:07:26, 12.85s/it, Scraped features"
     ]
    },
    {
     "name": "stdout",
     "output_type": "stream",
     "text": [
      "starting scraping for:Waroeng Spesial Sambal SS 01 Perjuangan\n"
     ]
    },
    {
     "name": "stderr",
     "output_type": "stream",
     "text": [
      "Scraping features:  43%|▍| 237/551 [1:00:37<1:02:08, 11.88s/it, Scraped features"
     ]
    },
    {
     "name": "stdout",
     "output_type": "stream",
     "text": [
      "starting scraping for:Warung Makan Ayam Geprek Bu Rum 4\n"
     ]
    },
    {
     "name": "stderr",
     "output_type": "stream",
     "text": [
      "Scraping features:  43%|▍| 238/551 [1:00:49<1:02:04, 11.90s/it, Scraped features"
     ]
    },
    {
     "name": "stdout",
     "output_type": "stream",
     "text": [
      "starting scraping for:Hakosuka Sushi\n"
     ]
    },
    {
     "name": "stderr",
     "output_type": "stream",
     "text": [
      "Scraping features:  43%|▍| 239/551 [1:01:01<1:01:25, 11.81s/it, Scraped features"
     ]
    },
    {
     "name": "stdout",
     "output_type": "stream",
     "text": [
      "starting scraping for:Nasi Telor W4REQ by Suddenly\n"
     ]
    },
    {
     "name": "stderr",
     "output_type": "stream",
     "text": [
      "Scraping features:  44%|▍| 240/551 [1:01:14<1:03:03, 12.16s/it, Scraped features"
     ]
    },
    {
     "name": "stdout",
     "output_type": "stream",
     "text": [
      "starting scraping for:monalisa burger\n"
     ]
    },
    {
     "name": "stderr",
     "output_type": "stream",
     "text": [
      "Scraping features:  44%|▍| 241/551 [1:01:29<1:07:00, 12.97s/it, Scraped features"
     ]
    },
    {
     "name": "stdout",
     "output_type": "stream",
     "text": [
      "starting scraping for:Bho Dimsum UGM\n"
     ]
    },
    {
     "name": "stderr",
     "output_type": "stream",
     "text": [
      "Scraping features:  44%|▍| 242/551 [1:01:43<1:09:26, 13.49s/it, Scraped features"
     ]
    },
    {
     "name": "stdout",
     "output_type": "stream",
     "text": [
      "starting scraping for:Wr. Bu Saijo Kantin Pujale UGM\n"
     ]
    },
    {
     "name": "stderr",
     "output_type": "stream",
     "text": [
      "Scraping features:  44%|▍| 243/551 [1:02:01<1:15:35, 14.73s/it, Scraped features"
     ]
    },
    {
     "name": "stdout",
     "output_type": "stream",
     "text": [
      "starting scraping for:Angkringan Farmasi\n"
     ]
    },
    {
     "name": "stderr",
     "output_type": "stream",
     "text": [
      "Scraping features:  44%|▍| 244/551 [1:02:12<1:09:40, 13.62s/it, Scraped features"
     ]
    },
    {
     "name": "stdout",
     "output_type": "stream",
     "text": [
      "starting scraping for:KFC UGM Yogyakarta\n"
     ]
    },
    {
     "name": "stderr",
     "output_type": "stream",
     "text": [
      "Scraping features:  44%|▍| 245/551 [1:02:21<1:03:06, 12.37s/it, Scraped features"
     ]
    },
    {
     "name": "stdout",
     "output_type": "stream",
     "text": [
      "starting scraping for:LESEHAN PRASOJO\n"
     ]
    },
    {
     "name": "stderr",
     "output_type": "stream",
     "text": [
      "Scraping features:  45%|▍| 246/551 [1:02:32<59:43, 11.75s/it, Scraped features f"
     ]
    },
    {
     "name": "stdout",
     "output_type": "stream",
     "text": [
      "starting scraping for:Seafood Pak Purwanto\n"
     ]
    },
    {
     "name": "stderr",
     "output_type": "stream",
     "text": [
      "Scraping features:  45%|▍| 247/551 [1:02:43<59:05, 11.66s/it, Scraped features f"
     ]
    },
    {
     "name": "stdout",
     "output_type": "stream",
     "text": [
      "starting scraping for:Sate Padang Chaniago\n"
     ]
    },
    {
     "name": "stderr",
     "output_type": "stream",
     "text": [
      "Scraping features:  45%|▍| 248/551 [1:02:58<1:02:56, 12.46s/it, Scraped features"
     ]
    },
    {
     "name": "stdout",
     "output_type": "stream",
     "text": [
      "starting scraping for:Lesehan Tasik Malaya\n"
     ]
    },
    {
     "name": "stderr",
     "output_type": "stream",
     "text": [
      "Scraping features:  45%|▍| 249/551 [1:03:08<1:00:18, 11.98s/it, Scraped features"
     ]
    },
    {
     "name": "stdout",
     "output_type": "stream",
     "text": [
      "starting scraping for:Wonton Crispy Fatboys Yogyakarta\n"
     ]
    },
    {
     "name": "stderr",
     "output_type": "stream",
     "text": [
      "Scraping features:  45%|▍| 250/551 [1:03:21<1:00:17, 12.02s/it, Scraped features"
     ]
    },
    {
     "name": "stdout",
     "output_type": "stream",
     "text": [
      "starting scraping for:Resto IMB\n"
     ]
    },
    {
     "name": "stderr",
     "output_type": "stream",
     "text": [
      "Scraping features:  46%|▍| 251/551 [1:03:32<59:16, 11.85s/it, Scraped features f"
     ]
    },
    {
     "name": "stdout",
     "output_type": "stream",
     "text": [
      "starting scraping for:Yumee Special Nasi Bakar  Penyetan\n"
     ]
    },
    {
     "name": "stderr",
     "output_type": "stream",
     "text": [
      "Scraping features:  46%|▍| 252/551 [1:03:45<1:00:32, 12.15s/it, Scraped features"
     ]
    },
    {
     "name": "stdout",
     "output_type": "stream",
     "text": [
      "starting scraping for:Taman Kuliner Karangmalang UNY\n"
     ]
    },
    {
     "name": "stderr",
     "output_type": "stream",
     "text": [
      "Scraping features:  46%|▍| 253/551 [1:03:56<59:27, 11.97s/it, Scraped features f"
     ]
    },
    {
     "name": "stdout",
     "output_type": "stream",
     "text": [
      "starting scraping for:Susu Dedek UNY\n"
     ]
    },
    {
     "name": "stderr",
     "output_type": "stream",
     "text": [
      "Scraping features:  46%|▍| 254/551 [1:04:11<1:03:30, 12.83s/it, Scraped features"
     ]
    },
    {
     "name": "stdout",
     "output_type": "stream",
     "text": [
      "starting scraping for:Griya Dahar  Sambal dwa\n"
     ]
    },
    {
     "name": "stderr",
     "output_type": "stream",
     "text": [
      "Scraping features:  46%|▍| 255/551 [1:04:23<1:02:20, 12.64s/it, Scraped features"
     ]
    },
    {
     "name": "stdout",
     "output_type": "stream",
     "text": [
      "starting scraping for:Kebab House UNY\n"
     ]
    },
    {
     "name": "stderr",
     "output_type": "stream",
     "text": [
      "Scraping features:  46%|▍| 256/551 [1:04:37<1:03:51, 12.99s/it, Scraped features"
     ]
    },
    {
     "name": "stdout",
     "output_type": "stream",
     "text": [
      "starting scraping for:Warung Makan Dinsafi\n"
     ]
    },
    {
     "name": "stderr",
     "output_type": "stream",
     "text": [
      "Scraping features:  47%|▍| 257/551 [1:04:53<1:07:10, 13.71s/it, Scraped features"
     ]
    },
    {
     "name": "stdout",
     "output_type": "stream",
     "text": [
      "starting scraping for:Rujak Gendheng Plaza UNY Lt. 4\n"
     ]
    },
    {
     "name": "stderr",
     "output_type": "stream",
     "text": [
      "Scraping features:  47%|▍| 258/551 [1:05:05<1:05:13, 13.36s/it, Scraped features"
     ]
    },
    {
     "name": "stdout",
     "output_type": "stream",
     "text": [
      "starting scraping for:Warung Bu Ning\n"
     ]
    },
    {
     "name": "stderr",
     "output_type": "stream",
     "text": [
      "Scraping features:  47%|▍| 259/551 [1:05:38<1:33:05, 19.13s/it, Scraped features"
     ]
    },
    {
     "name": "stdout",
     "output_type": "stream",
     "text": [
      "starting scraping for:Ayam Geprek Dan Penyetan Huhah\n"
     ]
    },
    {
     "name": "stderr",
     "output_type": "stream",
     "text": [
      "Scraping features:  47%|▍| 260/551 [1:05:56<1:31:27, 18.86s/it, Scraped features"
     ]
    },
    {
     "name": "stdout",
     "output_type": "stream",
     "text": [
      "starting scraping for:Tokkebi Snacks UNY\n"
     ]
    },
    {
     "name": "stderr",
     "output_type": "stream",
     "text": [
      "Scraping features:  47%|▍| 261/551 [1:06:19<1:36:53, 20.05s/it, Scraped features"
     ]
    },
    {
     "name": "stdout",
     "output_type": "stream",
     "text": [
      "starting scraping for:Rumah Makan Padang SUMANDO\n"
     ]
    },
    {
     "name": "stderr",
     "output_type": "stream",
     "text": [
      "Scraping features:  48%|▍| 262/551 [1:06:32<1:26:23, 17.94s/it, Scraped features"
     ]
    },
    {
     "name": "stdout",
     "output_type": "stream",
     "text": [
      "starting scraping for:Preksu Ayam Geprek  Susu\n"
     ]
    },
    {
     "name": "stderr",
     "output_type": "stream",
     "text": [
      "Scraping features:  48%|▍| 263/551 [1:06:45<1:19:24, 16.54s/it, Scraped features"
     ]
    },
    {
     "name": "stdout",
     "output_type": "stream",
     "text": [
      "starting scraping for:Moow Ice Cream and Milk\n"
     ]
    },
    {
     "name": "stderr",
     "output_type": "stream",
     "text": [
      "Scraping features:  48%|▍| 264/551 [1:06:59<1:15:21, 15.75s/it, Scraped features"
     ]
    },
    {
     "name": "stdout",
     "output_type": "stream",
     "text": [
      "starting scraping for:Warung Sate Samirono UNY\n"
     ]
    },
    {
     "name": "stderr",
     "output_type": "stream",
     "text": [
      "Scraping features:  48%|▍| 265/551 [1:07:09<1:07:36, 14.18s/it, Scraped features"
     ]
    },
    {
     "name": "stdout",
     "output_type": "stream",
     "text": [
      "starting scraping for:warmindo maharasa 25\n"
     ]
    },
    {
     "name": "stderr",
     "output_type": "stream",
     "text": [
      "Scraping features:  48%|▍| 267/551 [1:07:26<50:03, 10.58s/it, Warung Makan Mbak "
     ]
    },
    {
     "name": "stdout",
     "output_type": "stream",
     "text": [
      "starting scraping for:Hikaru Dining Yogyakarta\n"
     ]
    },
    {
     "name": "stderr",
     "output_type": "stream",
     "text": [
      "Scraping features:  49%|▍| 268/551 [1:07:45<1:01:56, 13.13s/it, Scraped features"
     ]
    },
    {
     "name": "stdout",
     "output_type": "stream",
     "text": [
      "starting scraping for:Waroeng Spesial Sambal SS Samirono\n"
     ]
    },
    {
     "name": "stderr",
     "output_type": "stream",
     "text": [
      "Scraping features:  49%|▍| 269/551 [1:07:54<55:43, 11.86s/it, Scraped features f"
     ]
    },
    {
     "name": "stdout",
     "output_type": "stream",
     "text": [
      "starting scraping for:Angkringan Felix  Temon\n"
     ]
    },
    {
     "name": "stderr",
     "output_type": "stream",
     "text": [
      "Scraping features:  49%|▍| 270/551 [1:08:13<1:06:24, 14.18s/it, Scraped features"
     ]
    },
    {
     "name": "stdout",
     "output_type": "stream",
     "text": [
      "starting scraping for:Parkirku\n"
     ]
    },
    {
     "name": "stderr",
     "output_type": "stream",
     "text": [
      "Scraping features:  49%|▍| 271/551 [1:08:43<1:28:20, 18.93s/it, Scraped features"
     ]
    },
    {
     "name": "stdout",
     "output_type": "stream",
     "text": [
      "starting scraping for:WARUNG MAKAN DAPUR KITA\n"
     ]
    },
    {
     "name": "stderr",
     "output_type": "stream",
     "text": [
      "Scraping features:  49%|▍| 272/551 [1:09:13<1:43:22, 22.23s/it, Scraped features"
     ]
    },
    {
     "name": "stdout",
     "output_type": "stream",
     "text": [
      "starting scraping for:WM. Bu Susi 1\n"
     ]
    },
    {
     "name": "stderr",
     "output_type": "stream",
     "text": [
      "Scraping features:  50%|▍| 273/551 [1:09:28<1:33:02, 20.08s/it, Scraped features"
     ]
    },
    {
     "name": "stdout",
     "output_type": "stream",
     "text": [
      "starting scraping for:Warung Makan Tegar\n"
     ]
    },
    {
     "name": "stderr",
     "output_type": "stream",
     "text": [
      "Scraping features:  50%|▍| 274/551 [1:09:44<1:26:35, 18.76s/it, Scraped features"
     ]
    },
    {
     "name": "stdout",
     "output_type": "stream",
     "text": [
      "starting scraping for:Warung Fredi Parangtritis\n"
     ]
    },
    {
     "name": "stderr",
     "output_type": "stream",
     "text": [
      "Scraping features:  50%|▍| 275/551 [1:10:04<1:27:47, 19.08s/it, Scraped features"
     ]
    },
    {
     "name": "stdout",
     "output_type": "stream",
     "text": [
      "starting scraping for:Warung Ata\n"
     ]
    },
    {
     "name": "stderr",
     "output_type": "stream",
     "text": [
      "Scraping features:  50%|▌| 276/551 [1:10:18<1:20:12, 17.50s/it, Scraped features"
     ]
    },
    {
     "name": "stdout",
     "output_type": "stream",
     "text": [
      "starting scraping for:WARUNG MAKAN JIFA SPESIAL AYAM GEPREK\n"
     ]
    },
    {
     "name": "stderr",
     "output_type": "stream",
     "text": [
      "Scraping features:  50%|▌| 277/551 [1:10:29<1:11:02, 15.56s/it, Scraped features"
     ]
    },
    {
     "name": "stdout",
     "output_type": "stream",
     "text": [
      "starting scraping for:Warung Makan IRSYAD\n"
     ]
    },
    {
     "name": "stderr",
     "output_type": "stream",
     "text": [
      "Scraping features:  50%|▌| 278/551 [1:10:52<1:20:45, 17.75s/it, Scraped features"
     ]
    },
    {
     "name": "stdout",
     "output_type": "stream",
     "text": [
      "starting scraping for:Warung Makan Chinka\n"
     ]
    },
    {
     "name": "stderr",
     "output_type": "stream",
     "text": [
      "Scraping features:  51%|▌| 279/551 [1:11:08<1:18:21, 17.28s/it, Scraped features"
     ]
    },
    {
     "name": "stdout",
     "output_type": "stream",
     "text": [
      "starting scraping for:Warung Makan Dadang\n"
     ]
    },
    {
     "name": "stderr",
     "output_type": "stream",
     "text": [
      "Scraping features:  51%|▌| 280/551 [1:11:29<1:23:43, 18.54s/it, Scraped features"
     ]
    },
    {
     "name": "stdout",
     "output_type": "stream",
     "text": [
      "starting scraping for:Rumah Makan Dodik\n"
     ]
    },
    {
     "name": "stderr",
     "output_type": "stream",
     "text": [
      "Scraping features:  51%|▌| 281/551 [1:11:46<1:21:30, 18.11s/it, Scraped features"
     ]
    },
    {
     "name": "stdout",
     "output_type": "stream",
     "text": [
      "starting scraping for:Rumah Makan Bu Nur Parangtritis\n"
     ]
    },
    {
     "name": "stderr",
     "output_type": "stream",
     "text": [
      "Scraping features:  51%|▌| 282/551 [1:11:58<1:12:47, 16.24s/it, Scraped features"
     ]
    },
    {
     "name": "stdout",
     "output_type": "stream",
     "text": [
      "starting scraping for:Rumah Makan Lestari\n"
     ]
    },
    {
     "name": "stderr",
     "output_type": "stream",
     "text": [
      "Scraping features:  51%|▌| 283/551 [1:12:10<1:06:33, 14.90s/it, Scraped features"
     ]
    },
    {
     "name": "stdout",
     "output_type": "stream",
     "text": [
      "starting scraping for:rumah Makan Rianto\n"
     ]
    },
    {
     "name": "stderr",
     "output_type": "stream",
     "text": [
      "Scraping features:  52%|▌| 284/551 [1:12:29<1:11:41, 16.11s/it, Scraped features"
     ]
    },
    {
     "name": "stdout",
     "output_type": "stream",
     "text": [
      "starting scraping for:Warung Makan Donny\n"
     ]
    },
    {
     "name": "stderr",
     "output_type": "stream",
     "text": [
      "Scraping features:  52%|▌| 285/551 [1:12:51<1:18:47, 17.77s/it, Scraped features"
     ]
    },
    {
     "name": "stdout",
     "output_type": "stream",
     "text": [
      "starting scraping for:Warung Makan Camelia\n"
     ]
    },
    {
     "name": "stderr",
     "output_type": "stream",
     "text": [
      "Scraping features:  52%|▌| 286/551 [1:13:11<1:21:43, 18.51s/it, Scraped features"
     ]
    },
    {
     "name": "stdout",
     "output_type": "stream",
     "text": [
      "starting scraping for:Warung Makan Bu Slamet\n"
     ]
    },
    {
     "name": "stderr",
     "output_type": "stream",
     "text": [
      "Scraping features:  52%|▌| 287/551 [1:13:43<1:39:09, 22.54s/it, Scraped features"
     ]
    },
    {
     "name": "stdout",
     "output_type": "stream",
     "text": [
      "starting scraping for:Penginapan  Rumah Makan Seafood Mitra\n"
     ]
    },
    {
     "name": "stderr",
     "output_type": "stream",
     "text": [
      "Scraping features:  52%|▌| 288/551 [1:13:54<1:23:20, 19.02s/it, Scraped features"
     ]
    },
    {
     "name": "stdout",
     "output_type": "stream",
     "text": [
      "starting scraping for:Warung MINOR\n"
     ]
    },
    {
     "name": "stderr",
     "output_type": "stream",
     "text": [
      "Scraping features:  52%|▌| 289/551 [1:14:15<1:26:16, 19.76s/it, Scraped features"
     ]
    },
    {
     "name": "stdout",
     "output_type": "stream",
     "text": [
      "starting scraping for:Gudeg Mbak Anik\n"
     ]
    },
    {
     "name": "stderr",
     "output_type": "stream",
     "text": [
      "Scraping features:  53%|▌| 290/551 [1:14:28<1:17:30, 17.82s/it, Scraped features"
     ]
    },
    {
     "name": "stdout",
     "output_type": "stream",
     "text": [
      "starting scraping for:Ramayana Garden Resto\n"
     ]
    },
    {
     "name": "stderr",
     "output_type": "stream",
     "text": [
      "Scraping features:  53%|▌| 291/551 [1:14:40<1:09:15, 15.98s/it, Scraped features"
     ]
    },
    {
     "name": "stdout",
     "output_type": "stream",
     "text": [
      "starting scraping for:SATE AYAM MADURA CAK ARIFIN PRAMBANAN\n"
     ]
    },
    {
     "name": "stderr",
     "output_type": "stream",
     "text": [
      "Scraping features:  53%|▌| 292/551 [1:14:51<1:02:59, 14.59s/it, Scraped features"
     ]
    },
    {
     "name": "stdout",
     "output_type": "stream",
     "text": [
      "starting scraping for:Warung Makan Putri\n"
     ]
    },
    {
     "name": "stderr",
     "output_type": "stream",
     "text": [
      "Scraping features:  53%|▌| 293/551 [1:15:06<1:02:55, 14.63s/it, Scraped features"
     ]
    },
    {
     "name": "stdout",
     "output_type": "stream",
     "text": [
      "starting scraping for:Kali Opak Resto\n"
     ]
    },
    {
     "name": "stderr",
     "output_type": "stream",
     "text": [
      "Scraping features:  53%|▌| 294/551 [1:15:15<55:23, 12.93s/it, Scraped features f"
     ]
    },
    {
     "name": "stdout",
     "output_type": "stream",
     "text": [
      "starting scraping for:Warung Makan Safitri\n"
     ]
    },
    {
     "name": "stderr",
     "output_type": "stream",
     "text": [
      "\r",
      "Scraping features:  54%|▌| 295/551 [1:15:42<1:13:33, 17.24s/it, Scraped features"
     ]
    },
    {
     "name": "stdout",
     "output_type": "stream",
     "text": [
      "starting scraping for:Rumah Makan Pagaruyuang\n"
     ]
    },
    {
     "name": "stderr",
     "output_type": "stream",
     "text": [
      "Scraping features:  54%|▌| 296/551 [1:16:20<1:39:39, 23.45s/it, Scraped features"
     ]
    },
    {
     "name": "stdout",
     "output_type": "stream",
     "text": [
      "starting scraping for:Sate Kambing Muda Ki Doel Prambanan\n"
     ]
    },
    {
     "name": "stderr",
     "output_type": "stream",
     "text": [
      "Scraping features:  54%|▌| 297/551 [1:16:30<1:22:01, 19.38s/it, Scraped features"
     ]
    },
    {
     "name": "stdout",
     "output_type": "stream",
     "text": [
      "starting scraping for:Warung Soto Bu Yani\n"
     ]
    },
    {
     "name": "stderr",
     "output_type": "stream",
     "text": [
      "Scraping features:  54%|▌| 298/551 [1:16:44<1:14:35, 17.69s/it, Scraped features"
     ]
    },
    {
     "name": "stdout",
     "output_type": "stream",
     "text": [
      "starting scraping for:Warung Makan\n"
     ]
    },
    {
     "name": "stderr",
     "output_type": "stream",
     "text": [
      "Scraping features:  54%|▌| 299/551 [1:16:59<1:10:30, 16.79s/it, Scraped features"
     ]
    },
    {
     "name": "stdout",
     "output_type": "stream",
     "text": [
      "starting scraping for:Lesehan abbasy prambanan\n"
     ]
    },
    {
     "name": "stderr",
     "output_type": "stream",
     "text": [
      "Scraping features:  54%|▌| 300/551 [1:17:10<1:03:30, 15.18s/it, Scraped features"
     ]
    },
    {
     "name": "stdout",
     "output_type": "stream",
     "text": [
      "starting scraping for:Rujak Lotis\n"
     ]
    },
    {
     "name": "stderr",
     "output_type": "stream",
     "text": [
      "Scraping features:  55%|▌| 301/551 [1:17:26<1:03:56, 15.35s/it, Scraped features"
     ]
    },
    {
     "name": "stdout",
     "output_type": "stream",
     "text": [
      "starting scraping for:Rumah Makan Padang Prambanan\n"
     ]
    },
    {
     "name": "stderr",
     "output_type": "stream",
     "text": [
      "Scraping features:  55%|▌| 302/551 [1:17:46<1:10:08, 16.90s/it, Scraped features"
     ]
    },
    {
     "name": "stdout",
     "output_type": "stream",
     "text": [
      "starting scraping for:Warung Masakan Padang Pak Mel\n"
     ]
    },
    {
     "name": "stderr",
     "output_type": "stream",
     "text": [
      "Scraping features:  55%|▌| 303/551 [1:17:57<1:02:26, 15.11s/it, Scraped features"
     ]
    },
    {
     "name": "stdout",
     "output_type": "stream",
     "text": [
      "starting scraping for:Warung Sate  Tongseng Kambing Mbah Toeloes\n"
     ]
    },
    {
     "name": "stderr",
     "output_type": "stream",
     "text": [
      "Scraping features:  55%|▌| 304/551 [1:18:07<55:38, 13.52s/it, Scraped features f"
     ]
    },
    {
     "name": "stdout",
     "output_type": "stream",
     "text": [
      "starting scraping for:Mie Ayam Sapi Legenda Cabang Prambanan\n"
     ]
    },
    {
     "name": "stderr",
     "output_type": "stream",
     "text": [
      "Scraping features:  55%|▌| 305/551 [1:18:19<53:35, 13.07s/it, Scraped features f"
     ]
    },
    {
     "name": "stdout",
     "output_type": "stream",
     "text": [
      "starting scraping for:Star steak Prambanan\n"
     ]
    },
    {
     "name": "stderr",
     "output_type": "stream",
     "text": [
      "Scraping features:  56%|▌| 306/551 [1:18:30<50:13, 12.30s/it, Scraped features f"
     ]
    },
    {
     "name": "stdout",
     "output_type": "stream",
     "text": [
      "starting scraping for:Warung Makan Bu Prapti\n"
     ]
    },
    {
     "name": "stderr",
     "output_type": "stream",
     "text": [
      "Scraping features:  56%|▌| 307/551 [1:18:48<56:51, 13.98s/it, Scraped features f"
     ]
    },
    {
     "name": "stdout",
     "output_type": "stream",
     "text": [
      "starting scraping for:Lesehan Bu Surami Prambanan\n"
     ]
    },
    {
     "name": "stderr",
     "output_type": "stream",
     "text": [
      "Scraping features:  56%|▌| 308/551 [1:19:11<1:08:12, 16.84s/it, Scraped features"
     ]
    },
    {
     "name": "stdout",
     "output_type": "stream",
     "text": [
      "starting scraping for:Q  Q Karaoke\n"
     ]
    },
    {
     "name": "stderr",
     "output_type": "stream",
     "text": [
      "\r",
      "Scraping features:  56%|▌| 309/551 [1:19:45<1:28:56, 22.05s/it, Scraped features"
     ]
    },
    {
     "name": "stdout",
     "output_type": "stream",
     "text": [
      "starting scraping for:Tursidi al Dengoki Home Base\n"
     ]
    },
    {
     "name": "stderr",
     "output_type": "stream",
     "text": [
      "Scraping features:  56%|▌| 310/551 [1:20:18<1:41:06, 25.17s/it, Scraped features"
     ]
    },
    {
     "name": "stdout",
     "output_type": "stream",
     "text": [
      "starting scraping for:UD  Pak Kemis  M. I. R. I. B kayu Bekas Jati Dan Kalimantan\n"
     ]
    },
    {
     "name": "stderr",
     "output_type": "stream",
     "text": [
      "Scraping features:  56%|▌| 311/551 [1:20:32<1:27:06, 21.78s/it, Scraped features"
     ]
    },
    {
     "name": "stdout",
     "output_type": "stream",
     "text": [
      "starting scraping for:FFYK Garage  RANDUGUNTING \n"
     ]
    },
    {
     "name": "stderr",
     "output_type": "stream",
     "text": [
      "Scraping features:  57%|▌| 312/551 [1:20:47<1:18:46, 19.78s/it, Scraped features"
     ]
    },
    {
     "name": "stdout",
     "output_type": "stream",
     "text": [
      "starting scraping for:RUMAH ANNISA\n"
     ]
    },
    {
     "name": "stderr",
     "output_type": "stream",
     "text": [
      "Scraping features:  57%|▌| 313/551 [1:21:11<1:23:44, 21.11s/it, Scraped features"
     ]
    },
    {
     "name": "stdout",
     "output_type": "stream",
     "text": [
      "starting scraping for:Home lutfi\n"
     ]
    },
    {
     "name": "stderr",
     "output_type": "stream",
     "text": [
      "\r",
      "Scraping features:  57%|▌| 314/551 [1:21:39<1:31:23, 23.14s/it, Scraped features"
     ]
    },
    {
     "name": "stdout",
     "output_type": "stream",
     "text": [
      "starting scraping for:Mie Ayam  Bakso BU SABAR\n"
     ]
    },
    {
     "name": "stderr",
     "output_type": "stream",
     "text": [
      "Scraping features:  57%|▌| 315/551 [1:21:51<1:18:41, 20.01s/it, Scraped features"
     ]
    },
    {
     "name": "stdout",
     "output_type": "stream",
     "text": [
      "starting scraping for:Riefky Prasetya\n"
     ]
    },
    {
     "name": "stderr",
     "output_type": "stream",
     "text": [
      "\r",
      "Scraping features:  57%|▌| 316/551 [1:22:18<1:25:28, 21.83s/it, Scraped features"
     ]
    },
    {
     "name": "stdout",
     "output_type": "stream",
     "text": [
      "starting scraping for:Joglo Kapal\n"
     ]
    },
    {
     "name": "stderr",
     "output_type": "stream",
     "text": [
      "Scraping features:  58%|▌| 317/551 [1:22:30<1:14:21, 19.06s/it, Scraped features"
     ]
    },
    {
     "name": "stdout",
     "output_type": "stream",
     "text": [
      "starting scraping for:Coconut shake\n"
     ]
    },
    {
     "name": "stderr",
     "output_type": "stream",
     "text": [
      "Scraping features:  58%|▌| 318/551 [1:22:46<1:09:48, 17.98s/it, Scraped features"
     ]
    },
    {
     "name": "stdout",
     "output_type": "stream",
     "text": [
      "starting scraping for:thaitea prambanan\n"
     ]
    },
    {
     "name": "stderr",
     "output_type": "stream",
     "text": [
      "Scraping features:  58%|▌| 319/551 [1:23:12<1:19:27, 20.55s/it, Scraped features"
     ]
    },
    {
     "name": "stdout",
     "output_type": "stream",
     "text": [
      "starting scraping for:omah salon\n"
     ]
    },
    {
     "name": "stderr",
     "output_type": "stream",
     "text": [
      "Scraping features:  58%|▌| 320/551 [1:23:28<1:13:10, 19.01s/it, Scraped features"
     ]
    },
    {
     "name": "stdout",
     "output_type": "stream",
     "text": [
      "starting scraping for:The djamoee\n"
     ]
    },
    {
     "name": "stderr",
     "output_type": "stream",
     "text": [
      "\r",
      "Scraping features:  58%|▌| 321/551 [1:23:53<1:20:46, 21.07s/it, Scraped features"
     ]
    },
    {
     "name": "stdout",
     "output_type": "stream",
     "text": [
      "starting scraping for:Hattala By EC\n"
     ]
    },
    {
     "name": "stderr",
     "output_type": "stream",
     "text": [
      "Scraping features:  58%|▌| 322/551 [1:24:07<1:11:26, 18.72s/it, Scraped features"
     ]
    },
    {
     "name": "stdout",
     "output_type": "stream",
     "text": [
      "starting scraping for:Tahu walik\n"
     ]
    },
    {
     "name": "stderr",
     "output_type": "stream",
     "text": [
      "Scraping features:  59%|▌| 323/551 [1:24:34<1:20:31, 21.19s/it, Scraped features"
     ]
    },
    {
     "name": "stdout",
     "output_type": "stream",
     "text": [
      "starting scraping for:Mamen Barbershop\n"
     ]
    },
    {
     "name": "stderr",
     "output_type": "stream",
     "text": [
      "Scraping features:  59%|▌| 324/551 [1:25:00<1:26:32, 22.87s/it, Scraped features"
     ]
    },
    {
     "name": "stdout",
     "output_type": "stream",
     "text": [
      "starting scraping for:Erlangga Bar-Ber Shop\n"
     ]
    },
    {
     "name": "stderr",
     "output_type": "stream",
     "text": [
      "Scraping features:  59%|▌| 325/551 [1:25:16<1:17:28, 20.57s/it, Scraped features"
     ]
    },
    {
     "name": "stdout",
     "output_type": "stream",
     "text": [
      "starting scraping for:Kelapa Muda Uzan\n"
     ]
    },
    {
     "name": "stderr",
     "output_type": "stream",
     "text": [
      "Scraping features:  59%|▌| 326/551 [1:25:54<1:37:39, 26.04s/it, Scraped features"
     ]
    },
    {
     "name": "stdout",
     "output_type": "stream",
     "text": [
      "starting scraping for:Kolam Ikan\n"
     ]
    },
    {
     "name": "stderr",
     "output_type": "stream",
     "text": [
      "Scraping features:  59%|▌| 327/551 [1:26:06<1:21:08, 21.73s/it, Scraped features"
     ]
    },
    {
     "name": "stdout",
     "output_type": "stream",
     "text": [
      "starting scraping for:Bilbil Juice Aneka jus buah\n"
     ]
    },
    {
     "name": "stderr",
     "output_type": "stream",
     "text": [
      "Scraping features:  60%|▌| 328/551 [1:26:20<1:12:22, 19.47s/it, Scraped features"
     ]
    },
    {
     "name": "stdout",
     "output_type": "stream",
     "text": [
      "starting scraping for:ESENJA Parangtritis\n"
     ]
    },
    {
     "name": "stderr",
     "output_type": "stream",
     "text": [
      "Scraping features:  60%|▌| 329/551 [1:26:46<1:18:47, 21.30s/it, Scraped features"
     ]
    },
    {
     "name": "stdout",
     "output_type": "stream",
     "text": [
      "starting scraping for:Dfun caffe bar karaoke\n"
     ]
    },
    {
     "name": "stderr",
     "output_type": "stream",
     "text": [
      "Scraping features:  60%|▌| 330/551 [1:26:59<1:09:43, 18.93s/it, Scraped features"
     ]
    },
    {
     "name": "stdout",
     "output_type": "stream",
     "text": [
      "starting scraping for:Karaoke starla\n"
     ]
    },
    {
     "name": "stderr",
     "output_type": "stream",
     "text": [
      "Scraping features:  60%|▌| 331/551 [1:27:22<1:14:07, 20.22s/it, Scraped features"
     ]
    },
    {
     "name": "stdout",
     "output_type": "stream",
     "text": [
      "starting scraping for:Queen Karaoke\n"
     ]
    },
    {
     "name": "stderr",
     "output_type": "stream",
     "text": [
      "Scraping features:  60%|▌| 332/551 [1:27:50<1:22:05, 22.49s/it, Scraped features"
     ]
    },
    {
     "name": "stdout",
     "output_type": "stream",
     "text": [
      "starting scraping for:Senja Karaoke\n"
     ]
    },
    {
     "name": "stderr",
     "output_type": "stream",
     "text": [
      "Scraping features:  60%|▌| 333/551 [1:28:06<1:14:10, 20.41s/it, Scraped features"
     ]
    },
    {
     "name": "stdout",
     "output_type": "stream",
     "text": [
      "starting scraping for:Ceria karaoke family\n"
     ]
    },
    {
     "name": "stderr",
     "output_type": "stream",
     "text": [
      "Scraping features:  61%|▌| 334/551 [1:28:19<1:05:39, 18.15s/it, Scraped features"
     ]
    },
    {
     "name": "stdout",
     "output_type": "stream",
     "text": [
      "starting scraping for:Senja karaoke 2\n"
     ]
    },
    {
     "name": "stderr",
     "output_type": "stream",
     "text": [
      "Scraping features:  61%|▌| 335/551 [1:28:43<1:11:48, 19.95s/it, Scraped features"
     ]
    },
    {
     "name": "stdout",
     "output_type": "stream",
     "text": [
      "starting scraping for:Bunga Pesisir Karaoke\n"
     ]
    },
    {
     "name": "stderr",
     "output_type": "stream",
     "text": [
      "Scraping features:  61%|▌| 336/551 [1:29:08<1:17:29, 21.63s/it, Scraped features"
     ]
    },
    {
     "name": "stdout",
     "output_type": "stream",
     "text": [
      "starting scraping for:V.I.P KARAOKE\n"
     ]
    },
    {
     "name": "stderr",
     "output_type": "stream",
     "text": [
      "Scraping features:  61%|▌| 337/551 [1:29:22<1:08:59, 19.34s/it, Scraped features"
     ]
    },
    {
     "name": "stdout",
     "output_type": "stream",
     "text": [
      "starting scraping for:NEW ARTHA\n"
     ]
    },
    {
     "name": "stderr",
     "output_type": "stream",
     "text": [
      "Scraping features:  61%|▌| 338/551 [1:29:42<1:08:25, 19.27s/it, Scraped features"
     ]
    },
    {
     "name": "stdout",
     "output_type": "stream",
     "text": [
      "starting scraping for:Nawang Wulan Karaoke  Salon\n"
     ]
    },
    {
     "name": "stderr",
     "output_type": "stream",
     "text": [
      "Scraping features:  62%|▌| 339/551 [1:29:52<58:19, 16.51s/it, Scraped features f"
     ]
    },
    {
     "name": "stdout",
     "output_type": "stream",
     "text": [
      "starting scraping for:panda familia karaoke\n"
     ]
    },
    {
     "name": "stderr",
     "output_type": "stream",
     "text": [
      "Scraping features:  62%|▌| 340/551 [1:30:01<50:18, 14.31s/it, Scraped features f"
     ]
    },
    {
     "name": "stdout",
     "output_type": "stream",
     "text": [
      "starting scraping for:Bukit PP\n"
     ]
    },
    {
     "name": "stderr",
     "output_type": "stream",
     "text": [
      "Scraping features:  62%|▌| 341/551 [1:30:16<51:08, 14.61s/it, Scraped features f"
     ]
    },
    {
     "name": "stdout",
     "output_type": "stream",
     "text": [
      "starting scraping for:BAJUL KARAOKE\n"
     ]
    },
    {
     "name": "stderr",
     "output_type": "stream",
     "text": [
      "Scraping features:  62%|▌| 342/551 [1:30:28<48:04, 13.80s/it, Scraped features f"
     ]
    },
    {
     "name": "stdout",
     "output_type": "stream",
     "text": [
      "starting scraping for:Gubuk Dowo GWK\n"
     ]
    },
    {
     "name": "stderr",
     "output_type": "stream",
     "text": [
      "Scraping features:  62%|▌| 343/551 [1:30:42<48:05, 13.87s/it, Scraped features f"
     ]
    },
    {
     "name": "stdout",
     "output_type": "stream",
     "text": [
      "starting scraping for:Fajri Laundry\n"
     ]
    },
    {
     "name": "stderr",
     "output_type": "stream",
     "text": [
      "Scraping features:  62%|▌| 344/551 [1:31:15<1:07:23, 19.53s/it, Scraped features"
     ]
    },
    {
     "name": "stdout",
     "output_type": "stream",
     "text": [
      "starting scraping for:Purnama Karaoke\n"
     ]
    },
    {
     "name": "stderr",
     "output_type": "stream",
     "text": [
      "Scraping features:  63%|▋| 345/551 [1:31:37<1:09:53, 20.36s/it, Scraped features"
     ]
    },
    {
     "name": "stdout",
     "output_type": "stream",
     "text": [
      "starting scraping for:Rilaxs karoke\n"
     ]
    },
    {
     "name": "stderr",
     "output_type": "stream",
     "text": [
      "Scraping features:  63%|▋| 346/551 [1:32:03<1:15:14, 22.02s/it, Scraped features"
     ]
    },
    {
     "name": "stdout",
     "output_type": "stream",
     "text": [
      "starting scraping for:Aldilakss\n"
     ]
    },
    {
     "name": "stderr",
     "output_type": "stream",
     "text": [
      "Scraping features:  63%|▋| 347/551 [1:32:32<1:22:32, 24.28s/it, Scraped features"
     ]
    },
    {
     "name": "stdout",
     "output_type": "stream",
     "text": [
      "starting scraping for:New Pesona Karaoke\n"
     ]
    },
    {
     "name": "stderr",
     "output_type": "stream",
     "text": [
      "Scraping features:  63%|▋| 348/551 [1:32:56<1:20:54, 23.91s/it, Scraped features"
     ]
    },
    {
     "name": "stdout",
     "output_type": "stream",
     "text": [
      "starting scraping for:Colombo Pool Terrace\n"
     ]
    },
    {
     "name": "stderr",
     "output_type": "stream",
     "text": [
      "Scraping features:  63%|▋| 349/551 [1:33:07<1:08:24, 20.32s/it, Scraped features"
     ]
    },
    {
     "name": "stdout",
     "output_type": "stream",
     "text": [
      "starting scraping for:LATUSHA\n"
     ]
    },
    {
     "name": "stderr",
     "output_type": "stream",
     "text": [
      "Scraping features:  64%|▋| 350/551 [1:33:22<1:01:45, 18.43s/it, Scraped features"
     ]
    },
    {
     "name": "stdout",
     "output_type": "stream",
     "text": [
      "starting scraping for:Boba Time Karang Malang  UNY\n"
     ]
    },
    {
     "name": "stderr",
     "output_type": "stream",
     "text": [
      "Scraping features:  64%|▋| 351/551 [1:33:37<58:49, 17.65s/it, Scraped features f"
     ]
    },
    {
     "name": "stdout",
     "output_type": "stream",
     "text": [
      "starting scraping for:What The Deck\n"
     ]
    },
    {
     "name": "stderr",
     "output_type": "stream",
     "text": [
      "Scraping features:  64%|▋| 352/551 [1:33:46<49:50, 15.03s/it, Scraped features f"
     ]
    },
    {
     "name": "stdout",
     "output_type": "stream",
     "text": [
      "starting scraping for:Depan Rumah streetbar\n"
     ]
    },
    {
     "name": "stderr",
     "output_type": "stream",
     "text": [
      "Scraping features:  64%|▋| 353/551 [1:34:01<49:47, 15.09s/it, Scraped features f"
     ]
    },
    {
     "name": "stdout",
     "output_type": "stream",
     "text": [
      "starting scraping for:Mabes Sorpokat\n"
     ]
    },
    {
     "name": "stderr",
     "output_type": "stream",
     "text": [
      "Scraping features:  64%|▋| 354/551 [1:34:15<47:47, 14.56s/it, Scraped features f"
     ]
    },
    {
     "name": "stdout",
     "output_type": "stream",
     "text": [
      "starting scraping for:Ramtos Bar  Grill\n"
     ]
    },
    {
     "name": "stderr",
     "output_type": "stream",
     "text": [
      "Scraping features:  64%|▋| 355/551 [1:34:28<45:54, 14.06s/it, Scraped features f"
     ]
    },
    {
     "name": "stdout",
     "output_type": "stream",
     "text": [
      "starting scraping for:MABES SUKRO\n"
     ]
    },
    {
     "name": "stderr",
     "output_type": "stream",
     "text": [
      "Scraping features:  65%|▋| 356/551 [1:34:42<45:52, 14.11s/it, Scraped features f"
     ]
    },
    {
     "name": "stdout",
     "output_type": "stream",
     "text": [
      "starting scraping for:Warmindo Doa Abah\n"
     ]
    },
    {
     "name": "stderr",
     "output_type": "stream",
     "text": [
      "Scraping features:  65%|▋| 357/551 [1:35:11<59:50, 18.51s/it, Scraped features f"
     ]
    },
    {
     "name": "stdout",
     "output_type": "stream",
     "text": [
      "starting scraping for:Chandri Bar\n"
     ]
    },
    {
     "name": "stderr",
     "output_type": "stream",
     "text": [
      "Scraping features:  65%|▋| 358/551 [1:35:24<54:23, 16.91s/it, Scraped features f"
     ]
    },
    {
     "name": "stdout",
     "output_type": "stream",
     "text": [
      "starting scraping for:Platinum Kitchen Bar  Lounge\n"
     ]
    },
    {
     "name": "stderr",
     "output_type": "stream",
     "text": [
      "Scraping features:  65%|▋| 359/551 [1:35:52<1:05:06, 20.35s/it, Scraped features"
     ]
    },
    {
     "name": "stdout",
     "output_type": "stream",
     "text": [
      "starting scraping for:Juseꦗꦱ\n"
     ]
    },
    {
     "name": "stderr",
     "output_type": "stream",
     "text": [
      "\r",
      "Scraping features:  65%|▋| 360/551 [1:36:19<1:10:31, 22.16s/it, Scraped features"
     ]
    },
    {
     "name": "stdout",
     "output_type": "stream",
     "text": [
      "starting scraping for:808 Bar and Lounge\n"
     ]
    },
    {
     "name": "stderr",
     "output_type": "stream",
     "text": [
      "Scraping features:  66%|▋| 361/551 [1:36:40<1:09:32, 21.96s/it, Scraped features"
     ]
    },
    {
     "name": "stdout",
     "output_type": "stream",
     "text": [
      "starting scraping for:Barley and Barrel\n"
     ]
    },
    {
     "name": "stderr",
     "output_type": "stream",
     "text": [
      "Scraping features:  66%|▋| 362/551 [1:36:55<1:02:01, 19.69s/it, Scraped features"
     ]
    },
    {
     "name": "stdout",
     "output_type": "stream",
     "text": [
      "starting scraping for:Basecamp PLT  HAI YK\n"
     ]
    },
    {
     "name": "stderr",
     "output_type": "stream",
     "text": [
      "Scraping features:  66%|▋| 363/551 [1:37:07<55:17, 17.65s/it, Scraped features f"
     ]
    },
    {
     "name": "stdout",
     "output_type": "stream",
     "text": [
      "starting scraping for:Clueless Boba\n"
     ]
    },
    {
     "name": "stderr",
     "output_type": "stream",
     "text": [
      "Scraping features:  66%|▋| 364/551 [1:37:23<53:17, 17.10s/it, Scraped features f"
     ]
    },
    {
     "name": "stdout",
     "output_type": "stream",
     "text": [
      "starting scraping for:House Of Camel\n"
     ]
    },
    {
     "name": "stderr",
     "output_type": "stream",
     "text": [
      "Scraping features:  66%|▋| 365/551 [1:37:36<48:52, 15.77s/it, Scraped features f"
     ]
    },
    {
     "name": "stdout",
     "output_type": "stream",
     "text": [
      "starting scraping for:Mucho Cafe  Bar\n"
     ]
    },
    {
     "name": "stderr",
     "output_type": "stream",
     "text": [
      "Scraping features:  66%|▋| 366/551 [1:37:53<49:50, 16.16s/it, Scraped features f"
     ]
    },
    {
     "name": "stdout",
     "output_type": "stream",
     "text": [
      "starting scraping for:Bar\n"
     ]
    },
    {
     "name": "stderr",
     "output_type": "stream",
     "text": [
      "Scraping features:  67%|▋| 367/551 [1:38:05<46:05, 15.03s/it, Scraped features f"
     ]
    },
    {
     "name": "stdout",
     "output_type": "stream",
     "text": [
      "starting scraping for:Chadis Rooftop Bar\n"
     ]
    },
    {
     "name": "stderr",
     "output_type": "stream",
     "text": [
      "Scraping features:  67%|▋| 368/551 [1:38:19<44:33, 14.61s/it, Scraped features f"
     ]
    },
    {
     "name": "stdout",
     "output_type": "stream",
     "text": [
      "starting scraping for:Jspeedgarage\n"
     ]
    },
    {
     "name": "stderr",
     "output_type": "stream",
     "text": [
      "Scraping features:  67%|▋| 369/551 [1:38:44<53:49, 17.74s/it, Scraped features f"
     ]
    },
    {
     "name": "stdout",
     "output_type": "stream",
     "text": [
      "starting scraping for:Eboni Bar And Lounge\n"
     ]
    },
    {
     "name": "stderr",
     "output_type": "stream",
     "text": [
      "Scraping features:  67%|▋| 370/551 [1:38:57<48:54, 16.21s/it, Scraped features f"
     ]
    },
    {
     "name": "stdout",
     "output_type": "stream",
     "text": [
      "starting scraping for:Omahe Romone Cilik\n"
     ]
    },
    {
     "name": "stderr",
     "output_type": "stream",
     "text": [
      "Scraping features:  67%|▋| 371/551 [1:39:20<55:24, 18.47s/it, Scraped features f"
     ]
    },
    {
     "name": "stdout",
     "output_type": "stream",
     "text": [
      "starting scraping for:limatigasatu\n"
     ]
    },
    {
     "name": "stderr",
     "output_type": "stream",
     "text": [
      "Scraping features:  68%|▋| 372/551 [1:39:50<1:04:47, 21.72s/it, Scraped features"
     ]
    },
    {
     "name": "stdout",
     "output_type": "stream",
     "text": [
      "starting scraping for:Kayumanis Pool Bar\n"
     ]
    },
    {
     "name": "stderr",
     "output_type": "stream",
     "text": [
      "Scraping features:  68%|▋| 373/551 [1:40:02<56:24, 19.02s/it, Scraped features f"
     ]
    },
    {
     "name": "stdout",
     "output_type": "stream",
     "text": [
      "starting scraping for:Vino bar\n"
     ]
    },
    {
     "name": "stderr",
     "output_type": "stream",
     "text": [
      "Scraping features:  68%|▋| 374/551 [1:40:24<58:47, 19.93s/it, Scraped features f"
     ]
    },
    {
     "name": "stdout",
     "output_type": "stream",
     "text": [
      "starting scraping for:PW3 Lounge\n"
     ]
    },
    {
     "name": "stderr",
     "output_type": "stream",
     "text": [
      "Scraping features:  68%|▋| 375/551 [1:40:37<51:29, 17.55s/it, Scraped features f"
     ]
    },
    {
     "name": "stdout",
     "output_type": "stream",
     "text": [
      "starting scraping for:Slide Bar\n"
     ]
    },
    {
     "name": "stderr",
     "output_type": "stream",
     "text": [
      "Scraping features:  68%|▋| 376/551 [1:40:49<46:57, 16.10s/it, Scraped features f"
     ]
    },
    {
     "name": "stdout",
     "output_type": "stream",
     "text": [
      "starting scraping for:Liquid Bar And Kitchen\n"
     ]
    },
    {
     "name": "stderr",
     "output_type": "stream",
     "text": [
      "Scraping features:  68%|▋| 377/551 [1:40:57<39:49, 13.73s/it, Scraped features f"
     ]
    },
    {
     "name": "stdout",
     "output_type": "stream",
     "text": [
      "starting scraping for:De Djogdja\n"
     ]
    },
    {
     "name": "stderr",
     "output_type": "stream",
     "text": [
      "Scraping features:  69%|▋| 378/551 [1:41:09<37:50, 13.12s/it, Scraped features f"
     ]
    },
    {
     "name": "stdout",
     "output_type": "stream",
     "text": [
      "starting scraping for:Sakapatat Social House  Resto\n"
     ]
    },
    {
     "name": "stderr",
     "output_type": "stream",
     "text": [
      "Scraping features:  69%|▋| 379/551 [1:41:18<33:50, 11.80s/it, Scraped features f"
     ]
    },
    {
     "name": "stdout",
     "output_type": "stream",
     "text": [
      "starting scraping for:ES KUWUT BOSS DUM\n"
     ]
    },
    {
     "name": "stderr",
     "output_type": "stream",
     "text": [
      "Scraping features:  69%|▋| 380/551 [1:41:43<45:21, 15.91s/it, Scraped features f"
     ]
    },
    {
     "name": "stdout",
     "output_type": "stream",
     "text": [
      "starting scraping for:Es Cokelat HARAPAN by.Dpeacesang\n"
     ]
    },
    {
     "name": "stderr",
     "output_type": "stream",
     "text": [
      "Scraping features:  69%|▋| 381/551 [1:42:08<52:40, 18.59s/it, Scraped features f"
     ]
    },
    {
     "name": "stdout",
     "output_type": "stream",
     "text": [
      "starting scraping for:OJ BeerDendang\n"
     ]
    },
    {
     "name": "stderr",
     "output_type": "stream",
     "text": [
      "Scraping features:  69%|▋| 382/551 [1:42:32<56:58, 20.23s/it, Scraped features f"
     ]
    },
    {
     "name": "stdout",
     "output_type": "stream",
     "text": [
      "starting scraping for:Olivine Cafe  Bar\n"
     ]
    },
    {
     "name": "stderr",
     "output_type": "stream",
     "text": [
      "Scraping features:  70%|▋| 383/551 [1:42:42<48:11, 17.21s/it, Scraped features f"
     ]
    },
    {
     "name": "stdout",
     "output_type": "stream",
     "text": [
      "starting scraping for:HSHSJAJAKAKAJA\n"
     ]
    },
    {
     "name": "stderr",
     "output_type": "stream",
     "text": [
      "Scraping features:  70%|▋| 384/551 [1:43:07<54:21, 19.53s/it, Scraped features f"
     ]
    },
    {
     "name": "stdout",
     "output_type": "stream",
     "text": [
      "starting scraping for:Rest Freeman\n"
     ]
    },
    {
     "name": "stderr",
     "output_type": "stream",
     "text": [
      "Scraping features:  70%|▋| 385/551 [1:43:23<50:50, 18.38s/it, Scraped features f"
     ]
    },
    {
     "name": "stdout",
     "output_type": "stream",
     "text": [
      "starting scraping for:Reborn Hangout Bar\n"
     ]
    },
    {
     "name": "stderr",
     "output_type": "stream",
     "text": [
      "Scraping features:  70%|▋| 386/551 [1:43:35<45:38, 16.60s/it, Scraped features f"
     ]
    },
    {
     "name": "stdout",
     "output_type": "stream",
     "text": [
      "starting scraping for:Es Jeruk Kasturi Jenna\n"
     ]
    },
    {
     "name": "stderr",
     "output_type": "stream",
     "text": [
      "Scraping features:  70%|▋| 387/551 [1:43:51<44:26, 16.26s/it, Scraped features f"
     ]
    },
    {
     "name": "stdout",
     "output_type": "stream",
     "text": [
      "starting scraping for:Goodwin Bar and Eatery\n"
     ]
    },
    {
     "name": "stderr",
     "output_type": "stream",
     "text": [
      "Scraping features:  70%|▋| 388/551 [1:44:01<38:46, 14.28s/it, Scraped features f"
     ]
    },
    {
     "name": "stdout",
     "output_type": "stream",
     "text": [
      "starting scraping for:Angkringan Mbah Oye\n"
     ]
    },
    {
     "name": "stderr",
     "output_type": "stream",
     "text": [
      "Scraping features:  71%|▋| 389/551 [1:44:13<36:56, 13.68s/it, Scraped features f"
     ]
    },
    {
     "name": "stdout",
     "output_type": "stream",
     "text": [
      "starting scraping for:Berkem concat\n"
     ]
    },
    {
     "name": "stderr",
     "output_type": "stream",
     "text": [
      "Scraping features:  71%|▋| 390/551 [1:44:28<37:42, 14.06s/it, Scraped features f"
     ]
    },
    {
     "name": "stdout",
     "output_type": "stream",
     "text": [
      "starting scraping for:Es Coklat Coa-coa.id\n"
     ]
    },
    {
     "name": "stderr",
     "output_type": "stream",
     "text": [
      "Scraping features:  71%|▋| 391/551 [1:44:52<45:54, 17.22s/it, Scraped features f"
     ]
    },
    {
     "name": "stdout",
     "output_type": "stream",
     "text": [
      "starting scraping for:Depan Rumah Street Bar\n"
     ]
    },
    {
     "name": "stderr",
     "output_type": "stream",
     "text": [
      "Scraping features:  71%|▋| 392/551 [1:45:06<42:37, 16.09s/it, Scraped features f"
     ]
    },
    {
     "name": "stdout",
     "output_type": "stream",
     "text": [
      "starting scraping for:Terrace Jogja\n"
     ]
    },
    {
     "name": "stderr",
     "output_type": "stream",
     "text": [
      "Scraping features:  71%|▋| 393/551 [1:45:15<36:51, 14.00s/it, Scraped features f"
     ]
    },
    {
     "name": "stdout",
     "output_type": "stream",
     "text": [
      "starting scraping for:ST. Bier Bar And Kitchen\n"
     ]
    },
    {
     "name": "stderr",
     "output_type": "stream",
     "text": [
      "Scraping features:  72%|▋| 394/551 [1:45:24<32:57, 12.60s/it, Scraped features f"
     ]
    },
    {
     "name": "stdout",
     "output_type": "stream",
     "text": [
      "starting scraping for:Arcadaz Speakeasy Lounge and Bar\n"
     ]
    },
    {
     "name": "stderr",
     "output_type": "stream",
     "text": [
      "Scraping features:  72%|▋| 395/551 [1:45:36<32:24, 12.46s/it, Scraped features f"
     ]
    },
    {
     "name": "stdout",
     "output_type": "stream",
     "text": [
      "starting scraping for:House of Kijoy\n"
     ]
    },
    {
     "name": "stderr",
     "output_type": "stream",
     "text": [
      "Scraping features:  72%|▋| 396/551 [1:45:49<32:25, 12.55s/it, Scraped features f"
     ]
    },
    {
     "name": "stdout",
     "output_type": "stream",
     "text": [
      "starting scraping for:Gattaro\n"
     ]
    },
    {
     "name": "stderr",
     "output_type": "stream",
     "text": [
      "Scraping features:  72%|▋| 397/551 [1:46:12<39:49, 15.52s/it, Scraped features f"
     ]
    },
    {
     "name": "stdout",
     "output_type": "stream",
     "text": [
      "starting scraping for:SPANDUK 7\n"
     ]
    },
    {
     "name": "stderr",
     "output_type": "stream",
     "text": [
      "Scraping features:  72%|▋| 398/551 [1:46:29<41:15, 16.18s/it, Scraped features f"
     ]
    },
    {
     "name": "stdout",
     "output_type": "stream",
     "text": [
      "starting scraping for:Concordia Lounge YIA - Yogyakarta International Airport\n"
     ]
    },
    {
     "name": "stderr",
     "output_type": "stream",
     "text": [
      "Scraping features:  72%|▋| 399/551 [1:46:47<42:21, 16.72s/it, Scraped features f"
     ]
    },
    {
     "name": "stdout",
     "output_type": "stream",
     "text": [
      "starting scraping for:Soto Lamongan\n"
     ]
    },
    {
     "name": "stderr",
     "output_type": "stream",
     "text": [
      "Scraping features:  73%|▋| 400/551 [1:47:00<38:58, 15.48s/it, Scraped features f"
     ]
    },
    {
     "name": "stdout",
     "output_type": "stream",
     "text": [
      "starting scraping for:Jus Emak ꦗꦱꦌꦩꦏ\n"
     ]
    },
    {
     "name": "stderr",
     "output_type": "stream",
     "text": [
      "Scraping features:  73%|▋| 401/551 [1:47:14<37:37, 15.05s/it, Scraped features f"
     ]
    },
    {
     "name": "stdout",
     "output_type": "stream",
     "text": [
      "starting scraping for:Nyem Nyem Temon\n"
     ]
    },
    {
     "name": "stderr",
     "output_type": "stream",
     "text": [
      "Scraping features:  73%|▋| 402/551 [1:47:26<34:44, 13.99s/it, Scraped features f"
     ]
    },
    {
     "name": "stdout",
     "output_type": "stream",
     "text": [
      "starting scraping for:PO\n"
     ]
    },
    {
     "name": "stderr",
     "output_type": "stream",
     "text": [
      "Scraping features:  73%|▋| 403/551 [1:47:54<45:35, 18.48s/it, Scraped features f"
     ]
    },
    {
     "name": "stdout",
     "output_type": "stream",
     "text": [
      "starting scraping for:Warung Mie ayam dan bakso Bu mur\n"
     ]
    },
    {
     "name": "stderr",
     "output_type": "stream",
     "text": [
      "Scraping features:  73%|▋| 404/551 [1:48:18<49:15, 20.10s/it, Scraped features f"
     ]
    },
    {
     "name": "stdout",
     "output_type": "stream",
     "text": [
      "starting scraping for:Bakul jamu Bu Siti\n"
     ]
    },
    {
     "name": "stderr",
     "output_type": "stream",
     "text": [
      "Scraping features:  74%|▋| 405/551 [1:48:38<48:53, 20.09s/it, Scraped features f"
     ]
    },
    {
     "name": "stdout",
     "output_type": "stream",
     "text": [
      "starting scraping for:For U  Minuman Kekinian Jogja\n"
     ]
    },
    {
     "name": "stderr",
     "output_type": "stream",
     "text": [
      "Scraping features:  74%|▋| 406/551 [1:48:52<43:45, 18.11s/it, Scraped features f"
     ]
    },
    {
     "name": "stdout",
     "output_type": "stream",
     "text": [
      "starting scraping for:PSHT PUSAT MADIUN\n"
     ]
    },
    {
     "name": "stderr",
     "output_type": "stream",
     "text": [
      "Scraping features:  74%|▋| 407/551 [1:49:22<52:09, 21.73s/it, Scraped features f"
     ]
    },
    {
     "name": "stdout",
     "output_type": "stream",
     "text": [
      "starting scraping for:Aguswijayatech\n"
     ]
    },
    {
     "name": "stderr",
     "output_type": "stream",
     "text": [
      "Scraping features:  74%|▋| 408/551 [1:49:35<45:37, 19.15s/it, Scraped features f"
     ]
    },
    {
     "name": "stdout",
     "output_type": "stream",
     "text": [
      "starting scraping for:Fans family\n"
     ]
    },
    {
     "name": "stderr",
     "output_type": "stream",
     "text": [
      "Scraping features:  74%|▋| 409/551 [1:50:03<51:41, 21.84s/it, Scraped features f"
     ]
    },
    {
     "name": "stdout",
     "output_type": "stream",
     "text": [
      "starting scraping for:Jhon Karaoke\n"
     ]
    },
    {
     "name": "stderr",
     "output_type": "stream",
     "text": [
      "Scraping features:  74%|▋| 410/551 [1:50:14<43:31, 18.52s/it, Scraped features f"
     ]
    },
    {
     "name": "stdout",
     "output_type": "stream",
     "text": [
      "starting scraping for:Widodo Kodoxs\n"
     ]
    },
    {
     "name": "stderr",
     "output_type": "stream",
     "text": [
      "Scraping features:  75%|▋| 411/551 [1:50:38<46:57, 20.13s/it, Scraped features f"
     ]
    },
    {
     "name": "stdout",
     "output_type": "stream",
     "text": [
      "starting scraping for:Hendras Cafe n Karaoke\n"
     ]
    },
    {
     "name": "stderr",
     "output_type": "stream",
     "text": [
      "Scraping features:  75%|▋| 412/551 [1:50:51<41:56, 18.10s/it, Scraped features f"
     ]
    },
    {
     "name": "stdout",
     "output_type": "stream",
     "text": [
      "starting scraping for:BLASS Studio karaoke\n"
     ]
    },
    {
     "name": "stderr",
     "output_type": "stream",
     "text": [
      "Scraping features:  75%|▋| 413/551 [1:51:01<35:31, 15.45s/it, Scraped features f"
     ]
    },
    {
     "name": "stdout",
     "output_type": "stream",
     "text": [
      "starting scraping for:Cakruk mbois\n"
     ]
    },
    {
     "name": "stderr",
     "output_type": "stream",
     "text": [
      "\r",
      "Scraping features:  75%|▊| 414/551 [1:51:30<44:42, 19.58s/it, Scraped features f"
     ]
    },
    {
     "name": "stdout",
     "output_type": "stream",
     "text": [
      "starting scraping for:Warung erina\n"
     ]
    },
    {
     "name": "stderr",
     "output_type": "stream",
     "text": [
      "Scraping features:  75%|▊| 415/551 [1:51:52<46:05, 20.33s/it, Scraped features f"
     ]
    },
    {
     "name": "stdout",
     "output_type": "stream",
     "text": [
      "starting scraping for:OM KUGO\n"
     ]
    },
    {
     "name": "stderr",
     "output_type": "stream",
     "text": [
      "Scraping features:  75%|▊| 416/551 [1:52:11<44:35, 19.82s/it, Scraped features f"
     ]
    },
    {
     "name": "stdout",
     "output_type": "stream",
     "text": [
      "starting scraping for:basori\n"
     ]
    },
    {
     "name": "stderr",
     "output_type": "stream",
     "text": [
      "Scraping features:  76%|▊| 417/551 [1:52:22<38:57, 17.44s/it, Scraped features f"
     ]
    },
    {
     "name": "stdout",
     "output_type": "stream",
     "text": [
      "starting scraping for:gkjhuijlk\n"
     ]
    },
    {
     "name": "stderr",
     "output_type": "stream",
     "text": [
      "Scraping features:  76%|▊| 418/551 [1:52:48<43:47, 19.75s/it, Scraped features f"
     ]
    },
    {
     "name": "stdout",
     "output_type": "stream",
     "text": [
      "starting scraping for:Angkringan Pak Kako\n"
     ]
    },
    {
     "name": "stderr",
     "output_type": "stream",
     "text": [
      "Scraping features:  76%|▊| 419/551 [1:53:01<39:06, 17.78s/it, Scraped features f"
     ]
    },
    {
     "name": "stdout",
     "output_type": "stream",
     "text": [
      "starting scraping for:Angkringan Kriwilꦄꦏꦔꦤꦏꦮꦭ\n"
     ]
    },
    {
     "name": "stderr",
     "output_type": "stream",
     "text": [
      "Scraping features:  76%|▊| 420/551 [1:53:12<34:45, 15.92s/it, Scraped features f"
     ]
    },
    {
     "name": "stdout",
     "output_type": "stream",
     "text": [
      "starting scraping for:Decolonial Bar and Lounge\n"
     ]
    },
    {
     "name": "stderr",
     "output_type": "stream",
     "text": [
      "Scraping features:  76%|▊| 421/551 [1:53:27<33:56, 15.66s/it, Scraped features f"
     ]
    },
    {
     "name": "stdout",
     "output_type": "stream",
     "text": [
      "starting scraping for:Pub Med Yogyakarta\n"
     ]
    },
    {
     "name": "stderr",
     "output_type": "stream",
     "text": [
      "Scraping features:  77%|▊| 422/551 [1:53:37<29:49, 13.87s/it, Scraped features f"
     ]
    },
    {
     "name": "stdout",
     "output_type": "stream",
     "text": [
      "starting scraping for:Sober - Soju Beer Liquor\n"
     ]
    },
    {
     "name": "stderr",
     "output_type": "stream",
     "text": [
      "Scraping features:  77%|▊| 423/551 [1:53:50<29:03, 13.62s/it, Scraped features f"
     ]
    },
    {
     "name": "stdout",
     "output_type": "stream",
     "text": [
      "starting scraping for:ꦗꦭꦤꦭꦮꦤꦒꦪꦎꦫꦒꦤꦭꦩꦏ\n"
     ]
    },
    {
     "name": "stderr",
     "output_type": "stream",
     "text": [
      "Scraping features:  77%|▊| 424/551 [1:54:18<37:57, 17.93s/it, Scraped features f"
     ]
    },
    {
     "name": "stdout",
     "output_type": "stream",
     "text": [
      "starting scraping for:Sweet leaf drink  chips\n"
     ]
    },
    {
     "name": "stderr",
     "output_type": "stream",
     "text": [
      "Scraping features:  77%|▊| 425/551 [1:54:32<35:02, 16.69s/it, Scraped features f"
     ]
    },
    {
     "name": "stdout",
     "output_type": "stream",
     "text": [
      "starting scraping for:Happy Puppy Jogjatronik\n"
     ]
    },
    {
     "name": "stderr",
     "output_type": "stream",
     "text": [
      "Scraping features:  77%|▊| 426/551 [1:54:42<30:29, 14.63s/it, Scraped features f"
     ]
    },
    {
     "name": "stdout",
     "output_type": "stream",
     "text": [
      "starting scraping for:Spark Resto And Sports Bar\n"
     ]
    },
    {
     "name": "stderr",
     "output_type": "stream",
     "text": [
      "Scraping features:  77%|▊| 427/551 [1:54:51<26:51, 13.00s/it, Scraped features f"
     ]
    },
    {
     "name": "stdout",
     "output_type": "stream",
     "text": [
      "starting scraping for:Maribar Jogja\n"
     ]
    },
    {
     "name": "stderr",
     "output_type": "stream",
     "text": [
      "Scraping features:  78%|▊| 428/551 [1:55:04<26:58, 13.15s/it, Scraped features f"
     ]
    },
    {
     "name": "stdout",
     "output_type": "stream",
     "text": [
      "starting scraping for:Jeruk peras dan toko oleh-oleh bu sri wardinah\n"
     ]
    },
    {
     "name": "stderr",
     "output_type": "stream",
     "text": [
      "Scraping features:  78%|▊| 429/551 [1:55:30<34:18, 16.88s/it, Scraped features f"
     ]
    },
    {
     "name": "stdout",
     "output_type": "stream",
     "text": [
      "starting scraping for:DUZZEL BISTRO  SKYBAR\n"
     ]
    },
    {
     "name": "stderr",
     "output_type": "stream",
     "text": [
      "Scraping features:  78%|▊| 430/551 [1:55:43<31:33, 15.65s/it, Scraped features f"
     ]
    },
    {
     "name": "stdout",
     "output_type": "stream",
     "text": [
      "starting scraping for:Slate Bar\n"
     ]
    },
    {
     "name": "stderr",
     "output_type": "stream",
     "text": [
      "Scraping features:  78%|▊| 431/551 [1:55:55<29:09, 14.58s/it, Scraped features f"
     ]
    },
    {
     "name": "stdout",
     "output_type": "stream",
     "text": [
      "starting scraping for:Kos Vadevokan\n"
     ]
    },
    {
     "name": "stderr",
     "output_type": "stream",
     "text": [
      "Scraping features:  78%|▊| 432/551 [1:56:25<38:12, 19.26s/it, Scraped features f"
     ]
    },
    {
     "name": "stdout",
     "output_type": "stream",
     "text": [
      "starting scraping for:Casa Fresca\n"
     ]
    },
    {
     "name": "stderr",
     "output_type": "stream",
     "text": [
      "Scraping features:  79%|▊| 433/551 [1:56:50<41:23, 21.05s/it, Scraped features f"
     ]
    },
    {
     "name": "stdout",
     "output_type": "stream",
     "text": [
      "starting scraping for:The Level\n"
     ]
    },
    {
     "name": "stderr",
     "output_type": "stream",
     "text": [
      "Scraping features:  79%|▊| 434/551 [1:57:14<42:44, 21.92s/it, Scraped features f"
     ]
    },
    {
     "name": "stdout",
     "output_type": "stream",
     "text": [
      "starting scraping for:BAGEUR HAUSE\n"
     ]
    },
    {
     "name": "stderr",
     "output_type": "stream",
     "text": [
      "Scraping features:  79%|▊| 435/551 [1:57:32<40:08, 20.76s/it, Scraped features f"
     ]
    },
    {
     "name": "stdout",
     "output_type": "stream",
     "text": [
      "starting scraping for:Stay Corner Yk\n"
     ]
    },
    {
     "name": "stderr",
     "output_type": "stream",
     "text": [
      "Scraping features:  79%|▊| 436/551 [1:57:45<35:24, 18.48s/it, Scraped features f"
     ]
    },
    {
     "name": "stdout",
     "output_type": "stream",
     "text": [
      "starting scraping for:wagokoro Tugu\n"
     ]
    },
    {
     "name": "stderr",
     "output_type": "stream",
     "text": [
      "Scraping features:  79%|▊| 437/551 [1:58:10<38:21, 20.18s/it, Scraped features f"
     ]
    },
    {
     "name": "stdout",
     "output_type": "stream",
     "text": [
      "starting scraping for:Von Dutch\n"
     ]
    },
    {
     "name": "stderr",
     "output_type": "stream",
     "text": [
      "Scraping features:  79%|▊| 438/551 [1:58:27<36:22, 19.31s/it, Scraped features f"
     ]
    },
    {
     "name": "stdout",
     "output_type": "stream",
     "text": [
      "starting scraping for:TapHouse Beer Garden\n"
     ]
    },
    {
     "name": "stderr",
     "output_type": "stream",
     "text": [
      "Scraping features:  80%|▊| 439/551 [1:58:41<32:52, 17.61s/it, Scraped features f"
     ]
    },
    {
     "name": "stdout",
     "output_type": "stream",
     "text": [
      "starting scraping for:Lesehan dara\n"
     ]
    },
    {
     "name": "stderr",
     "output_type": "stream",
     "text": [
      "Scraping features:  80%|▊| 440/551 [1:58:51<28:50, 15.59s/it, Scraped features f"
     ]
    },
    {
     "name": "stdout",
     "output_type": "stream",
     "text": [
      "starting scraping for:Lucifer\n"
     ]
    },
    {
     "name": "stderr",
     "output_type": "stream",
     "text": [
      "Scraping features:  80%|▊| 441/551 [1:59:01<25:03, 13.67s/it, Scraped features f"
     ]
    },
    {
     "name": "stdout",
     "output_type": "stream",
     "text": [
      "starting scraping for:Omahe rafli\n"
     ]
    },
    {
     "name": "stderr",
     "output_type": "stream",
     "text": [
      "Scraping features:  80%|▊| 442/551 [1:59:26<31:27, 17.32s/it, Scraped features f"
     ]
    },
    {
     "name": "stdout",
     "output_type": "stream",
     "text": [
      "starting scraping for:Wedang ronde jogja mangkubumi\n"
     ]
    },
    {
     "name": "stderr",
     "output_type": "stream",
     "text": [
      "Scraping features:  80%|▊| 443/551 [1:59:55<36:59, 20.55s/it, Scraped features f"
     ]
    },
    {
     "name": "stdout",
     "output_type": "stream",
     "text": [
      "starting scraping for:Bar bola pelangi\n"
     ]
    },
    {
     "name": "stderr",
     "output_type": "stream",
     "text": [
      "Scraping features:  81%|▊| 444/551 [2:00:19<38:40, 21.69s/it, Scraped features f"
     ]
    },
    {
     "name": "stdout",
     "output_type": "stream",
     "text": [
      "starting scraping for:Juragan\n"
     ]
    },
    {
     "name": "stderr",
     "output_type": "stream",
     "text": [
      "Scraping features:  81%|▊| 445/551 [2:00:45<40:44, 23.06s/it, Scraped features f"
     ]
    },
    {
     "name": "stdout",
     "output_type": "stream",
     "text": [
      "starting scraping for:Sentra Gowongan\n"
     ]
    },
    {
     "name": "stderr",
     "output_type": "stream",
     "text": [
      "Scraping features:  81%|▊| 446/551 [2:01:00<35:53, 20.51s/it, Scraped features f"
     ]
    },
    {
     "name": "stdout",
     "output_type": "stream",
     "text": [
      "starting scraping for:Pink Elephant Coffee  Lounge\n"
     ]
    },
    {
     "name": "stderr",
     "output_type": "stream",
     "text": [
      "Scraping features:  81%|▊| 447/551 [2:01:13<31:39, 18.27s/it, Scraped features f"
     ]
    },
    {
     "name": "stdout",
     "output_type": "stream",
     "text": [
      "starting scraping for:De Djogdja Karaoke Lounge Cafe\n"
     ]
    },
    {
     "name": "stderr",
     "output_type": "stream",
     "text": [
      "Scraping features:  81%|▊| 448/551 [2:01:23<27:27, 16.00s/it, Scraped features f"
     ]
    },
    {
     "name": "stdout",
     "output_type": "stream",
     "text": [
      "starting scraping for:Taman Sari Pool Bar\n"
     ]
    },
    {
     "name": "stderr",
     "output_type": "stream",
     "text": [
      "Scraping features:  81%|▊| 449/551 [2:01:37<25:48, 15.18s/it, Scraped features f"
     ]
    },
    {
     "name": "stdout",
     "output_type": "stream",
     "text": [
      "starting scraping for:Hiburan Nightlife  Pub  Bar Banana Cafe\n"
     ]
    },
    {
     "name": "stderr",
     "output_type": "stream",
     "text": [
      "Scraping features:  82%|▊| 450/551 [2:01:55<27:09, 16.14s/it, Scraped features f"
     ]
    },
    {
     "name": "stdout",
     "output_type": "stream",
     "text": [
      "starting scraping for:Angkringan Pak Aris\n"
     ]
    },
    {
     "name": "stderr",
     "output_type": "stream",
     "text": [
      "Scraping features:  82%|▊| 451/551 [2:02:09<25:48, 15.49s/it, Scraped features f"
     ]
    },
    {
     "name": "stdout",
     "output_type": "stream",
     "text": [
      "starting scraping for:Merapi Coffee Shop\n"
     ]
    },
    {
     "name": "stderr",
     "output_type": "stream",
     "text": [
      "Scraping features:  82%|▊| 452/551 [2:02:22<24:08, 14.63s/it, Scraped features f"
     ]
    },
    {
     "name": "stdout",
     "output_type": "stream",
     "text": [
      "starting scraping for:Internet Learning Cafe - Ambarukmo\n"
     ]
    },
    {
     "name": "stderr",
     "output_type": "stream",
     "text": [
      "Scraping features:  82%|▊| 453/551 [2:02:39<25:01, 15.32s/it, Scraped features f"
     ]
    },
    {
     "name": "stdout",
     "output_type": "stream",
     "text": [
      "starting scraping for:Sekar Merapi Waroeng Kopi\n"
     ]
    },
    {
     "name": "stderr",
     "output_type": "stream",
     "text": [
      "Scraping features:  82%|▊| 454/551 [2:02:58<26:32, 16.42s/it, Scraped features f"
     ]
    },
    {
     "name": "stdout",
     "output_type": "stream",
     "text": [
      "starting scraping for:Pengantar Kopi\n"
     ]
    },
    {
     "name": "stderr",
     "output_type": "stream",
     "text": [
      "Scraping features:  83%|▊| 455/551 [2:03:08<23:33, 14.73s/it, Scraped features f"
     ]
    },
    {
     "name": "stdout",
     "output_type": "stream",
     "text": [
      "starting scraping for:Omah Semar Cafe  homestay\n"
     ]
    },
    {
     "name": "stderr",
     "output_type": "stream",
     "text": [
      "Scraping features:  83%|▊| 456/551 [2:03:26<24:46, 15.65s/it, Scraped features f"
     ]
    },
    {
     "name": "stdout",
     "output_type": "stream",
     "text": [
      "starting scraping for:SENJA coffee to go\n"
     ]
    },
    {
     "name": "stderr",
     "output_type": "stream",
     "text": [
      "Scraping features:  83%|▊| 457/551 [2:03:47<27:02, 17.26s/it, Scraped features f"
     ]
    },
    {
     "name": "stdout",
     "output_type": "stream",
     "text": [
      "starting scraping for:KASULI Kafe Susu Tuli\n"
     ]
    },
    {
     "name": "stderr",
     "output_type": "stream",
     "text": [
      "Scraping features:  83%|▊| 458/551 [2:03:59<24:20, 15.70s/it, Scraped features f"
     ]
    },
    {
     "name": "stdout",
     "output_type": "stream",
     "text": [
      "starting scraping for:Warmindo Perdana Cafe\n"
     ]
    },
    {
     "name": "stderr",
     "output_type": "stream",
     "text": [
      "Scraping features:  83%|▊| 459/551 [2:04:17<25:00, 16.31s/it, Scraped features f"
     ]
    },
    {
     "name": "stdout",
     "output_type": "stream",
     "text": [
      "starting scraping for:POENOKAWAN CAFE RESTO  GALLERY\n"
     ]
    },
    {
     "name": "stderr",
     "output_type": "stream",
     "text": [
      "Scraping features:  83%|▊| 460/551 [2:04:28<22:26, 14.80s/it, Scraped features f"
     ]
    },
    {
     "name": "stdout",
     "output_type": "stream",
     "text": [
      "starting scraping for:Posko Goyang\n"
     ]
    },
    {
     "name": "stderr",
     "output_type": "stream",
     "text": [
      "Scraping features:  84%|▊| 461/551 [2:04:41<21:22, 14.25s/it, Scraped features f"
     ]
    },
    {
     "name": "stdout",
     "output_type": "stream",
     "text": [
      "starting scraping for:Sawo 7 Cafe and Guest House\n"
     ]
    },
    {
     "name": "stderr",
     "output_type": "stream",
     "text": [
      "Scraping features:  84%|▊| 462/551 [2:04:59<22:36, 15.25s/it, Scraped features f"
     ]
    },
    {
     "name": "stdout",
     "output_type": "stream",
     "text": [
      "starting scraping for:Burjo Barokah Merapi warmindo\n"
     ]
    },
    {
     "name": "stderr",
     "output_type": "stream",
     "text": [
      "Scraping features:  84%|▊| 463/551 [2:05:20<24:53, 16.97s/it, Scraped features f"
     ]
    },
    {
     "name": "stdout",
     "output_type": "stream",
     "text": [
      "starting scraping for:Wayaekopi\n"
     ]
    },
    {
     "name": "stderr",
     "output_type": "stream",
     "text": [
      "Scraping features:  84%|▊| 464/551 [2:05:33<22:45, 15.70s/it, Scraped features f"
     ]
    },
    {
     "name": "stdout",
     "output_type": "stream",
     "text": [
      "starting scraping for:Angkringan Jaman Edan\n"
     ]
    },
    {
     "name": "stderr",
     "output_type": "stream",
     "text": [
      "Scraping features:  84%|▊| 465/551 [2:05:42<19:58, 13.93s/it, Scraped features f"
     ]
    },
    {
     "name": "stdout",
     "output_type": "stream",
     "text": [
      "starting scraping for:Merapi Live Music\n"
     ]
    },
    {
     "name": "stderr",
     "output_type": "stream",
     "text": [
      "Scraping features:  85%|▊| 466/551 [2:05:53<18:32, 13.08s/it, Scraped features f"
     ]
    },
    {
     "name": "stdout",
     "output_type": "stream",
     "text": [
      "starting scraping for:Kopi Imu Mbana\n"
     ]
    },
    {
     "name": "stderr",
     "output_type": "stream",
     "text": [
      "Scraping features:  85%|▊| 467/551 [2:06:09<19:09, 13.69s/it, Scraped features f"
     ]
    },
    {
     "name": "stdout",
     "output_type": "stream",
     "text": [
      "starting scraping for:Pempek Ummu Naurah\n"
     ]
    },
    {
     "name": "stderr",
     "output_type": "stream",
     "text": [
      "Scraping features:  85%|▊| 468/551 [2:06:19<17:39, 12.77s/it, Scraped features f"
     ]
    },
    {
     "name": "stdout",
     "output_type": "stream",
     "text": [
      "starting scraping for:Warung Makan Tarusbawa\n"
     ]
    },
    {
     "name": "stderr",
     "output_type": "stream",
     "text": [
      "Scraping features:  85%|▊| 469/551 [2:06:45<22:51, 16.72s/it, Scraped features f"
     ]
    },
    {
     "name": "stdout",
     "output_type": "stream",
     "text": [
      "starting scraping for:Warung Makan lovela\n"
     ]
    },
    {
     "name": "stderr",
     "output_type": "stream",
     "text": [
      "Scraping features:  85%|▊| 470/551 [2:07:07<24:48, 18.38s/it, Scraped features f"
     ]
    },
    {
     "name": "stdout",
     "output_type": "stream",
     "text": [
      "starting scraping for:Warung Gardu Pandang Merapi free wifi\n"
     ]
    },
    {
     "name": "stderr",
     "output_type": "stream",
     "text": [
      "Scraping features:  85%|▊| 471/551 [2:07:37<28:48, 21.61s/it, Scraped features f"
     ]
    },
    {
     "name": "stdout",
     "output_type": "stream",
     "text": [
      "starting scraping for:Warung Makan Mbok Sri\n"
     ]
    },
    {
     "name": "stderr",
     "output_type": "stream",
     "text": [
      "Scraping features:  86%|▊| 472/551 [2:07:52<26:00, 19.75s/it, Scraped features f"
     ]
    },
    {
     "name": "stdout",
     "output_type": "stream",
     "text": [
      "starting scraping for:Pondok Merapi\n"
     ]
    },
    {
     "name": "stderr",
     "output_type": "stream",
     "text": [
      "Scraping features:  86%|▊| 473/551 [2:08:02<22:02, 16.95s/it, Scraped features f"
     ]
    },
    {
     "name": "stdout",
     "output_type": "stream",
     "text": [
      "starting scraping for:Warung Makan Yafran\n"
     ]
    },
    {
     "name": "stderr",
     "output_type": "stream",
     "text": [
      "Scraping features:  86%|▊| 474/551 [2:08:24<23:27, 18.28s/it, Scraped features f"
     ]
    },
    {
     "name": "stdout",
     "output_type": "stream",
     "text": [
      "starting scraping for:Warung Makan Nirwana\n"
     ]
    },
    {
     "name": "stderr",
     "output_type": "stream",
     "text": [
      "Scraping features:  86%|▊| 475/551 [2:08:36<20:54, 16.51s/it, Scraped features f"
     ]
    },
    {
     "name": "stdout",
     "output_type": "stream",
     "text": [
      "starting scraping for:Warung Makan dan Catering Mbah Ganis\n"
     ]
    },
    {
     "name": "stderr",
     "output_type": "stream",
     "text": [
      "Scraping features:  86%|▊| 476/551 [2:08:45<17:52, 14.30s/it, Scraped features f"
     ]
    },
    {
     "name": "stdout",
     "output_type": "stream",
     "text": [
      "starting scraping for:Beukenhof Restaurant\n"
     ]
    },
    {
     "name": "stderr",
     "output_type": "stream",
     "text": [
      "Scraping features:  87%|▊| 477/551 [2:08:55<15:52, 12.87s/it, Scraped features f"
     ]
    },
    {
     "name": "stdout",
     "output_type": "stream",
     "text": [
      "starting scraping for:Warung Makan SELALU RINDU TO YOU\n"
     ]
    },
    {
     "name": "stderr",
     "output_type": "stream",
     "text": [
      "Scraping features:  87%|▊| 478/551 [2:09:06<15:05, 12.41s/it, Scraped features f"
     ]
    },
    {
     "name": "stdout",
     "output_type": "stream",
     "text": [
      "starting scraping for:QM Merapi\n"
     ]
    },
    {
     "name": "stderr",
     "output_type": "stream",
     "text": [
      "Scraping features:  87%|▊| 479/551 [2:09:19<14:54, 12.42s/it, Scraped features f"
     ]
    },
    {
     "name": "stdout",
     "output_type": "stream",
     "text": [
      "starting scraping for:Warung Makan Restu Ibu\n"
     ]
    },
    {
     "name": "stderr",
     "output_type": "stream",
     "text": [
      "Scraping features:  87%|▊| 480/551 [2:09:31<14:36, 12.34s/it, Scraped features f"
     ]
    },
    {
     "name": "stdout",
     "output_type": "stream",
     "text": [
      "starting scraping for:warung makan bu in\n"
     ]
    },
    {
     "name": "stderr",
     "output_type": "stream",
     "text": [
      "Scraping features:  87%|▊| 481/551 [2:09:45<14:57, 12.82s/it, Scraped features f"
     ]
    },
    {
     "name": "stdout",
     "output_type": "stream",
     "text": [
      "starting scraping for:Rumah Makan Bonda Merapi\n"
     ]
    },
    {
     "name": "stderr",
     "output_type": "stream",
     "text": [
      "Scraping features:  87%|▊| 482/551 [2:09:56<14:23, 12.51s/it, Scraped features f"
     ]
    },
    {
     "name": "stdout",
     "output_type": "stream",
     "text": [
      "starting scraping for:Sandyakala Resto Merapi\n"
     ]
    },
    {
     "name": "stderr",
     "output_type": "stream",
     "text": [
      "Scraping features:  88%|▉| 483/551 [2:10:08<13:42, 12.10s/it, Scraped features f"
     ]
    },
    {
     "name": "stdout",
     "output_type": "stream",
     "text": [
      "starting scraping for:RM. Telogo Roso\n"
     ]
    },
    {
     "name": "stderr",
     "output_type": "stream",
     "text": [
      "Scraping features:  88%|▉| 484/551 [2:10:19<13:13, 11.84s/it, Scraped features f"
     ]
    },
    {
     "name": "stdout",
     "output_type": "stream",
     "text": [
      "starting scraping for:Warung Makan Bu Lia\n"
     ]
    },
    {
     "name": "stderr",
     "output_type": "stream",
     "text": [
      "Scraping features:  88%|▉| 485/551 [2:10:44<17:20, 15.77s/it, Scraped features f"
     ]
    },
    {
     "name": "stdout",
     "output_type": "stream",
     "text": [
      "starting scraping for:Merapi Resto  Cafe\n"
     ]
    },
    {
     "name": "stderr",
     "output_type": "stream",
     "text": [
      "Scraping features:  88%|▉| 486/551 [2:11:14<21:39, 19.98s/it, Scraped features f"
     ]
    },
    {
     "name": "stdout",
     "output_type": "stream",
     "text": [
      "starting scraping for:Angkringan Merapi\n"
     ]
    },
    {
     "name": "stderr",
     "output_type": "stream",
     "text": [
      "Scraping features:  88%|▉| 487/551 [2:11:26<18:53, 17.71s/it, Scraped features f"
     ]
    },
    {
     "name": "stdout",
     "output_type": "stream",
     "text": [
      "starting scraping for:MOODBAR\n"
     ]
    },
    {
     "name": "stderr",
     "output_type": "stream",
     "text": [
      "Scraping features:  89%|▉| 488/551 [2:11:39<17:16, 16.45s/it, Scraped features f"
     ]
    },
    {
     "name": "stdout",
     "output_type": "stream",
     "text": [
      "starting scraping for:Osea Resto and Bar Jogja\n"
     ]
    },
    {
     "name": "stderr",
     "output_type": "stream",
     "text": [
      "Scraping features:  89%|▉| 489/551 [2:11:49<14:53, 14.41s/it, Scraped features f"
     ]
    },
    {
     "name": "stdout",
     "output_type": "stream",
     "text": [
      "starting scraping for:Mak Walidi hollywings\n"
     ]
    },
    {
     "name": "stderr",
     "output_type": "stream",
     "text": [
      "Scraping features:  89%|▉| 490/551 [2:12:00<13:43, 13.50s/it, Scraped features f"
     ]
    },
    {
     "name": "stdout",
     "output_type": "stream",
     "text": [
      "starting scraping for:Angkringan Krusty krab 2\n"
     ]
    },
    {
     "name": "stderr",
     "output_type": "stream",
     "text": [
      "Scraping features:  89%|▉| 491/551 [2:12:12<12:48, 12.81s/it, Scraped features f"
     ]
    },
    {
     "name": "stdout",
     "output_type": "stream",
     "text": [
      "starting scraping for:Caffe77\n"
     ]
    },
    {
     "name": "stderr",
     "output_type": "stream",
     "text": [
      "Scraping features:  89%|▉| 492/551 [2:12:24<12:22, 12.58s/it, Scraped features f"
     ]
    },
    {
     "name": "stdout",
     "output_type": "stream",
     "text": [
      "starting scraping for:dTEKO\n"
     ]
    },
    {
     "name": "stderr",
     "output_type": "stream",
     "text": [
      "Scraping features:  89%|▉| 493/551 [2:12:34<11:25, 11.81s/it, Scraped features f"
     ]
    },
    {
     "name": "stdout",
     "output_type": "stream",
     "text": [
      "starting scraping for:Dini Hari Kopi\n"
     ]
    },
    {
     "name": "stderr",
     "output_type": "stream",
     "text": [
      "Scraping features:  90%|▉| 494/551 [2:12:44<10:43, 11.30s/it, Scraped features f"
     ]
    },
    {
     "name": "stdout",
     "output_type": "stream",
     "text": [
      "starting scraping for:Roetin Coffee\n"
     ]
    },
    {
     "name": "stderr",
     "output_type": "stream",
     "text": [
      "Scraping features:  90%|▉| 495/551 [2:12:55<10:37, 11.39s/it, Scraped features f"
     ]
    },
    {
     "name": "stdout",
     "output_type": "stream",
     "text": [
      "starting scraping for:Stiff Return\n"
     ]
    },
    {
     "name": "stderr",
     "output_type": "stream",
     "text": [
      "Scraping features:  90%|▉| 496/551 [2:13:04<09:37, 10.50s/it, Scraped features f"
     ]
    },
    {
     "name": "stdout",
     "output_type": "stream",
     "text": [
      "starting scraping for:Mrikiniki Angkringan And Gallery\n"
     ]
    },
    {
     "name": "stderr",
     "output_type": "stream",
     "text": [
      "Scraping features:  90%|▉| 497/551 [2:13:18<10:25, 11.58s/it, Scraped features f"
     ]
    },
    {
     "name": "stdout",
     "output_type": "stream",
     "text": [
      "starting scraping for:Tempat ngopi\n"
     ]
    },
    {
     "name": "stderr",
     "output_type": "stream",
     "text": [
      "Scraping features:  90%|▉| 498/551 [2:13:29<10:09, 11.50s/it, Scraped features f"
     ]
    },
    {
     "name": "stdout",
     "output_type": "stream",
     "text": [
      "starting scraping for:KOPI VASTE\n"
     ]
    },
    {
     "name": "stderr",
     "output_type": "stream",
     "text": [
      "Scraping features:  91%|▉| 499/551 [2:13:41<10:07, 11.68s/it, Scraped features f"
     ]
    },
    {
     "name": "stdout",
     "output_type": "stream",
     "text": [
      "starting scraping for:Cafe Phewee\n"
     ]
    },
    {
     "name": "stderr",
     "output_type": "stream",
     "text": [
      "Scraping features:  91%|▉| 500/551 [2:13:55<10:22, 12.21s/it, Scraped features f"
     ]
    },
    {
     "name": "stdout",
     "output_type": "stream",
     "text": [
      "starting scraping for:Kedai Ngopi Jogkie\n"
     ]
    },
    {
     "name": "stderr",
     "output_type": "stream",
     "text": [
      "Scraping features:  91%|▉| 501/551 [2:14:13<11:32, 13.85s/it, Scraped features f"
     ]
    },
    {
     "name": "stdout",
     "output_type": "stream",
     "text": [
      "starting scraping for:Vagida Coffee\n"
     ]
    },
    {
     "name": "stderr",
     "output_type": "stream",
     "text": [
      "Scraping features:  91%|▉| 502/551 [2:14:23<10:36, 12.98s/it, Scraped features f"
     ]
    },
    {
     "name": "stdout",
     "output_type": "stream",
     "text": [
      "starting scraping for:Goela\n"
     ]
    },
    {
     "name": "stderr",
     "output_type": "stream",
     "text": [
      "Scraping features:  91%|▉| 503/551 [2:14:43<11:54, 14.88s/it, Scraped features f"
     ]
    },
    {
     "name": "stdout",
     "output_type": "stream",
     "text": [
      "starting scraping for:Warung Kopi Godok Dull Mbanon\n"
     ]
    },
    {
     "name": "stderr",
     "output_type": "stream",
     "text": [
      "Scraping features:  91%|▉| 504/551 [2:14:56<11:15, 14.38s/it, Scraped features f"
     ]
    },
    {
     "name": "stdout",
     "output_type": "stream",
     "text": [
      "starting scraping for:caffe\n"
     ]
    },
    {
     "name": "stderr",
     "output_type": "stream",
     "text": [
      "Scraping features:  92%|▉| 506/551 [2:15:24<09:53, 13.19s/it, tempat ngopi is al"
     ]
    },
    {
     "name": "stdout",
     "output_type": "stream",
     "text": [
      "starting scraping for:Drubble Drink\n"
     ]
    },
    {
     "name": "stderr",
     "output_type": "stream",
     "text": [
      "Scraping features:  92%|▉| 507/551 [2:15:52<12:55, 17.64s/it, Scraped features f"
     ]
    },
    {
     "name": "stdout",
     "output_type": "stream",
     "text": [
      "starting scraping for:Angkringan Legendaris\n"
     ]
    },
    {
     "name": "stderr",
     "output_type": "stream",
     "text": [
      "Scraping features:  92%|▉| 508/551 [2:16:07<11:59, 16.73s/it, Scraped features f"
     ]
    },
    {
     "name": "stdout",
     "output_type": "stream",
     "text": [
      "starting scraping for:Kandang oguts\n"
     ]
    },
    {
     "name": "stderr",
     "output_type": "stream",
     "text": [
      "Scraping features:  92%|▉| 509/551 [2:16:23<11:32, 16.48s/it, Scraped features f"
     ]
    },
    {
     "name": "stdout",
     "output_type": "stream",
     "text": [
      "starting scraping for:Pitutur\n"
     ]
    },
    {
     "name": "stderr",
     "output_type": "stream",
     "text": [
      "Scraping features:  93%|▉| 510/551 [2:16:41<11:32, 16.88s/it, Scraped features f"
     ]
    },
    {
     "name": "stdout",
     "output_type": "stream",
     "text": [
      "starting scraping for:Omah NgGunung\n"
     ]
    },
    {
     "name": "stderr",
     "output_type": "stream",
     "text": [
      "Scraping features:  93%|▉| 511/551 [2:16:59<11:31, 17.30s/it, Scraped features f"
     ]
    },
    {
     "name": "stdout",
     "output_type": "stream",
     "text": [
      "starting scraping for:Kurniawan Kuliner Goa Pindul\n"
     ]
    },
    {
     "name": "stderr",
     "output_type": "stream",
     "text": [
      "Scraping features:  93%|▉| 512/551 [2:17:18<11:33, 17.78s/it, Scraped features f"
     ]
    },
    {
     "name": "stdout",
     "output_type": "stream",
     "text": [
      "starting scraping for:RM Karindra Goa Pindul\n"
     ]
    },
    {
     "name": "stderr",
     "output_type": "stream",
     "text": [
      "Scraping features:  93%|▉| 513/551 [2:17:27<09:37, 15.21s/it, Scraped features f"
     ]
    },
    {
     "name": "stdout",
     "output_type": "stream",
     "text": [
      "starting scraping for:Sate Goa Pindul\n"
     ]
    },
    {
     "name": "stderr",
     "output_type": "stream",
     "text": [
      "Scraping features:  93%|▉| 514/551 [2:17:45<09:51, 15.99s/it, Scraped features f"
     ]
    },
    {
     "name": "stdout",
     "output_type": "stream",
     "text": [
      "starting scraping for:Rumah Makan Bu Yus\n"
     ]
    },
    {
     "name": "stderr",
     "output_type": "stream",
     "text": [
      "Scraping features:  93%|▉| 515/551 [2:18:13<11:47, 19.64s/it, Scraped features f"
     ]
    },
    {
     "name": "stdout",
     "output_type": "stream",
     "text": [
      "starting scraping for:Angkringan iva\n"
     ]
    },
    {
     "name": "stderr",
     "output_type": "stream",
     "text": [
      "Scraping features:  94%|▉| 516/551 [2:18:26<10:19, 17.69s/it, Scraped features f"
     ]
    },
    {
     "name": "stdout",
     "output_type": "stream",
     "text": [
      "starting scraping for:Bakso Prasojo\n"
     ]
    },
    {
     "name": "stderr",
     "output_type": "stream",
     "text": [
      "Scraping features:  94%|▉| 517/551 [2:18:44<10:04, 17.77s/it, Scraped features f"
     ]
    },
    {
     "name": "stdout",
     "output_type": "stream",
     "text": [
      "starting scraping for:Rocket Chicken Karangmojo\n"
     ]
    },
    {
     "name": "stderr",
     "output_type": "stream",
     "text": [
      "Scraping features:  94%|▉| 518/551 [2:18:56<08:43, 15.86s/it, Scraped features f"
     ]
    },
    {
     "name": "stdout",
     "output_type": "stream",
     "text": [
      "starting scraping for:Warung Kampung Tani\n"
     ]
    },
    {
     "name": "stderr",
     "output_type": "stream",
     "text": [
      "Scraping features:  94%|▉| 519/551 [2:19:06<07:34, 14.21s/it, Scraped features f"
     ]
    },
    {
     "name": "stdout",
     "output_type": "stream",
     "text": [
      "starting scraping for:AR KITCHEN RESTAURANT\n"
     ]
    },
    {
     "name": "stderr",
     "output_type": "stream",
     "text": [
      "Scraping features:  94%|▉| 520/551 [2:19:29<08:47, 17.02s/it, Scraped features f"
     ]
    },
    {
     "name": "stdout",
     "output_type": "stream",
     "text": [
      "starting scraping for:Lesehan Nasi Merah Pari Gogo\n"
     ]
    },
    {
     "name": "stderr",
     "output_type": "stream",
     "text": [
      "Scraping features:  95%|▉| 521/551 [2:19:41<07:40, 15.35s/it, Scraped features f"
     ]
    },
    {
     "name": "stdout",
     "output_type": "stream",
     "text": [
      "starting scraping for:Warung Simbok\n"
     ]
    },
    {
     "name": "stderr",
     "output_type": "stream",
     "text": [
      "Scraping features:  95%|▉| 522/551 [2:19:52<06:48, 14.07s/it, Scraped features f"
     ]
    },
    {
     "name": "stdout",
     "output_type": "stream",
     "text": [
      "starting scraping for:Mie Ngaco\n"
     ]
    },
    {
     "name": "stderr",
     "output_type": "stream",
     "text": [
      "Scraping features:  95%|▉| 523/551 [2:20:05<06:24, 13.72s/it, Scraped features f"
     ]
    },
    {
     "name": "stdout",
     "output_type": "stream",
     "text": [
      "starting scraping for:Omah Kayu Wonosari\n"
     ]
    },
    {
     "name": "stderr",
     "output_type": "stream",
     "text": [
      "Scraping features:  95%|▉| 524/551 [2:20:15<05:44, 12.75s/it, Scraped features f"
     ]
    },
    {
     "name": "stdout",
     "output_type": "stream",
     "text": [
      "starting scraping for:Rinten Dalu Coffee  Resto\n"
     ]
    },
    {
     "name": "stderr",
     "output_type": "stream",
     "text": [
      "Scraping features:  95%|▉| 525/551 [2:20:30<05:46, 13.32s/it, Scraped features f"
     ]
    },
    {
     "name": "stdout",
     "output_type": "stream",
     "text": [
      "starting scraping for:SalSari Resto  Coffee\n"
     ]
    },
    {
     "name": "stderr",
     "output_type": "stream",
     "text": [
      "Scraping features:  95%|▉| 526/551 [2:20:38<04:55, 11.83s/it, Scraped features f"
     ]
    },
    {
     "name": "stdout",
     "output_type": "stream",
     "text": [
      "starting scraping for:Omahena\n"
     ]
    },
    {
     "name": "stderr",
     "output_type": "stream",
     "text": [
      "Scraping features:  96%|▉| 527/551 [2:20:48<04:27, 11.15s/it, Scraped features f"
     ]
    },
    {
     "name": "stdout",
     "output_type": "stream",
     "text": [
      "starting scraping for:Mie Ayam dan Bakso Jumbo Kang Gotrek\n"
     ]
    },
    {
     "name": "stderr",
     "output_type": "stream",
     "text": [
      "Scraping features:  96%|▉| 528/551 [2:21:01<04:31, 11.82s/it, Scraped features f"
     ]
    },
    {
     "name": "stdout",
     "output_type": "stream",
     "text": [
      "starting scraping for:Warung Makan Bu Sidas Pancuran\n"
     ]
    },
    {
     "name": "stderr",
     "output_type": "stream",
     "text": [
      "Scraping features:  96%|▉| 529/551 [2:21:12<04:08, 11.31s/it, Scraped features f"
     ]
    },
    {
     "name": "stdout",
     "output_type": "stream",
     "text": [
      "starting scraping for:Rumah Makan Padang Giwangan\n"
     ]
    },
    {
     "name": "stderr",
     "output_type": "stream",
     "text": [
      "Scraping features:  96%|▉| 530/551 [2:21:21<03:49, 10.92s/it, Scraped features f"
     ]
    },
    {
     "name": "stdout",
     "output_type": "stream",
     "text": [
      "starting scraping for:Wamp Food Frozen Food\n"
     ]
    },
    {
     "name": "stderr",
     "output_type": "stream",
     "text": [
      "Scraping features:  96%|▉| 531/551 [2:21:34<03:45, 11.28s/it, Scraped features f"
     ]
    },
    {
     "name": "stdout",
     "output_type": "stream",
     "text": [
      "starting scraping for:Krisbono Susanto\n"
     ]
    },
    {
     "name": "stderr",
     "output_type": "stream",
     "text": [
      "Scraping features:  97%|▉| 532/551 [2:21:59<04:52, 15.40s/it, Scraped features f"
     ]
    },
    {
     "name": "stdout",
     "output_type": "stream",
     "text": [
      "starting scraping for:Tekosopan grup\n"
     ]
    },
    {
     "name": "stderr",
     "output_type": "stream",
     "text": [
      "Scraping features:  97%|▉| 533/551 [2:22:24<05:31, 18.40s/it, Scraped features f"
     ]
    },
    {
     "name": "stdout",
     "output_type": "stream",
     "text": [
      "starting scraping for:GARGER STUDIO\n"
     ]
    },
    {
     "name": "stderr",
     "output_type": "stream",
     "text": [
      "\r",
      "Scraping features:  97%|▉| 534/551 [2:22:58<06:32, 23.08s/it, Scraped features f"
     ]
    },
    {
     "name": "stdout",
     "output_type": "stream",
     "text": [
      "starting scraping for:Ki jungkung marcuet\n"
     ]
    },
    {
     "name": "stderr",
     "output_type": "stream",
     "text": [
      "Scraping features:  97%|▉| 535/551 [2:23:09<05:13, 19.59s/it, Scraped features f"
     ]
    },
    {
     "name": "stdout",
     "output_type": "stream",
     "text": [
      "starting scraping for:Bartono dangklutuk\n"
     ]
    },
    {
     "name": "stderr",
     "output_type": "stream",
     "text": [
      "Scraping features:  97%|▉| 536/551 [2:23:24<04:29, 17.98s/it, Scraped features f"
     ]
    },
    {
     "name": "stdout",
     "output_type": "stream",
     "text": [
      "starting scraping for:Angkringan Argomidang\n"
     ]
    },
    {
     "name": "stderr",
     "output_type": "stream",
     "text": [
      "Scraping features:  97%|▉| 537/551 [2:23:38<03:56, 16.90s/it, Scraped features f"
     ]
    },
    {
     "name": "stdout",
     "output_type": "stream",
     "text": [
      "starting scraping for:JARot Cafe N Resto\n"
     ]
    },
    {
     "name": "stderr",
     "output_type": "stream",
     "text": [
      "Scraping features:  98%|▉| 538/551 [2:24:01<04:01, 18.60s/it, Scraped features f"
     ]
    },
    {
     "name": "stdout",
     "output_type": "stream",
     "text": [
      "starting scraping for:Selepan kacang morodadi\n"
     ]
    },
    {
     "name": "stderr",
     "output_type": "stream",
     "text": [
      "Scraping features:  98%|▉| 539/551 [2:24:17<03:35, 17.99s/it, Scraped features f"
     ]
    },
    {
     "name": "stdout",
     "output_type": "stream",
     "text": [
      "starting scraping for:Home stay\n"
     ]
    },
    {
     "name": "stderr",
     "output_type": "stream",
     "text": [
      "\r",
      "Scraping features:  98%|▉| 540/551 [2:24:47<03:56, 21.46s/it, Scraped features f"
     ]
    },
    {
     "name": "stdout",
     "output_type": "stream",
     "text": [
      "starting scraping for:Awokwok\n"
     ]
    },
    {
     "name": "stderr",
     "output_type": "stream",
     "text": [
      "Scraping features:  98%|▉| 541/551 [2:25:05<03:24, 20.42s/it, Scraped features f"
     ]
    },
    {
     "name": "stdout",
     "output_type": "stream",
     "text": [
      "starting scraping for:Balai Dusun Ngunutlor\n"
     ]
    },
    {
     "name": "stderr",
     "output_type": "stream",
     "text": [
      "Scraping features:  98%|▉| 542/551 [2:25:23<02:56, 19.62s/it, Scraped features f"
     ]
    },
    {
     "name": "stdout",
     "output_type": "stream",
     "text": [
      "starting scraping for:NABILA EKA NUGRAHHAENI\n"
     ]
    },
    {
     "name": "stderr",
     "output_type": "stream",
     "text": [
      "Scraping features:  99%|▉| 543/551 [2:25:52<03:00, 22.56s/it, Scraped features f"
     ]
    },
    {
     "name": "stdout",
     "output_type": "stream",
     "text": [
      "starting scraping for:Pemancingan gading flaying gunungbang\n"
     ]
    },
    {
     "name": "stderr",
     "output_type": "stream",
     "text": [
      "Scraping features:  99%|▉| 544/551 [2:26:05<02:17, 19.70s/it, Scraped features f"
     ]
    },
    {
     "name": "stdout",
     "output_type": "stream",
     "text": [
      "starting scraping for:GONDESTEAM\n"
     ]
    },
    {
     "name": "stderr",
     "output_type": "stream",
     "text": [
      "Scraping features:  99%|▉| 545/551 [2:26:29<02:06, 21.04s/it, Scraped features f"
     ]
    },
    {
     "name": "stdout",
     "output_type": "stream",
     "text": [
      "starting scraping for:Pos ronda rt 06 kajar 2\n"
     ]
    },
    {
     "name": "stderr",
     "output_type": "stream",
     "text": [
      "Scraping features:  99%|▉| 546/551 [2:26:44<01:35, 19.12s/it, Scraped features f"
     ]
    },
    {
     "name": "stdout",
     "output_type": "stream",
     "text": [
      "starting scraping for:Shafea home\n"
     ]
    },
    {
     "name": "stderr",
     "output_type": "stream",
     "text": [
      "Scraping features:  99%|▉| 547/551 [2:27:10<01:24, 21.11s/it, Scraped features f"
     ]
    },
    {
     "name": "stdout",
     "output_type": "stream",
     "text": [
      "starting scraping for:KEDAI KAPTEN MUDA\n"
     ]
    },
    {
     "name": "stderr",
     "output_type": "stream",
     "text": [
      "Scraping features:  99%|▉| 548/551 [2:27:22<00:55, 18.58s/it, Scraped features f"
     ]
    },
    {
     "name": "stdout",
     "output_type": "stream",
     "text": [
      "starting scraping for:KOPIYUK\n"
     ]
    },
    {
     "name": "stderr",
     "output_type": "stream",
     "text": [
      "\r",
      "Scraping features: 100%|▉| 549/551 [2:27:48<00:41, 20.66s/it, Scraped features f"
     ]
    },
    {
     "name": "stdout",
     "output_type": "stream",
     "text": [
      "starting scraping for:Karaoke Edy\n"
     ]
    },
    {
     "name": "stderr",
     "output_type": "stream",
     "text": [
      "Scraping features: 100%|▉| 550/551 [2:27:57<00:17, 17.21s/it, Scraped features f"
     ]
    },
    {
     "name": "stdout",
     "output_type": "stream",
     "text": [
      "starting scraping for:Ralls  Dwy\n"
     ]
    },
    {
     "name": "stderr",
     "output_type": "stream",
     "text": [
      "Scraping features: 100%|█| 551/551 [2:28:12<00:00, 16.14s/it, Scraped features f\n"
     ]
    },
    {
     "name": "stdout",
     "output_type": "stream",
     "text": [
      "Done!\n"
     ]
    }
   ],
   "source": [
    "driver = webdriver.Chrome()\n",
    "# Create the 'review' directory if it doesn't exist\n",
    "os.makedirs('feature', exist_ok=True)\n",
    "\n",
    "# Open the input file and loop through each vessel name\n",
    "with open(read_path, newline='', encoding='utf-8') as csvfile:\n",
    "    reader = csv.reader(csvfile)\n",
    "    next(reader)\n",
    "\n",
    "    total_rows = sum(1 for _ in reader)  # Get the total number of rows (excluding header row)\n",
    "    csvfile.seek(0)  # Reset the file pointer to start from the beginning\n",
    "    next(reader)  # Skip the header row\n",
    "\n",
    "    progress_bar = tqdm(total=total_rows, ncols=80, desc=\"Scraping features\")  # Create the tqdm progress bar\n",
    "\n",
    "    for row in reader:\n",
    "        clean_filename(row[0])\n",
    "        NAMA = cleaned_filename\n",
    "        nomor = 1\n",
    "        review_count = 0\n",
    "\n",
    "        # Generate the write file path based on the restaurant name\n",
    "        write_filename = f\"{NAMA}.csv\"\n",
    "        write_path = os.path.join(\"feature\", write_filename)\n",
    "\n",
    "        # Check if the file already exists and has more than 1 line\n",
    "        if os.path.exists(write_path):\n",
    "            with open(write_path, 'r', encoding='utf-8') as file:\n",
    "                lines = file.readlines()\n",
    "                non_empty_lines = [line for line in lines if line.strip()]  # Filter non-empty lines\n",
    "                if len(non_empty_lines) > 1:\n",
    "                    progress_bar.set_postfix_str(f\"{NAMA} is already scrapped. Check or delete the file if you want to rescrape it.\")\n",
    "                    driver.quit()  # Close the webdriver\n",
    "                    progress_bar.update(1)  # Manually update the progress bar\n",
    "                    continue\n",
    "\n",
    "        try:\n",
    "            search(NAMA)\n",
    "        except:\n",
    "            progress_bar.update(1)  # Manually update the progress bar\n",
    "            continue\n",
    "\n",
    "        try:\n",
    "            about_button()\n",
    "        except:\n",
    "            progress_bar.update(1)  # Manually update the progress bar\n",
    "            continue\n",
    "\n",
    "        scrape_about()\n",
    "\n",
    "        details_dict = {\n",
    "            'DESCRIPTION': deskripsi,\n",
    "            'SERVICE OPTION': opsi_layanan,\n",
    "            'HIGHLIGHTS': keunggulan,\n",
    "            'ACCESSIBILITY': aksesbilitas,\n",
    "            'OFFERINGS': penawaran,\n",
    "            'DINING OPTIONS': pilihan_makanan,\n",
    "            'AMENITIES': fasilitas,\n",
    "            'ATHMOSPHERE': suasana,\n",
    "            'CROWD': tipe_pengunjung,\n",
    "            'PLANNING': perencanaan,\n",
    "            'PAYMENTS': pembayaran\n",
    "        }\n",
    "\n",
    "        # Determine the maximum length among all lists\n",
    "        max_length = max(len(value) if isinstance(value, list) else 1 for value in details_dict.values())\n",
    "\n",
    "        # Open the CSV file for writing with UTF-8 encoding\n",
    "        with codecs.open(write_path, mode='w', encoding='utf-8', errors='ignore') as details_file:\n",
    "            writer = csv.writer(details_file)\n",
    "            writer.writerow(details_dict.keys())\n",
    "\n",
    "            # Write the data to the CSV file row-wise\n",
    "            for i in range(max_length):\n",
    "                row_data = {}\n",
    "                for key, value in details_dict.items():\n",
    "                    if isinstance(value, list) and i < len(value):\n",
    "                        row_data[key] = value[i]\n",
    "                    elif not isinstance(value, list) and i == 0:\n",
    "                        row_data[key] = value\n",
    "                    else:\n",
    "                        row_data[key] = ''\n",
    "\n",
    "                writer.writerow(row_data.values())\n",
    "\n",
    "        progress_bar.set_postfix_str(f\"Scraped features for {NAMA}\")  # Update the progress bar description\n",
    "        progress_bar.update(1)  # Manually update the progress bar\n",
    "\n",
    "    progress_bar.close()  # Close the progress bar\n",
    "\n",
    "print('Done!')\n",
    "driver.quit()  # Close the webdriver\n"
   ]
  },
  {
   "cell_type": "code",
   "execution_count": null,
   "id": "a5e3d754",
   "metadata": {},
   "outputs": [],
   "source": []
  },
  {
   "cell_type": "code",
   "execution_count": null,
   "id": "b3b0af0c",
   "metadata": {
    "scrolled": true
   },
   "outputs": [],
   "source": [
    "#Test cell\n",
    "\n",
    "test =\"'D'coff jogja\"\n",
    "search(test)\n",
    "about_button()\n",
    "scrape_about()"
   ]
  },
  {
   "cell_type": "code",
   "execution_count": null,
   "id": "3e5ce8f1",
   "metadata": {},
   "outputs": [],
   "source": [
    "# def scrape_list():\n",
    "#     delay = 5\n",
    "#     #opsi layanan\n",
    "#     try:\n",
    "#         list_element = WebDriverWait(driver,delay).until(EC.presence_of_element_located((By.XPATH, '/html/body/div[3]/div[9]/div[9]/div/div/div[1]/div[2]/div/div[1]/div/div/div[3]/div[2]/ul')))\n",
    "        \n",
    "#         # Extract all the points from the list\n",
    "#         point_elements = list_element.find_elements(By.TAG_NAME, \"li\")\n",
    "\n",
    "#         # Check the class of each point and append the points with the specified class\n",
    "#         for point_element in point_elements:\n",
    "#             point_class = point_element.get_attribute(\"class\")\n",
    "#             if point_class == \"hpLkke \":\n",
    "#                 opsi_layanan.append(point_element.text)\n",
    "    \n",
    "#     except:\n",
    "#         opsi_layanan.append('-')\n",
    "        \n",
    "\n",
    "#     #keunggulan\n",
    "#     try:\n",
    "#         list_element = WebDriverWait(driver,delay).until(EC.presence_of_element_located((By.XPATH, '/html/body/div[3]/div[9]/div[9]/div/div/div[1]/div[2]/div/div[1]/div/div/div[3]/div[5]/ul')))\n",
    "        \n",
    "#         # Extract all the points from the list\n",
    "#         point_elements = list_element.find_elements(By.TAG_NAME, \"li\")\n",
    "\n",
    "#         # Check the class of each point and append the points with the specified class\n",
    "#         for point_element in point_elements:\n",
    "#             point_class = point_element.get_attribute(\"class\")\n",
    "#             if point_class == \"hpLkke \":\n",
    "#                 keunggulan.append(point_element.text)\n",
    "    \n",
    "#     except:\n",
    "#         keunggulan.append('-')\n",
    "        \n",
    "#     #aksesbilitas\n",
    "#     try:\n",
    "#         list_element = WebDriverWait(driver, delay).until(EC.presence_of_element_located((By.XPATH, '/html/body/div[3]/div[9]/div[9]/div/div/div[1]/div[2]/div/div[1]/div/div/div[3]/div[8]/ul')))\n",
    "        \n",
    "#         # Extract all the points from the list\n",
    "#         point_elements = list_element.find_elements(By.TAG_NAME, \"li\")\n",
    "\n",
    "#         # Check the class of each point and append the points with the specified class\n",
    "#         for point_element in point_elements:\n",
    "#             point_class = point_element.get_attribute(\"class\")\n",
    "#             if point_class == \"hpLkke \":\n",
    "#                 aksesbilitas.append(point_element.text)\n",
    "    \n",
    "#     except:\n",
    "#         aksesbilitas.append('-')\n",
    "        \n",
    "#     #penawaran\n",
    "#     try:\n",
    "#         list_element = WebDriverWait(driver, delay).until(EC.presence_of_element_located((By.XPATH, '/html/body/div[3]/div[9]/div[9]/div/div/div[1]/div[2]/div/div[1]/div/div/div[3]/div[11]/ul')))\n",
    "        \n",
    "#         # Extract all the points from the list\n",
    "#         point_elements = list_element.find_elements(By.TAG_NAME, \"li\")\n",
    "\n",
    "#         # Check the class of each point and append the points with the specified class\n",
    "#         for point_element in point_elements:\n",
    "#             point_class = point_element.get_attribute(\"class\")\n",
    "#             if point_class == \"hpLkke \":\n",
    "#                 penawaran.append(point_element.text)\n",
    "    \n",
    "#     except:\n",
    "#         penawaran.append('-')\n",
    "        \n",
    "#     #pilihan makanan\n",
    "#     try:\n",
    "#         list_element = WebDriverWait(driver, delay).until(EC.presence_of_element_located((By.XPATH, '/html/body/div[3]/div[9]/div[9]/div/div/div[1]/div[2]/div/div[1]/div/div/div[3]/div[13]/ul')))\n",
    "        \n",
    "#         # Extract all the points from the list\n",
    "#         point_elements = list_element.find_elements(By.TAG_NAME, \"li\")\n",
    "\n",
    "#         # Check the class of each point and append the points with the specified class\n",
    "#         for point_element in point_elements:\n",
    "#             point_class = point_element.get_attribute(\"class\")\n",
    "#             if point_class == \"hpLkke \":\n",
    "#                 piliihan_makanan.append(point_element.text)\n",
    "    \n",
    "#     except:\n",
    "#         pilihan_makanan.append('-')\n",
    "        \n",
    "#     #fasilitas\n",
    "#     try:\n",
    "#         list_element = WebDriverWait(driver, delay).until(EC.presence_of_element_located((By.XPATH, '/html/body/div[3]/div[9]/div[9]/div/div/div[1]/div[2]/div/div[1]/div/div/div[3]/div[15]/ul')))\n",
    "        \n",
    "#         # Extract all the points from the list\n",
    "#         point_elements = list_element.find_elements(By.TAG_NAME, \"li\")\n",
    "\n",
    "#         # Check the class of each point and append the points with the specified class\n",
    "#         for point_element in point_elements:\n",
    "#             point_class = point_element.get_attribute(\"class\")\n",
    "#             if point_class == \"hpLkke \":\n",
    "#                 fasilitas.append(point_element.text)\n",
    "    \n",
    "#     except:\n",
    "#         fasilitas.append('-')\n",
    "        \n",
    "#     #suasana\n",
    "#     try:\n",
    "#         list_element = WebDriverWait(driver, delay).until(EC.presence_of_element_located((By.XPATH, '/html/body/div[3]/div[9]/div[9]/div/div/div[1]/div[2]/div/div[1]/div/div/div[3]/div[18]/ul')))\n",
    "        \n",
    "#         # Extract all the points from the list\n",
    "#         point_elements = list_element.find_elements(By.TAG_NAME, \"li\")\n",
    "\n",
    "#         # Check the class of each point and append the points with the specified class\n",
    "#         for point_element in point_elements:\n",
    "#             point_class = point_element.get_attribute(\"class\")\n",
    "#             if point_class == \"hpLkke \":\n",
    "#                 suasana.append(point_element.text)\n",
    "    \n",
    "#     except:\n",
    "#         suasana.append('-')\n",
    "        \n",
    "#     #tipe pengunjung\n",
    "#     try:\n",
    "#         list_element = WebDriverWait(driver, delay).until(EC.presence_of_element_located((By.XPATH, '/html/body/div[3]/div[9]/div[9]/div/div/div[1]/div[2]/div/div[1]/div/div/div[3]/div[21]/ul')))\n",
    "        \n",
    "#         # Extract all the points from the list\n",
    "#         point_elements = list_element.find_elements(By.TAG_NAME, \"li\")\n",
    "\n",
    "#         # Check the class of each point and append the points with the specified class\n",
    "#         for point_element in point_elements:\n",
    "#             point_class = point_element.get_attribute(\"class\")\n",
    "#             if point_class == \"hpLkke \":\n",
    "#                 tipe_pengunjung.append(point_element.text)\n",
    "    \n",
    "#     except:\n",
    "#         tipe_pengunjung.append('-')\n",
    "        \n",
    "#     #perencanaan\n",
    "#     try:\n",
    "#         list_element = WebDriverWait(driver, delay).until(EC.presence_of_element_located((By.XPATH, '/html/body/div[3]/div[9]/div[9]/div/div/div[1]/div[2]/div/div[1]/div/div/div[3]/div[24]/ul')))\n",
    "        \n",
    "#         # Extract all the points from the list\n",
    "#         point_elements = list_element.find_elements(By.TAG_NAME, \"li\")\n",
    "\n",
    "#         # Check the class of each point and append the points with the specified class\n",
    "#         for point_element in point_elements:\n",
    "#             point_class = point_element.get_attribute(\"class\")\n",
    "#             if point_class == \"hpLkke \":\n",
    "#                 perencanaan.append(point_element.text)\n",
    "    \n",
    "#     except:\n",
    "#         perencanaan.append('-')\n",
    "        \n",
    "#     #pembayaran\n",
    "#     try:\n",
    "#         list_element = WebDriverWait(driver, delay).until(EC.presence_of_element_located((By.XPATH, '/html/body/div[3]/div[9]/div[9]/div/div/div[1]/div[2]/div/div[1]/div/div/div[3]/div[27]/ul')))\n",
    "        \n",
    "#         # Extract all the points from the list\n",
    "#         point_elements = list_element.find_elements(By.TAG_NAME, \"li\")\n",
    "\n",
    "#         # Check the class of each point and append the points with the specified class\n",
    "#         for point_element in point_elements:\n",
    "#             point_class = point_element.get_attribute(\"class\")\n",
    "#             if point_class == \"hpLkke \":\n",
    "#                 pembayaran.append(point_element.text)\n",
    "    \n",
    "#     except:\n",
    "#         pembayaran.append('-')\n",
    "        \n",
    "    "
   ]
  },
  {
   "cell_type": "code",
   "execution_count": null,
   "id": "b9a6094d",
   "metadata": {},
   "outputs": [],
   "source": []
  },
  {
   "cell_type": "code",
   "execution_count": null,
   "id": "3e856978",
   "metadata": {},
   "outputs": [],
   "source": []
  }
 ],
 "metadata": {
  "kernelspec": {
   "display_name": "Python 3 (ipykernel)",
   "language": "python",
   "name": "python3"
  },
  "language_info": {
   "codemirror_mode": {
    "name": "ipython",
    "version": 3
   },
   "file_extension": ".py",
   "mimetype": "text/x-python",
   "name": "python",
   "nbconvert_exporter": "python",
   "pygments_lexer": "ipython3",
   "version": "3.11.3"
  }
 },
 "nbformat": 4,
 "nbformat_minor": 5
}
