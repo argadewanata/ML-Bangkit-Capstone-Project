{
 "cells": [
  {
   "cell_type": "code",
   "execution_count": 1,
   "id": "dadce95d",
   "metadata": {},
   "outputs": [],
   "source": [
    "import os\n",
    "import time\n",
    "import csv\n",
    "import re\n",
    "from selenium import webdriver\n",
    "from selenium.webdriver.common.by import By\n",
    "from selenium.webdriver.common.keys import Keys\n",
    "from selenium.webdriver.support import expected_conditions as EC\n",
    "from selenium.common.exceptions import NoSuchElementException\n",
    "from selenium.webdriver.chrome.options import Options\n",
    "from selenium.webdriver.support.ui import WebDriverWait\n",
    "from selenium.webdriver.common.action_chains import ActionChains\n",
    "from selenium.common.exceptions import ElementNotInteractableException"
   ]
  },
  {
   "cell_type": "code",
   "execution_count": 2,
   "id": "2e40c524",
   "metadata": {},
   "outputs": [],
   "source": [
    "read_filename = \"nama1.csv\"\n",
    "write_filename = \"review1.csv\""
   ]
  },
  {
   "cell_type": "code",
   "execution_count": 3,
   "id": "092145ea",
   "metadata": {},
   "outputs": [],
   "source": [
    "read_path =os.path.join(\"nama\", read_filename)\n",
    "write_path = os.path.join(\"review\",write_filename)"
   ]
  },
  {
   "cell_type": "code",
   "execution_count": 4,
   "id": "a80cd2dd",
   "metadata": {},
   "outputs": [],
   "source": [
    "#read nama restaurant\n",
    "with open(read_path, 'r') as file:\n",
    "    reader = csv.DictReader(file)\n",
    "    \n",
    "    # Extract restaurant names\n",
    "    restaurant_names = [row['Restaurant Name'] for row in reader]\n"
   ]
  },
  {
   "cell_type": "code",
   "execution_count": 12,
   "id": "da610989",
   "metadata": {},
   "outputs": [],
   "source": [
    "def search(name):\n",
    "    \n",
    "    search_field = WebDriverWait(driver, 10).until(EC.presence_of_element_located((By.XPATH, '/html/body/div[3]/div[9]/div[3]/div[1]/div[1]/div[1]/div[2]/form/div[2]/div[3]/div/input[1]')))\n",
    "\n",
    "    try:\n",
    "        search_field.clear()  # Clear the search bar first\n",
    "    except:\n",
    "        pass\n",
    "    \n",
    "    search_field.send_keys(name)\n",
    "\n",
    "    # Search button\n",
    "    search_button = WebDriverWait(driver, 10).until(EC.presence_of_element_located((By.XPATH, '/html/body/div[3]/div[9]/div[3]/div[1]/div[1]/div/div[2]/div[1]/button')))\n",
    "    actions.move_to_element(search_button)\n",
    "    actions.click().perform()\n",
    "\n",
    "    # Ulasan button\n",
    "    review_button = WebDriverWait(driver, 10).until(EC.presence_of_element_located((By.XPATH, '/html/body/div[3]/div[9]/div[9]/div/div/div[1]/div[2]/div/div[1]/div/div/div[3]/div/div/button[2]')))\n",
    "    actions.move_to_element(review_button)\n",
    "    actions.click().perform()\n",
    "\n",
    "    # Click on the target element\n",
    "    target_element = WebDriverWait(driver, 10).until(EC.presence_of_element_located((By.XPATH, '/html/body/div[3]/div[9]/div[9]/div/div/div[1]/div[2]/div/div[1]/div/div/div[3]/div[7]/div[1]/div[1]/div[1]')))\n",
    "    target_element.click()\n",
    "\n",
    "    # Press the down arrow key multiple times\n",
    "    for _ in range(500):  # Adjust the number of times to press the down arrow key as needed\n",
    "        actions.send_keys(Keys.ARROW_DOWN).perform()\n",
    "        \n",
    "        \n",
    "    time.sleep(10)\n",
    "\n",
    "    \n",
    "    print('Function complete!')\n"
   ]
  },
  {
   "cell_type": "code",
   "execution_count": 6,
   "id": "17481338",
   "metadata": {},
   "outputs": [],
   "source": [
    "def changerange(basic):\n",
    "    global nomor\n",
    "    nomor = basic + 3"
   ]
  },
  {
   "cell_type": "code",
   "execution_count": 32,
   "id": "3ecd0daa",
   "metadata": {},
   "outputs": [],
   "source": [
    "def review_scrap():\n",
    "    # Scrap review\n",
    "    global review, name\n",
    "    xpath_review = '/html/body/div[3]/div[9]/div[9]/div/div/div[1]/div[2]/div/div[1]/div/div/div[3]/div[9]/div[{}]/div/div/div[4]/div[2]/div/span[1]'.format(str(nomor))\n",
    "    xpath_name = '/html/body/div[3]/div[9]/div[9]/div/div/div[1]/div[2]/div/div[1]/div/div/div[3]/div[9]/div[{}]/div/div/div[2]/div[2]/div[1]/button/div[1]'.format(str(nomor))\n",
    "    xpath_button = '/html/body/div[3]/div[9]/div[9]/div/div/div[1]/div[2]/div/div[1]/div/div/div[3]/div[9]/div[{}]/div/div/div[4]/div[2]/div/span[2]/button'.format(str(nomor))\n",
    "\n",
    "    review_count = 0  # Counter for total reviews\n",
    "    empty_review_count = 0  # Counter for consecutive empty reviews\n",
    "\n",
    "    # Lainnya\n",
    "    try:\n",
    "        maximize_button = WebDriverWait(driver, 5).until(EC.presence_of_element_located((By.XPATH, xpath_button)))\n",
    "        actions.move_to_element(maximize_button)\n",
    "        actions.click().perform()\n",
    "    except:\n",
    "        pass\n",
    "    \n",
    "    raw_name = WebDriverWait(driver, 5).until(EC.presence_of_element_located((By.XPATH, xpath_name)))\n",
    "    name = raw_name.text\n",
    "\n",
    "    raw_review = WebDriverWait(driver, 5).until(EC.presence_of_element_located((By.XPATH, xpath_review)))\n",
    "    review = raw_review.text\n",
    "    \n",
    "    if not review:  # Check if review is empty\n",
    "        empty_review_count += 1\n",
    "        print(\"Empty review\")\n",
    "    else:\n",
    "        review_count += 1\n",
    "        empty_review_count = 0\n",
    "\n",
    "    \n",
    "    print(\"====================\")\n",
    "    print(f\"Review {review_count}:\")\n",
    "    print(f\"Reviewer: {name}\")\n",
    "    print(f\"Review: {review}\")\n",
    "    print(f\"Total Reviews: {review_count}\")\n"
   ]
  },
  {
   "cell_type": "code",
   "execution_count": 36,
   "id": "daeef71d",
   "metadata": {},
   "outputs": [],
   "source": [
    "#test webdriver\n",
    "driver = webdriver.Chrome()\n",
    "driver.get(\"https://www.google.com/maps\")\n",
    "actions = ActionChains(driver)\n"
   ]
  },
  {
   "cell_type": "code",
   "execution_count": 37,
   "id": "3997cdc6",
   "metadata": {},
   "outputs": [],
   "source": [
    "#base value\n",
    "\n",
    "base = 1\n",
    "nomor = 1\n"
   ]
  },
  {
   "cell_type": "code",
   "execution_count": 38,
   "id": "39dda0d7",
   "metadata": {},
   "outputs": [
    {
     "ename": "TimeoutException",
     "evalue": "Message: \nStacktrace:\nBacktrace:\n\tGetHandleVerifier [0x00F38893+48451]\n\t(No symbol) [0x00ECB8A1]\n\t(No symbol) [0x00DD5058]\n\t(No symbol) [0x00E00467]\n\t(No symbol) [0x00E0069B]\n\t(No symbol) [0x00E2DD92]\n\t(No symbol) [0x00E1A304]\n\t(No symbol) [0x00E2C482]\n\t(No symbol) [0x00E1A0B6]\n\t(No symbol) [0x00DF7E08]\n\t(No symbol) [0x00DF8F2D]\n\tGetHandleVerifier [0x01198E3A+2540266]\n\tGetHandleVerifier [0x011D8959+2801161]\n\tGetHandleVerifier [0x011D295C+2776588]\n\tGetHandleVerifier [0x00FC2280+612144]\n\t(No symbol) [0x00ED4F6C]\n\t(No symbol) [0x00ED11D8]\n\t(No symbol) [0x00ED12BB]\n\t(No symbol) [0x00EC4857]\n\tBaseThreadInitThunk [0x76FF7D59+25]\n\tRtlInitializeExceptionChain [0x77C1B74B+107]\n\tRtlClearBits [0x77C1B6CF+191]\n",
     "output_type": "error",
     "traceback": [
      "\u001b[1;31m---------------------------------------------------------------------------\u001b[0m",
      "\u001b[1;31mTimeoutException\u001b[0m                          Traceback (most recent call last)",
      "Cell \u001b[1;32mIn[38], line 3\u001b[0m\n\u001b[0;32m      1\u001b[0m \u001b[38;5;66;03m#test cell\u001b[39;00m\n\u001b[0;32m      2\u001b[0m nama \u001b[38;5;241m=\u001b[39m \u001b[38;5;124m'\u001b[39m\u001b[38;5;124mJogja Festival Resto And Fun Cafe\u001b[39m\u001b[38;5;124m'\u001b[39m\n\u001b[1;32m----> 3\u001b[0m \u001b[43msearch\u001b[49m\u001b[43m(\u001b[49m\u001b[43mnama\u001b[49m\u001b[43m)\u001b[49m\n\u001b[0;32m      4\u001b[0m \u001b[38;5;28mprint\u001b[39m(\u001b[38;5;124m'\u001b[39m\u001b[38;5;124myellow\u001b[39m\u001b[38;5;124m'\u001b[39m)\n\u001b[0;32m      6\u001b[0m \u001b[38;5;28;01mfor\u001b[39;00m x \u001b[38;5;129;01min\u001b[39;00m \u001b[38;5;28mrange\u001b[39m (\u001b[38;5;241m20\u001b[39m):\n",
      "Cell \u001b[1;32mIn[12], line 3\u001b[0m, in \u001b[0;36msearch\u001b[1;34m(name)\u001b[0m\n\u001b[0;32m      1\u001b[0m \u001b[38;5;28;01mdef\u001b[39;00m \u001b[38;5;21msearch\u001b[39m(name):\n\u001b[1;32m----> 3\u001b[0m     search_field \u001b[38;5;241m=\u001b[39m \u001b[43mWebDriverWait\u001b[49m\u001b[43m(\u001b[49m\u001b[43mdriver\u001b[49m\u001b[43m,\u001b[49m\u001b[43m \u001b[49m\u001b[38;5;241;43m10\u001b[39;49m\u001b[43m)\u001b[49m\u001b[38;5;241;43m.\u001b[39;49m\u001b[43muntil\u001b[49m\u001b[43m(\u001b[49m\u001b[43mEC\u001b[49m\u001b[38;5;241;43m.\u001b[39;49m\u001b[43mpresence_of_element_located\u001b[49m\u001b[43m(\u001b[49m\u001b[43m(\u001b[49m\u001b[43mBy\u001b[49m\u001b[38;5;241;43m.\u001b[39;49m\u001b[43mXPATH\u001b[49m\u001b[43m,\u001b[49m\u001b[43m \u001b[49m\u001b[38;5;124;43m'\u001b[39;49m\u001b[38;5;124;43m/html/body/div[3]/div[9]/div[3]/div[1]/div[1]/div[1]/div[2]/form/div[2]/div[3]/div/input[1]\u001b[39;49m\u001b[38;5;124;43m'\u001b[39;49m\u001b[43m)\u001b[49m\u001b[43m)\u001b[49m\u001b[43m)\u001b[49m\n\u001b[0;32m      5\u001b[0m     \u001b[38;5;28;01mtry\u001b[39;00m:\n\u001b[0;32m      6\u001b[0m         search_field\u001b[38;5;241m.\u001b[39mclear()  \u001b[38;5;66;03m# Clear the search bar first\u001b[39;00m\n",
      "File \u001b[1;32m~\\AppData\\Local\\Programs\\Python\\Python311\\Lib\\site-packages\\selenium\\webdriver\\support\\wait.py:95\u001b[0m, in \u001b[0;36mWebDriverWait.until\u001b[1;34m(self, method, message)\u001b[0m\n\u001b[0;32m     93\u001b[0m     \u001b[38;5;28;01mif\u001b[39;00m time\u001b[38;5;241m.\u001b[39mmonotonic() \u001b[38;5;241m>\u001b[39m end_time:\n\u001b[0;32m     94\u001b[0m         \u001b[38;5;28;01mbreak\u001b[39;00m\n\u001b[1;32m---> 95\u001b[0m \u001b[38;5;28;01mraise\u001b[39;00m TimeoutException(message, screen, stacktrace)\n",
      "\u001b[1;31mTimeoutException\u001b[0m: Message: \nStacktrace:\nBacktrace:\n\tGetHandleVerifier [0x00F38893+48451]\n\t(No symbol) [0x00ECB8A1]\n\t(No symbol) [0x00DD5058]\n\t(No symbol) [0x00E00467]\n\t(No symbol) [0x00E0069B]\n\t(No symbol) [0x00E2DD92]\n\t(No symbol) [0x00E1A304]\n\t(No symbol) [0x00E2C482]\n\t(No symbol) [0x00E1A0B6]\n\t(No symbol) [0x00DF7E08]\n\t(No symbol) [0x00DF8F2D]\n\tGetHandleVerifier [0x01198E3A+2540266]\n\tGetHandleVerifier [0x011D8959+2801161]\n\tGetHandleVerifier [0x011D295C+2776588]\n\tGetHandleVerifier [0x00FC2280+612144]\n\t(No symbol) [0x00ED4F6C]\n\t(No symbol) [0x00ED11D8]\n\t(No symbol) [0x00ED12BB]\n\t(No symbol) [0x00EC4857]\n\tBaseThreadInitThunk [0x76FF7D59+25]\n\tRtlInitializeExceptionChain [0x77C1B74B+107]\n\tRtlClearBits [0x77C1B6CF+191]\n"
     ]
    }
   ],
   "source": [
    "#test cell\n",
    "nama = 'Jogja Festival Resto And Fun Cafe'\n",
    "search(nama)\n",
    "print('yellow')\n",
    "\n",
    "for x in range (20):\n",
    "    changerange(nomor)\n",
    "    review_scrap()"
   ]
  },
  {
   "cell_type": "code",
   "execution_count": null,
   "id": "afe2277f",
   "metadata": {},
   "outputs": [],
   "source": [
    "print(nomor)"
   ]
  },
  {
   "cell_type": "code",
   "execution_count": null,
   "id": "6da08767",
   "metadata": {},
   "outputs": [],
   "source": []
  },
  {
   "cell_type": "code",
   "execution_count": null,
   "id": "269601b4",
   "metadata": {},
   "outputs": [],
   "source": []
  }
 ],
 "metadata": {
  "kernelspec": {
   "display_name": "Python 3 (ipykernel)",
   "language": "python",
   "name": "python3"
  },
  "language_info": {
   "codemirror_mode": {
    "name": "ipython",
    "version": 3
   },
   "file_extension": ".py",
   "mimetype": "text/x-python",
   "name": "python",
   "nbconvert_exporter": "python",
   "pygments_lexer": "ipython3",
   "version": "3.11.3"
  }
 },
 "nbformat": 4,
 "nbformat_minor": 5
}
