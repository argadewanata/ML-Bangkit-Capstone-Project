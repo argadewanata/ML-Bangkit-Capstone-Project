{
 "cells": [
  {
   "cell_type": "code",
   "execution_count": 1,
   "id": "dadce95d",
   "metadata": {},
   "outputs": [],
   "source": [
    "import os\n",
    "import time\n",
    "import csv\n",
    "import re\n",
    "from selenium import webdriver\n",
    "from selenium.webdriver.common.by import By\n",
    "from selenium.webdriver.common.keys import Keys\n",
    "from selenium.webdriver.support import expected_conditions as EC\n",
    "from selenium.common.exceptions import NoSuchElementException\n",
    "from selenium.webdriver.chrome.options import Options\n",
    "from selenium.webdriver.support.ui import WebDriverWait\n",
    "from selenium.webdriver.common.action_chains import ActionChains\n",
    "from selenium.common.exceptions import ElementNotInteractableException"
   ]
  },
  {
   "cell_type": "code",
   "execution_count": 2,
   "id": "daeef71d",
   "metadata": {},
   "outputs": [],
   "source": [
    "#test webdriver\n",
    "driver = webdriver.Chrome()\n",
    "driver.get(\"https://www.google.com/maps\")\n",
    "actions = ActionChains(driver)\n"
   ]
  },
  {
   "cell_type": "code",
   "execution_count": 3,
   "id": "2e40c524",
   "metadata": {},
   "outputs": [],
   "source": [
    "read_filename = \"nama1.csv\"\n",
    "write_filename = \"review1.csv\""
   ]
  },
  {
   "cell_type": "code",
   "execution_count": 7,
   "id": "092145ea",
   "metadata": {},
   "outputs": [],
   "source": [
    "read_path =os.path.join(\"nama\", read_filename)\n",
    "write_path = os.path.join(\"review\",write_filename)"
   ]
  },
  {
   "cell_type": "code",
   "execution_count": 8,
   "id": "a80cd2dd",
   "metadata": {},
   "outputs": [],
   "source": [
    "#read nama restaurant\n",
    "with open(read_path, 'r') as file:\n",
    "    reader = csv.DictReader(file)\n",
    "    \n",
    "    # Extract restaurant names\n",
    "    restaurant_names = [row['Restaurant Name'] for row in reader]\n"
   ]
  },
  {
   "cell_type": "code",
   "execution_count": 9,
   "id": "da610989",
   "metadata": {},
   "outputs": [],
   "source": [
    "def search(name):\n",
    "    global driver , actions\n",
    "    \n",
    "    #open up chrome and stuff\n",
    "    driver = webdriver.Chrome()\n",
    "    driver.get(\"https://www.google.com/maps/search/{}\".format(name))\n",
    "    actions = ActionChains(driver)\n",
    "\n",
    "    # Ulasan button\n",
    "    review_button = WebDriverWait(driver, 10).until(EC.presence_of_element_located((By.XPATH, '/html/body/div[3]/div[9]/div[9]/div/div/div[1]/div[2]/div/div[1]/div/div/div[3]/div/div/button[2]')))\n",
    "    actions.move_to_element(review_button)\n",
    "    actions.click().perform()\n",
    "\n",
    "    # Click on the target element\n",
    "    target_element = WebDriverWait(driver, 10).until(EC.presence_of_element_located((By.XPATH, '/html/body/div[3]/div[9]/div[9]/div/div/div[1]/div[2]/div/div[1]/div/div/div[3]/div[7]/div[1]/div[1]/div[1]')))\n",
    "    target_element.click()\n",
    "\n",
    "    # Press the down arrow key multiple times\n",
    "    for _ in range(500):  # Adjust the number of times to press the down arrow key as needed\n",
    "        actions.send_keys(Keys.ARROW_DOWN).perform()\n",
    "        \n",
    "        \n",
    "    time.sleep(10)\n",
    "\n",
    "    \n",
    "    print('Function complete!')\n"
   ]
  },
  {
   "cell_type": "code",
   "execution_count": 10,
   "id": "17481338",
   "metadata": {},
   "outputs": [],
   "source": [
    "def changerange(basic):\n",
    "    global nomor\n",
    "    nomor = basic + 3"
   ]
  },
  {
   "cell_type": "code",
   "execution_count": 12,
   "id": "3ecd0daa",
   "metadata": {},
   "outputs": [],
   "source": [
    "def review_scrap():\n",
    "    global name , review\n",
    "    global review_count, empty_review_count\n",
    "    xpath_review = '/html/body/div[3]/div[9]/div[9]/div/div/div[1]/div[2]/div/div[1]/div/div/div[3]/div[9]/div[{}]/div/div/div[4]/div[2]/div/span[1]'.format(str(nomor))\n",
    "    xpath_name = '/html/body/div[3]/div[9]/div[9]/div/div/div[1]/div[2]/div/div[1]/div/div/div[3]/div[9]/div[{}]/div/div/div[2]/div[2]/div[1]/button/div[1]'.format(str(nomor))\n",
    "    xpath_button = '/html/body/div[3]/div[9]/div[9]/div/div/div[1]/div[2]/div/div[1]/div/div/div[3]/div[9]/div[{}]/div/div/div[4]/div[2]/div/span[2]/button'.format(str(nomor))\n",
    "    xpath_star = '/html/body/div[3]/div[9]/div[9]/div/div/div[1]/div[2]/div/div[1]/div/div/div[3]/div[9]/div[{}]/div/div/div[4]/div[1]/span[1]'.format(str(nomor))\n",
    "    \n",
    "    \n",
    "    #show more review\n",
    "    try:\n",
    "        maximize_button = WebDriverWait(driver, 5).until(EC.presence_of_element_located((By.XPATH, xpath_button)))\n",
    "        actions.move_to_element(maximize_button)\n",
    "        actions.click().perform()\n",
    "    except:\n",
    "        pass\n",
    "    \n",
    "    \n",
    "    #pulling reviewer\n",
    "    raw_name = WebDriverWait(driver, 1).until(EC.presence_of_element_located((By.XPATH, xpath_name)))\n",
    "    name = raw_name.text\n",
    "    \n",
    "    try:\n",
    "        raw_review = WebDriverWait(driver, 1).until(EC.presence_of_element_located((By.XPATH, xpath_review)))\n",
    "        review = raw_review.text\n",
    "    except:\n",
    "        pass\n",
    "    \n",
    "    #count_stars(xpath_star)\n",
    "\n",
    "    try:\n",
    "        if not review:  # Check if review is empty\n",
    "            empty_review_count += 1\n",
    "            print(\"Empty review. Skipping...\")\n",
    "            return\n",
    "    except:\n",
    "        return\n",
    "    \n",
    "    review_count += 1\n",
    "\n",
    "    print(\"====================\")\n",
    "    print(f\"Reviewer: {name}\")\n",
    "    print(f\"Review: {review}\")\n",
    "#     print(f\"Star:{filled_star_count}\")\n"
   ]
  },
  {
   "cell_type": "code",
   "execution_count": 13,
   "id": "3997cdc6",
   "metadata": {},
   "outputs": [],
   "source": [
    "#base value\n",
    "\n",
    "base = 1\n",
    "nomor = 1\n",
    "review_count = 0\n"
   ]
  },
  {
   "cell_type": "code",
   "execution_count": 14,
   "id": "e443834f",
   "metadata": {},
   "outputs": [],
   "source": [
    "#input sendiri coy v:\n",
    "jumlah_review = 25 "
   ]
  },
  {
   "cell_type": "code",
   "execution_count": 11,
   "id": "93396553",
   "metadata": {},
   "outputs": [],
   "source": [
    "#UNDER CONSTRUCTION\n",
    "def count_stars(xpath):\n",
    "    global empty_star_count\n",
    "    global filled_star_count\n",
    "\n",
    "    empty_star_class = \"hCCjke\"\n",
    "    filled_star_class = \"hCCjke vzX5Ic\"\n",
    "\n",
    "    stars = WebDriverWait(driver, 5).until(EC.presence_of_element_located((By.XPATH, xpath)))\n",
    "    empty_star_count = 0\n",
    "    filled_star_count = 0\n",
    "\n",
    "    for star in stars:\n",
    "        class_name = star.get_attribute(\"class\")\n",
    "        if class_name == empty_star_class:\n",
    "            empty_star_count += 1\n",
    "        elif class_name == filled_star_class:\n",
    "            filled_star_count += 1\n",
    "\n",
    "    return empty_star_count, filled_star_count\n"
   ]
  },
  {
   "cell_type": "code",
   "execution_count": 16,
   "id": "39dda0d7",
   "metadata": {},
   "outputs": [
    {
     "name": "stdout",
     "output_type": "stream",
     "text": [
      "Function complete!\n",
      "====================\n",
      "Reviewer: medfucker\n",
      "Review: Tempatnya bagus,cocok buat bikin acara bukber atau syawalan\n"
     ]
    },
    {
     "ename": "NameError",
     "evalue": "name 'filled_star_count' is not defined",
     "output_type": "error",
     "traceback": [
      "\u001b[1;31m---------------------------------------------------------------------------\u001b[0m",
      "\u001b[1;31mNameError\u001b[0m                                 Traceback (most recent call last)",
      "Cell \u001b[1;32mIn[16], line 7\u001b[0m\n\u001b[0;32m      5\u001b[0m \u001b[38;5;28;01mfor\u001b[39;00m x \u001b[38;5;129;01min\u001b[39;00m \u001b[38;5;28mrange\u001b[39m(jumlah_review):\n\u001b[0;32m      6\u001b[0m     changerange(nomor)\n\u001b[1;32m----> 7\u001b[0m     \u001b[43mreview_scrap\u001b[49m\u001b[43m(\u001b[49m\u001b[43m)\u001b[49m\n\u001b[0;32m      8\u001b[0m     details_dict \u001b[38;5;241m=\u001b[39m {\u001b[38;5;124m'\u001b[39m\u001b[38;5;124mNAME\u001b[39m\u001b[38;5;124m'\u001b[39m: name, \u001b[38;5;124m'\u001b[39m\u001b[38;5;124mREVIEW\u001b[39m\u001b[38;5;124m'\u001b[39m: review}\n\u001b[0;32m     10\u001b[0m \u001b[38;5;28mprint\u001b[39m(\u001b[38;5;124mf\u001b[39m\u001b[38;5;124m\"\u001b[39m\u001b[38;5;124mTotal Reviews: \u001b[39m\u001b[38;5;132;01m{\u001b[39;00mreview_count\u001b[38;5;132;01m}\u001b[39;00m\u001b[38;5;124m\"\u001b[39m)\n",
      "Cell \u001b[1;32mIn[12], line 44\u001b[0m, in \u001b[0;36mreview_scrap\u001b[1;34m()\u001b[0m\n\u001b[0;32m     42\u001b[0m \u001b[38;5;28mprint\u001b[39m(\u001b[38;5;124mf\u001b[39m\u001b[38;5;124m\"\u001b[39m\u001b[38;5;124mReviewer: \u001b[39m\u001b[38;5;132;01m{\u001b[39;00mname\u001b[38;5;132;01m}\u001b[39;00m\u001b[38;5;124m\"\u001b[39m)\n\u001b[0;32m     43\u001b[0m \u001b[38;5;28mprint\u001b[39m(\u001b[38;5;124mf\u001b[39m\u001b[38;5;124m\"\u001b[39m\u001b[38;5;124mReview: \u001b[39m\u001b[38;5;132;01m{\u001b[39;00mreview\u001b[38;5;132;01m}\u001b[39;00m\u001b[38;5;124m\"\u001b[39m)\n\u001b[1;32m---> 44\u001b[0m \u001b[38;5;28mprint\u001b[39m(\u001b[38;5;124mf\u001b[39m\u001b[38;5;124m\"\u001b[39m\u001b[38;5;124mStar:\u001b[39m\u001b[38;5;132;01m{\u001b[39;00m\u001b[43mfilled_star_count\u001b[49m\u001b[38;5;132;01m}\u001b[39;00m\u001b[38;5;124m\"\u001b[39m)\n",
      "\u001b[1;31mNameError\u001b[0m: name 'filled_star_count' is not defined"
     ]
    }
   ],
   "source": [
    "# test cell\n",
    "nama = 'Jogja Festival Resto And Fun Cafe'\n",
    "search(nama)\n",
    "\n",
    "for x in range(jumlah_review):\n",
    "    changerange(nomor)\n",
    "    review_scrap()\n",
    "    details_dict = {'NAME': name, 'REVIEW': review}\n",
    "\n",
    "print(f\"Total Reviews: {review_count}\")\n",
    "\n",
    "driver.quit()  # Close the webdriver\n"
   ]
  },
  {
   "cell_type": "code",
   "execution_count": null,
   "id": "9fd5bfcf",
   "metadata": {},
   "outputs": [],
   "source": [
    "#test star counter\n",
    "nama = 'Jogja Festival Resto And Fun Cafe'\n",
    "search(nama)\n",
    "\n",
    "count_stars()\n"
   ]
  },
  {
   "cell_type": "code",
   "execution_count": 15,
   "id": "afe2277f",
   "metadata": {},
   "outputs": [],
   "source": [
    "# Define the fieldnames for the CSV file\n",
    "fieldnames = ['NAME', 'REVIEW',]"
   ]
  },
  {
   "cell_type": "code",
   "execution_count": 182,
   "id": "6da08767",
   "metadata": {},
   "outputs": [
    {
     "name": "stdout",
     "output_type": "stream",
     "text": [
      "{'NAME': 'erfan erlangga', 'REVIEW': 'Tempat yang bagus'}\n"
     ]
    }
   ],
   "source": [
    "print(details_dict)"
   ]
  },
  {
   "cell_type": "code",
   "execution_count": null,
   "id": "269601b4",
   "metadata": {},
   "outputs": [],
   "source": []
  }
 ],
 "metadata": {
  "kernelspec": {
   "display_name": "Python 3 (ipykernel)",
   "language": "python",
   "name": "python3"
  },
  "language_info": {
   "codemirror_mode": {
    "name": "ipython",
    "version": 3
   },
   "file_extension": ".py",
   "mimetype": "text/x-python",
   "name": "python",
   "nbconvert_exporter": "python",
   "pygments_lexer": "ipython3",
   "version": "3.11.3"
  }
 },
 "nbformat": 4,
 "nbformat_minor": 5
}
