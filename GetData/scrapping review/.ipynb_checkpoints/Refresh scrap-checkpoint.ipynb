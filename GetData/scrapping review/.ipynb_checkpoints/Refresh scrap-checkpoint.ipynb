{
 "cells": [
  {
   "cell_type": "code",
   "execution_count": 1,
   "id": "48e76fe1",
   "metadata": {},
   "outputs": [],
   "source": [
    "import os\n",
    "import time\n",
    "import csv\n",
    "import re\n",
    "import codecs\n",
    "import contextlib\n",
    "from tqdm import tqdm\n",
    "from selenium import webdriver\n",
    "from selenium.webdriver.common.by import By\n",
    "from selenium.webdriver.common.keys import Keys\n",
    "from selenium.webdriver.support import expected_conditions as EC\n",
    "from selenium.common.exceptions import NoSuchElementException\n",
    "from selenium.webdriver.chrome.options import Options\n",
    "from selenium.webdriver.support.ui import WebDriverWait\n",
    "from selenium.webdriver.common.action_chains import ActionChains\n",
    "from selenium.common.exceptions import ElementNotInteractableException\n",
    "import logging\n",
    "from colorama import Fore, Style"
   ]
  },
  {
   "cell_type": "markdown",
   "id": "6233ab4a",
   "metadata": {},
   "source": [
    "# value basic buat reset scrapping"
   ]
  },
  {
   "cell_type": "code",
   "execution_count": 2,
   "id": "7af3f00e",
   "metadata": {},
   "outputs": [],
   "source": [
    "base = 1\n",
    "nomor = 1\n",
    "review_count = 0\n"
   ]
  },
  {
   "cell_type": "markdown",
   "id": "cbbbe023",
   "metadata": {},
   "source": [
    "## masukin jumlah review yang diinginkan per restoran\n",
    "\n",
    "#### note ga semua restoran bisa punya jumlah review yang dipengen tapi nanti di print overall nya kok"
   ]
  },
  {
   "cell_type": "code",
   "execution_count": 3,
   "id": "f168584e",
   "metadata": {},
   "outputs": [],
   "source": [
    "jumlah_review = 25 "
   ]
  },
  {
   "cell_type": "code",
   "execution_count": 4,
   "id": "7803efd7",
   "metadata": {},
   "outputs": [],
   "source": [
    "read_filename = \"restaurant_names.txt\"\n",
    "write_filename = \"review1.csv\""
   ]
  },
  {
   "cell_type": "code",
   "execution_count": 5,
   "id": "8a338a7d",
   "metadata": {},
   "outputs": [],
   "source": [
    "read_path =os.path.join(\"response\", read_filename)\n",
    "write_path = os.path.join(\"review\",write_filename)"
   ]
  },
  {
   "cell_type": "markdown",
   "id": "2ebc8550",
   "metadata": {},
   "source": [
    "#### function standar buat ngubah range (kelipatan 3+1 makanya gitu)"
   ]
  },
  {
   "cell_type": "code",
   "execution_count": 6,
   "id": "d681b478",
   "metadata": {},
   "outputs": [],
   "source": [
    "def changerange(basic):\n",
    "    global nomor\n",
    "    nomor = basic + 3"
   ]
  },
  {
   "cell_type": "markdown",
   "id": "fbf3ea96",
   "metadata": {},
   "source": [
    "#### function buat misahin experience"
   ]
  },
  {
   "cell_type": "code",
   "execution_count": 7,
   "id": "d0b75b08",
   "metadata": {},
   "outputs": [],
   "source": [
    "def separate_string(string):\n",
    "    global experience\n",
    "    global num_of_review\n",
    "    pattern = r'^(.*?)\\s·\\s(.*)$'\n",
    "    match = re.match(pattern, string)\n",
    "    if match:\n",
    "        experience = match.group(1).strip()\n",
    "        num_of_review = match.group(2).strip()\n",
    "    else:\n",
    "        experience = '-'\n",
    "        num_of_review = string.strip()"
   ]
  },
  {
   "cell_type": "code",
   "execution_count": 8,
   "id": "c6048792",
   "metadata": {},
   "outputs": [
    {
     "name": "stdout",
     "output_type": "stream",
     "text": [
      "local guide\n",
      "48 ulasan\n"
     ]
    }
   ],
   "source": [
    "latihan = 'local guide  · 48 ulasan'\n",
    "\n",
    "separate_string(latihan)\n",
    "\n",
    "print(experience)\n",
    "print(num_of_review)"
   ]
  },
  {
   "cell_type": "markdown",
   "id": "24984346",
   "metadata": {},
   "source": [
    "# function search\n",
    "\n",
    "### buat buka gmaps berdasarkan nama restaurantnya , gak dipake default gmaps soalnya suka error"
   ]
  },
  {
   "cell_type": "code",
   "execution_count": 9,
   "id": "631e03d8",
   "metadata": {},
   "outputs": [],
   "source": [
    "def search(name):\n",
    "    global driver , actions\n",
    "    global link\n",
    "    \n",
    "    link = \"https://www.google.com/maps/search/{} jogja\".format(name)\n",
    "    \n",
    "    #open up chrome and stuff\n",
    "    driver = webdriver.Chrome()\n",
    "    driver.get(link)\n",
    "    actions = ActionChains(driver)\n",
    "\n",
    "    # Ulasan button\n",
    "    review_button = WebDriverWait(driver, 10).until(EC.presence_of_element_located((By.XPATH, '/html/body/div[3]/div[9]/div[9]/div/div/div[1]/div[2]/div/div[1]/div/div/div[3]/div/div/button[2]')))\n",
    "    actions.move_to_element(review_button)\n",
    "    actions.click().perform()\n",
    "\n",
    "    # Click on the target element\n",
    "    target_element = WebDriverWait(driver, 10).until(EC.presence_of_element_located((By.XPATH, '/html/body/div[3]/div[9]/div[9]/div/div/div[1]/div[2]/div/div[1]/div/div/div[3]/div[7]/div[1]/div[1]/div[1]')))\n",
    "    target_element.click()\n",
    "\n",
    "    # Press the down arrow key multiple times\n",
    "    for _ in range(1500):  # Adjust the number of times to press the down arrow key as needed\n",
    "        actions.send_keys(Keys.ARROW_DOWN).perform()\n",
    "        \n",
    "        \n",
    "    time.sleep(10)\n",
    "\n",
    "    \n",
    "    print('starting scraping for:{}'.format(name))\n"
   ]
  },
  {
   "cell_type": "markdown",
   "id": "2d2ecff1",
   "metadata": {},
   "source": [
    "# function star counter buat ngitung bintang yang dikasih reviewer"
   ]
  },
  {
   "cell_type": "code",
   "execution_count": 10,
   "id": "f8d9498c",
   "metadata": {},
   "outputs": [],
   "source": [
    "def count_stars(stars_xpath):\n",
    "    global empty_star_count\n",
    "    global filled_star_count\n",
    "    \n",
    "    empty_star_count = 0\n",
    "    filled_star_count = 0\n",
    "    base_star = 0\n",
    "    empty_star_class = \"https://maps.gstatic.com/consumer/images/icons/2x/ic_star_rate_empty_14.png\"\n",
    "    filled_star_class = \"https://maps.gstatic.com/consumer/images/icons/2x/ic_star_rate_14.png\"\n",
    "    \n",
    "    for i in range(5):\n",
    "        base_star += 1\n",
    "        final_xpath = '{}[{}]'.format(stars_xpath, base_star)\n",
    "        \n",
    "        try:\n",
    "            stars = driver.find_elements(By.XPATH, final_xpath)\n",
    "\n",
    "            for star in stars:\n",
    "                class_name = star.get_attribute(\"src\")\n",
    "\n",
    "                if class_name == empty_star_class:\n",
    "                    empty_star_count += 1\n",
    "                elif class_name == filled_star_class:\n",
    "                    filled_star_count += 1\n",
    "        except Exception as e:\n",
    "            print('An error occurred during star counting:', str(e))\n",
    "    \n",
    "    return empty_star_count, filled_star_count\n"
   ]
  },
  {
   "cell_type": "markdown",
   "id": "2a307a51",
   "metadata": {},
   "source": [
    "## function buat ngescrap review sendiri "
   ]
  },
  {
   "cell_type": "code",
   "execution_count": 11,
   "id": "918ba720",
   "metadata": {},
   "outputs": [],
   "source": [
    "delay = 1\n",
    "def review_scrap():\n",
    "    global name, time_of_review, num_of_review, experience, review, filled_star_count, review_count, xpath_name\n",
    "\n",
    "    xpath_review = '/html/body/div[3]/div[9]/div[9]/div/div/div[1]/div[2]/div/div[1]/div/div/div[3]/div[9]/div[{}]/div/div/div[4]/div[2]/div/span[1]'.format(\n",
    "        str(nomor))\n",
    "    xpath_name = '/html/body/div[3]/div[9]/div[9]/div/div/div[1]/div[2]/div/div[1]/div/div/div[3]/div[9]/div[{}]/div/div/div[2]/div[2]/div[1]/button/div[1]'.format(\n",
    "        str(nomor))\n",
    "    xpath_button = '/html/body/div[3]/div[9]/div[9]/div/div/div[1]/div[2]/div/div[1]/div/div/div[3]/div[9]/div[{}]/div/div/div[4]/div[2]/div/span[2]/button'.format(\n",
    "        str(nomor))\n",
    "    xpath_star = '/html/body/div[3]/div[9]/div[9]/div/div/div[1]/div[2]/div/div[1]/div/div/div[3]/div[9]/div[{}]/div/div/div[4]/div[1]/span[1]/img'.format(\n",
    "        str(nomor))\n",
    "    xpath_exp = '/html/body/div[3]/div[9]/div[9]/div/div/div[1]/div[2]/div/div[1]/div/div/div[3]/div[9]/div[{}]/div/div/div[2]/div[2]/div[1]/button/div[2]'.format(\n",
    "        str(nomor))\n",
    "    xpath_time = '/html/body/div[3]/div[9]/div[9]/div/div/div[1]/div[2]/div/div[1]/div/div/div[3]/div[9]/div[{}]/div/div/div[4]/div[1]/span[2]'.format(\n",
    "        str(nomor))\n",
    "\n",
    "    # show more review\n",
    "    try:\n",
    "        maximize_button = WebDriverWait(driver, delay).until(EC.presence_of_element_located((By.XPATH, xpath_button)))\n",
    "        actions.move_to_element(maximize_button)\n",
    "        actions.click().perform()\n",
    "    except:\n",
    "        try:\n",
    "            xpath_button = '/html/body/div[3]/div[9]/div[9]/div/div/div[1]/div[2]/div/div[1]/div/div/div[3]/div[8]/div[{}]/div/div/div[4]/div[2]/div/span[2]/button'.format(\n",
    "                str(nomor))\n",
    "            maximize_button = WebDriverWait(driver, delay).until(EC.presence_of_element_located((By.XPATH, xpath_button)))\n",
    "            actions.move_to_element(maximize_button)\n",
    "            actions.click().perform()\n",
    "        except:\n",
    "            pass\n",
    "\n",
    "    # just believe me when I type this, somehow they change sometimes AAAAAAAAAAAAAAAAAAAAA\n",
    "    try:\n",
    "        raw_name = WebDriverWait(driver, delay).until(EC.presence_of_element_located((By.XPATH, xpath_name)))\n",
    "        raw_time = WebDriverWait(driver, delay).until(EC.presence_of_element_located((By.XPATH, xpath_time)))\n",
    "    except:\n",
    "        xpath_name = '/html/body/div[3]/div[9]/div[9]/div/div/div[1]/div[2]/div/div[1]/div/div/div[3]/div[8]/div[{}]/div/div/div[2]/div[2]/div[1]/button/div[1]'.format(\n",
    "            str(nomor))\n",
    "        \n",
    "        xpath_star = '/html/body/div[3]/div[9]/div[9]/div/div/div[1]/div[2]/div/div[1]/div/div/div[3]/div[8]/div[{}]/div/div/div[4]/div[1]/span[1]/img'.format(\n",
    "            str(nomor))\n",
    "        \n",
    "        raw_name = WebDriverWait(driver, delay).until(EC.presence_of_element_located((By.XPATH, xpath_name)))\n",
    "\n",
    "        xpath_time = '/html/body/div[3]/div[9]/div[9]/div/div/div[1]/div[2]/div/div[1]/div/div/div[3]/div[8]/div[{}]/div/div/div[4]/div[1]/span[2]'.format(\n",
    "            str(nomor))\n",
    "        \n",
    "        raw_time = WebDriverWait(driver,  delay).until(EC.presence_of_element_located((By.XPATH, xpath_time)))\n",
    "\n",
    "    name = raw_name.text\n",
    "    time_of_review = raw_time.text\n",
    "\n",
    "    try:\n",
    "        global experience, num_of_review\n",
    "\n",
    "        try:\n",
    "            raw_exp = WebDriverWait(driver,  delay).until(EC.presence_of_element_located((By.XPATH, xpath_exp)))\n",
    "            raw_review = WebDriverWait(driver,  delay).until(EC.presence_of_element_located((By.XPATH, xpath_review)))\n",
    "        except:\n",
    "            xpath_exp = '/html/body/div[3]/div[9]/div[9]/div/div/div[1]/div[2]/div/div[1]/div/div/div[3]/div[8]/div[{}]/div/div/div[2]/div[2]/div[1]/button/div[2]'.format(\n",
    "                str(nomor))\n",
    "            raw_exp = WebDriverWait(driver,  delay).until(EC.presence_of_element_located((By.XPATH, xpath_exp)))\n",
    "\n",
    "            xpath_review = '/html/body/div[3]/div[9]/div[9]/div/div/div[1]/div[2]/div/div[1]/div/div/div[3]/div[8]/div[{}]/div/div/div[4]/div[2]/div/span[1]'.format(\n",
    "                str(nomor))\n",
    "            raw_review = WebDriverWait(driver,  delay).until(EC.presence_of_element_located((By.XPATH, xpath_review)))\n",
    "\n",
    "        exp = raw_exp.text\n",
    "\n",
    "        separate_string(exp)\n",
    "        review = raw_review.text\n",
    "    except:\n",
    "        review = ''\n",
    "        experience = ''\n",
    "        num_of_review = ''\n",
    "\n",
    "    count_stars(xpath_star)\n",
    "\n",
    "    review_count += 1\n",
    "\n",
    "    # Uncomment the print statements below for debugging purposes\n",
    "#     print(\"====================\")\n",
    "#     print(f\"Reviewer: {name}\")\n",
    "#     print(f\"time of review : {time_of_review} \")\n",
    "#     print(f\"exp: {experience}\")\n",
    "#     print(f\"num: {num_of_review}\")\n",
    "#     print(f\"Review: {review}\")\n",
    "#     print(f\"Star:{filled_star_count}\")\n",
    "#     print(f\"empty Star:{empty_star_count}\")\n"
   ]
  },
  {
   "cell_type": "code",
   "execution_count": 12,
   "id": "f40fe4d5",
   "metadata": {},
   "outputs": [],
   "source": [
    "base = 1\n",
    "nomor = 1\n",
    "review_count = 0\n",
    "experience = ''\n",
    "num_of_review = ''"
   ]
  },
  {
   "cell_type": "code",
   "execution_count": 13,
   "id": "62d8184d",
   "metadata": {},
   "outputs": [],
   "source": [
    "# Define the fieldnames for the CSV file\n",
    "fieldnames = ['PLACE NAME','LINK','TIME', 'NAME', 'EXPERIENCE', 'NUMBER OF REVIEW', 'REVIEW', 'STAR']"
   ]
  },
  {
   "cell_type": "code",
   "execution_count": 15,
   "id": "472bf758",
   "metadata": {},
   "outputs": [
    {
     "name": "stdout",
     "output_type": "stream",
     "text": [
      "Roaster And Bear Restaurant is already scrapped. Check or delete the file if you want to rescrape it.\n",
      "Kalluna - Instagrammable Restaurant & Meeting Room is already scrapped. Check or delete the file if you want to rescrape it.\n",
      "Secret Garden Coffee and Chocolate is already scrapped. Check or delete the file if you want to rescrape it.\n",
      "Water castle cafe is already scrapped. Check or delete the file if you want to rescrape it.\n",
      "DOUBLE O Resto and Cafe is already scrapped. Check or delete the file if you want to rescrape it.\n",
      "Lecker Rumah Kopi & Resto is already scrapped. Check or delete the file if you want to rescrape it.\n",
      "POENOKAWAN CAFE RESTO & GALLERY is already scrapped. Check or delete the file if you want to rescrape it.\n",
      "starting scraping for:Palms Resto & Cafe\n"
     ]
    },
    {
     "name": "stderr",
     "output_type": "stream",
     "text": [
      "Scraping reviews for Palms Resto & Cafe: 100%|██████████████████████████████| 25/25 [05:24<00:00, 12.96s/it, Review=25]\n"
     ]
    },
    {
     "name": "stdout",
     "output_type": "stream",
     "text": [
      "Review scraping finished for Palms Resto & Cafe\n",
      "Warung Lawas is already scrapped. Check or delete the file if you want to rescrape it.\n",
      "starting scraping for:Atap Cafe & Resto\n"
     ]
    },
    {
     "name": "stderr",
     "output_type": "stream",
     "text": [
      "Scraping reviews for Atap Cafe & Resto:   4%|█▎                               | 1/25 [00:27<11:06, 27.79s/it, Review=1]\n"
     ]
    },
    {
     "ename": "TimeoutException",
     "evalue": "Message: \nStacktrace:\nBacktrace:\n\tGetHandleVerifier [0x00F38893+48451]\n\t(No symbol) [0x00ECB8A1]\n\t(No symbol) [0x00DD5058]\n\t(No symbol) [0x00E00467]\n\t(No symbol) [0x00E0069B]\n\t(No symbol) [0x00E2DD92]\n\t(No symbol) [0x00E1A304]\n\t(No symbol) [0x00E2C482]\n\t(No symbol) [0x00E1A0B6]\n\t(No symbol) [0x00DF7E08]\n\t(No symbol) [0x00DF8F2D]\n\tGetHandleVerifier [0x01198E3A+2540266]\n\tGetHandleVerifier [0x011D8959+2801161]\n\tGetHandleVerifier [0x011D295C+2776588]\n\tGetHandleVerifier [0x00FC2280+612144]\n\t(No symbol) [0x00ED4F6C]\n\t(No symbol) [0x00ED11D8]\n\t(No symbol) [0x00ED12BB]\n\t(No symbol) [0x00EC4857]\n\tBaseThreadInitThunk [0x76FF7D59+25]\n\tRtlInitializeExceptionChain [0x77C1B74B+107]\n\tRtlClearBits [0x77C1B6CF+191]\n",
     "output_type": "error",
     "traceback": [
      "\u001b[1;31m---------------------------------------------------------------------------\u001b[0m",
      "\u001b[1;31mTimeoutException\u001b[0m                          Traceback (most recent call last)",
      "Cell \u001b[1;32mIn[11], line 35\u001b[0m, in \u001b[0;36mreview_scrap\u001b[1;34m()\u001b[0m\n\u001b[0;32m     34\u001b[0m \u001b[38;5;28;01mtry\u001b[39;00m:\n\u001b[1;32m---> 35\u001b[0m     raw_name \u001b[38;5;241m=\u001b[39m \u001b[43mWebDriverWait\u001b[49m\u001b[43m(\u001b[49m\u001b[43mdriver\u001b[49m\u001b[43m,\u001b[49m\u001b[43m \u001b[49m\u001b[43mdelay\u001b[49m\u001b[43m)\u001b[49m\u001b[38;5;241;43m.\u001b[39;49m\u001b[43muntil\u001b[49m\u001b[43m(\u001b[49m\u001b[43mEC\u001b[49m\u001b[38;5;241;43m.\u001b[39;49m\u001b[43mpresence_of_element_located\u001b[49m\u001b[43m(\u001b[49m\u001b[43m(\u001b[49m\u001b[43mBy\u001b[49m\u001b[38;5;241;43m.\u001b[39;49m\u001b[43mXPATH\u001b[49m\u001b[43m,\u001b[49m\u001b[43m \u001b[49m\u001b[43mxpath_name\u001b[49m\u001b[43m)\u001b[49m\u001b[43m)\u001b[49m\u001b[43m)\u001b[49m\n\u001b[0;32m     36\u001b[0m     raw_time \u001b[38;5;241m=\u001b[39m WebDriverWait(driver, delay)\u001b[38;5;241m.\u001b[39muntil(EC\u001b[38;5;241m.\u001b[39mpresence_of_element_located((By\u001b[38;5;241m.\u001b[39mXPATH, xpath_time)))\n",
      "File \u001b[1;32m~\\AppData\\Local\\Programs\\Python\\Python311\\Lib\\site-packages\\selenium\\webdriver\\support\\wait.py:95\u001b[0m, in \u001b[0;36mWebDriverWait.until\u001b[1;34m(self, method, message)\u001b[0m\n\u001b[0;32m     94\u001b[0m         \u001b[38;5;28;01mbreak\u001b[39;00m\n\u001b[1;32m---> 95\u001b[0m \u001b[38;5;28;01mraise\u001b[39;00m TimeoutException(message, screen, stacktrace)\n",
      "\u001b[1;31mTimeoutException\u001b[0m: Message: \nStacktrace:\nBacktrace:\n\tGetHandleVerifier [0x00F38893+48451]\n\t(No symbol) [0x00ECB8A1]\n\t(No symbol) [0x00DD5058]\n\t(No symbol) [0x00E00467]\n\t(No symbol) [0x00E0069B]\n\t(No symbol) [0x00E2DD92]\n\t(No symbol) [0x00E1A304]\n\t(No symbol) [0x00E2C482]\n\t(No symbol) [0x00E1A0B6]\n\t(No symbol) [0x00DF7E08]\n\t(No symbol) [0x00DF8F2D]\n\tGetHandleVerifier [0x01198E3A+2540266]\n\tGetHandleVerifier [0x011D8959+2801161]\n\tGetHandleVerifier [0x011D295C+2776588]\n\tGetHandleVerifier [0x00FC2280+612144]\n\t(No symbol) [0x00ED4F6C]\n\t(No symbol) [0x00ED11D8]\n\t(No symbol) [0x00ED12BB]\n\t(No symbol) [0x00EC4857]\n\tBaseThreadInitThunk [0x76FF7D59+25]\n\tRtlInitializeExceptionChain [0x77C1B74B+107]\n\tRtlClearBits [0x77C1B6CF+191]\n",
      "\nDuring handling of the above exception, another exception occurred:\n",
      "\u001b[1;31mTimeoutException\u001b[0m                          Traceback (most recent call last)",
      "Cell \u001b[1;32mIn[15], line 51\u001b[0m\n\u001b[0;32m     48\u001b[0m progress_bar \u001b[38;5;241m=\u001b[39m tqdm(\u001b[38;5;28mrange\u001b[39m(jumlah_review), desc\u001b[38;5;241m=\u001b[39m\u001b[38;5;124mf\u001b[39m\u001b[38;5;124m\"\u001b[39m\u001b[38;5;124mScraping reviews for \u001b[39m\u001b[38;5;132;01m{\u001b[39;00mNAMA\u001b[38;5;132;01m}\u001b[39;00m\u001b[38;5;124m\"\u001b[39m)\n\u001b[0;32m     50\u001b[0m \u001b[38;5;28;01mfor\u001b[39;00m x \u001b[38;5;129;01min\u001b[39;00m progress_bar:\n\u001b[1;32m---> 51\u001b[0m     \u001b[43mreview_scrap\u001b[49m\u001b[43m(\u001b[49m\u001b[43m)\u001b[49m\n\u001b[0;32m     52\u001b[0m     changerange(nomor)\n\u001b[0;32m     54\u001b[0m     details_dict \u001b[38;5;241m=\u001b[39m {\n\u001b[0;32m     55\u001b[0m         \u001b[38;5;124m'\u001b[39m\u001b[38;5;124mTIME\u001b[39m\u001b[38;5;124m'\u001b[39m: time_of_review,\n\u001b[0;32m     56\u001b[0m         \u001b[38;5;124m'\u001b[39m\u001b[38;5;124mNAME\u001b[39m\u001b[38;5;124m'\u001b[39m: name,\n\u001b[1;32m   (...)\u001b[0m\n\u001b[0;32m     60\u001b[0m         \u001b[38;5;124m'\u001b[39m\u001b[38;5;124mSTAR\u001b[39m\u001b[38;5;124m'\u001b[39m: filled_star_count\n\u001b[0;32m     61\u001b[0m     }\n",
      "Cell \u001b[1;32mIn[11], line 44\u001b[0m, in \u001b[0;36mreview_scrap\u001b[1;34m()\u001b[0m\n\u001b[0;32m     38\u001b[0m xpath_name \u001b[38;5;241m=\u001b[39m \u001b[38;5;124m'\u001b[39m\u001b[38;5;124m/html/body/div[3]/div[9]/div[9]/div/div/div[1]/div[2]/div/div[1]/div/div/div[3]/div[8]/div[\u001b[39m\u001b[38;5;132;01m{}\u001b[39;00m\u001b[38;5;124m]/div/div/div[2]/div[2]/div[1]/button/div[1]\u001b[39m\u001b[38;5;124m'\u001b[39m\u001b[38;5;241m.\u001b[39mformat(\n\u001b[0;32m     39\u001b[0m     \u001b[38;5;28mstr\u001b[39m(nomor))\n\u001b[0;32m     41\u001b[0m xpath_star \u001b[38;5;241m=\u001b[39m \u001b[38;5;124m'\u001b[39m\u001b[38;5;124m/html/body/div[3]/div[9]/div[9]/div/div/div[1]/div[2]/div/div[1]/div/div/div[3]/div[8]/div[\u001b[39m\u001b[38;5;132;01m{}\u001b[39;00m\u001b[38;5;124m]/div/div/div[4]/div[1]/span[1]/img\u001b[39m\u001b[38;5;124m'\u001b[39m\u001b[38;5;241m.\u001b[39mformat(\n\u001b[0;32m     42\u001b[0m     \u001b[38;5;28mstr\u001b[39m(nomor))\n\u001b[1;32m---> 44\u001b[0m raw_name \u001b[38;5;241m=\u001b[39m \u001b[43mWebDriverWait\u001b[49m\u001b[43m(\u001b[49m\u001b[43mdriver\u001b[49m\u001b[43m,\u001b[49m\u001b[43m \u001b[49m\u001b[43mdelay\u001b[49m\u001b[43m)\u001b[49m\u001b[38;5;241;43m.\u001b[39;49m\u001b[43muntil\u001b[49m\u001b[43m(\u001b[49m\u001b[43mEC\u001b[49m\u001b[38;5;241;43m.\u001b[39;49m\u001b[43mpresence_of_element_located\u001b[49m\u001b[43m(\u001b[49m\u001b[43m(\u001b[49m\u001b[43mBy\u001b[49m\u001b[38;5;241;43m.\u001b[39;49m\u001b[43mXPATH\u001b[49m\u001b[43m,\u001b[49m\u001b[43m \u001b[49m\u001b[43mxpath_name\u001b[49m\u001b[43m)\u001b[49m\u001b[43m)\u001b[49m\u001b[43m)\u001b[49m\n\u001b[0;32m     46\u001b[0m xpath_time \u001b[38;5;241m=\u001b[39m \u001b[38;5;124m'\u001b[39m\u001b[38;5;124m/html/body/div[3]/div[9]/div[9]/div/div/div[1]/div[2]/div/div[1]/div/div/div[3]/div[8]/div[\u001b[39m\u001b[38;5;132;01m{}\u001b[39;00m\u001b[38;5;124m]/div/div/div[4]/div[1]/span[2]\u001b[39m\u001b[38;5;124m'\u001b[39m\u001b[38;5;241m.\u001b[39mformat(\n\u001b[0;32m     47\u001b[0m     \u001b[38;5;28mstr\u001b[39m(nomor))\n\u001b[0;32m     49\u001b[0m raw_time \u001b[38;5;241m=\u001b[39m WebDriverWait(driver,  delay)\u001b[38;5;241m.\u001b[39muntil(EC\u001b[38;5;241m.\u001b[39mpresence_of_element_located((By\u001b[38;5;241m.\u001b[39mXPATH, xpath_time)))\n",
      "File \u001b[1;32m~\\AppData\\Local\\Programs\\Python\\Python311\\Lib\\site-packages\\selenium\\webdriver\\support\\wait.py:95\u001b[0m, in \u001b[0;36mWebDriverWait.until\u001b[1;34m(self, method, message)\u001b[0m\n\u001b[0;32m     93\u001b[0m     \u001b[38;5;28;01mif\u001b[39;00m time\u001b[38;5;241m.\u001b[39mmonotonic() \u001b[38;5;241m>\u001b[39m end_time:\n\u001b[0;32m     94\u001b[0m         \u001b[38;5;28;01mbreak\u001b[39;00m\n\u001b[1;32m---> 95\u001b[0m \u001b[38;5;28;01mraise\u001b[39;00m TimeoutException(message, screen, stacktrace)\n",
      "\u001b[1;31mTimeoutException\u001b[0m: Message: \nStacktrace:\nBacktrace:\n\tGetHandleVerifier [0x00F38893+48451]\n\t(No symbol) [0x00ECB8A1]\n\t(No symbol) [0x00DD5058]\n\t(No symbol) [0x00E00467]\n\t(No symbol) [0x00E0069B]\n\t(No symbol) [0x00E2DD92]\n\t(No symbol) [0x00E1A304]\n\t(No symbol) [0x00E2C482]\n\t(No symbol) [0x00E1A0B6]\n\t(No symbol) [0x00DF7E08]\n\t(No symbol) [0x00DF8F2D]\n\tGetHandleVerifier [0x01198E3A+2540266]\n\tGetHandleVerifier [0x011D8959+2801161]\n\tGetHandleVerifier [0x011D295C+2776588]\n\tGetHandleVerifier [0x00FC2280+612144]\n\t(No symbol) [0x00ED4F6C]\n\t(No symbol) [0x00ED11D8]\n\t(No symbol) [0x00ED12BB]\n\t(No symbol) [0x00EC4857]\n\tBaseThreadInitThunk [0x76FF7D59+25]\n\tRtlInitializeExceptionChain [0x77C1B74B+107]\n\tRtlClearBits [0x77C1B6CF+191]\n"
     ]
    }
   ],
   "source": [
    "driver = webdriver.Chrome()\n",
    "# Create the 'review' directory if it doesn't exist\n",
    "os.makedirs('review', exist_ok=True)\n",
    "\n",
    "# Open the input file and loop through each vessel name\n",
    "with open(read_path, newline='') as csvfile:\n",
    "    reader = csv.reader(csvfile)\n",
    "\n",
    "    next(reader)\n",
    "    for row in reader:\n",
    "        NAMA = row[0]\n",
    "        nomor = 1\n",
    "        review_count = 0\n",
    "\n",
    "        # Generate the write file path based on the restaurant name\n",
    "        write_filename = f\"{NAMA}.csv\"\n",
    "        write_path = os.path.join(\"review\", write_filename)\n",
    "\n",
    "        # Check if the file already exists and its size is larger than 3KB\n",
    "        if os.path.exists(write_path) and os.path.getsize(write_path) > 1000:\n",
    "            print(f\"{NAMA} is already scrapped. Check or delete the file if you want to rescrape it.\")\n",
    "            driver.quit()  # Close the webdriver\n",
    "            continue\n",
    "\n",
    "        search(NAMA)\n",
    "\n",
    "        # Open the CSV file for writing with UTF-8 encoding\n",
    "        with codecs.open(write_path, mode='w', encoding='utf-8', errors='ignore') as details_file:\n",
    "            writer = csv.DictWriter(details_file, fieldnames=fieldnames)\n",
    "            writer.writeheader()\n",
    "\n",
    "            # Write the name and link as separate rows\n",
    "            writer.writerow({'PLACE NAME': NAMA})\n",
    "            writer.writerow({'LINK': link})\n",
    "            writer.writerow({})  # Empty row for separation\n",
    "\n",
    "            # Write the column headers\n",
    "            writer.writerow({\n",
    "                'TIME': 'TIME',\n",
    "                'NAME': 'NAME',\n",
    "                'EXPERIENCE': 'EXPERIENCE',\n",
    "                'NUMBER OF REVIEW': 'NUMBER OF REVIEW',\n",
    "                'REVIEW': 'REVIEW',\n",
    "                'STAR': 'STAR'\n",
    "            })\n",
    "\n",
    "            # Use tqdm to create a progress bar\n",
    "            progress_bar = tqdm(range(jumlah_review), desc=f\"Scraping reviews for {NAMA}\")\n",
    "\n",
    "            for x in progress_bar:\n",
    "                try:\n",
    "                    review_scrap()\n",
    "                    changerange(nomor)\n",
    "                except:\n",
    "                    pass\n",
    "\n",
    "                details_dict = {\n",
    "                    'TIME': time_of_review,\n",
    "                    'NAME': name,\n",
    "                    'EXPERIENCE': experience,\n",
    "                    'NUMBER OF REVIEW': num_of_review,\n",
    "                    'REVIEW': review,\n",
    "                    'STAR': filled_star_count\n",
    "                }\n",
    "\n",
    "                writer.writerow(details_dict)\n",
    "\n",
    "                # Update the progress bar\n",
    "                progress_bar.set_postfix({'Review': x + 1})\n",
    "\n",
    "            # Close the progress bar\n",
    "            progress_bar.close()\n",
    "\n",
    "            print(f\"Review scraping finished for {NAMA}\")\n"
   ]
  },
  {
   "cell_type": "code",
   "execution_count": null,
   "id": "33eb91b1",
   "metadata": {},
   "outputs": [],
   "source": [
    "print(xpath_name)"
   ]
  },
  {
   "cell_type": "code",
   "execution_count": null,
   "id": "f44b4104",
   "metadata": {},
   "outputs": [],
   "source": []
  },
  {
   "cell_type": "markdown",
   "id": "a017b818",
   "metadata": {},
   "source": [
    "# test cell buat scrapping"
   ]
  },
  {
   "cell_type": "code",
   "execution_count": null,
   "id": "d85957ed",
   "metadata": {},
   "outputs": [],
   "source": [
    "# test cell\n",
    "nama = 'Jogja Festival Resto And Fun Cafe'\n",
    "search(nama)\n",
    "\n",
    "for x in range(jumlah_review):\n",
    "    review_scrap()\n",
    "    changerange(nomor)\n",
    "    details_dict = {'NAME': name, 'REVIEW': review}\n",
    "\n",
    "print(f\"Total Reviews: {review_count}\")\n",
    "#driver.quit()  # Close the webdriver"
   ]
  }
 ],
 "metadata": {
  "kernelspec": {
   "display_name": "Python 3 (ipykernel)",
   "language": "python",
   "name": "python3"
  },
  "language_info": {
   "codemirror_mode": {
    "name": "ipython",
    "version": 3
   },
   "file_extension": ".py",
   "mimetype": "text/x-python",
   "name": "python",
   "nbconvert_exporter": "python",
   "pygments_lexer": "ipython3",
   "version": "3.11.3"
  }
 },
 "nbformat": 4,
 "nbformat_minor": 5
}
