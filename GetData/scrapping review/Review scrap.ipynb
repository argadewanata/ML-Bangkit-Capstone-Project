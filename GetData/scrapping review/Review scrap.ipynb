{
 "cells": [
  {
   "cell_type": "code",
   "execution_count": 2,
   "id": "f689faa9",
   "metadata": {},
   "outputs": [],
   "source": [
    "import os\n",
    "import time\n",
    "import csv\n",
    "import re\n",
    "import codecs\n",
    "import contextlib\n",
    "from tqdm import tqdm\n",
    "from selenium import webdriver\n",
    "from selenium.webdriver.common.by import By\n",
    "from selenium.webdriver.common.keys import Keys\n",
    "from selenium.webdriver.support import expected_conditions as EC\n",
    "from selenium.common.exceptions import NoSuchElementException\n",
    "from selenium.webdriver.chrome.options import Options\n",
    "from selenium.webdriver.support.ui import WebDriverWait\n",
    "from selenium.webdriver.common.action_chains import ActionChains\n",
    "from selenium.common.exceptions import ElementNotInteractableException"
   ]
  },
  {
   "cell_type": "markdown",
   "id": "46348de8",
   "metadata": {},
   "source": [
    "### setup area"
   ]
  },
  {
   "cell_type": "code",
   "execution_count": 3,
   "id": "33cce47b",
   "metadata": {},
   "outputs": [],
   "source": [
    "base = 1\n",
    "nomor = 1\n",
    "review_count = 0"
   ]
  },
  {
   "cell_type": "code",
   "execution_count": 4,
   "id": "4172f4d7",
   "metadata": {},
   "outputs": [],
   "source": [
    "jumlah_review = 25 "
   ]
  },
  {
   "cell_type": "code",
   "execution_count": 5,
   "id": "ba514d34",
   "metadata": {},
   "outputs": [],
   "source": [
    "read_filename = \"names.csv\"\n",
    "write_filename = \"review1.csv\"\n",
    "\n",
    "read_path =os.path.join(\"response\", read_filename)\n",
    "write_path = os.path.join(\"review\",write_filename)"
   ]
  },
  {
   "cell_type": "markdown",
   "id": "bde12c6d",
   "metadata": {},
   "source": [
    "## sub function"
   ]
  },
  {
   "cell_type": "code",
   "execution_count": 6,
   "id": "01db4fc5",
   "metadata": {},
   "outputs": [],
   "source": [
    "def changerange(basic):\n",
    "    global nomor\n",
    "    nomor = basic + 3"
   ]
  },
  {
   "cell_type": "code",
   "execution_count": 7,
   "id": "973f52fe",
   "metadata": {},
   "outputs": [],
   "source": [
    "def clean_filename(filename):\n",
    "    global cleaned_filename\n",
    "    # Remove special characters using regular expressions\n",
    "    cleaned_filename = re.sub(r'[^\\w\\s.-]', '', filename)"
   ]
  },
  {
   "cell_type": "code",
   "execution_count": 8,
   "id": "0aa71862",
   "metadata": {},
   "outputs": [],
   "source": [
    "def separate_string(string):\n",
    "    global experience\n",
    "    global num_of_review\n",
    "    pattern = r'^(.*?)\\s·\\s(.*)$'\n",
    "    match = re.match(pattern, string)\n",
    "    if match:\n",
    "        experience = match.group(1).strip()\n",
    "        num_of_review = match.group(2).strip()\n",
    "    else:\n",
    "        experience = '-'\n",
    "        num_of_review = string.strip()"
   ]
  },
  {
   "cell_type": "markdown",
   "id": "c103bfd6",
   "metadata": {},
   "source": [
    "## Google maps function"
   ]
  },
  {
   "cell_type": "code",
   "execution_count": 9,
   "id": "e4bad139",
   "metadata": {},
   "outputs": [],
   "source": [
    "def search(name):\n",
    "    global driver , actions\n",
    "    global link\n",
    "    \n",
    "    link = \"https://www.google.com/maps/search/{} jogja\".format(name)\n",
    "    \n",
    "    #open up chrome and stuff\n",
    "    driver = webdriver.Chrome()\n",
    "    driver.get(link)\n",
    "    actions = ActionChains(driver)\n",
    "    \n",
    "    #kalau gak langsung ketemu\n",
    "    \n",
    "    try:\n",
    "        restaurant_link = driver.find_elements(By.XPATH, '/html/body/div[3]/div[9]/div[9]/div/div/div[1]/div[2]/div/div[1]/div/div/div[2]/div[1]/div[3]/div/a')\n",
    "        \n",
    "        for links in restaurant_link:\n",
    "            link = links.get_attribute(\"href\")\n",
    "            driver.get(link)\n",
    "    except:\n",
    "        pass\n",
    "        \n",
    "    \n"
   ]
  },
  {
   "cell_type": "code",
   "execution_count": 10,
   "id": "73f1d245",
   "metadata": {},
   "outputs": [],
   "source": [
    "def review_button():\n",
    "    # Ulasan button\n",
    "    review_button = WebDriverWait(driver, 10).until(EC.presence_of_element_located((By.XPATH, '/html/body/div[3]/div[9]/div[9]/div/div/div[1]/div[2]/div/div[1]/div/div/div[3]/div/div/button[2]')))\n",
    "    actions.move_to_element(review_button)\n",
    "    actions.click().perform()\n",
    "\n",
    "    # Click on the target element\n",
    "    target_element = WebDriverWait(driver, 10).until(EC.presence_of_element_located((By.XPATH, '/html/body/div[3]/div[9]/div[9]/div/div/div[1]/div[2]/div/div[1]/div/div/div[3]/div[7]/div[1]/div[1]/div[1]')))\n",
    "    target_element.click()\n",
    "\n",
    "    # Press the down arrow key multiple times\n",
    "    for _ in range(1500):  # Adjust the number of times to press the down arrow key as needed\n",
    "        actions.send_keys(Keys.ARROW_DOWN).perform()\n",
    "        \n",
    "        \n",
    "    time.sleep(10)"
   ]
  },
  {
   "cell_type": "markdown",
   "id": "eef28642",
   "metadata": {},
   "source": [
    "## scrapping function"
   ]
  },
  {
   "cell_type": "code",
   "execution_count": 11,
   "id": "ff2cbdf5",
   "metadata": {},
   "outputs": [],
   "source": [
    "def count_stars(stars_xpath):\n",
    "    global empty_star_count\n",
    "    global filled_star_count\n",
    "    \n",
    "    empty_star_count = 0\n",
    "    filled_star_count = 0\n",
    "    base_star = 0\n",
    "    empty_star_class = \"https://maps.gstatic.com/consumer/images/icons/2x/ic_star_rate_empty_14.png\"\n",
    "    filled_star_class = \"https://maps.gstatic.com/consumer/images/icons/2x/ic_star_rate_14.png\"\n",
    "    \n",
    "    for i in range(5):\n",
    "        base_star += 1\n",
    "        final_xpath = '{}[{}]'.format(stars_xpath, base_star)\n",
    "        \n",
    "        try:\n",
    "            stars = driver.find_elements(By.XPATH, final_xpath)\n",
    "\n",
    "            for star in stars:\n",
    "                class_name = star.get_attribute(\"src\")\n",
    "\n",
    "                if class_name == empty_star_class:\n",
    "                    empty_star_count += 1\n",
    "                elif class_name == filled_star_class:\n",
    "                    filled_star_count += 1\n",
    "        except Exception as e:\n",
    "            print('An error occurred during star counting:', str(e))\n",
    "    \n",
    "    return empty_star_count, filled_star_count"
   ]
  },
  {
   "cell_type": "code",
   "execution_count": 12,
   "id": "08630e76",
   "metadata": {},
   "outputs": [],
   "source": [
    "delay = 1\n",
    "def review_scrap():\n",
    "    global name, time_of_review, num_of_review, experience, review, filled_star_count, review_count, xpath_name\n",
    "\n",
    "    xpath_review = '/html/body/div[3]/div[9]/div[9]/div/div/div[1]/div[2]/div/div[1]/div/div/div[3]/div[9]/div[{}]/div/div/div[4]/div[2]/div/span[1]'.format(\n",
    "        str(nomor))\n",
    "    xpath_name = '/html/body/div[3]/div[9]/div[9]/div/div/div[1]/div[2]/div/div[1]/div/div/div[3]/div[9]/div[{}]/div/div/div[2]/div[2]/div[1]/button/div[1]'.format(\n",
    "        str(nomor))\n",
    "    xpath_button = '/html/body/div[3]/div[9]/div[9]/div/div/div[1]/div[2]/div/div[1]/div/div/div[3]/div[9]/div[{}]/div/div/div[4]/div[2]/div/span[2]/button'.format(\n",
    "        str(nomor))\n",
    "    xpath_star = '/html/body/div[3]/div[9]/div[9]/div/div/div[1]/div[2]/div/div[1]/div/div/div[3]/div[9]/div[{}]/div/div/div[4]/div[1]/span[1]/img'.format(\n",
    "        str(nomor))\n",
    "    xpath_exp = '/html/body/div[3]/div[9]/div[9]/div/div/div[1]/div[2]/div/div[1]/div/div/div[3]/div[9]/div[{}]/div/div/div[2]/div[2]/div[1]/button/div[2]'.format(\n",
    "        str(nomor))\n",
    "    xpath_time = '/html/body/div[3]/div[9]/div[9]/div/div/div[1]/div[2]/div/div[1]/div/div/div[3]/div[9]/div[{}]/div/div/div[4]/div[1]/span[2]'.format(\n",
    "        str(nomor))\n",
    "\n",
    "    # show more review\n",
    "    try:\n",
    "        maximize_button = WebDriverWait(driver, delay).until(EC.presence_of_element_located((By.XPATH, xpath_button)))\n",
    "        actions.move_to_element(maximize_button)\n",
    "        actions.click().perform()\n",
    "    except:\n",
    "        try:\n",
    "            xpath_button = '/html/body/div[3]/div[9]/div[9]/div/div/div[1]/div[2]/div/div[1]/div/div/div[3]/div[8]/div[{}]/div/div/div[4]/div[2]/div/span[2]/button'.format(\n",
    "                str(nomor))\n",
    "            maximize_button = WebDriverWait(driver, delay).until(EC.presence_of_element_located((By.XPATH, xpath_button)))\n",
    "            actions.move_to_element(maximize_button)\n",
    "            actions.click().perform()\n",
    "        except:\n",
    "            pass\n",
    "\n",
    "    # just believe me when I type this, somehow they change sometimes AAAAAAAAAAAAAAAAAAAAA\n",
    "    try:\n",
    "        raw_name = WebDriverWait(driver, delay).until(EC.presence_of_element_located((By.XPATH, xpath_name)))\n",
    "        raw_time = WebDriverWait(driver, delay).until(EC.presence_of_element_located((By.XPATH, xpath_time)))\n",
    "    except:\n",
    "        xpath_name = '/html/body/div[3]/div[9]/div[9]/div/div/div[1]/div[2]/div/div[1]/div/div/div[3]/div[8]/div[{}]/div/div/div[2]/div[2]/div[1]/button/div[1]'.format(\n",
    "            str(nomor))\n",
    "        \n",
    "        xpath_star = '/html/body/div[3]/div[9]/div[9]/div/div/div[1]/div[2]/div/div[1]/div/div/div[3]/div[8]/div[{}]/div/div/div[4]/div[1]/span[1]/img'.format(\n",
    "            str(nomor))\n",
    "        \n",
    "        raw_name = WebDriverWait(driver, delay).until(EC.presence_of_element_located((By.XPATH, xpath_name)))\n",
    "\n",
    "        xpath_time = '/html/body/div[3]/div[9]/div[9]/div/div/div[1]/div[2]/div/div[1]/div/div/div[3]/div[8]/div[{}]/div/div/div[4]/div[1]/span[2]'.format(\n",
    "            str(nomor))\n",
    "        \n",
    "        raw_time = WebDriverWait(driver,  delay).until(EC.presence_of_element_located((By.XPATH, xpath_time)))\n",
    "\n",
    "    name = raw_name.text\n",
    "    time_of_review = raw_time.text\n",
    "\n",
    "    try:\n",
    "        global experience, num_of_review\n",
    "\n",
    "        try:\n",
    "            raw_exp = WebDriverWait(driver,  delay).until(EC.presence_of_element_located((By.XPATH, xpath_exp)))\n",
    "            raw_review = WebDriverWait(driver,  delay).until(EC.presence_of_element_located((By.XPATH, xpath_review)))\n",
    "        except:\n",
    "            xpath_exp = '/html/body/div[3]/div[9]/div[9]/div/div/div[1]/div[2]/div/div[1]/div/div/div[3]/div[8]/div[{}]/div/div/div[2]/div[2]/div[1]/button/div[2]'.format(\n",
    "                str(nomor))\n",
    "            raw_exp = WebDriverWait(driver,  delay).until(EC.presence_of_element_located((By.XPATH, xpath_exp)))\n",
    "\n",
    "            xpath_review = '/html/body/div[3]/div[9]/div[9]/div/div/div[1]/div[2]/div/div[1]/div/div/div[3]/div[8]/div[{}]/div/div/div[4]/div[2]/div/span[1]'.format(\n",
    "                str(nomor))\n",
    "            raw_review = WebDriverWait(driver,  delay).until(EC.presence_of_element_located((By.XPATH, xpath_review)))\n",
    "\n",
    "        exp = raw_exp.text\n",
    "\n",
    "        separate_string(exp)\n",
    "        review = raw_review.text\n",
    "    except:\n",
    "        review = ''\n",
    "        experience = ''\n",
    "        num_of_review = ''\n",
    "\n",
    "    count_stars(xpath_star)\n",
    "\n",
    "    review_count += 1\n",
    "\n",
    "    # Uncomment the print statements below for debugging purposes\n",
    "#     print(\"====================\")\n",
    "#     print(f\"Reviewer: {name}\")\n",
    "#     print(f\"time of review : {time_of_review} \")\n",
    "#     print(f\"exp: {experience}\")\n",
    "#     print(f\"num: {num_of_review}\")\n",
    "#     print(f\"Review: {review}\")\n",
    "#     print(f\"Star:{filled_star_count}\")\n",
    "#     print(f\"empty Star:{empty_star_count}\")"
   ]
  },
  {
   "cell_type": "markdown",
   "id": "a95cb128",
   "metadata": {},
   "source": [
    "### csv file setup"
   ]
  },
  {
   "cell_type": "code",
   "execution_count": 13,
   "id": "f1694c89",
   "metadata": {},
   "outputs": [],
   "source": [
    "# Define the fieldnames for the CSV file\n",
    "fieldnames = ['PLACE NAME','LINK','TIME', 'NAME', 'EXPERIENCE', 'NUMBER OF REVIEW', 'REVIEW', 'STAR']"
   ]
  },
  {
   "cell_type": "markdown",
   "id": "906efc9a",
   "metadata": {},
   "source": [
    "# RUN THIS"
   ]
  },
  {
   "cell_type": "code",
   "execution_count": 16,
   "id": "679a72c7",
   "metadata": {
    "scrolled": false
   },
   "outputs": [
    {
     "name": "stdout",
     "output_type": "stream",
     "text": [
      "LOKO CAFE STASIUN TUGU is already scrapped. Check or delete the file if you want to rescrape it.\n",
      "starting scraping for:TUGU LOR\n"
     ]
    },
    {
     "name": "stderr",
     "output_type": "stream",
     "text": [
      "Scraping reviews for TUGU LOR: 100%|████████████████████████████████████████| 25/25 [00:16<00:00,  1.55it/s, Review=25]\n"
     ]
    },
    {
     "name": "stdout",
     "output_type": "stream",
     "text": [
      "Review scraping finished for TUGU LOR\n",
      "Ramu Nostalgia - Tugu Yogyakarta is already scrapped. Check or delete the file if you want to rescrape it.\n",
      "starting scraping for:Kedai Kolega Tugu\n"
     ]
    },
    {
     "name": "stderr",
     "output_type": "stream",
     "text": [
      "Scraping reviews for Kedai Kolega Tugu: 100%|███████████████████████████████| 25/25 [00:36<00:00,  1.47s/it, Review=25]\n"
     ]
    },
    {
     "name": "stdout",
     "output_type": "stream",
     "text": [
      "Review scraping finished for Kedai Kolega Tugu\n",
      "starting scraping for:Wedangan\n"
     ]
    },
    {
     "name": "stderr",
     "output_type": "stream",
     "text": [
      "Scraping reviews for Wedangan: 100%|████████████████████████████████████████| 25/25 [01:42<00:00,  4.09s/it, Review=25]\n"
     ]
    },
    {
     "name": "stdout",
     "output_type": "stream",
     "text": [
      "Review scraping finished for Wedangan\n",
      "starting scraping for:SENJA croissant sandwich Tugu Jogja\n"
     ]
    },
    {
     "name": "stderr",
     "output_type": "stream",
     "text": [
      "Scraping reviews for SENJA croissant sandwich Tugu Jogja: 100%|█████████████| 25/25 [01:47<00:00,  4.32s/it, Review=25]\n"
     ]
    },
    {
     "name": "stdout",
     "output_type": "stream",
     "text": [
      "Review scraping finished for SENJA croissant sandwich Tugu Jogja\n",
      "starting scraping for:Angkringan Kopi Joss Tugu Mbak lina\n"
     ]
    },
    {
     "name": "stderr",
     "output_type": "stream",
     "text": [
      "Scraping reviews for Angkringan Kopi Joss Tugu Mbak lina: 100%|█████████████| 25/25 [01:23<00:00,  3.33s/it, Review=25]\n"
     ]
    },
    {
     "name": "stdout",
     "output_type": "stream",
     "text": [
      "Review scraping finished for Angkringan Kopi Joss Tugu Mbak lina\n",
      "starting scraping for:Kopi Tugu\n"
     ]
    },
    {
     "name": "stderr",
     "output_type": "stream",
     "text": [
      "Scraping reviews for Kopi Tugu: 100%|███████████████████████████████████████| 25/25 [00:47<00:00,  1.91s/it, Review=25]\n"
     ]
    },
    {
     "name": "stdout",
     "output_type": "stream",
     "text": [
      "Review scraping finished for Kopi Tugu\n",
      "starting scraping for:Angkringan wulan ndari stasiun tugu\n"
     ]
    },
    {
     "name": "stderr",
     "output_type": "stream",
     "text": [
      "Scraping reviews for Angkringan wulan ndari stasiun tugu: 100%|█████████████| 25/25 [01:46<00:00,  4.24s/it, Review=25]\n"
     ]
    },
    {
     "name": "stdout",
     "output_type": "stream",
     "text": [
      "Review scraping finished for Angkringan wulan ndari stasiun tugu\n",
      "starting scraping for:Kopi Joss Lek No\n"
     ]
    },
    {
     "name": "stderr",
     "output_type": "stream",
     "text": [
      "Scraping reviews for Kopi Joss Lek No: 100%|████████████████████████████████| 25/25 [00:27<00:00,  1.08s/it, Review=25]\n"
     ]
    },
    {
     "name": "stdout",
     "output_type": "stream",
     "text": [
      "Review scraping finished for Kopi Joss Lek No\n",
      "starting scraping for:Loko Coffee Shop Malioboro Yogyakarta\n"
     ]
    },
    {
     "name": "stderr",
     "output_type": "stream",
     "text": [
      "Scraping reviews for Loko Coffee Shop Malioboro Yogyakarta: 100%|███████████| 25/25 [00:23<00:00,  1.05it/s, Review=25]\n"
     ]
    },
    {
     "name": "stdout",
     "output_type": "stream",
     "text": [
      "Review scraping finished for Loko Coffee Shop Malioboro Yogyakarta\n",
      "starting scraping for:Pink Elephant 101 Tugu\n"
     ]
    },
    {
     "name": "stderr",
     "output_type": "stream",
     "text": [
      "Scraping reviews for Pink Elephant 101 Tugu: 100%|██████████████████████████| 25/25 [00:53<00:00,  2.15s/it, Review=25]\n"
     ]
    },
    {
     "name": "stdout",
     "output_type": "stream",
     "text": [
      "Review scraping finished for Pink Elephant 101 Tugu\n",
      "starting scraping for:ES TEH NUSANTARA - TUGU JOGJA\n"
     ]
    },
    {
     "name": "stderr",
     "output_type": "stream",
     "text": [
      "Scraping reviews for ES TEH NUSANTARA - TUGU JOGJA: 100%|███████████████████| 25/25 [01:42<00:00,  4.10s/it, Review=25]\n"
     ]
    },
    {
     "name": "stdout",
     "output_type": "stream",
     "text": [
      "Review scraping finished for ES TEH NUSANTARA - TUGU JOGJA\n",
      "starting scraping for:Monochcoffie  kitchen\n"
     ]
    },
    {
     "name": "stderr",
     "output_type": "stream",
     "text": [
      "Scraping reviews for Monochcoffie  kitchen: 100%|███████████████████████████| 25/25 [01:47<00:00,  4.29s/it, Review=25]\n"
     ]
    },
    {
     "name": "stdout",
     "output_type": "stream",
     "text": [
      "Review scraping finished for Monochcoffie  kitchen\n",
      "starting scraping for:Angkringan pitulikur tugu jogja\n"
     ]
    },
    {
     "name": "stderr",
     "output_type": "stream",
     "text": [
      "Scraping reviews for Angkringan pitulikur tugu jogja: 100%|█████████████████| 25/25 [01:43<00:00,  4.15s/it, Review=25]\n"
     ]
    },
    {
     "name": "stdout",
     "output_type": "stream",
     "text": [
      "Review scraping finished for Angkringan pitulikur tugu jogja\n",
      "starting scraping for:Kebon Ndalem Coffee  Eatery\n"
     ]
    },
    {
     "name": "stderr",
     "output_type": "stream",
     "text": [
      "Scraping reviews for Kebon Ndalem Coffee  Eatery: 100%|█████████████████████| 25/25 [00:17<00:00,  1.45it/s, Review=25]\n"
     ]
    },
    {
     "name": "stdout",
     "output_type": "stream",
     "text": [
      "Review scraping finished for Kebon Ndalem Coffee  Eatery\n",
      "starting scraping for:Nyore Coffee  Space\n"
     ]
    },
    {
     "name": "stderr",
     "output_type": "stream",
     "text": [
      "Scraping reviews for Nyore Coffee  Space: 100%|█████████████████████████████| 25/25 [02:08<00:00,  5.15s/it, Review=25]\n"
     ]
    },
    {
     "name": "stdout",
     "output_type": "stream",
     "text": [
      "Review scraping finished for Nyore Coffee  Space\n",
      "starting scraping for:Monoch Coffee\n"
     ]
    },
    {
     "name": "stderr",
     "output_type": "stream",
     "text": [
      "Scraping reviews for Monoch Coffee: 100%|███████████████████████████████████| 25/25 [00:50<00:00,  2.03s/it, Review=25]\n"
     ]
    },
    {
     "name": "stdout",
     "output_type": "stream",
     "text": [
      "Review scraping finished for Monoch Coffee\n",
      "starting scraping for:Toegoe Coffee and Tea\n"
     ]
    },
    {
     "name": "stderr",
     "output_type": "stream",
     "text": [
      "Scraping reviews for Toegoe Coffee and Tea: 100%|███████████████████████████| 25/25 [01:42<00:00,  4.10s/it, Review=25]\n"
     ]
    },
    {
     "name": "stdout",
     "output_type": "stream",
     "text": [
      "Review scraping finished for Toegoe Coffee and Tea\n",
      "starting scraping for:Om Man coffee  milkshake\n"
     ]
    },
    {
     "name": "stderr",
     "output_type": "stream",
     "text": [
      "Scraping reviews for Om Man coffee  milkshake: 100%|████████████████████████| 25/25 [00:27<00:00,  1.08s/it, Review=25]\n"
     ]
    },
    {
     "name": "stdout",
     "output_type": "stream",
     "text": [
      "Review scraping finished for Om Man coffee  milkshake\n",
      "starting scraping for:Kafe Berlayar\n"
     ]
    },
    {
     "name": "stderr",
     "output_type": "stream",
     "text": [
      "Scraping reviews for Kafe Berlayar: 100%|███████████████████████████████████| 25/25 [01:50<00:00,  4.41s/it, Review=25]\n"
     ]
    },
    {
     "name": "stdout",
     "output_type": "stream",
     "text": [
      "Review scraping finished for Kafe Berlayar\n",
      "starting scraping for:Semanak Coffee  Eatery\n"
     ]
    },
    {
     "name": "stderr",
     "output_type": "stream",
     "text": [
      "Scraping reviews for Semanak Coffee  Eatery: 100%|██████████████████████████| 25/25 [00:38<00:00,  1.53s/it, Review=25]\n"
     ]
    },
    {
     "name": "stdout",
     "output_type": "stream",
     "text": [
      "Review scraping finished for Semanak Coffee  Eatery\n",
      "starting scraping for:Sapulu Coffee\n"
     ]
    },
    {
     "name": "stderr",
     "output_type": "stream",
     "text": [
      "Scraping reviews for Sapulu Coffee: 100%|███████████████████████████████████| 25/25 [00:22<00:00,  1.10it/s, Review=25]\n"
     ]
    },
    {
     "name": "stdout",
     "output_type": "stream",
     "text": [
      "Review scraping finished for Sapulu Coffee\n",
      "starting scraping for:Kopi PM ꦏꦥꦥꦩ\n"
     ]
    },
    {
     "name": "stderr",
     "output_type": "stream",
     "text": [
      "Scraping reviews for Kopi PM ꦏꦥꦥꦩ: 100%|████████████████████████████████████| 25/25 [00:22<00:00,  1.10it/s, Review=25]\n"
     ]
    },
    {
     "name": "stdout",
     "output_type": "stream",
     "text": [
      "Review scraping finished for Kopi PM ꦏꦥꦥꦩ\n",
      "starting scraping for:Pendopo Lawas\n"
     ]
    },
    {
     "name": "stderr",
     "output_type": "stream",
     "text": [
      "Scraping reviews for Pendopo Lawas: 100%|███████████████████████████████████| 25/25 [00:24<00:00,  1.04it/s, Review=25]\n"
     ]
    },
    {
     "name": "stdout",
     "output_type": "stream",
     "text": [
      "Review scraping finished for Pendopo Lawas\n",
      "starting scraping for:Mamahké Jogja\n"
     ]
    },
    {
     "name": "stderr",
     "output_type": "stream",
     "text": [
      "Scraping reviews for Mamahké Jogja: 100%|███████████████████████████████████| 25/25 [00:22<00:00,  1.10it/s, Review=25]\n"
     ]
    },
    {
     "name": "stdout",
     "output_type": "stream",
     "text": [
      "Review scraping finished for Mamahké Jogja\n",
      "starting scraping for:Kopine Eyang\n"
     ]
    },
    {
     "name": "stderr",
     "output_type": "stream",
     "text": [
      "Scraping reviews for Kopine Eyang: 100%|████████████████████████████████████| 25/25 [00:34<00:00,  1.39s/it, Review=25]\n"
     ]
    },
    {
     "name": "stdout",
     "output_type": "stream",
     "text": [
      "Review scraping finished for Kopine Eyang\n",
      "starting scraping for:RT Cafe\n"
     ]
    },
    {
     "name": "stderr",
     "output_type": "stream",
     "text": [
      "Scraping reviews for RT Cafe: 100%|█████████████████████████████████████████| 25/25 [00:27<00:00,  1.10s/it, Review=25]\n"
     ]
    },
    {
     "name": "stdout",
     "output_type": "stream",
     "text": [
      "Review scraping finished for RT Cafe\n",
      "starting scraping for:The Agler Coffee\n"
     ]
    },
    {
     "name": "stderr",
     "output_type": "stream",
     "text": [
      "Scraping reviews for The Agler Coffee: 100%|████████████████████████████████| 25/25 [00:30<00:00,  1.21s/it, Review=25]\n"
     ]
    },
    {
     "name": "stdout",
     "output_type": "stream",
     "text": [
      "Review scraping finished for The Agler Coffee\n",
      "starting scraping for:Nol Kilometer Coffee  Tea Yogyakarta\n"
     ]
    },
    {
     "name": "stderr",
     "output_type": "stream",
     "text": [
      "Scraping reviews for Nol Kilometer Coffee  Tea Yogyakarta: 100%|████████████| 25/25 [00:20<00:00,  1.20it/s, Review=25]\n"
     ]
    },
    {
     "name": "stdout",
     "output_type": "stream",
     "text": [
      "Review scraping finished for Nol Kilometer Coffee  Tea Yogyakarta\n",
      "starting scraping for:Aryon Coffee\n"
     ]
    },
    {
     "name": "stderr",
     "output_type": "stream",
     "text": [
      "Scraping reviews for Aryon Coffee: 100%|████████████████████████████████████| 25/25 [02:03<00:00,  4.93s/it, Review=25]\n"
     ]
    },
    {
     "name": "stdout",
     "output_type": "stream",
     "text": [
      "Review scraping finished for Aryon Coffee\n",
      "starting scraping for:Water castle cafe\n"
     ]
    },
    {
     "name": "stderr",
     "output_type": "stream",
     "text": [
      "Scraping reviews for Water castle cafe: 100%|███████████████████████████████| 25/25 [00:39<00:00,  1.59s/it, Review=25]\n"
     ]
    },
    {
     "name": "stdout",
     "output_type": "stream",
     "text": [
      "Review scraping finished for Water castle cafe\n",
      "starting scraping for:ꦄꦏꦔꦤꦥꦭꦏꦮꦗꦭꦤ Angkringan Plengkung Wijilan\n"
     ]
    },
    {
     "name": "stderr",
     "output_type": "stream",
     "text": [
      "Scraping reviews for ꦄꦏꦔꦤꦥꦭꦏꦮꦗꦭꦤ Angkringan Plengkung Wijilan: 100%|████████| 25/25 [00:38<00:00,  1.54s/it, Review=25]\n"
     ]
    },
    {
     "name": "stdout",
     "output_type": "stream",
     "text": [
      "Review scraping finished for ꦄꦏꦔꦤꦥꦭꦏꦮꦗꦭꦤ Angkringan Plengkung Wijilan\n",
      "starting scraping for:Warung Kopi Pino4d\n",
      "starting scraping for:Angkringan Hendro\n"
     ]
    },
    {
     "name": "stderr",
     "output_type": "stream",
     "text": [
      "Scraping reviews for Angkringan Hendro: 100%|███████████████████████████████| 25/25 [01:10<00:00,  2.82s/it, Review=25]\n"
     ]
    },
    {
     "name": "stdout",
     "output_type": "stream",
     "text": [
      "Review scraping finished for Angkringan Hendro\n",
      "starting scraping for:Arka Coffee and Space\n"
     ]
    },
    {
     "name": "stderr",
     "output_type": "stream",
     "text": [
      "Scraping reviews for Arka Coffee and Space: 100%|███████████████████████████| 25/25 [00:27<00:00,  1.11s/it, Review=25]\n"
     ]
    },
    {
     "name": "stdout",
     "output_type": "stream",
     "text": [
      "Review scraping finished for Arka Coffee and Space\n",
      "starting scraping for:Bradip Warung Kopiꦧꦣꦥꦮꦫꦏꦥ\n"
     ]
    },
    {
     "name": "stderr",
     "output_type": "stream",
     "text": [
      "Scraping reviews for Bradip Warung Kopiꦧꦣꦥꦮꦫꦏꦥ: 100%|███████████████████████| 25/25 [00:52<00:00,  2.09s/it, Review=25]\n"
     ]
    },
    {
     "name": "stdout",
     "output_type": "stream",
     "text": [
      "Review scraping finished for Bradip Warung Kopiꦧꦣꦥꦮꦫꦏꦥ\n",
      "starting scraping for:Angkringan Pak Sugeng\n"
     ]
    },
    {
     "name": "stderr",
     "output_type": "stream",
     "text": [
      "Scraping reviews for Angkringan Pak Sugeng: 100%|███████████████████████████| 25/25 [01:44<00:00,  4.16s/it, Review=25]\n"
     ]
    },
    {
     "name": "stdout",
     "output_type": "stream",
     "text": [
      "Review scraping finished for Angkringan Pak Sugeng\n",
      "starting scraping for:Soulthan Coffee Kopi Luwak 52 kopi Nusantara\n"
     ]
    },
    {
     "name": "stderr",
     "output_type": "stream",
     "text": [
      "Scraping reviews for Soulthan Coffee Kopi Luwak 52 kopi Nusantara: 100%|████| 25/25 [01:44<00:00,  4.19s/it, Review=25]\n"
     ]
    },
    {
     "name": "stdout",
     "output_type": "stream",
     "text": [
      "Review scraping finished for Soulthan Coffee Kopi Luwak 52 kopi Nusantara\n",
      "starting scraping for:Wedang Ronde Mbak Lasmiꦮꦣꦫꦤꦝꦩꦧꦏꦭꦱꦩ\n",
      "starting scraping for:Angkringan Tugu Malioboro YIArt\n"
     ]
    },
    {
     "name": "stderr",
     "output_type": "stream",
     "text": [
      "Scraping reviews for Angkringan Tugu Malioboro YIArt: 100%|█████████████████| 25/25 [02:01<00:00,  4.86s/it, Review=25]\n"
     ]
    },
    {
     "name": "stdout",
     "output_type": "stream",
     "text": [
      "Review scraping finished for Angkringan Tugu Malioboro YIArt\n",
      "starting scraping for:Parking Coffee\n"
     ]
    },
    {
     "name": "stderr",
     "output_type": "stream",
     "text": [
      "Scraping reviews for Parking Coffee: 100%|██████████████████████████████████| 25/25 [01:44<00:00,  4.20s/it, Review=25]\n"
     ]
    },
    {
     "name": "stdout",
     "output_type": "stream",
     "text": [
      "Review scraping finished for Parking Coffee\n",
      "starting scraping for:Ekologi Coffee\n"
     ]
    },
    {
     "name": "stderr",
     "output_type": "stream",
     "text": [
      "Scraping reviews for Ekologi Coffee: 100%|██████████████████████████████████| 25/25 [01:44<00:00,  4.18s/it, Review=25]\n"
     ]
    },
    {
     "name": "stdout",
     "output_type": "stream",
     "text": [
      "Review scraping finished for Ekologi Coffee\n",
      "starting scraping for:RotiO Coffee\n"
     ]
    },
    {
     "name": "stderr",
     "output_type": "stream",
     "text": [
      "Scraping reviews for RotiO Coffee: 100%|████████████████████████████████████| 25/25 [00:47<00:00,  1.89s/it, Review=25]\n"
     ]
    },
    {
     "name": "stdout",
     "output_type": "stream",
     "text": [
      "Review scraping finished for RotiO Coffee\n",
      "starting scraping for:Angkringan Bandara YIA\n"
     ]
    },
    {
     "name": "stderr",
     "output_type": "stream",
     "text": [
      "Scraping reviews for Angkringan Bandara YIA: 100%|██████████████████████████| 25/25 [01:45<00:00,  4.23s/it, Review=25]\n"
     ]
    },
    {
     "name": "stdout",
     "output_type": "stream",
     "text": [
      "Review scraping finished for Angkringan Bandara YIA\n",
      "starting scraping for:Hallatourism  Cafe\n"
     ]
    },
    {
     "name": "stderr",
     "output_type": "stream",
     "text": [
      "Scraping reviews for Hallatourism  Cafe: 100%|██████████████████████████████| 25/25 [01:43<00:00,  4.14s/it, Review=25]\n"
     ]
    },
    {
     "name": "stdout",
     "output_type": "stream",
     "text": [
      "Review scraping finished for Hallatourism  Cafe\n",
      "starting scraping for:Roti O Yogyakarta International Airport\n"
     ]
    },
    {
     "name": "stderr",
     "output_type": "stream",
     "text": [
      "Scraping reviews for Roti O Yogyakarta International Airport: 100%|█████████| 25/25 [00:25<00:00,  1.03s/it, Review=25]\n"
     ]
    },
    {
     "name": "stdout",
     "output_type": "stream",
     "text": [
      "Review scraping finished for Roti O Yogyakarta International Airport\n",
      "starting scraping for:Kovi_Fresh Brewed Coffe YIA\n"
     ]
    },
    {
     "name": "stderr",
     "output_type": "stream",
     "text": [
      "Scraping reviews for Kovi_Fresh Brewed Coffe YIA: 100%|█████████████████████| 25/25 [01:16<00:00,  3.05s/it, Review=25]\n"
     ]
    },
    {
     "name": "stdout",
     "output_type": "stream",
     "text": [
      "Review scraping finished for Kovi_Fresh Brewed Coffe YIA\n",
      "starting scraping for:Yu Djum 167 Resto  Coffee\n"
     ]
    },
    {
     "name": "stderr",
     "output_type": "stream",
     "text": [
      "Scraping reviews for Yu Djum 167 Resto  Coffee: 100%|███████████████████████| 25/25 [00:16<00:00,  1.55it/s, Review=25]\n"
     ]
    },
    {
     "name": "stdout",
     "output_type": "stream",
     "text": [
      "Review scraping finished for Yu Djum 167 Resto  Coffee\n",
      "starting scraping for:Gudeg Yu Djum Pusat Cabang Bandara YIA\n"
     ]
    },
    {
     "name": "stderr",
     "output_type": "stream",
     "text": [
      "Scraping reviews for Gudeg Yu Djum Pusat Cabang Bandara YIA: 100%|██████████| 25/25 [01:53<00:00,  4.53s/it, Review=25]\n"
     ]
    },
    {
     "name": "stdout",
     "output_type": "stream",
     "text": [
      "Review scraping finished for Gudeg Yu Djum Pusat Cabang Bandara YIA\n",
      "starting scraping for:Kedai Samana  Rumah Baca\n"
     ]
    },
    {
     "name": "stderr",
     "output_type": "stream",
     "text": [
      "Scraping reviews for Kedai Samana  Rumah Baca: 100%|████████████████████████| 25/25 [01:33<00:00,  3.75s/it, Review=25]\n"
     ]
    },
    {
     "name": "stdout",
     "output_type": "stream",
     "text": [
      "Review scraping finished for Kedai Samana  Rumah Baca\n",
      "starting scraping for:Depot Makan  Oleh2 Bu S PA\n",
      "starting scraping for:Tempat Makan  Coffee Shop S.CO\n"
     ]
    },
    {
     "name": "stderr",
     "output_type": "stream",
     "text": [
      "Scraping reviews for Tempat Makan  Coffee Shop S.CO: 100%|██████████████████| 25/25 [01:42<00:00,  4.08s/it, Review=25]\n"
     ]
    },
    {
     "name": "stdout",
     "output_type": "stream",
     "text": [
      "Review scraping finished for Tempat Makan  Coffee Shop S.CO\n",
      "starting scraping for:kopi 01\n"
     ]
    },
    {
     "name": "stderr",
     "output_type": "stream",
     "text": [
      "Scraping reviews for kopi 01: 100%|█████████████████████████████████████████| 25/25 [00:21<00:00,  1.18it/s, Review=25]\n"
     ]
    },
    {
     "name": "stdout",
     "output_type": "stream",
     "text": [
      "Review scraping finished for kopi 01\n",
      "starting scraping for:Cafe Rumah Laut\n"
     ]
    },
    {
     "name": "stderr",
     "output_type": "stream",
     "text": [
      "Scraping reviews for Cafe Rumah Laut: 100%|█████████████████████████████████| 25/25 [01:59<00:00,  4.79s/it, Review=25]\n"
     ]
    },
    {
     "name": "stdout",
     "output_type": "stream",
     "text": [
      "Review scraping finished for Cafe Rumah Laut\n",
      "starting scraping for:Angkringan Kopi Joss\n"
     ]
    },
    {
     "name": "stderr",
     "output_type": "stream",
     "text": [
      "Scraping reviews for Angkringan Kopi Joss: 100%|████████████████████████████| 25/25 [00:43<00:00,  1.72s/it, Review=25]\n"
     ]
    },
    {
     "name": "stdout",
     "output_type": "stream",
     "text": [
      "Review scraping finished for Angkringan Kopi Joss\n",
      "starting scraping for:KFC\n"
     ]
    },
    {
     "name": "stderr",
     "output_type": "stream",
     "text": [
      "Scraping reviews for KFC: 100%|█████████████████████████████████████████████| 25/25 [00:26<00:00,  1.04s/it, Review=25]\n"
     ]
    },
    {
     "name": "stdout",
     "output_type": "stream",
     "text": [
      "Review scraping finished for KFC\n",
      "starting scraping for:ETLABORA COFFEE  ANGKRINGAN\n"
     ]
    },
    {
     "name": "stderr",
     "output_type": "stream",
     "text": [
      "Scraping reviews for ETLABORA COFFEE  ANGKRINGAN: 100%|█████████████████████| 25/25 [01:48<00:00,  4.35s/it, Review=25]\n"
     ]
    },
    {
     "name": "stdout",
     "output_type": "stream",
     "text": [
      "Review scraping finished for ETLABORA COFFEE  ANGKRINGAN\n",
      "starting scraping for:Java INDO Cafe  Resto\n"
     ]
    },
    {
     "name": "stderr",
     "output_type": "stream",
     "text": [
      "Scraping reviews for Java INDO Cafe  Resto: 100%|███████████████████████████| 25/25 [00:40<00:00,  1.64s/it, Review=25]\n"
     ]
    },
    {
     "name": "stdout",
     "output_type": "stream",
     "text": [
      "Review scraping finished for Java INDO Cafe  Resto\n",
      "starting scraping for:Coffee Angkasa\n"
     ]
    },
    {
     "name": "stderr",
     "output_type": "stream",
     "text": [
      "Scraping reviews for Coffee Angkasa: 100%|██████████████████████████████████| 25/25 [00:46<00:00,  1.85s/it, Review=25]\n"
     ]
    },
    {
     "name": "stdout",
     "output_type": "stream",
     "text": [
      "Review scraping finished for Coffee Angkasa\n",
      "starting scraping for:Food Court Universitas AMIKOM Yogyakarta\n"
     ]
    },
    {
     "name": "stderr",
     "output_type": "stream",
     "text": [
      "Scraping reviews for Food Court Universitas AMIKOM Yogyakarta: 100%|████████| 25/25 [01:45<00:00,  4.23s/it, Review=25]\n"
     ]
    },
    {
     "name": "stdout",
     "output_type": "stream",
     "text": [
      "Review scraping finished for Food Court Universitas AMIKOM Yogyakarta\n",
      "starting scraping for:Warung Reborn Concat\n"
     ]
    },
    {
     "name": "stderr",
     "output_type": "stream",
     "text": [
      "Scraping reviews for Warung Reborn Concat: 100%|████████████████████████████| 25/25 [00:32<00:00,  1.30s/it, Review=25]\n"
     ]
    },
    {
     "name": "stdout",
     "output_type": "stream",
     "text": [
      "Review scraping finished for Warung Reborn Concat\n",
      "starting scraping for:Nyoklat Klasik Den Gembus Condongcatur Jogja\n"
     ]
    },
    {
     "name": "stderr",
     "output_type": "stream",
     "text": [
      "Scraping reviews for Nyoklat Klasik Den Gembus Condongcatur Jogja: 100%|████| 25/25 [01:17<00:00,  3.11s/it, Review=25]\n"
     ]
    },
    {
     "name": "stdout",
     "output_type": "stream",
     "text": [
      "Review scraping finished for Nyoklat Klasik Den Gembus Condongcatur Jogja\n",
      "starting scraping for:Doppia Coffee and Bread\n"
     ]
    },
    {
     "name": "stderr",
     "output_type": "stream",
     "text": [
      "Scraping reviews for Doppia Coffee and Bread: 100%|█████████████████████████| 25/25 [00:54<00:00,  2.17s/it, Review=25]\n"
     ]
    },
    {
     "name": "stdout",
     "output_type": "stream",
     "text": [
      "Review scraping finished for Doppia Coffee and Bread\n",
      "starting scraping for:Pancong lumer jogja\n"
     ]
    },
    {
     "name": "stderr",
     "output_type": "stream",
     "text": [
      "Scraping reviews for Pancong lumer jogja: 100%|█████████████████████████████| 25/25 [01:41<00:00,  4.06s/it, Review=25]\n"
     ]
    },
    {
     "name": "stdout",
     "output_type": "stream",
     "text": [
      "Review scraping finished for Pancong lumer jogja\n",
      "starting scraping for:Capcuzz Condongcatur\n"
     ]
    },
    {
     "name": "stderr",
     "output_type": "stream",
     "text": [
      "Scraping reviews for Capcuzz Condongcatur: 100%|████████████████████████████| 25/25 [00:46<00:00,  1.86s/it, Review=25]\n"
     ]
    },
    {
     "name": "stdout",
     "output_type": "stream",
     "text": [
      "Review scraping finished for Capcuzz Condongcatur\n",
      "starting scraping for:Kopi Kudos\n"
     ]
    },
    {
     "name": "stderr",
     "output_type": "stream",
     "text": [
      "Scraping reviews for Kopi Kudos: 100%|██████████████████████████████████████| 25/25 [00:54<00:00,  2.19s/it, Review=25]\n"
     ]
    },
    {
     "name": "stdout",
     "output_type": "stream",
     "text": [
      "Review scraping finished for Kopi Kudos\n",
      "starting scraping for:KopiManah\n"
     ]
    },
    {
     "name": "stderr",
     "output_type": "stream",
     "text": [
      "Scraping reviews for KopiManah: 100%|███████████████████████████████████████| 25/25 [01:42<00:00,  4.10s/it, Review=25]\n"
     ]
    },
    {
     "name": "stdout",
     "output_type": "stream",
     "text": [
      "Review scraping finished for KopiManah\n",
      "starting scraping for:Cappuccino Ala Cafe\n"
     ]
    },
    {
     "name": "stderr",
     "output_type": "stream",
     "text": [
      "Scraping reviews for Cappuccino Ala Cafe: 100%|█████████████████████████████| 25/25 [01:42<00:00,  4.10s/it, Review=25]\n"
     ]
    },
    {
     "name": "stdout",
     "output_type": "stream",
     "text": [
      "Review scraping finished for Cappuccino Ala Cafe\n",
      "starting scraping for:Temporary world food omah toscha\n",
      "starting scraping for:Mato Kopi 3\n"
     ]
    },
    {
     "name": "stderr",
     "output_type": "stream",
     "text": [
      "Scraping reviews for Mato Kopi 3: 100%|█████████████████████████████████████| 25/25 [00:22<00:00,  1.11it/s, Review=25]\n"
     ]
    },
    {
     "name": "stdout",
     "output_type": "stream",
     "text": [
      "Review scraping finished for Mato Kopi 3\n",
      "starting scraping for:Sunyi Coffee Jogja\n"
     ]
    },
    {
     "name": "stderr",
     "output_type": "stream",
     "text": [
      "Scraping reviews for Sunyi Coffee Jogja: 100%|██████████████████████████████| 25/25 [00:26<00:00,  1.05s/it, Review=25]\n"
     ]
    },
    {
     "name": "stdout",
     "output_type": "stream",
     "text": [
      "Review scraping finished for Sunyi Coffee Jogja\n",
      "starting scraping for:retro coffee jogja\n"
     ]
    },
    {
     "name": "stderr",
     "output_type": "stream",
     "text": [
      "Scraping reviews for retro coffee jogja: 100%|██████████████████████████████| 25/25 [01:42<00:00,  4.10s/it, Review=25]\n"
     ]
    },
    {
     "name": "stdout",
     "output_type": "stream",
     "text": [
      "Review scraping finished for retro coffee jogja\n",
      "starting scraping for:Bercanda Coffee  Eatery\n"
     ]
    },
    {
     "name": "stderr",
     "output_type": "stream",
     "text": [
      "Scraping reviews for Bercanda Coffee  Eatery: 100%|█████████████████████████| 25/25 [01:41<00:00,  4.06s/it, Review=25]\n"
     ]
    },
    {
     "name": "stdout",
     "output_type": "stream",
     "text": [
      "Review scraping finished for Bercanda Coffee  Eatery\n",
      "starting scraping for:Kedai Oak\n"
     ]
    },
    {
     "name": "stderr",
     "output_type": "stream",
     "text": [
      "Scraping reviews for Kedai Oak: 100%|███████████████████████████████████████| 25/25 [00:34<00:00,  1.40s/it, Review=25]\n"
     ]
    },
    {
     "name": "stdout",
     "output_type": "stream",
     "text": [
      "Review scraping finished for Kedai Oak\n",
      "starting scraping for:Kata Kopi Jogja\n"
     ]
    },
    {
     "name": "stderr",
     "output_type": "stream",
     "text": [
      "Scraping reviews for Kata Kopi Jogja: 100%|█████████████████████████████████| 25/25 [00:48<00:00,  1.94s/it, Review=25]\n"
     ]
    },
    {
     "name": "stdout",
     "output_type": "stream",
     "text": [
      "Review scraping finished for Kata Kopi Jogja\n",
      "starting scraping for:JIAYU COFFEE\n"
     ]
    },
    {
     "name": "stderr",
     "output_type": "stream",
     "text": [
      "Scraping reviews for JIAYU COFFEE: 100%|████████████████████████████████████| 25/25 [01:42<00:00,  4.11s/it, Review=25]\n"
     ]
    },
    {
     "name": "stdout",
     "output_type": "stream",
     "text": [
      "Review scraping finished for JIAYU COFFEE\n",
      "starting scraping for:Kopi Koji\n"
     ]
    },
    {
     "name": "stderr",
     "output_type": "stream",
     "text": [
      "Scraping reviews for Kopi Koji: 100%|███████████████████████████████████████| 25/25 [01:55<00:00,  4.62s/it, Review=25]\n"
     ]
    },
    {
     "name": "stdout",
     "output_type": "stream",
     "text": [
      "Review scraping finished for Kopi Koji\n",
      "starting scraping for:Moengkin\n",
      "starting scraping for:bjongngopi Maguwo\n"
     ]
    },
    {
     "name": "stderr",
     "output_type": "stream",
     "text": [
      "Scraping reviews for bjongngopi Maguwo: 100%|███████████████████████████████| 25/25 [00:38<00:00,  1.53s/it, Review=25]\n"
     ]
    },
    {
     "name": "stdout",
     "output_type": "stream",
     "text": [
      "Review scraping finished for bjongngopi Maguwo\n",
      "starting scraping for:Magistra Coffee FIB\n"
     ]
    },
    {
     "name": "stderr",
     "output_type": "stream",
     "text": [
      "Scraping reviews for Magistra Coffee FIB: 100%|█████████████████████████████| 25/25 [01:02<00:00,  2.49s/it, Review=25]\n"
     ]
    },
    {
     "name": "stdout",
     "output_type": "stream",
     "text": [
      "Review scraping finished for Magistra Coffee FIB\n",
      "starting scraping for:DIGILIB Cafe\n"
     ]
    },
    {
     "name": "stderr",
     "output_type": "stream",
     "text": [
      "Scraping reviews for DIGILIB Cafe: 100%|████████████████████████████████████| 25/25 [00:41<00:00,  1.66s/it, Review=25]\n"
     ]
    },
    {
     "name": "stdout",
     "output_type": "stream",
     "text": [
      "Review scraping finished for DIGILIB Cafe\n",
      "starting scraping for:EB Café\n"
     ]
    },
    {
     "name": "stderr",
     "output_type": "stream",
     "text": [
      "Scraping reviews for EB Café: 100%|█████████████████████████████████████████| 25/25 [01:44<00:00,  4.18s/it, Review=25]\n"
     ]
    },
    {
     "name": "stdout",
     "output_type": "stream",
     "text": [
      "Review scraping finished for EB Café\n",
      "starting scraping for:Kopi Lembah UGM\n"
     ]
    },
    {
     "name": "stderr",
     "output_type": "stream",
     "text": [
      "Scraping reviews for Kopi Lembah UGM: 100%|█████████████████████████████████| 25/25 [00:22<00:00,  1.10it/s, Review=25]\n"
     ]
    },
    {
     "name": "stdout",
     "output_type": "stream",
     "text": [
      "Review scraping finished for Kopi Lembah UGM\n",
      "starting scraping for:Zomia Co-Working Space\n"
     ]
    },
    {
     "name": "stderr",
     "output_type": "stream",
     "text": [
      "Scraping reviews for Zomia Co-Working Space: 100%|██████████████████████████| 25/25 [00:22<00:00,  1.11it/s, Review=25]\n"
     ]
    },
    {
     "name": "stdout",
     "output_type": "stream",
     "text": [
      "Review scraping finished for Zomia Co-Working Space\n",
      "starting scraping for:Sunrise Golden Bolodewo\n"
     ]
    },
    {
     "name": "stderr",
     "output_type": "stream",
     "text": [
      "Scraping reviews for Sunrise Golden Bolodewo: 100%|█████████████████████████| 25/25 [00:24<00:00,  1.02it/s, Review=25]\n"
     ]
    },
    {
     "name": "stdout",
     "output_type": "stream",
     "text": [
      "Review scraping finished for Sunrise Golden Bolodewo\n",
      "starting scraping for:Coklat Cafe\n"
     ]
    },
    {
     "name": "stderr",
     "output_type": "stream",
     "text": [
      "Scraping reviews for Coklat Cafe: 100%|█████████████████████████████████████| 25/25 [00:15<00:00,  1.58it/s, Review=25]\n"
     ]
    },
    {
     "name": "stdout",
     "output_type": "stream",
     "text": [
      "Review scraping finished for Coklat Cafe\n",
      "starting scraping for:SIGNATURA\n"
     ]
    },
    {
     "name": "stderr",
     "output_type": "stream",
     "text": [
      "Scraping reviews for SIGNATURA: 100%|███████████████████████████████████████| 25/25 [00:26<00:00,  1.05s/it, Review=25]\n"
     ]
    },
    {
     "name": "stdout",
     "output_type": "stream",
     "text": [
      "Review scraping finished for SIGNATURA\n",
      "starting scraping for:menjamu.kopi\n"
     ]
    },
    {
     "name": "stderr",
     "output_type": "stream",
     "text": [
      "Scraping reviews for menjamu.kopi: 100%|████████████████████████████████████| 25/25 [01:49<00:00,  4.39s/it, Review=25]\n"
     ]
    },
    {
     "name": "stdout",
     "output_type": "stream",
     "text": [
      "Review scraping finished for menjamu.kopi\n",
      "starting scraping for:Sego Tahu Jakal Bulak Sumur\n"
     ]
    },
    {
     "name": "stderr",
     "output_type": "stream",
     "text": [
      "Scraping reviews for Sego Tahu Jakal Bulak Sumur: 100%|█████████████████████| 25/25 [01:44<00:00,  4.19s/it, Review=25]\n"
     ]
    },
    {
     "name": "stdout",
     "output_type": "stream",
     "text": [
      "Review scraping finished for Sego Tahu Jakal Bulak Sumur\n",
      "starting scraping for:Tekoff Coffee and Roastery\n"
     ]
    },
    {
     "name": "stderr",
     "output_type": "stream",
     "text": [
      "Scraping reviews for Tekoff Coffee and Roastery: 100%|██████████████████████| 25/25 [00:30<00:00,  1.24s/it, Review=25]\n"
     ]
    },
    {
     "name": "stdout",
     "output_type": "stream",
     "text": [
      "Review scraping finished for Tekoff Coffee and Roastery\n",
      "starting scraping for:Hens Coffee\n"
     ]
    },
    {
     "name": "stderr",
     "output_type": "stream",
     "text": [
      "Scraping reviews for Hens Coffee: 100%|█████████████████████████████████████| 25/25 [01:57<00:00,  4.68s/it, Review=25]\n"
     ]
    },
    {
     "name": "stdout",
     "output_type": "stream",
     "text": [
      "Review scraping finished for Hens Coffee\n",
      "starting scraping for:Kopi Hoja Mie  Yu\n"
     ]
    },
    {
     "name": "stderr",
     "output_type": "stream",
     "text": [
      "Scraping reviews for Kopi Hoja Mie  Yu: 100%|███████████████████████████████| 25/25 [00:24<00:00,  1.03it/s, Review=25]\n"
     ]
    },
    {
     "name": "stdout",
     "output_type": "stream",
     "text": [
      "Review scraping finished for Kopi Hoja Mie  Yu\n",
      "starting scraping for:Uncle Jo Coffee Tea Milk\n"
     ]
    },
    {
     "name": "stderr",
     "output_type": "stream",
     "text": [
      "Scraping reviews for Uncle Jo Coffee Tea Milk: 100%|████████████████████████| 25/25 [02:00<00:00,  4.83s/it, Review=25]\n"
     ]
    },
    {
     "name": "stdout",
     "output_type": "stream",
     "text": [
      "Review scraping finished for Uncle Jo Coffee Tea Milk\n",
      "starting scraping for:SENJA coffee  eatery Jakal\n"
     ]
    },
    {
     "name": "stderr",
     "output_type": "stream",
     "text": [
      "Scraping reviews for SENJA coffee  eatery Jakal: 100%|██████████████████████| 25/25 [00:22<00:00,  1.10it/s, Review=25]\n"
     ]
    },
    {
     "name": "stdout",
     "output_type": "stream",
     "text": [
      "Review scraping finished for SENJA coffee  eatery Jakal\n",
      "starting scraping for:Blackbone Coffee\n"
     ]
    },
    {
     "name": "stderr",
     "output_type": "stream",
     "text": [
      "Scraping reviews for Blackbone Coffee: 100%|████████████████████████████████| 25/25 [00:21<00:00,  1.19it/s, Review=25]\n"
     ]
    },
    {
     "name": "stdout",
     "output_type": "stream",
     "text": [
      "Review scraping finished for Blackbone Coffee\n",
      "starting scraping for:Kopi Sembilan\n"
     ]
    },
    {
     "name": "stderr",
     "output_type": "stream",
     "text": [
      "Scraping reviews for Kopi Sembilan: 100%|███████████████████████████████████| 25/25 [00:28<00:00,  1.13s/it, Review=25]\n"
     ]
    },
    {
     "name": "stdout",
     "output_type": "stream",
     "text": [
      "Review scraping finished for Kopi Sembilan\n",
      "starting scraping for:Estuary Café\n"
     ]
    },
    {
     "name": "stderr",
     "output_type": "stream",
     "text": [
      "Scraping reviews for Estuary Café: 100%|████████████████████████████████████| 25/25 [00:20<00:00,  1.21it/s, Review=25]\n"
     ]
    },
    {
     "name": "stdout",
     "output_type": "stream",
     "text": [
      "Review scraping finished for Estuary Café\n",
      "starting scraping for:CAPSLOCK COFFEE\n"
     ]
    },
    {
     "name": "stderr",
     "output_type": "stream",
     "text": [
      "Scraping reviews for CAPSLOCK COFFEE: 100%|█████████████████████████████████| 25/25 [00:24<00:00,  1.00it/s, Review=25]\n"
     ]
    },
    {
     "name": "stdout",
     "output_type": "stream",
     "text": [
      "Review scraping finished for CAPSLOCK COFFEE\n",
      "starting scraping for:Point Coffee\n"
     ]
    },
    {
     "name": "stderr",
     "output_type": "stream",
     "text": [
      "Scraping reviews for Point Coffee: 100%|████████████████████████████████████| 25/25 [00:31<00:00,  1.25s/it, Review=25]\n"
     ]
    },
    {
     "name": "stdout",
     "output_type": "stream",
     "text": [
      "Review scraping finished for Point Coffee\n",
      "starting scraping for:Susu Sarjana UNY\n"
     ]
    },
    {
     "name": "stderr",
     "output_type": "stream",
     "text": [
      "Scraping reviews for Susu Sarjana UNY: 100%|████████████████████████████████| 25/25 [00:41<00:00,  1.67s/it, Review=25]\n"
     ]
    },
    {
     "name": "stdout",
     "output_type": "stream",
     "text": [
      "Review scraping finished for Susu Sarjana UNY\n",
      "starting scraping for:NAWWA KOPI\n"
     ]
    },
    {
     "name": "stderr",
     "output_type": "stream",
     "text": [
      "Scraping reviews for NAWWA KOPI: 100%|██████████████████████████████████████| 25/25 [00:25<00:00,  1.01s/it, Review=25]\n"
     ]
    },
    {
     "name": "stdout",
     "output_type": "stream",
     "text": [
      "Review scraping finished for NAWWA KOPI\n",
      "starting scraping for:KEDAI CINTA UNY\n"
     ]
    },
    {
     "name": "stderr",
     "output_type": "stream",
     "text": [
      "Scraping reviews for KEDAI CINTA UNY: 100%|█████████████████████████████████| 25/25 [01:44<00:00,  4.18s/it, Review=25]\n"
     ]
    },
    {
     "name": "stdout",
     "output_type": "stream",
     "text": [
      "Review scraping finished for KEDAI CINTA UNY\n",
      "starting scraping for:Coldhans Coffee Uny\n"
     ]
    },
    {
     "name": "stderr",
     "output_type": "stream",
     "text": [
      "Scraping reviews for Coldhans Coffee Uny: 100%|█████████████████████████████| 25/25 [01:42<00:00,  4.10s/it, Review=25]\n"
     ]
    },
    {
     "name": "stdout",
     "output_type": "stream",
     "text": [
      "Review scraping finished for Coldhans Coffee Uny\n",
      "starting scraping for:Journey Coffee  Records\n"
     ]
    },
    {
     "name": "stderr",
     "output_type": "stream",
     "text": [
      "Scraping reviews for Journey Coffee  Records: 100%|█████████████████████████| 25/25 [00:19<00:00,  1.28it/s, Review=25]\n"
     ]
    },
    {
     "name": "stdout",
     "output_type": "stream",
     "text": [
      "Review scraping finished for Journey Coffee  Records\n",
      "starting scraping for:PublicUs Coffee\n"
     ]
    },
    {
     "name": "stderr",
     "output_type": "stream",
     "text": [
      "Scraping reviews for PublicUs Coffee: 100%|█████████████████████████████████| 25/25 [00:33<00:00,  1.32s/it, Review=25]\n"
     ]
    },
    {
     "name": "stdout",
     "output_type": "stream",
     "text": [
      "Review scraping finished for PublicUs Coffee\n",
      "starting scraping for:CLBK Kopi Gejayan\n"
     ]
    },
    {
     "name": "stderr",
     "output_type": "stream",
     "text": [
      "Scraping reviews for CLBK Kopi Gejayan: 100%|███████████████████████████████| 25/25 [01:49<00:00,  4.40s/it, Review=25]\n"
     ]
    },
    {
     "name": "stdout",
     "output_type": "stream",
     "text": [
      "Review scraping finished for CLBK Kopi Gejayan\n",
      "starting scraping for:SPG Artisan Coffee\n"
     ]
    },
    {
     "name": "stderr",
     "output_type": "stream",
     "text": [
      "Scraping reviews for SPG Artisan Coffee: 100%|██████████████████████████████| 25/25 [01:45<00:00,  4.21s/it, Review=25]\n"
     ]
    },
    {
     "name": "stdout",
     "output_type": "stream",
     "text": [
      "Review scraping finished for SPG Artisan Coffee\n",
      "starting scraping for:Le travail Coffee\n"
     ]
    },
    {
     "name": "stderr",
     "output_type": "stream",
     "text": [
      "Scraping reviews for Le travail Coffee: 100%|███████████████████████████████| 25/25 [00:25<00:00,  1.02s/it, Review=25]\n"
     ]
    },
    {
     "name": "stdout",
     "output_type": "stream",
     "text": [
      "Review scraping finished for Le travail Coffee\n",
      "starting scraping for:ESCO RESTAURANT  NO.27 COFFEE\n"
     ]
    },
    {
     "name": "stderr",
     "output_type": "stream",
     "text": [
      "Scraping reviews for ESCO RESTAURANT  NO.27 COFFEE: 100%|███████████████████| 25/25 [00:25<00:00,  1.03s/it, Review=25]\n"
     ]
    },
    {
     "name": "stdout",
     "output_type": "stream",
     "text": [
      "Review scraping finished for ESCO RESTAURANT  NO.27 COFFEE\n",
      "starting scraping for:Svarga Coffee and Eatery\n"
     ]
    },
    {
     "name": "stderr",
     "output_type": "stream",
     "text": [
      "Scraping reviews for Svarga Coffee and Eatery: 100%|████████████████████████| 25/25 [00:18<00:00,  1.33it/s, Review=25]\n"
     ]
    },
    {
     "name": "stdout",
     "output_type": "stream",
     "text": [
      "Review scraping finished for Svarga Coffee and Eatery\n",
      "starting scraping for:Ayam Geprek Sarjana\n"
     ]
    },
    {
     "name": "stderr",
     "output_type": "stream",
     "text": [
      "Scraping reviews for Ayam Geprek Sarjana: 100%|█████████████████████████████| 25/25 [00:34<00:00,  1.37s/it, Review=25]\n"
     ]
    },
    {
     "name": "stdout",
     "output_type": "stream",
     "text": [
      "Review scraping finished for Ayam Geprek Sarjana\n",
      "starting scraping for:Don gO Coffee\n"
     ]
    },
    {
     "name": "stderr",
     "output_type": "stream",
     "text": [
      "Scraping reviews for Don gO Coffee: 100%|███████████████████████████████████| 25/25 [00:24<00:00,  1.04it/s, Review=25]\n"
     ]
    },
    {
     "name": "stdout",
     "output_type": "stream",
     "text": [
      "Review scraping finished for Don gO Coffee\n",
      "starting scraping for:Fruttcoff Gejayan\n"
     ]
    },
    {
     "name": "stderr",
     "output_type": "stream",
     "text": [
      "Scraping reviews for Fruttcoff Gejayan: 100%|███████████████████████████████| 25/25 [01:42<00:00,  4.10s/it, Review=25]\n"
     ]
    },
    {
     "name": "stdout",
     "output_type": "stream",
     "text": [
      "Review scraping finished for Fruttcoff Gejayan\n",
      "starting scraping for:XYZ Coffee  Collabs\n"
     ]
    },
    {
     "name": "stderr",
     "output_type": "stream",
     "text": [
      "Scraping reviews for XYZ Coffee  Collabs: 100%|█████████████████████████████| 25/25 [00:20<00:00,  1.21it/s, Review=25]\n"
     ]
    },
    {
     "name": "stdout",
     "output_type": "stream",
     "text": [
      "Review scraping finished for XYZ Coffee  Collabs\n",
      "starting scraping for:Homi Coffee And Space\n"
     ]
    },
    {
     "name": "stderr",
     "output_type": "stream",
     "text": [
      "Scraping reviews for Homi Coffee And Space: 100%|███████████████████████████| 25/25 [00:22<00:00,  1.11it/s, Review=25]\n"
     ]
    },
    {
     "name": "stdout",
     "output_type": "stream",
     "text": [
      "Review scraping finished for Homi Coffee And Space\n",
      "starting scraping for:Cafe  Karoke BOSCHE\n"
     ]
    },
    {
     "name": "stderr",
     "output_type": "stream",
     "text": [
      "Scraping reviews for Cafe  Karoke BOSCHE: 100%|█████████████████████████████| 25/25 [00:48<00:00,  1.93s/it, Review=25]\n"
     ]
    },
    {
     "name": "stdout",
     "output_type": "stream",
     "text": [
      "Review scraping finished for Cafe  Karoke BOSCHE\n",
      "starting scraping for:Warung Kopi Mbak Ana\n"
     ]
    },
    {
     "name": "stderr",
     "output_type": "stream",
     "text": [
      "Scraping reviews for Warung Kopi Mbak Ana: 100%|████████████████████████████| 25/25 [01:43<00:00,  4.14s/it, Review=25]\n"
     ]
    },
    {
     "name": "stdout",
     "output_type": "stream",
     "text": [
      "Review scraping finished for Warung Kopi Mbak Ana\n",
      "starting scraping for:SloWae parangtritis\n",
      "starting scraping for:BRAMANTYO Food  Drink\n"
     ]
    },
    {
     "name": "stderr",
     "output_type": "stream",
     "text": [
      "Scraping reviews for BRAMANTYO Food  Drink: 100%|███████████████████████████| 25/25 [01:44<00:00,  4.16s/it, Review=25]\n"
     ]
    },
    {
     "name": "stdout",
     "output_type": "stream",
     "text": [
      "Review scraping finished for BRAMANTYO Food  Drink\n",
      "starting scraping for:Angkringan Baniyah  Gaza Barbershop\n"
     ]
    },
    {
     "name": "stderr",
     "output_type": "stream",
     "text": [
      "Scraping reviews for Angkringan Baniyah  Gaza Barbershop: 100%|█████████████| 25/25 [01:47<00:00,  4.30s/it, Review=25]\n"
     ]
    },
    {
     "name": "stdout",
     "output_type": "stream",
     "text": [
      "Review scraping finished for Angkringan Baniyah  Gaza Barbershop\n",
      "starting scraping for:Inggar Food And Beverage\n"
     ]
    },
    {
     "name": "stderr",
     "output_type": "stream",
     "text": [
      "Scraping reviews for Inggar Food And Beverage: 100%|████████████████████████| 25/25 [01:45<00:00,  4.21s/it, Review=25]\n"
     ]
    },
    {
     "name": "stdout",
     "output_type": "stream",
     "text": [
      "Review scraping finished for Inggar Food And Beverage\n",
      "starting scraping for:Rental PS3 Dan Mini Cafe Gameover\n"
     ]
    },
    {
     "name": "stderr",
     "output_type": "stream",
     "text": [
      "Scraping reviews for Rental PS3 Dan Mini Cafe Gameover: 100%|███████████████| 25/25 [01:46<00:00,  4.25s/it, Review=25]\n"
     ]
    },
    {
     "name": "stdout",
     "output_type": "stream",
     "text": [
      "Review scraping finished for Rental PS3 Dan Mini Cafe Gameover\n",
      "starting scraping for:Warung Kopi Maz Hafidz\n"
     ]
    },
    {
     "name": "stderr",
     "output_type": "stream",
     "text": [
      "Scraping reviews for Warung Kopi Maz Hafidz: 100%|██████████████████████████| 25/25 [01:42<00:00,  4.11s/it, Review=25]\n"
     ]
    },
    {
     "name": "stdout",
     "output_type": "stream",
     "text": [
      "Review scraping finished for Warung Kopi Maz Hafidz\n",
      "starting scraping for:Warung Alfa\n"
     ]
    },
    {
     "name": "stderr",
     "output_type": "stream",
     "text": [
      "Scraping reviews for Warung Alfa: 100%|█████████████████████████████████████| 25/25 [01:22<00:00,  3.29s/it, Review=25]\n"
     ]
    },
    {
     "name": "stdout",
     "output_type": "stream",
     "text": [
      "Review scraping finished for Warung Alfa\n",
      "starting scraping for:Warung Kopi Sugeng\n",
      "starting scraping for:ANGKRINGAN NYENTRIK\n"
     ]
    },
    {
     "name": "stderr",
     "output_type": "stream",
     "text": [
      "Scraping reviews for ANGKRINGAN NYENTRIK: 100%|█████████████████████████████| 25/25 [01:42<00:00,  4.10s/it, Review=25]\n"
     ]
    },
    {
     "name": "stdout",
     "output_type": "stream",
     "text": [
      "Review scraping finished for ANGKRINGAN NYENTRIK\n",
      "starting scraping for:PUJAKESUMA\n"
     ]
    },
    {
     "name": "stderr",
     "output_type": "stream",
     "text": [
      "Scraping reviews for PUJAKESUMA: 100%|██████████████████████████████████████| 25/25 [01:44<00:00,  4.19s/it, Review=25]\n"
     ]
    },
    {
     "name": "stdout",
     "output_type": "stream",
     "text": [
      "Review scraping finished for PUJAKESUMA\n",
      "starting scraping for:Warung Makan Vina Vani\n"
     ]
    },
    {
     "name": "stderr",
     "output_type": "stream",
     "text": [
      "Scraping reviews for Warung Makan Vina Vani: 100%|██████████████████████████| 25/25 [01:43<00:00,  4.14s/it, Review=25]\n"
     ]
    },
    {
     "name": "stdout",
     "output_type": "stream",
     "text": [
      "Review scraping finished for Warung Makan Vina Vani\n",
      "starting scraping for:Diamond kafe Karaoke\n",
      "starting scraping for:The Salty Spitoon\n"
     ]
    },
    {
     "name": "stderr",
     "output_type": "stream",
     "text": [
      "Scraping reviews for The Salty Spitoon: 100%|███████████████████████████████| 25/25 [01:41<00:00,  4.06s/it, Review=25]\n"
     ]
    },
    {
     "name": "stdout",
     "output_type": "stream",
     "text": [
      "Review scraping finished for The Salty Spitoon\n",
      "starting scraping for:Angkringan Mbah Aris\n",
      "starting scraping for:Angkringan mbakNdha\n"
     ]
    },
    {
     "name": "stderr",
     "output_type": "stream",
     "text": [
      "Scraping reviews for Angkringan mbakNdha: 100%|█████████████████████████████| 25/25 [01:44<00:00,  4.18s/it, Review=25]\n"
     ]
    },
    {
     "name": "stdout",
     "output_type": "stream",
     "text": [
      "Review scraping finished for Angkringan mbakNdha\n",
      "starting scraping for:Kopi Paris\n"
     ]
    },
    {
     "name": "stderr",
     "output_type": "stream",
     "text": [
      "Scraping reviews for Kopi Paris: 100%|██████████████████████████████████████| 25/25 [00:30<00:00,  1.23s/it, Review=25]\n"
     ]
    },
    {
     "name": "stdout",
     "output_type": "stream",
     "text": [
      "Review scraping finished for Kopi Paris\n",
      "starting scraping for: Cafe de Paris  Home Stay  Resto Seafood\n"
     ]
    },
    {
     "name": "stderr",
     "output_type": "stream",
     "text": [
      "Scraping reviews for  Cafe de Paris  Home Stay  Resto Seafood: 100%|████████| 25/25 [00:32<00:00,  1.30s/it, Review=25]\n"
     ]
    },
    {
     "name": "stdout",
     "output_type": "stream",
     "text": [
      "Review scraping finished for  Cafe de Paris  Home Stay  Resto Seafood\n",
      "starting scraping for:Warung Dila Mbah Aris\n"
     ]
    },
    {
     "name": "stderr",
     "output_type": "stream",
     "text": [
      "Scraping reviews for Warung Dila Mbah Aris: 100%|███████████████████████████| 25/25 [01:43<00:00,  4.13s/it, Review=25]\n"
     ]
    },
    {
     "name": "stdout",
     "output_type": "stream",
     "text": [
      "Review scraping finished for Warung Dila Mbah Aris\n",
      "starting scraping for:Fremilt Red Cafe Prambanan\n",
      "starting scraping for:Angkringan Sor Talok TWC Prambanan\n"
     ]
    },
    {
     "name": "stderr",
     "output_type": "stream",
     "text": [
      "Scraping reviews for Angkringan Sor Talok TWC Prambanan: 100%|██████████████| 25/25 [01:46<00:00,  4.28s/it, Review=25]\n"
     ]
    },
    {
     "name": "stdout",
     "output_type": "stream",
     "text": [
      "Review scraping finished for Angkringan Sor Talok TWC Prambanan\n",
      "starting scraping for:Sepindah Kopi\n"
     ]
    },
    {
     "name": "stderr",
     "output_type": "stream",
     "text": [
      "Scraping reviews for Sepindah Kopi: 100%|███████████████████████████████████| 25/25 [01:51<00:00,  4.45s/it, Review=25]\n"
     ]
    },
    {
     "name": "stdout",
     "output_type": "stream",
     "text": [
      "Review scraping finished for Sepindah Kopi\n",
      "starting scraping for:Say Story Prambanan\n"
     ]
    },
    {
     "name": "stderr",
     "output_type": "stream",
     "text": [
      "Scraping reviews for Say Story Prambanan: 100%|█████████████████████████████| 25/25 [01:59<00:00,  4.80s/it, Review=25]\n"
     ]
    },
    {
     "name": "stdout",
     "output_type": "stream",
     "text": [
      "Review scraping finished for Say Story Prambanan\n",
      "starting scraping for:KALONG Kafe\n",
      "starting scraping for:Angkringan Pojok Candi\n"
     ]
    },
    {
     "name": "stderr",
     "output_type": "stream",
     "text": [
      "Scraping reviews for Angkringan Pojok Candi: 100%|██████████████████████████| 25/25 [01:50<00:00,  4.43s/it, Review=25]\n"
     ]
    },
    {
     "name": "stdout",
     "output_type": "stream",
     "text": [
      "Review scraping finished for Angkringan Pojok Candi\n",
      "starting scraping for:Kopi Dinari\n"
     ]
    },
    {
     "name": "stderr",
     "output_type": "stream",
     "text": [
      "Scraping reviews for Kopi Dinari: 100%|█████████████████████████████████████| 25/25 [00:37<00:00,  1.51s/it, Review=25]\n"
     ]
    },
    {
     "name": "stdout",
     "output_type": "stream",
     "text": [
      "Review scraping finished for Kopi Dinari\n",
      "starting scraping for:Cafe Jamu Lumbung\n"
     ]
    },
    {
     "name": "stderr",
     "output_type": "stream",
     "text": [
      "Scraping reviews for Cafe Jamu Lumbung: 100%|███████████████████████████████| 25/25 [01:46<00:00,  4.26s/it, Review=25]\n"
     ]
    },
    {
     "name": "stdout",
     "output_type": "stream",
     "text": [
      "Review scraping finished for Cafe Jamu Lumbung\n",
      "starting scraping for:K-Space Prambanan\n"
     ]
    },
    {
     "name": "stderr",
     "output_type": "stream",
     "text": [
      "Scraping reviews for K-Space Prambanan: 100%|███████████████████████████████| 25/25 [01:24<00:00,  3.38s/it, Review=25]\n"
     ]
    },
    {
     "name": "stdout",
     "output_type": "stream",
     "text": [
      "Review scraping finished for K-Space Prambanan\n",
      "starting scraping for:CAFE RINGAN\n",
      "starting scraping for:Angkringan Bu Pairah\n"
     ]
    },
    {
     "name": "stderr",
     "output_type": "stream",
     "text": [
      "Scraping reviews for Angkringan Bu Pairah: 100%|████████████████████████████| 25/25 [01:51<00:00,  4.45s/it, Review=25]\n"
     ]
    },
    {
     "name": "stdout",
     "output_type": "stream",
     "text": [
      "Review scraping finished for Angkringan Bu Pairah\n",
      "starting scraping for:Basecamp Coffe  Eatery\n"
     ]
    },
    {
     "name": "stderr",
     "output_type": "stream",
     "text": [
      "Scraping reviews for Basecamp Coffe  Eatery: 100%|██████████████████████████| 25/25 [01:44<00:00,  4.18s/it, Review=25]\n"
     ]
    },
    {
     "name": "stdout",
     "output_type": "stream",
     "text": [
      "Review scraping finished for Basecamp Coffe  Eatery\n",
      "starting scraping for:Rama Shinta Garden Resto\n"
     ]
    },
    {
     "name": "stderr",
     "output_type": "stream",
     "text": [
      "Scraping reviews for Rama Shinta Garden Resto: 100%|████████████████████████| 25/25 [00:17<00:00,  1.46it/s, Review=25]\n"
     ]
    },
    {
     "name": "stdout",
     "output_type": "stream",
     "text": [
      "Review scraping finished for Rama Shinta Garden Resto\n",
      "starting scraping for:Kopi Teman Lelah ꦏꦥꦠꦩꦤꦊꦭ\n",
      "starting scraping for:Warung kopi YURIKA\n"
     ]
    },
    {
     "name": "stderr",
     "output_type": "stream",
     "text": [
      "Scraping reviews for Warung kopi YURIKA: 100%|██████████████████████████████| 25/25 [01:46<00:00,  4.24s/it, Review=25]\n"
     ]
    },
    {
     "name": "stdout",
     "output_type": "stream",
     "text": [
      "Review scraping finished for Warung kopi YURIKA\n",
      "starting scraping for:Dewi kamaratih coffee  resto\n",
      "starting scraping for:Es Coklat Bonng.262 Prambanan\n"
     ]
    },
    {
     "name": "stderr",
     "output_type": "stream",
     "text": [
      "Scraping reviews for Es Coklat Bonng.262 Prambanan: 100%|███████████████████| 25/25 [01:43<00:00,  4.12s/it, Review=25]\n"
     ]
    },
    {
     "name": "stdout",
     "output_type": "stream",
     "text": [
      "Review scraping finished for Es Coklat Bonng.262 Prambanan\n",
      "starting scraping for:Kedai SUKA_SUKA Prambanan\n"
     ]
    },
    {
     "name": "stderr",
     "output_type": "stream",
     "text": [
      "Scraping reviews for Kedai SUKA_SUKA Prambanan: 100%|███████████████████████| 25/25 [00:39<00:00,  1.58s/it, Review=25]\n"
     ]
    },
    {
     "name": "stdout",
     "output_type": "stream",
     "text": [
      "Review scraping finished for Kedai SUKA_SUKA Prambanan\n",
      "starting scraping for:Ndalem wuridiningratan\n"
     ]
    },
    {
     "name": "stderr",
     "output_type": "stream",
     "text": [
      "Scraping reviews for Ndalem wuridiningratan: 100%|██████████████████████████| 25/25 [01:46<00:00,  4.25s/it, Review=25]\n"
     ]
    },
    {
     "name": "stdout",
     "output_type": "stream",
     "text": [
      "Review scraping finished for Ndalem wuridiningratan\n",
      "starting scraping for:Wedang Kopi Prambanan ꦮꦢꦏꦥꦥꦩꦧꦤꦤ\n"
     ]
    },
    {
     "name": "stderr",
     "output_type": "stream",
     "text": [
      "Scraping reviews for Wedang Kopi Prambanan ꦮꦢꦏꦥꦥꦩꦧꦤꦤ: 100%|█████████████████| 25/25 [00:15<00:00,  1.64it/s, Review=25]\n"
     ]
    },
    {
     "name": "stdout",
     "output_type": "stream",
     "text": [
      "Review scraping finished for Wedang Kopi Prambanan ꦮꦢꦏꦥꦥꦩꦧꦤꦤ\n",
      "starting scraping for:Kuliner Lor Tugu\n"
     ]
    },
    {
     "name": "stderr",
     "output_type": "stream",
     "text": [
      "Scraping reviews for Kuliner Lor Tugu: 100%|████████████████████████████████| 25/25 [00:19<00:00,  1.30it/s, Review=25]\n"
     ]
    },
    {
     "name": "stdout",
     "output_type": "stream",
     "text": [
      "Review scraping finished for Kuliner Lor Tugu\n",
      "starting scraping for:Anggrek Executive Lounge Stasiun Tugu Yogyakarta\n"
     ]
    },
    {
     "name": "stderr",
     "output_type": "stream",
     "text": [
      "Scraping reviews for Anggrek Executive Lounge Stasiun Tugu Yogyakarta: 100%|█| 25/25 [00:27<00:00,  1.09s/it, Review=25\n"
     ]
    },
    {
     "name": "stdout",
     "output_type": "stream",
     "text": [
      "Review scraping finished for Anggrek Executive Lounge Stasiun Tugu Yogyakarta\n",
      "starting scraping for:Toegoe Resto\n"
     ]
    },
    {
     "name": "stderr",
     "output_type": "stream",
     "text": [
      "Scraping reviews for Toegoe Resto: 100%|████████████████████████████████████| 25/25 [00:51<00:00,  2.06s/it, Review=25]\n"
     ]
    },
    {
     "name": "stdout",
     "output_type": "stream",
     "text": [
      "Review scraping finished for Toegoe Resto\n",
      "starting scraping for:Gudeg Yu Narni Tugu\n"
     ]
    },
    {
     "name": "stderr",
     "output_type": "stream",
     "text": [
      "Scraping reviews for Gudeg Yu Narni Tugu: 100%|█████████████████████████████| 25/25 [00:37<00:00,  1.51s/it, Review=25]\n"
     ]
    },
    {
     "name": "stdout",
     "output_type": "stream",
     "text": [
      "Review scraping finished for Gudeg Yu Narni Tugu\n",
      "starting scraping for:Gudeg Kulon Tugu\n"
     ]
    },
    {
     "name": "stderr",
     "output_type": "stream",
     "text": [
      "Scraping reviews for Gudeg Kulon Tugu: 100%|████████████████████████████████| 25/25 [00:36<00:00,  1.44s/it, Review=25]\n"
     ]
    },
    {
     "name": "stdout",
     "output_type": "stream",
     "text": [
      "Review scraping finished for Gudeg Kulon Tugu\n",
      "starting scraping for:Nasi Langgi Tugu\n"
     ]
    },
    {
     "name": "stderr",
     "output_type": "stream",
     "text": [
      "Scraping reviews for Nasi Langgi Tugu: 100%|████████████████████████████████| 25/25 [01:50<00:00,  4.43s/it, Review=25]\n"
     ]
    },
    {
     "name": "stdout",
     "output_type": "stream",
     "text": [
      "Review scraping finished for Nasi Langgi Tugu\n",
      "starting scraping for:Kampoeng Tugu\n"
     ]
    },
    {
     "name": "stderr",
     "output_type": "stream",
     "text": [
      "Scraping reviews for Kampoeng Tugu: 100%|███████████████████████████████████| 25/25 [00:41<00:00,  1.65s/it, Review=25]\n"
     ]
    },
    {
     "name": "stdout",
     "output_type": "stream",
     "text": [
      "Review scraping finished for Kampoeng Tugu\n",
      "starting scraping for:Kampung Tugu Jogja\n"
     ]
    },
    {
     "name": "stderr",
     "output_type": "stream",
     "text": [
      "Scraping reviews for Kampung Tugu Jogja: 100%|██████████████████████████████| 25/25 [01:43<00:00,  4.16s/it, Review=25]\n"
     ]
    },
    {
     "name": "stdout",
     "output_type": "stream",
     "text": [
      "Review scraping finished for Kampung Tugu Jogja\n",
      "starting scraping for:Soto Ayam Pak Gareng Tugu\n"
     ]
    },
    {
     "name": "stderr",
     "output_type": "stream",
     "text": [
      "Scraping reviews for Soto Ayam Pak Gareng Tugu: 100%|███████████████████████| 25/25 [00:27<00:00,  1.10s/it, Review=25]\n"
     ]
    },
    {
     "name": "stdout",
     "output_type": "stream",
     "text": [
      "Review scraping finished for Soto Ayam Pak Gareng Tugu\n",
      "starting scraping for:Mc Chicken Stasiun Tugu Yogyakarta.\n",
      "starting scraping for:Izgara UrbanGrill Tugu\n"
     ]
    },
    {
     "name": "stderr",
     "output_type": "stream",
     "text": [
      "Scraping reviews for Izgara UrbanGrill Tugu: 100%|██████████████████████████| 25/25 [01:41<00:00,  4.07s/it, Review=25]\n"
     ]
    },
    {
     "name": "stdout",
     "output_type": "stream",
     "text": [
      "Review scraping finished for Izgara UrbanGrill Tugu\n",
      "starting scraping for:Kedai Darling 02 Lor Tugu\n"
     ]
    },
    {
     "name": "stderr",
     "output_type": "stream",
     "text": [
      "Scraping reviews for Kedai Darling 02 Lor Tugu: 100%|███████████████████████| 25/25 [01:43<00:00,  4.15s/it, Review=25]\n"
     ]
    },
    {
     "name": "stdout",
     "output_type": "stream",
     "text": [
      "Review scraping finished for Kedai Darling 02 Lor Tugu\n",
      "starting scraping for:Penyetan Mas Kobis Tugu\n"
     ]
    },
    {
     "name": "stderr",
     "output_type": "stream",
     "text": [
      "Scraping reviews for Penyetan Mas Kobis Tugu: 100%|█████████████████████████| 25/25 [00:38<00:00,  1.52s/it, Review=25]\n"
     ]
    },
    {
     "name": "stdout",
     "output_type": "stream",
     "text": [
      "Review scraping finished for Penyetan Mas Kobis Tugu\n",
      "starting scraping for:Kuah Panas Tugu Jogja\n"
     ]
    },
    {
     "name": "stderr",
     "output_type": "stream",
     "text": [
      "Scraping reviews for Kuah Panas Tugu Jogja: 100%|███████████████████████████| 25/25 [00:33<00:00,  1.35s/it, Review=25]\n"
     ]
    },
    {
     "name": "stdout",
     "output_type": "stream",
     "text": [
      "Review scraping finished for Kuah Panas Tugu Jogja\n",
      "starting scraping for:Rumah Makan  Travel Tugu Muda Resto\n"
     ]
    },
    {
     "name": "stderr",
     "output_type": "stream",
     "text": [
      "Scraping reviews for Rumah Makan  Travel Tugu Muda Resto: 100%|█████████████| 25/25 [01:42<00:00,  4.11s/it, Review=25]\n"
     ]
    },
    {
     "name": "stdout",
     "output_type": "stream",
     "text": [
      "Review scraping finished for Rumah Makan  Travel Tugu Muda Resto\n",
      "starting scraping for:Mister Burger Stasiun Tugu Yogyakarta\n"
     ]
    },
    {
     "name": "stderr",
     "output_type": "stream",
     "text": [
      "Scraping reviews for Mister Burger Stasiun Tugu Yogyakarta: 100%|███████████| 25/25 [01:19<00:00,  3.17s/it, Review=25]\n"
     ]
    },
    {
     "name": "stdout",
     "output_type": "stream",
     "text": [
      "Review scraping finished for Mister Burger Stasiun Tugu Yogyakarta\n",
      "starting scraping for:Angkringan dan Bakmi Tugu Jogja\n",
      "starting scraping for:Mie jawa smping stasiun tugu\n"
     ]
    },
    {
     "name": "stderr",
     "output_type": "stream",
     "text": [
      "Scraping reviews for Mie jawa smping stasiun tugu: 100%|████████████████████| 25/25 [01:44<00:00,  4.18s/it, Review=25]\n"
     ]
    },
    {
     "name": "stdout",
     "output_type": "stream",
     "text": [
      "Review scraping finished for Mie jawa smping stasiun tugu\n",
      "starting scraping for:Angkringan Mbahe Tugu\n",
      "starting scraping for:Bale Raos - The Sultans Dishes\n"
     ]
    },
    {
     "name": "stderr",
     "output_type": "stream",
     "text": [
      "Scraping reviews for Bale Raos - The Sultans Dishes: 100%|██████████████████| 25/25 [00:24<00:00,  1.04it/s, Review=25]\n"
     ]
    },
    {
     "name": "stdout",
     "output_type": "stream",
     "text": [
      "Review scraping finished for Bale Raos - The Sultans Dishes\n",
      "starting scraping for:Gadri Resto\n"
     ]
    },
    {
     "name": "stderr",
     "output_type": "stream",
     "text": [
      "Scraping reviews for Gadri Resto: 100%|█████████████████████████████████████| 25/25 [00:39<00:00,  1.58s/it, Review=25]\n"
     ]
    },
    {
     "name": "stdout",
     "output_type": "stream",
     "text": [
      "Review scraping finished for Gadri Resto\n",
      "starting scraping for:Wedangan Sor Sawo\n"
     ]
    },
    {
     "name": "stderr",
     "output_type": "stream",
     "text": [
      "Scraping reviews for Wedangan Sor Sawo: 100%|███████████████████████████████| 25/25 [01:00<00:00,  2.41s/it, Review=25]\n"
     ]
    },
    {
     "name": "stdout",
     "output_type": "stream",
     "text": [
      "Review scraping finished for Wedangan Sor Sawo\n",
      "starting scraping for:nDalem Ngabean Resto\n",
      "starting scraping for:Es Buah Gerjen Keraton Yogyakarta\n"
     ]
    },
    {
     "name": "stderr",
     "output_type": "stream",
     "text": [
      "Scraping reviews for Es Buah Gerjen Keraton Yogyakarta: 100%|███████████████| 25/25 [00:32<00:00,  1.30s/it, Review=25]\n"
     ]
    },
    {
     "name": "stdout",
     "output_type": "stream",
     "text": [
      "Review scraping finished for Es Buah Gerjen Keraton Yogyakarta\n",
      "starting scraping for:Tengkleng Bhenjoyo Keraton\n"
     ]
    },
    {
     "name": "stderr",
     "output_type": "stream",
     "text": [
      "Scraping reviews for Tengkleng Bhenjoyo Keraton: 100%|██████████████████████| 25/25 [00:15<00:00,  1.61it/s, Review=25]\n"
     ]
    },
    {
     "name": "stdout",
     "output_type": "stream",
     "text": [
      "Review scraping finished for Tengkleng Bhenjoyo Keraton\n",
      "starting scraping for:Gudeg Bu Slamet ꦒꦝꦒꦧꦱꦭꦩꦠ\n"
     ]
    },
    {
     "name": "stderr",
     "output_type": "stream",
     "text": [
      "Scraping reviews for Gudeg Bu Slamet ꦒꦝꦒꦧꦱꦭꦩꦠ: 100%|████████████████████████| 25/25 [00:24<00:00,  1.01it/s, Review=25]\n"
     ]
    },
    {
     "name": "stdout",
     "output_type": "stream",
     "text": [
      "Review scraping finished for Gudeg Bu Slamet ꦒꦝꦒꦧꦱꦭꦩꦠ\n",
      "starting scraping for:Warung Brongkos Handayani\n"
     ]
    },
    {
     "name": "stderr",
     "output_type": "stream",
     "text": [
      "Scraping reviews for Warung Brongkos Handayani: 100%|███████████████████████| 25/25 [00:20<00:00,  1.21it/s, Review=25]\n"
     ]
    },
    {
     "name": "stdout",
     "output_type": "stream",
     "text": [
      "Review scraping finished for Warung Brongkos Handayani\n",
      "starting scraping for:Gudeg Wijilan Bu Lies ꦒꦣꦒꦮꦗꦭꦤꦧꦭꦪꦱ\n"
     ]
    },
    {
     "name": "stderr",
     "output_type": "stream",
     "text": [
      "Scraping reviews for Gudeg Wijilan Bu Lies ꦒꦣꦒꦮꦗꦭꦤꦧꦭꦪꦱ: 100%|███████████████| 25/25 [00:17<00:00,  1.44it/s, Review=25]\n"
     ]
    },
    {
     "name": "stdout",
     "output_type": "stream",
     "text": [
      "Review scraping finished for Gudeg Wijilan Bu Lies ꦒꦣꦒꦮꦗꦭꦤꦧꦭꦪꦱ\n",
      "starting scraping for:kedai ndalem\n"
     ]
    },
    {
     "name": "stderr",
     "output_type": "stream",
     "text": [
      "Scraping reviews for kedai ndalem: 100%|████████████████████████████████████| 25/25 [01:43<00:00,  4.15s/it, Review=25]\n"
     ]
    },
    {
     "name": "stdout",
     "output_type": "stream",
     "text": [
      "Review scraping finished for kedai ndalem\n",
      "starting scraping for:Gudeg Bu Ninuk\n"
     ]
    },
    {
     "name": "stderr",
     "output_type": "stream",
     "text": [
      "Scraping reviews for Gudeg Bu Ninuk: 100%|██████████████████████████████████| 25/25 [01:46<00:00,  4.26s/it, Review=25]\n"
     ]
    },
    {
     "name": "stdout",
     "output_type": "stream",
     "text": [
      "Review scraping finished for Gudeg Bu Ninuk\n",
      "starting scraping for:Telur gulung Pojok Tamansari\n"
     ]
    },
    {
     "name": "stderr",
     "output_type": "stream",
     "text": [
      "Scraping reviews for Telur gulung Pojok Tamansari: 100%|████████████████████| 25/25 [01:44<00:00,  4.17s/it, Review=25]\n"
     ]
    },
    {
     "name": "stdout",
     "output_type": "stream",
     "text": [
      "Review scraping finished for Telur gulung Pojok Tamansari\n",
      "starting scraping for:Dani Snack Mbak Dani\n"
     ]
    },
    {
     "name": "stderr",
     "output_type": "stream",
     "text": [
      "Scraping reviews for Dani Snack Mbak Dani: 100%|████████████████████████████| 25/25 [01:51<00:00,  4.46s/it, Review=25]\n"
     ]
    },
    {
     "name": "stdout",
     "output_type": "stream",
     "text": [
      "Review scraping finished for Dani Snack Mbak Dani\n",
      "starting scraping for:Soto Sapi 19\n"
     ]
    },
    {
     "name": "stderr",
     "output_type": "stream",
     "text": [
      "Scraping reviews for Soto Sapi 19: 100%|████████████████████████████████████| 25/25 [01:46<00:00,  4.27s/it, Review=25]\n"
     ]
    },
    {
     "name": "stdout",
     "output_type": "stream",
     "text": [
      "Review scraping finished for Soto Sapi 19\n",
      "starting scraping for:Warung Ramesan Mbak Meniz\n"
     ]
    },
    {
     "name": "stderr",
     "output_type": "stream",
     "text": [
      "Scraping reviews for Warung Ramesan Mbak Meniz: 100%|███████████████████████| 25/25 [01:43<00:00,  4.14s/it, Review=25]\n"
     ]
    },
    {
     "name": "stdout",
     "output_type": "stream",
     "text": [
      "Review scraping finished for Warung Ramesan Mbak Meniz\n",
      "starting scraping for:Giandras FB\n"
     ]
    },
    {
     "name": "stderr",
     "output_type": "stream",
     "text": [
      "Scraping reviews for Giandras FB: 100%|█████████████████████████████████████| 25/25 [01:43<00:00,  4.14s/it, Review=25]\n"
     ]
    },
    {
     "name": "stdout",
     "output_type": "stream",
     "text": [
      "Review scraping finished for Giandras FB\n",
      "starting scraping for:Special Bakmi  Nasi Goreng Pak Pele\n"
     ]
    },
    {
     "name": "stderr",
     "output_type": "stream",
     "text": [
      "Scraping reviews for Special Bakmi  Nasi Goreng Pak Pele: 100%|█████████████| 25/25 [00:17<00:00,  1.44it/s, Review=25]\n"
     ]
    },
    {
     "name": "stdout",
     "output_type": "stream",
     "text": [
      "Review scraping finished for Special Bakmi  Nasi Goreng Pak Pele\n",
      "starting scraping for:Bakmi Jawa Bu Tutik\n"
     ]
    },
    {
     "name": "stderr",
     "output_type": "stream",
     "text": [
      "Scraping reviews for Bakmi Jawa Bu Tutik: 100%|█████████████████████████████| 25/25 [01:49<00:00,  4.39s/it, Review=25]\n"
     ]
    },
    {
     "name": "stdout",
     "output_type": "stream",
     "text": [
      "Review scraping finished for Bakmi Jawa Bu Tutik\n",
      "starting scraping for:Kedai BeBeQi Saikoro\n"
     ]
    },
    {
     "name": "stderr",
     "output_type": "stream",
     "text": [
      "Scraping reviews for Kedai BeBeQi Saikoro: 100%|████████████████████████████| 25/25 [01:21<00:00,  3.25s/it, Review=25]\n"
     ]
    },
    {
     "name": "stdout",
     "output_type": "stream",
     "text": [
      "Review scraping finished for Kedai BeBeQi Saikoro\n",
      "starting scraping for:Nasi Goreng Tetelan Sapi Omded\n",
      "starting scraping for:Warunk Soto Nikmat YIA\n"
     ]
    },
    {
     "name": "stderr",
     "output_type": "stream",
     "text": [
      "Scraping reviews for Warunk Soto Nikmat YIA: 100%|██████████████████████████| 25/25 [00:28<00:00,  1.15s/it, Review=25]\n"
     ]
    },
    {
     "name": "stdout",
     "output_type": "stream",
     "text": [
      "Review scraping finished for Warunk Soto Nikmat YIA\n",
      "starting scraping for:Solaria Yogyakarta International Airport\n"
     ]
    },
    {
     "name": "stderr",
     "output_type": "stream",
     "text": [
      "Scraping reviews for Solaria Yogyakarta International Airport: 100%|████████| 25/25 [00:37<00:00,  1.49s/it, Review=25]\n"
     ]
    },
    {
     "name": "stdout",
     "output_type": "stream",
     "text": [
      "Review scraping finished for Solaria Yogyakarta International Airport\n",
      "starting scraping for:CFC BANDARA YIA\n"
     ]
    },
    {
     "name": "stderr",
     "output_type": "stream",
     "text": [
      "Scraping reviews for CFC BANDARA YIA: 100%|█████████████████████████████████| 25/25 [01:48<00:00,  4.33s/it, Review=25]\n"
     ]
    },
    {
     "name": "stdout",
     "output_type": "stream",
     "text": [
      "Review scraping finished for CFC BANDARA YIA\n",
      "starting scraping for:Foodcourt Yia By Kokapura\n"
     ]
    },
    {
     "name": "stderr",
     "output_type": "stream",
     "text": [
      "Scraping reviews for Foodcourt Yia By Kokapura: 100%|███████████████████████| 25/25 [01:43<00:00,  4.15s/it, Review=25]\n"
     ]
    },
    {
     "name": "stdout",
     "output_type": "stream",
     "text": [
      "Review scraping finished for Foodcourt Yia By Kokapura\n",
      "starting scraping for:Cantik Manis\n",
      "starting scraping for:Warung soto Nikmat\n"
     ]
    },
    {
     "name": "stderr",
     "output_type": "stream",
     "text": [
      "Scraping reviews for Warung soto Nikmat: 100%|██████████████████████████████| 25/25 [01:46<00:00,  4.24s/it, Review=25]\n"
     ]
    },
    {
     "name": "stdout",
     "output_type": "stream",
     "text": [
      "Review scraping finished for Warung soto Nikmat\n",
      "starting scraping for:Kepala Djenggot Tea\n"
     ]
    },
    {
     "name": "stderr",
     "output_type": "stream",
     "text": [
      "Scraping reviews for Kepala Djenggot Tea: 100%|█████████████████████████████| 25/25 [01:41<00:00,  4.07s/it, Review=25]\n"
     ]
    },
    {
     "name": "stdout",
     "output_type": "stream",
     "text": [
      "Review scraping finished for Kepala Djenggot Tea\n",
      "starting scraping for:Angkringan KlX\n"
     ]
    },
    {
     "name": "stderr",
     "output_type": "stream",
     "text": [
      "Scraping reviews for Angkringan KlX: 100%|██████████████████████████████████| 25/25 [02:00<00:00,  4.84s/it, Review=25]\n"
     ]
    },
    {
     "name": "stdout",
     "output_type": "stream",
     "text": [
      "Review scraping finished for Angkringan KlX\n",
      "starting scraping for:AW Restoran - Yogyakarta International Airport\n",
      "starting scraping for:ANGKRINGAN GELORA\n",
      "starting scraping for:Joglo Swantiti\n",
      "starting scraping for:Bakpia Kukus Tugu Jogja - Toko Resmi Bandara YIA\n"
     ]
    },
    {
     "name": "stderr",
     "output_type": "stream",
     "text": [
      "Scraping reviews for Bakpia Kukus Tugu Jogja - Toko Resmi Bandara YIA: 100%|█| 25/25 [01:41<00:00,  4.05s/it, Review=25\n"
     ]
    },
    {
     "name": "stdout",
     "output_type": "stream",
     "text": [
      "Review scraping finished for Bakpia Kukus Tugu Jogja - Toko Resmi Bandara YIA\n",
      "starting scraping for:Aigo Seblak Korea Prasmanan\n"
     ]
    },
    {
     "name": "stderr",
     "output_type": "stream",
     "text": [
      "Scraping reviews for Aigo Seblak Korea Prasmanan: 100%|█████████████████████| 25/25 [00:39<00:00,  1.58s/it, Review=25]\n"
     ]
    },
    {
     "name": "stdout",
     "output_type": "stream",
     "text": [
      "Review scraping finished for Aigo Seblak Korea Prasmanan\n",
      "starting scraping for:Gorengan Mbah Bekti\n"
     ]
    },
    {
     "name": "stderr",
     "output_type": "stream",
     "text": [
      "Scraping reviews for Gorengan Mbah Bekti: 100%|█████████████████████████████| 25/25 [01:43<00:00,  4.16s/it, Review=25]\n"
     ]
    },
    {
     "name": "stdout",
     "output_type": "stream",
     "text": [
      "Review scraping finished for Gorengan Mbah Bekti\n",
      "starting scraping for:Pawon Asasta\n"
     ]
    },
    {
     "name": "stderr",
     "output_type": "stream",
     "text": [
      "Scraping reviews for Pawon Asasta: 100%|████████████████████████████████████| 25/25 [01:48<00:00,  4.35s/it, Review=25]\n"
     ]
    },
    {
     "name": "stdout",
     "output_type": "stream",
     "text": [
      "Review scraping finished for Pawon Asasta\n",
      "starting scraping for:Mien Steak Ayank\n"
     ]
    },
    {
     "name": "stderr",
     "output_type": "stream",
     "text": [
      "Scraping reviews for Mien Steak Ayank: 100%|████████████████████████████████| 25/25 [01:42<00:00,  4.08s/it, Review=25]\n"
     ]
    },
    {
     "name": "stdout",
     "output_type": "stream",
     "text": [
      "Review scraping finished for Mien Steak Ayank\n",
      "starting scraping for:Gudeg Pondok\n"
     ]
    },
    {
     "name": "stderr",
     "output_type": "stream",
     "text": [
      "Scraping reviews for Gudeg Pondok: 100%|████████████████████████████████████| 25/25 [01:45<00:00,  4.21s/it, Review=25]\n"
     ]
    },
    {
     "name": "stdout",
     "output_type": "stream",
     "text": [
      "Review scraping finished for Gudeg Pondok\n",
      "starting scraping for:KAVGA KEBAB\n"
     ]
    },
    {
     "name": "stderr",
     "output_type": "stream",
     "text": [
      "Scraping reviews for KAVGA KEBAB: 100%|█████████████████████████████████████| 25/25 [01:55<00:00,  4.61s/it, Review=25]\n"
     ]
    },
    {
     "name": "stdout",
     "output_type": "stream",
     "text": [
      "Review scraping finished for KAVGA KEBAB\n",
      "starting scraping for:Suqaa food - Steak  Waffle Yogyakarta\n"
     ]
    },
    {
     "name": "stderr",
     "output_type": "stream",
     "text": [
      "Scraping reviews for Suqaa food - Steak  Waffle Yogyakarta: 100%|███████████| 25/25 [00:43<00:00,  1.75s/it, Review=25]\n"
     ]
    },
    {
     "name": "stdout",
     "output_type": "stream",
     "text": [
      "Review scraping finished for Suqaa food - Steak  Waffle Yogyakarta\n",
      "starting scraping for:Super Nasbak nasi bakar daging sapi pedas\n"
     ]
    },
    {
     "name": "stderr",
     "output_type": "stream",
     "text": [
      "Scraping reviews for Super Nasbak nasi bakar daging sapi pedas: 100%|███████| 25/25 [01:43<00:00,  4.13s/it, Review=25]\n"
     ]
    },
    {
     "name": "stdout",
     "output_type": "stream",
     "text": [
      "Review scraping finished for Super Nasbak nasi bakar daging sapi pedas\n",
      "starting scraping for:Angkringan Babe\n",
      "starting scraping for:Mie Sapi Perjuangan  Condongcatur\n"
     ]
    },
    {
     "name": "stderr",
     "output_type": "stream",
     "text": [
      "Scraping reviews for Mie Sapi Perjuangan  Condongcatur: 100%|███████████████| 25/25 [00:21<00:00,  1.18it/s, Review=25]\n"
     ]
    },
    {
     "name": "stdout",
     "output_type": "stream",
     "text": [
      "Review scraping finished for Mie Sapi Perjuangan  Condongcatur\n",
      "starting scraping for:Bakso Tenis  Mie Ayam Bayam\n"
     ]
    },
    {
     "name": "stderr",
     "output_type": "stream",
     "text": [
      "Scraping reviews for Bakso Tenis  Mie Ayam Bayam: 100%|█████████████████████| 25/25 [00:25<00:00,  1.04s/it, Review=25]\n"
     ]
    },
    {
     "name": "stdout",
     "output_type": "stream",
     "text": [
      "Review scraping finished for Bakso Tenis  Mie Ayam Bayam\n",
      "starting scraping for:Warung Makan Mbak Yanti\n"
     ]
    },
    {
     "name": "stderr",
     "output_type": "stream",
     "text": [
      "Scraping reviews for Warung Makan Mbak Yanti: 100%|█████████████████████████| 25/25 [00:54<00:00,  2.19s/it, Review=25]\n"
     ]
    },
    {
     "name": "stdout",
     "output_type": "stream",
     "text": [
      "Review scraping finished for Warung Makan Mbak Yanti\n",
      "starting scraping for:Sate pada yoko bana\n",
      "starting scraping for:Penyetan Mas Kobis\n"
     ]
    },
    {
     "name": "stderr",
     "output_type": "stream",
     "text": [
      "Scraping reviews for Penyetan Mas Kobis: 100%|██████████████████████████████| 25/25 [00:44<00:00,  1.80s/it, Review=25]\n"
     ]
    },
    {
     "name": "stdout",
     "output_type": "stream",
     "text": [
      "Review scraping finished for Penyetan Mas Kobis\n",
      "starting scraping for:Warung Lesehan Ambar\n"
     ]
    },
    {
     "name": "stderr",
     "output_type": "stream",
     "text": [
      "Scraping reviews for Warung Lesehan Ambar: 100%|████████████████████████████| 25/25 [01:43<00:00,  4.14s/it, Review=25]\n"
     ]
    },
    {
     "name": "stdout",
     "output_type": "stream",
     "text": [
      "Review scraping finished for Warung Lesehan Ambar\n",
      "starting scraping for:UC Resto\n"
     ]
    },
    {
     "name": "stderr",
     "output_type": "stream",
     "text": [
      "Scraping reviews for UC Resto: 100%|████████████████████████████████████████| 25/25 [00:37<00:00,  1.51s/it, Review=25]\n"
     ]
    },
    {
     "name": "stdout",
     "output_type": "stream",
     "text": [
      "Review scraping finished for UC Resto\n",
      "starting scraping for:Food Court UGM Baru\n"
     ]
    },
    {
     "name": "stderr",
     "output_type": "stream",
     "text": [
      "Scraping reviews for Food Court UGM Baru: 100%|█████████████████████████████| 25/25 [00:42<00:00,  1.71s/it, Review=25]\n"
     ]
    },
    {
     "name": "stdout",
     "output_type": "stream",
     "text": [
      "Review scraping finished for Food Court UGM Baru\n",
      "starting scraping for:Songo Ramen\n"
     ]
    },
    {
     "name": "stderr",
     "output_type": "stream",
     "text": [
      "Scraping reviews for Songo Ramen: 100%|█████████████████████████████████████| 25/25 [00:23<00:00,  1.05it/s, Review=25]\n"
     ]
    },
    {
     "name": "stdout",
     "output_type": "stream",
     "text": [
      "Review scraping finished for Songo Ramen\n",
      "starting scraping for:Kantin Aldhan Fak. Filsafat UGM\n"
     ]
    },
    {
     "name": "stderr",
     "output_type": "stream",
     "text": [
      "Scraping reviews for Kantin Aldhan Fak. Filsafat UGM: 100%|█████████████████| 25/25 [01:59<00:00,  4.78s/it, Review=25]\n"
     ]
    },
    {
     "name": "stdout",
     "output_type": "stream",
     "text": [
      "Review scraping finished for Kantin Aldhan Fak. Filsafat UGM\n",
      "starting scraping for:Nasi Kulit Syuurga GSP UGM\n"
     ]
    },
    {
     "name": "stderr",
     "output_type": "stream",
     "text": [
      "Scraping reviews for Nasi Kulit Syuurga GSP UGM: 100%|██████████████████████| 25/25 [00:17<00:00,  1.46it/s, Review=25]\n"
     ]
    },
    {
     "name": "stdout",
     "output_type": "stream",
     "text": [
      "Review scraping finished for Nasi Kulit Syuurga GSP UGM\n",
      "starting scraping for:Waroeng Spesial Sambal SS 01 Perjuangan\n"
     ]
    },
    {
     "name": "stderr",
     "output_type": "stream",
     "text": [
      "Scraping reviews for Waroeng Spesial Sambal SS 01 Perjuangan: 100%|█████████| 25/25 [00:31<00:00,  1.25s/it, Review=25]\n"
     ]
    },
    {
     "name": "stdout",
     "output_type": "stream",
     "text": [
      "Review scraping finished for Waroeng Spesial Sambal SS 01 Perjuangan\n",
      "starting scraping for:Warung Makan Ayam Geprek Bu Rum 4\n"
     ]
    },
    {
     "name": "stderr",
     "output_type": "stream",
     "text": [
      "Scraping reviews for Warung Makan Ayam Geprek Bu Rum 4: 100%|███████████████| 25/25 [00:33<00:00,  1.33s/it, Review=25]\n"
     ]
    },
    {
     "name": "stdout",
     "output_type": "stream",
     "text": [
      "Review scraping finished for Warung Makan Ayam Geprek Bu Rum 4\n",
      "starting scraping for:Hakosuka Sushi\n"
     ]
    },
    {
     "name": "stderr",
     "output_type": "stream",
     "text": [
      "Scraping reviews for Hakosuka Sushi: 100%|██████████████████████████████████| 25/25 [00:20<00:00,  1.21it/s, Review=25]\n"
     ]
    },
    {
     "name": "stdout",
     "output_type": "stream",
     "text": [
      "Review scraping finished for Hakosuka Sushi\n",
      "starting scraping for:Nasi Telor W4REQ by Suddenly\n"
     ]
    },
    {
     "name": "stderr",
     "output_type": "stream",
     "text": [
      "Scraping reviews for Nasi Telor W4REQ by Suddenly: 100%|████████████████████| 25/25 [00:31<00:00,  1.26s/it, Review=25]\n"
     ]
    },
    {
     "name": "stdout",
     "output_type": "stream",
     "text": [
      "Review scraping finished for Nasi Telor W4REQ by Suddenly\n",
      "starting scraping for:monalisa burger\n"
     ]
    },
    {
     "name": "stderr",
     "output_type": "stream",
     "text": [
      "Scraping reviews for monalisa burger: 100%|█████████████████████████████████| 25/25 [00:20<00:00,  1.23it/s, Review=25]\n"
     ]
    },
    {
     "name": "stdout",
     "output_type": "stream",
     "text": [
      "Review scraping finished for monalisa burger\n",
      "starting scraping for:Bho Dimsum UGM\n"
     ]
    },
    {
     "name": "stderr",
     "output_type": "stream",
     "text": [
      "Scraping reviews for Bho Dimsum UGM: 100%|██████████████████████████████████| 25/25 [00:59<00:00,  2.36s/it, Review=25]\n"
     ]
    },
    {
     "name": "stdout",
     "output_type": "stream",
     "text": [
      "Review scraping finished for Bho Dimsum UGM\n",
      "starting scraping for:Wr. Bu Saijo Kantin Pujale UGM\n"
     ]
    },
    {
     "name": "stderr",
     "output_type": "stream",
     "text": [
      "Scraping reviews for Wr. Bu Saijo Kantin Pujale UGM: 100%|██████████████████| 25/25 [01:43<00:00,  4.15s/it, Review=25]\n"
     ]
    },
    {
     "name": "stdout",
     "output_type": "stream",
     "text": [
      "Review scraping finished for Wr. Bu Saijo Kantin Pujale UGM\n",
      "starting scraping for:Angkringan Farmasi\n"
     ]
    },
    {
     "name": "stderr",
     "output_type": "stream",
     "text": [
      "Scraping reviews for Angkringan Farmasi: 100%|██████████████████████████████| 25/25 [01:21<00:00,  3.26s/it, Review=25]\n"
     ]
    },
    {
     "name": "stdout",
     "output_type": "stream",
     "text": [
      "Review scraping finished for Angkringan Farmasi\n",
      "starting scraping for:KFC UGM Yogyakarta\n"
     ]
    },
    {
     "name": "stderr",
     "output_type": "stream",
     "text": [
      "Scraping reviews for KFC UGM Yogyakarta: 100%|██████████████████████████████| 25/25 [00:22<00:00,  1.13it/s, Review=25]\n"
     ]
    },
    {
     "name": "stdout",
     "output_type": "stream",
     "text": [
      "Review scraping finished for KFC UGM Yogyakarta\n",
      "starting scraping for:LESEHAN PRASOJO\n"
     ]
    },
    {
     "name": "stderr",
     "output_type": "stream",
     "text": [
      "Scraping reviews for LESEHAN PRASOJO: 100%|█████████████████████████████████| 25/25 [00:20<00:00,  1.21it/s, Review=25]\n"
     ]
    },
    {
     "name": "stdout",
     "output_type": "stream",
     "text": [
      "Review scraping finished for LESEHAN PRASOJO\n",
      "starting scraping for:Seafood Pak Purwanto\n"
     ]
    },
    {
     "name": "stderr",
     "output_type": "stream",
     "text": [
      "Scraping reviews for Seafood Pak Purwanto: 100%|████████████████████████████| 25/25 [00:18<00:00,  1.33it/s, Review=25]\n"
     ]
    },
    {
     "name": "stdout",
     "output_type": "stream",
     "text": [
      "Review scraping finished for Seafood Pak Purwanto\n",
      "starting scraping for:Sate Padang Chaniago\n"
     ]
    },
    {
     "name": "stderr",
     "output_type": "stream",
     "text": [
      "Scraping reviews for Sate Padang Chaniago: 100%|████████████████████████████| 25/25 [00:34<00:00,  1.37s/it, Review=25]\n"
     ]
    },
    {
     "name": "stdout",
     "output_type": "stream",
     "text": [
      "Review scraping finished for Sate Padang Chaniago\n",
      "starting scraping for:Lesehan Tasik Malaya\n"
     ]
    },
    {
     "name": "stderr",
     "output_type": "stream",
     "text": [
      "Scraping reviews for Lesehan Tasik Malaya: 100%|████████████████████████████| 25/25 [00:22<00:00,  1.13it/s, Review=25]\n"
     ]
    },
    {
     "name": "stdout",
     "output_type": "stream",
     "text": [
      "Review scraping finished for Lesehan Tasik Malaya\n",
      "Warung Makan Mbak Yanti is already scrapped. Check or delete the file if you want to rescrape it.\n",
      "starting scraping for:Sate Kambing Muda Ki Doel Prambanan\n"
     ]
    },
    {
     "name": "stderr",
     "output_type": "stream",
     "text": [
      "Scraping reviews for Sate Kambing Muda Ki Doel Prambanan: 100%|█████████████| 25/25 [00:22<00:00,  1.13it/s, Review=25]\n"
     ]
    },
    {
     "name": "stdout",
     "output_type": "stream",
     "text": [
      "Review scraping finished for Sate Kambing Muda Ki Doel Prambanan\n",
      "starting scraping for:Warung Soto Bu Yani\n"
     ]
    },
    {
     "name": "stderr",
     "output_type": "stream",
     "text": [
      "Scraping reviews for Warung Soto Bu Yani: 100%|█████████████████████████████| 25/25 [01:43<00:00,  4.14s/it, Review=25]\n"
     ]
    },
    {
     "name": "stdout",
     "output_type": "stream",
     "text": [
      "Review scraping finished for Warung Soto Bu Yani\n",
      "starting scraping for:Warung Makan\n"
     ]
    },
    {
     "name": "stderr",
     "output_type": "stream",
     "text": [
      "Scraping reviews for Warung Makan: 100%|████████████████████████████████████| 25/25 [00:22<00:00,  1.12it/s, Review=25]\n"
     ]
    },
    {
     "name": "stdout",
     "output_type": "stream",
     "text": [
      "Review scraping finished for Warung Makan\n",
      "starting scraping for:Lesehan abbasy prambanan\n"
     ]
    },
    {
     "name": "stderr",
     "output_type": "stream",
     "text": [
      "Scraping reviews for Lesehan abbasy prambanan: 100%|████████████████████████| 25/25 [01:44<00:00,  4.16s/it, Review=25]\n"
     ]
    },
    {
     "name": "stdout",
     "output_type": "stream",
     "text": [
      "Review scraping finished for Lesehan abbasy prambanan\n",
      "starting scraping for:Rujak Lotis\n"
     ]
    },
    {
     "name": "stderr",
     "output_type": "stream",
     "text": [
      "Scraping reviews for Rujak Lotis: 100%|█████████████████████████████████████| 25/25 [01:14<00:00,  2.98s/it, Review=25]\n"
     ]
    },
    {
     "name": "stdout",
     "output_type": "stream",
     "text": [
      "Review scraping finished for Rujak Lotis\n",
      "starting scraping for:Rumah Makan Padang Prambanan\n"
     ]
    },
    {
     "name": "stderr",
     "output_type": "stream",
     "text": [
      "Scraping reviews for Rumah Makan Padang Prambanan: 100%|████████████████████| 25/25 [00:35<00:00,  1.44s/it, Review=25]\n"
     ]
    },
    {
     "name": "stdout",
     "output_type": "stream",
     "text": [
      "Review scraping finished for Rumah Makan Padang Prambanan\n",
      "starting scraping for:Warung Masakan Padang Pak Mel\n"
     ]
    },
    {
     "name": "stderr",
     "output_type": "stream",
     "text": [
      "Scraping reviews for Warung Masakan Padang Pak Mel: 100%|███████████████████| 25/25 [01:45<00:00,  4.24s/it, Review=25]\n"
     ]
    },
    {
     "name": "stdout",
     "output_type": "stream",
     "text": [
      "Review scraping finished for Warung Masakan Padang Pak Mel\n",
      "starting scraping for:Warung Sate  Tongseng Kambing Mbah Toeloes\n"
     ]
    },
    {
     "name": "stderr",
     "output_type": "stream",
     "text": [
      "Scraping reviews for Warung Sate  Tongseng Kambing Mbah Toeloes: 100%|██████| 25/25 [01:50<00:00,  4.41s/it, Review=25]\n"
     ]
    },
    {
     "name": "stdout",
     "output_type": "stream",
     "text": [
      "Review scraping finished for Warung Sate  Tongseng Kambing Mbah Toeloes\n",
      "starting scraping for:Mie Ayam Sapi Legenda Cabang Prambanan\n"
     ]
    },
    {
     "name": "stderr",
     "output_type": "stream",
     "text": [
      "Scraping reviews for Mie Ayam Sapi Legenda Cabang Prambanan: 100%|██████████| 25/25 [01:43<00:00,  4.13s/it, Review=25]\n"
     ]
    },
    {
     "name": "stdout",
     "output_type": "stream",
     "text": [
      "Review scraping finished for Mie Ayam Sapi Legenda Cabang Prambanan\n",
      "starting scraping for:Star steak Prambanan\n"
     ]
    },
    {
     "name": "stderr",
     "output_type": "stream",
     "text": [
      "Scraping reviews for Star steak Prambanan: 100%|████████████████████████████| 25/25 [00:25<00:00,  1.04s/it, Review=25]\n"
     ]
    },
    {
     "name": "stdout",
     "output_type": "stream",
     "text": [
      "Review scraping finished for Star steak Prambanan\n",
      "starting scraping for:Warung Makan Bu Prapti\n"
     ]
    },
    {
     "name": "stderr",
     "output_type": "stream",
     "text": [
      "Scraping reviews for Warung Makan Bu Prapti: 100%|██████████████████████████| 25/25 [01:43<00:00,  4.16s/it, Review=25]\n"
     ]
    },
    {
     "name": "stdout",
     "output_type": "stream",
     "text": [
      "Review scraping finished for Warung Makan Bu Prapti\n",
      "starting scraping for:Lesehan Bu Surami Prambanan\n",
      "starting scraping for:Q  Q Karaoke\n"
     ]
    },
    {
     "name": "stderr",
     "output_type": "stream",
     "text": [
      "Scraping reviews for Q  Q Karaoke: 100%|████████████████████████████████████| 25/25 [00:56<00:00,  2.27s/it, Review=25]\n"
     ]
    },
    {
     "name": "stdout",
     "output_type": "stream",
     "text": [
      "Review scraping finished for Q  Q Karaoke\n",
      "starting scraping for:Tursidi al Dengoki Home Base\n",
      "starting scraping for:UD  Pak Kemis  M. I. R. I. B kayu Bekas Jati Dan Kalimantan\n"
     ]
    },
    {
     "name": "stderr",
     "output_type": "stream",
     "text": [
      "Scraping reviews for UD  Pak Kemis  M. I. R. I. B kayu Bekas Jati Dan Kalimantan: 100%|█| 25/25 [01:42<00:00,  4.10s/it\n"
     ]
    },
    {
     "name": "stdout",
     "output_type": "stream",
     "text": [
      "Review scraping finished for UD  Pak Kemis  M. I. R. I. B kayu Bekas Jati Dan Kalimantan\n",
      "starting scraping for:FFYK Garage  RANDUGUNTING \n"
     ]
    },
    {
     "name": "stderr",
     "output_type": "stream",
     "text": [
      "Scraping reviews for FFYK Garage  RANDUGUNTING : 100%|██████████████████████| 25/25 [01:44<00:00,  4.19s/it, Review=25]\n"
     ]
    },
    {
     "name": "stdout",
     "output_type": "stream",
     "text": [
      "Review scraping finished for FFYK Garage  RANDUGUNTING \n",
      "starting scraping for:RUMAH ANNISA\n"
     ]
    },
    {
     "name": "stderr",
     "output_type": "stream",
     "text": [
      "Scraping reviews for RUMAH ANNISA: 100%|████████████████████████████████████| 25/25 [01:43<00:00,  4.13s/it, Review=25]\n"
     ]
    },
    {
     "name": "stdout",
     "output_type": "stream",
     "text": [
      "Review scraping finished for RUMAH ANNISA\n",
      "starting scraping for:Home lutfi\n",
      "starting scraping for:Mie Ayam  Bakso BU SABAR\n"
     ]
    },
    {
     "name": "stderr",
     "output_type": "stream",
     "text": [
      "Scraping reviews for Mie Ayam  Bakso BU SABAR: 100%|████████████████████████| 25/25 [01:47<00:00,  4.29s/it, Review=25]\n"
     ]
    },
    {
     "name": "stdout",
     "output_type": "stream",
     "text": [
      "Review scraping finished for Mie Ayam  Bakso BU SABAR\n",
      "starting scraping for:Riefky Prasetya\n"
     ]
    },
    {
     "name": "stderr",
     "output_type": "stream",
     "text": [
      "Scraping reviews for Riefky Prasetya: 100%|█████████████████████████████████| 25/25 [01:42<00:00,  4.10s/it, Review=25]\n"
     ]
    },
    {
     "name": "stdout",
     "output_type": "stream",
     "text": [
      "Review scraping finished for Riefky Prasetya\n",
      "starting scraping for:Joglo Kapal\n"
     ]
    },
    {
     "name": "stderr",
     "output_type": "stream",
     "text": [
      "Scraping reviews for Joglo Kapal: 100%|█████████████████████████████████████| 25/25 [01:43<00:00,  4.15s/it, Review=25]\n"
     ]
    },
    {
     "name": "stdout",
     "output_type": "stream",
     "text": [
      "Review scraping finished for Joglo Kapal\n",
      "starting scraping for:Coconut shake\n"
     ]
    },
    {
     "name": "stderr",
     "output_type": "stream",
     "text": [
      "Scraping reviews for Coconut shake: 100%|███████████████████████████████████| 25/25 [01:43<00:00,  4.13s/it, Review=25]\n"
     ]
    },
    {
     "name": "stdout",
     "output_type": "stream",
     "text": [
      "Review scraping finished for Coconut shake\n",
      "starting scraping for:thaitea prambanan\n"
     ]
    },
    {
     "name": "stderr",
     "output_type": "stream",
     "text": [
      "Scraping reviews for thaitea prambanan: 100%|███████████████████████████████| 25/25 [01:44<00:00,  4.18s/it, Review=25]\n"
     ]
    },
    {
     "name": "stdout",
     "output_type": "stream",
     "text": [
      "Review scraping finished for thaitea prambanan\n",
      "starting scraping for:omah salon\n"
     ]
    },
    {
     "name": "stderr",
     "output_type": "stream",
     "text": [
      "Scraping reviews for omah salon: 100%|██████████████████████████████████████| 25/25 [00:46<00:00,  1.86s/it, Review=25]\n"
     ]
    },
    {
     "name": "stdout",
     "output_type": "stream",
     "text": [
      "Review scraping finished for omah salon\n",
      "starting scraping for:The djamoee\n"
     ]
    },
    {
     "name": "stderr",
     "output_type": "stream",
     "text": [
      "Scraping reviews for The djamoee: 100%|█████████████████████████████████████| 25/25 [00:53<00:00,  2.13s/it, Review=25]\n"
     ]
    },
    {
     "name": "stdout",
     "output_type": "stream",
     "text": [
      "Review scraping finished for The djamoee\n",
      "starting scraping for:Hattala By EC\n"
     ]
    },
    {
     "name": "stderr",
     "output_type": "stream",
     "text": [
      "Scraping reviews for Hattala By EC: 100%|███████████████████████████████████| 25/25 [01:42<00:00,  4.11s/it, Review=25]\n"
     ]
    },
    {
     "name": "stdout",
     "output_type": "stream",
     "text": [
      "Review scraping finished for Hattala By EC\n",
      "starting scraping for:Tahu walik\n",
      "starting scraping for:Mamen Barbershop\n",
      "starting scraping for:Erlangga Bar-Ber Shop\n",
      "starting scraping for:Kelapa Muda Uzan\n"
     ]
    },
    {
     "name": "stderr",
     "output_type": "stream",
     "text": [
      "Scraping reviews for Kelapa Muda Uzan: 100%|████████████████████████████████| 25/25 [01:43<00:00,  4.14s/it, Review=25]\n"
     ]
    },
    {
     "name": "stdout",
     "output_type": "stream",
     "text": [
      "Review scraping finished for Kelapa Muda Uzan\n",
      "starting scraping for:Kolam Ikan\n"
     ]
    },
    {
     "name": "stderr",
     "output_type": "stream",
     "text": [
      "Scraping reviews for Kolam Ikan: 100%|██████████████████████████████████████| 25/25 [00:31<00:00,  1.24s/it, Review=25]\n"
     ]
    },
    {
     "name": "stdout",
     "output_type": "stream",
     "text": [
      "Review scraping finished for Kolam Ikan\n",
      "starting scraping for:Bilbil Juice Aneka jus buah\n"
     ]
    },
    {
     "name": "stderr",
     "output_type": "stream",
     "text": [
      "Scraping reviews for Bilbil Juice Aneka jus buah: 100%|█████████████████████| 25/25 [01:42<00:00,  4.10s/it, Review=25]\n"
     ]
    },
    {
     "name": "stdout",
     "output_type": "stream",
     "text": [
      "Review scraping finished for Bilbil Juice Aneka jus buah\n",
      "starting scraping for:ESENJA Parangtritis\n",
      "starting scraping for:Dfun caffe bar karaoke\n"
     ]
    },
    {
     "name": "stderr",
     "output_type": "stream",
     "text": [
      "Scraping reviews for Dfun caffe bar karaoke: 100%|██████████████████████████| 25/25 [01:44<00:00,  4.17s/it, Review=25]\n"
     ]
    },
    {
     "name": "stdout",
     "output_type": "stream",
     "text": [
      "Review scraping finished for Dfun caffe bar karaoke\n",
      "starting scraping for:Karaoke starla\n",
      "starting scraping for:Queen Karaoke\n",
      "starting scraping for:Senja Karaoke\n",
      "starting scraping for:Ceria karaoke family\n"
     ]
    },
    {
     "name": "stderr",
     "output_type": "stream",
     "text": [
      "Scraping reviews for Ceria karaoke family: 100%|████████████████████████████| 25/25 [01:52<00:00,  4.49s/it, Review=25]\n"
     ]
    },
    {
     "name": "stdout",
     "output_type": "stream",
     "text": [
      "Review scraping finished for Ceria karaoke family\n",
      "starting scraping for:Senja karaoke 2\n",
      "starting scraping for:Bunga Pesisir Karaoke\n",
      "starting scraping for:V.I.P KARAOKE\n"
     ]
    },
    {
     "name": "stderr",
     "output_type": "stream",
     "text": [
      "Scraping reviews for V.I.P KARAOKE: 100%|███████████████████████████████████| 25/25 [01:59<00:00,  4.79s/it, Review=25]\n"
     ]
    },
    {
     "name": "stdout",
     "output_type": "stream",
     "text": [
      "Review scraping finished for V.I.P KARAOKE\n",
      "starting scraping for:NEW ARTHA\n",
      "starting scraping for:Nawang Wulan Karaoke  Salon\n"
     ]
    },
    {
     "name": "stderr",
     "output_type": "stream",
     "text": [
      "Scraping reviews for Nawang Wulan Karaoke  Salon: 100%|█████████████████████| 25/25 [01:29<00:00,  3.57s/it, Review=25]\n"
     ]
    },
    {
     "name": "stdout",
     "output_type": "stream",
     "text": [
      "Review scraping finished for Nawang Wulan Karaoke  Salon\n",
      "starting scraping for:panda familia karaoke\n"
     ]
    },
    {
     "name": "stderr",
     "output_type": "stream",
     "text": [
      "Scraping reviews for panda familia karaoke: 100%|███████████████████████████| 25/25 [01:43<00:00,  4.15s/it, Review=25]\n"
     ]
    },
    {
     "name": "stdout",
     "output_type": "stream",
     "text": [
      "Review scraping finished for panda familia karaoke\n",
      "starting scraping for:Bukit PP\n"
     ]
    },
    {
     "name": "stderr",
     "output_type": "stream",
     "text": [
      "Scraping reviews for Bukit PP: 100%|████████████████████████████████████████| 25/25 [01:41<00:00,  4.08s/it, Review=25]\n"
     ]
    },
    {
     "name": "stdout",
     "output_type": "stream",
     "text": [
      "Review scraping finished for Bukit PP\n",
      "starting scraping for:BAJUL KARAOKE\n"
     ]
    },
    {
     "name": "stderr",
     "output_type": "stream",
     "text": [
      "Scraping reviews for BAJUL KARAOKE: 100%|███████████████████████████████████| 25/25 [00:44<00:00,  1.79s/it, Review=25]\n"
     ]
    },
    {
     "name": "stdout",
     "output_type": "stream",
     "text": [
      "Review scraping finished for BAJUL KARAOKE\n",
      "starting scraping for:Gubuk Dowo GWK\n"
     ]
    },
    {
     "name": "stderr",
     "output_type": "stream",
     "text": [
      "Scraping reviews for Gubuk Dowo GWK: 100%|██████████████████████████████████| 25/25 [01:55<00:00,  4.62s/it, Review=25]\n"
     ]
    },
    {
     "name": "stdout",
     "output_type": "stream",
     "text": [
      "Review scraping finished for Gubuk Dowo GWK\n",
      "starting scraping for:Fajri Laundry\n"
     ]
    },
    {
     "name": "stderr",
     "output_type": "stream",
     "text": [
      "Scraping reviews for Fajri Laundry: 100%|███████████████████████████████████| 25/25 [01:45<00:00,  4.21s/it, Review=25]\n"
     ]
    },
    {
     "name": "stdout",
     "output_type": "stream",
     "text": [
      "Review scraping finished for Fajri Laundry\n",
      "starting scraping for:Purnama Karaoke\n",
      "starting scraping for:Rilaxs karoke\n"
     ]
    },
    {
     "name": "stderr",
     "output_type": "stream",
     "text": [
      "Scraping reviews for Rilaxs karoke: 100%|███████████████████████████████████| 25/25 [00:56<00:00,  2.27s/it, Review=25]\n"
     ]
    },
    {
     "name": "stdout",
     "output_type": "stream",
     "text": [
      "Review scraping finished for Rilaxs karoke\n",
      "starting scraping for:Aldilakss\n",
      "starting scraping for:New Pesona Karaoke\n",
      "starting scraping for:Colombo Pool Terrace\n"
     ]
    },
    {
     "name": "stderr",
     "output_type": "stream",
     "text": [
      "Scraping reviews for Colombo Pool Terrace: 100%|████████████████████████████| 25/25 [01:44<00:00,  4.20s/it, Review=25]\n"
     ]
    },
    {
     "name": "stdout",
     "output_type": "stream",
     "text": [
      "Review scraping finished for Colombo Pool Terrace\n",
      "starting scraping for:LATUSHA\n"
     ]
    },
    {
     "name": "stderr",
     "output_type": "stream",
     "text": [
      "Scraping reviews for LATUSHA: 100%|█████████████████████████████████████████| 25/25 [01:43<00:00,  4.12s/it, Review=25]\n"
     ]
    },
    {
     "name": "stdout",
     "output_type": "stream",
     "text": [
      "Review scraping finished for LATUSHA\n",
      "starting scraping for:Boba Time Karang Malang  UNY\n"
     ]
    },
    {
     "name": "stderr",
     "output_type": "stream",
     "text": [
      "Scraping reviews for Boba Time Karang Malang  UNY: 100%|████████████████████| 25/25 [01:46<00:00,  4.25s/it, Review=25]\n"
     ]
    },
    {
     "name": "stdout",
     "output_type": "stream",
     "text": [
      "Review scraping finished for Boba Time Karang Malang  UNY\n",
      "starting scraping for:What The Deck\n"
     ]
    },
    {
     "name": "stderr",
     "output_type": "stream",
     "text": [
      "Scraping reviews for What The Deck: 100%|███████████████████████████████████| 25/25 [01:43<00:00,  4.13s/it, Review=25]\n"
     ]
    },
    {
     "name": "stdout",
     "output_type": "stream",
     "text": [
      "Review scraping finished for What The Deck\n",
      "starting scraping for:Depan Rumah streetbar\n"
     ]
    },
    {
     "name": "stderr",
     "output_type": "stream",
     "text": [
      "Scraping reviews for Depan Rumah streetbar: 100%|███████████████████████████| 25/25 [01:43<00:00,  4.15s/it, Review=25]\n"
     ]
    },
    {
     "name": "stdout",
     "output_type": "stream",
     "text": [
      "Review scraping finished for Depan Rumah streetbar\n",
      "starting scraping for:Mabes Sorpokat\n"
     ]
    },
    {
     "name": "stderr",
     "output_type": "stream",
     "text": [
      "Scraping reviews for Mabes Sorpokat: 100%|██████████████████████████████████| 25/25 [01:48<00:00,  4.34s/it, Review=25]\n"
     ]
    },
    {
     "name": "stdout",
     "output_type": "stream",
     "text": [
      "Review scraping finished for Mabes Sorpokat\n",
      "starting scraping for:Ramtos Bar  Grill\n"
     ]
    },
    {
     "name": "stderr",
     "output_type": "stream",
     "text": [
      "Scraping reviews for Ramtos Bar  Grill: 100%|███████████████████████████████| 25/25 [02:00<00:00,  4.81s/it, Review=25]\n"
     ]
    },
    {
     "name": "stdout",
     "output_type": "stream",
     "text": [
      "Review scraping finished for Ramtos Bar  Grill\n",
      "starting scraping for:MABES SUKRO\n"
     ]
    },
    {
     "name": "stderr",
     "output_type": "stream",
     "text": [
      "Scraping reviews for MABES SUKRO: 100%|█████████████████████████████████████| 25/25 [01:44<00:00,  4.19s/it, Review=25]\n"
     ]
    },
    {
     "name": "stdout",
     "output_type": "stream",
     "text": [
      "Review scraping finished for MABES SUKRO\n",
      "starting scraping for:Warmindo Doa Abah\n"
     ]
    },
    {
     "name": "stderr",
     "output_type": "stream",
     "text": [
      "Scraping reviews for Warmindo Doa Abah: 100%|███████████████████████████████| 25/25 [01:46<00:00,  4.28s/it, Review=25]\n"
     ]
    },
    {
     "name": "stdout",
     "output_type": "stream",
     "text": [
      "Review scraping finished for Warmindo Doa Abah\n",
      "starting scraping for:Chandri Bar\n"
     ]
    },
    {
     "name": "stderr",
     "output_type": "stream",
     "text": [
      "Scraping reviews for Chandri Bar: 100%|█████████████████████████████████████| 25/25 [01:45<00:00,  4.24s/it, Review=25]\n"
     ]
    },
    {
     "name": "stdout",
     "output_type": "stream",
     "text": [
      "Review scraping finished for Chandri Bar\n",
      "starting scraping for:Platinum Kitchen Bar  Lounge\n"
     ]
    },
    {
     "name": "stderr",
     "output_type": "stream",
     "text": [
      "Scraping reviews for Platinum Kitchen Bar  Lounge: 100%|████████████████████| 25/25 [00:47<00:00,  1.92s/it, Review=25]\n"
     ]
    },
    {
     "name": "stdout",
     "output_type": "stream",
     "text": [
      "Review scraping finished for Platinum Kitchen Bar  Lounge\n",
      "starting scraping for:Juseꦗꦱ\n",
      "starting scraping for:808 Bar and Lounge\n",
      "starting scraping for:Barley and Barrel\n"
     ]
    },
    {
     "name": "stderr",
     "output_type": "stream",
     "text": [
      "Scraping reviews for Barley and Barrel: 100%|███████████████████████████████| 25/25 [00:42<00:00,  1.71s/it, Review=25]\n"
     ]
    },
    {
     "name": "stdout",
     "output_type": "stream",
     "text": [
      "Review scraping finished for Barley and Barrel\n",
      "starting scraping for:Basecamp PLT  HAI YK\n"
     ]
    },
    {
     "name": "stderr",
     "output_type": "stream",
     "text": [
      "Scraping reviews for Basecamp PLT  HAI YK: 100%|████████████████████████████| 25/25 [01:43<00:00,  4.16s/it, Review=25]\n"
     ]
    },
    {
     "name": "stdout",
     "output_type": "stream",
     "text": [
      "Review scraping finished for Basecamp PLT  HAI YK\n",
      "starting scraping for:Clueless Boba\n"
     ]
    },
    {
     "name": "stderr",
     "output_type": "stream",
     "text": [
      "Scraping reviews for Clueless Boba: 100%|███████████████████████████████████| 25/25 [01:43<00:00,  4.15s/it, Review=25]\n"
     ]
    },
    {
     "name": "stdout",
     "output_type": "stream",
     "text": [
      "Review scraping finished for Clueless Boba\n",
      "starting scraping for:House Of Camel\n"
     ]
    },
    {
     "name": "stderr",
     "output_type": "stream",
     "text": [
      "Scraping reviews for House Of Camel: 100%|██████████████████████████████████| 25/25 [01:47<00:00,  4.31s/it, Review=25]\n"
     ]
    },
    {
     "name": "stdout",
     "output_type": "stream",
     "text": [
      "Review scraping finished for House Of Camel\n",
      "starting scraping for:Mucho Cafe  Bar\n"
     ]
    },
    {
     "name": "stderr",
     "output_type": "stream",
     "text": [
      "Scraping reviews for Mucho Cafe  Bar: 100%|█████████████████████████████████| 25/25 [00:39<00:00,  1.58s/it, Review=25]\n"
     ]
    },
    {
     "name": "stdout",
     "output_type": "stream",
     "text": [
      "Review scraping finished for Mucho Cafe  Bar\n",
      "starting scraping for:Bar\n"
     ]
    },
    {
     "name": "stderr",
     "output_type": "stream",
     "text": [
      "Scraping reviews for Bar: 100%|█████████████████████████████████████████████| 25/25 [00:40<00:00,  1.62s/it, Review=25]\n"
     ]
    },
    {
     "name": "stdout",
     "output_type": "stream",
     "text": [
      "Review scraping finished for Bar\n",
      "starting scraping for:Chadis Rooftop Bar\n"
     ]
    },
    {
     "name": "stderr",
     "output_type": "stream",
     "text": [
      "Scraping reviews for Chadis Rooftop Bar: 100%|██████████████████████████████| 25/25 [00:51<00:00,  2.05s/it, Review=25]\n"
     ]
    },
    {
     "name": "stdout",
     "output_type": "stream",
     "text": [
      "Review scraping finished for Chadis Rooftop Bar\n",
      "starting scraping for:Jspeedgarage\n",
      "starting scraping for:Eboni Bar And Lounge\n"
     ]
    },
    {
     "name": "stderr",
     "output_type": "stream",
     "text": [
      "Scraping reviews for Eboni Bar And Lounge: 100%|████████████████████████████| 25/25 [00:53<00:00,  2.12s/it, Review=25]\n"
     ]
    },
    {
     "name": "stdout",
     "output_type": "stream",
     "text": [
      "Review scraping finished for Eboni Bar And Lounge\n",
      "starting scraping for:Omahe Romone Cilik\n",
      "starting scraping for:limatigasatu\n",
      "starting scraping for:Kayumanis Pool Bar\n"
     ]
    },
    {
     "name": "stderr",
     "output_type": "stream",
     "text": [
      "Scraping reviews for Kayumanis Pool Bar: 100%|██████████████████████████████| 25/25 [01:44<00:00,  4.18s/it, Review=25]\n"
     ]
    },
    {
     "name": "stdout",
     "output_type": "stream",
     "text": [
      "Review scraping finished for Kayumanis Pool Bar\n",
      "starting scraping for:Vino bar\n"
     ]
    },
    {
     "name": "stderr",
     "output_type": "stream",
     "text": [
      "Scraping reviews for Vino bar: 100%|████████████████████████████████████████| 25/25 [01:04<00:00,  2.58s/it, Review=25]\n"
     ]
    },
    {
     "name": "stdout",
     "output_type": "stream",
     "text": [
      "Review scraping finished for Vino bar\n",
      "starting scraping for:PW3 Lounge\n"
     ]
    },
    {
     "name": "stderr",
     "output_type": "stream",
     "text": [
      "Scraping reviews for PW3 Lounge: 100%|██████████████████████████████████████| 25/25 [02:03<00:00,  4.95s/it, Review=25]\n"
     ]
    },
    {
     "name": "stdout",
     "output_type": "stream",
     "text": [
      "Review scraping finished for PW3 Lounge\n",
      "starting scraping for:Slide Bar\n"
     ]
    },
    {
     "name": "stderr",
     "output_type": "stream",
     "text": [
      "Scraping reviews for Slide Bar: 100%|███████████████████████████████████████| 25/25 [01:43<00:00,  4.15s/it, Review=25]\n"
     ]
    },
    {
     "name": "stdout",
     "output_type": "stream",
     "text": [
      "Review scraping finished for Slide Bar\n",
      "starting scraping for:Liquid Bar And Kitchen\n"
     ]
    },
    {
     "name": "stderr",
     "output_type": "stream",
     "text": [
      "Scraping reviews for Liquid Bar And Kitchen: 100%|██████████████████████████| 25/25 [00:27<00:00,  1.09s/it, Review=25]\n"
     ]
    },
    {
     "name": "stdout",
     "output_type": "stream",
     "text": [
      "Review scraping finished for Liquid Bar And Kitchen\n",
      "starting scraping for:De Djogdja\n"
     ]
    },
    {
     "name": "stderr",
     "output_type": "stream",
     "text": [
      "Scraping reviews for De Djogdja: 100%|██████████████████████████████████████| 25/25 [01:51<00:00,  4.47s/it, Review=25]\n"
     ]
    },
    {
     "name": "stdout",
     "output_type": "stream",
     "text": [
      "Review scraping finished for De Djogdja\n",
      "starting scraping for:Sakapatat Social House  Resto\n"
     ]
    },
    {
     "name": "stderr",
     "output_type": "stream",
     "text": [
      "Scraping reviews for Sakapatat Social House  Resto: 100%|███████████████████| 25/25 [00:22<00:00,  1.11it/s, Review=25]\n"
     ]
    },
    {
     "name": "stdout",
     "output_type": "stream",
     "text": [
      "Review scraping finished for Sakapatat Social House  Resto\n",
      "starting scraping for:ES KUWUT BOSS DUM\n",
      "starting scraping for:Es Cokelat HARAPAN by.Dpeacesang\n",
      "starting scraping for:OJ BeerDendang\n",
      "starting scraping for:Olivine Cafe  Bar\n"
     ]
    },
    {
     "name": "stderr",
     "output_type": "stream",
     "text": [
      "Scraping reviews for Olivine Cafe  Bar: 100%|███████████████████████████████| 25/25 [00:55<00:00,  2.20s/it, Review=25]\n"
     ]
    },
    {
     "name": "stdout",
     "output_type": "stream",
     "text": [
      "Review scraping finished for Olivine Cafe  Bar\n",
      "starting scraping for:HSHSJAJAKAKAJA\n",
      "starting scraping for:Rest Freeman\n"
     ]
    },
    {
     "name": "stderr",
     "output_type": "stream",
     "text": [
      "Scraping reviews for Rest Freeman: 100%|████████████████████████████████████| 25/25 [01:46<00:00,  4.26s/it, Review=25]\n"
     ]
    },
    {
     "name": "stdout",
     "output_type": "stream",
     "text": [
      "Review scraping finished for Rest Freeman\n",
      "starting scraping for:Reborn Hangout Bar\n"
     ]
    },
    {
     "name": "stderr",
     "output_type": "stream",
     "text": [
      "Scraping reviews for Reborn Hangout Bar: 100%|██████████████████████████████| 25/25 [01:56<00:00,  4.65s/it, Review=25]\n"
     ]
    },
    {
     "name": "stdout",
     "output_type": "stream",
     "text": [
      "Review scraping finished for Reborn Hangout Bar\n",
      "starting scraping for:Es Jeruk Kasturi Jenna\n"
     ]
    },
    {
     "name": "stderr",
     "output_type": "stream",
     "text": [
      "Scraping reviews for Es Jeruk Kasturi Jenna: 100%|██████████████████████████| 25/25 [01:41<00:00,  4.07s/it, Review=25]\n"
     ]
    },
    {
     "name": "stdout",
     "output_type": "stream",
     "text": [
      "Review scraping finished for Es Jeruk Kasturi Jenna\n",
      "starting scraping for:Goodwin Bar and Eatery\n"
     ]
    },
    {
     "name": "stderr",
     "output_type": "stream",
     "text": [
      "Scraping reviews for Goodwin Bar and Eatery: 100%|██████████████████████████| 25/25 [00:53<00:00,  2.12s/it, Review=25]\n"
     ]
    },
    {
     "name": "stdout",
     "output_type": "stream",
     "text": [
      "Review scraping finished for Goodwin Bar and Eatery\n",
      "starting scraping for:Angkringan Mbah Oye\n"
     ]
    },
    {
     "name": "stderr",
     "output_type": "stream",
     "text": [
      "Scraping reviews for Angkringan Mbah Oye: 100%|█████████████████████████████| 25/25 [01:42<00:00,  4.09s/it, Review=25]\n"
     ]
    },
    {
     "name": "stdout",
     "output_type": "stream",
     "text": [
      "Review scraping finished for Angkringan Mbah Oye\n",
      "starting scraping for:Berkem concat\n"
     ]
    },
    {
     "name": "stderr",
     "output_type": "stream",
     "text": [
      "Scraping reviews for Berkem concat: 100%|███████████████████████████████████| 25/25 [01:44<00:00,  4.18s/it, Review=25]\n"
     ]
    },
    {
     "name": "stdout",
     "output_type": "stream",
     "text": [
      "Review scraping finished for Berkem concat\n",
      "starting scraping for:Es Coklat Coa-coa.id\n"
     ]
    },
    {
     "name": "stderr",
     "output_type": "stream",
     "text": [
      "Scraping reviews for Es Coklat Coa-coa.id: 100%|████████████████████████████| 25/25 [01:41<00:00,  4.08s/it, Review=25]\n"
     ]
    },
    {
     "name": "stdout",
     "output_type": "stream",
     "text": [
      "Review scraping finished for Es Coklat Coa-coa.id\n",
      "starting scraping for:Depan Rumah Street Bar\n"
     ]
    },
    {
     "name": "stderr",
     "output_type": "stream",
     "text": [
      "Scraping reviews for Depan Rumah Street Bar: 100%|██████████████████████████| 25/25 [01:42<00:00,  4.12s/it, Review=25]\n"
     ]
    },
    {
     "name": "stdout",
     "output_type": "stream",
     "text": [
      "Review scraping finished for Depan Rumah Street Bar\n",
      "starting scraping for:Terrace Jogja\n"
     ]
    },
    {
     "name": "stderr",
     "output_type": "stream",
     "text": [
      "Scraping reviews for Terrace Jogja: 100%|███████████████████████████████████| 25/25 [00:51<00:00,  2.06s/it, Review=25]\n"
     ]
    },
    {
     "name": "stdout",
     "output_type": "stream",
     "text": [
      "Review scraping finished for Terrace Jogja\n",
      "starting scraping for:ST. Bier Bar And Kitchen\n"
     ]
    },
    {
     "name": "stderr",
     "output_type": "stream",
     "text": [
      "Scraping reviews for ST. Bier Bar And Kitchen: 100%|████████████████████████| 25/25 [00:49<00:00,  1.98s/it, Review=25]\n"
     ]
    },
    {
     "name": "stdout",
     "output_type": "stream",
     "text": [
      "Review scraping finished for ST. Bier Bar And Kitchen\n",
      "starting scraping for:Arcadaz Speakeasy Lounge and Bar\n"
     ]
    },
    {
     "name": "stderr",
     "output_type": "stream",
     "text": [
      "Scraping reviews for Arcadaz Speakeasy Lounge and Bar: 100%|████████████████| 25/25 [01:45<00:00,  4.23s/it, Review=25]\n"
     ]
    },
    {
     "name": "stdout",
     "output_type": "stream",
     "text": [
      "Review scraping finished for Arcadaz Speakeasy Lounge and Bar\n",
      "starting scraping for:House of Kijoy\n"
     ]
    },
    {
     "name": "stderr",
     "output_type": "stream",
     "text": [
      "Scraping reviews for House of Kijoy: 100%|██████████████████████████████████| 25/25 [01:42<00:00,  4.11s/it, Review=25]\n"
     ]
    },
    {
     "name": "stdout",
     "output_type": "stream",
     "text": [
      "Review scraping finished for House of Kijoy\n",
      "starting scraping for:Gattaro\n",
      "starting scraping for:SPANDUK 7\n"
     ]
    },
    {
     "name": "stderr",
     "output_type": "stream",
     "text": [
      "Scraping reviews for SPANDUK 7: 100%|███████████████████████████████████████| 25/25 [01:42<00:00,  4.11s/it, Review=25]\n"
     ]
    },
    {
     "name": "stdout",
     "output_type": "stream",
     "text": [
      "Review scraping finished for SPANDUK 7\n",
      "starting scraping for:Concordia Lounge YIA - Yogyakarta International Airport\n"
     ]
    },
    {
     "name": "stderr",
     "output_type": "stream",
     "text": [
      "Scraping reviews for Concordia Lounge YIA - Yogyakarta International Airport: 100%|█| 25/25 [00:44<00:00,  1.78s/it, Re\n"
     ]
    },
    {
     "name": "stdout",
     "output_type": "stream",
     "text": [
      "Review scraping finished for Concordia Lounge YIA - Yogyakarta International Airport\n",
      "starting scraping for:Soto Lamongan\n"
     ]
    },
    {
     "name": "stderr",
     "output_type": "stream",
     "text": [
      "Scraping reviews for Soto Lamongan: 100%|███████████████████████████████████| 25/25 [00:24<00:00,  1.04it/s, Review=25]\n"
     ]
    },
    {
     "name": "stdout",
     "output_type": "stream",
     "text": [
      "Review scraping finished for Soto Lamongan\n",
      "starting scraping for:Jus Emak ꦗꦱꦌꦩꦏ\n"
     ]
    },
    {
     "name": "stderr",
     "output_type": "stream",
     "text": [
      "Scraping reviews for Jus Emak ꦗꦱꦌꦩꦏ: 100%|██████████████████████████████████| 25/25 [01:46<00:00,  4.25s/it, Review=25]\n"
     ]
    },
    {
     "name": "stdout",
     "output_type": "stream",
     "text": [
      "Review scraping finished for Jus Emak ꦗꦱꦌꦩꦏ\n",
      "starting scraping for:Nyem Nyem Temon\n"
     ]
    },
    {
     "name": "stderr",
     "output_type": "stream",
     "text": [
      "Scraping reviews for Nyem Nyem Temon: 100%|█████████████████████████████████| 25/25 [01:42<00:00,  4.08s/it, Review=25]\n"
     ]
    },
    {
     "name": "stdout",
     "output_type": "stream",
     "text": [
      "Review scraping finished for Nyem Nyem Temon\n",
      "starting scraping for:PO\n"
     ]
    },
    {
     "name": "stderr",
     "output_type": "stream",
     "text": [
      "Scraping reviews for PO: 100%|██████████████████████████████████████████████| 25/25 [00:55<00:00,  2.20s/it, Review=25]\n"
     ]
    },
    {
     "name": "stdout",
     "output_type": "stream",
     "text": [
      "Review scraping finished for PO\n",
      "starting scraping for:Warung Mie ayam dan bakso Bu mur\n",
      "starting scraping for:Bakul jamu Bu Siti\n"
     ]
    },
    {
     "name": "stderr",
     "output_type": "stream",
     "text": [
      "Scraping reviews for Bakul jamu Bu Siti: 100%|██████████████████████████████| 25/25 [01:52<00:00,  4.51s/it, Review=25]\n"
     ]
    },
    {
     "name": "stdout",
     "output_type": "stream",
     "text": [
      "Review scraping finished for Bakul jamu Bu Siti\n",
      "starting scraping for:For U  Minuman Kekinian Jogja\n",
      "starting scraping for:PSHT PUSAT MADIUN\n"
     ]
    },
    {
     "name": "stderr",
     "output_type": "stream",
     "text": [
      "Scraping reviews for PSHT PUSAT MADIUN: 100%|███████████████████████████████| 25/25 [01:50<00:00,  4.43s/it, Review=25]\n"
     ]
    },
    {
     "name": "stdout",
     "output_type": "stream",
     "text": [
      "Review scraping finished for PSHT PUSAT MADIUN\n",
      "starting scraping for:Aguswijayatech\n"
     ]
    },
    {
     "name": "stderr",
     "output_type": "stream",
     "text": [
      "Scraping reviews for Aguswijayatech: 100%|██████████████████████████████████| 25/25 [01:43<00:00,  4.14s/it, Review=25]\n"
     ]
    },
    {
     "name": "stdout",
     "output_type": "stream",
     "text": [
      "Review scraping finished for Aguswijayatech\n",
      "starting scraping for:Fans family\n",
      "starting scraping for:Jhon Karaoke\n"
     ]
    },
    {
     "name": "stderr",
     "output_type": "stream",
     "text": [
      "Scraping reviews for Jhon Karaoke: 100%|████████████████████████████████████| 25/25 [01:50<00:00,  4.40s/it, Review=25]\n"
     ]
    },
    {
     "name": "stdout",
     "output_type": "stream",
     "text": [
      "Review scraping finished for Jhon Karaoke\n",
      "starting scraping for:Widodo Kodoxs\n",
      "starting scraping for:Hendras Cafe n Karaoke\n"
     ]
    },
    {
     "name": "stderr",
     "output_type": "stream",
     "text": [
      "Scraping reviews for Hendras Cafe n Karaoke: 100%|██████████████████████████| 25/25 [01:42<00:00,  4.10s/it, Review=25]\n"
     ]
    },
    {
     "name": "stdout",
     "output_type": "stream",
     "text": [
      "Review scraping finished for Hendras Cafe n Karaoke\n",
      "starting scraping for:BLASS Studio karaoke\n"
     ]
    },
    {
     "name": "stderr",
     "output_type": "stream",
     "text": [
      "Scraping reviews for BLASS Studio karaoke: 100%|████████████████████████████| 25/25 [01:47<00:00,  4.31s/it, Review=25]\n"
     ]
    },
    {
     "name": "stdout",
     "output_type": "stream",
     "text": [
      "Review scraping finished for BLASS Studio karaoke\n",
      "starting scraping for:Cakruk mbois\n",
      "starting scraping for:Warung erina\n",
      "starting scraping for:OM KUGO\n"
     ]
    },
    {
     "name": "stderr",
     "output_type": "stream",
     "text": [
      "Scraping reviews for OM KUGO: 100%|█████████████████████████████████████████| 25/25 [01:52<00:00,  4.52s/it, Review=25]\n"
     ]
    },
    {
     "name": "stdout",
     "output_type": "stream",
     "text": [
      "Review scraping finished for OM KUGO\n",
      "starting scraping for:basori\n"
     ]
    },
    {
     "name": "stderr",
     "output_type": "stream",
     "text": [
      "Scraping reviews for basori: 100%|██████████████████████████████████████████| 25/25 [01:56<00:00,  4.65s/it, Review=25]\n"
     ]
    },
    {
     "name": "stdout",
     "output_type": "stream",
     "text": [
      "Review scraping finished for basori\n",
      "starting scraping for:gkjhuijlk\n",
      "starting scraping for:Angkringan Pak Kako\n"
     ]
    },
    {
     "name": "stderr",
     "output_type": "stream",
     "text": [
      "Scraping reviews for Angkringan Pak Kako: 100%|█████████████████████████████| 25/25 [01:45<00:00,  4.21s/it, Review=25]\n"
     ]
    },
    {
     "name": "stdout",
     "output_type": "stream",
     "text": [
      "Review scraping finished for Angkringan Pak Kako\n",
      "starting scraping for:Angkringan Kriwilꦄꦏꦔꦤꦏꦮꦭ\n"
     ]
    },
    {
     "name": "stderr",
     "output_type": "stream",
     "text": [
      "Scraping reviews for Angkringan Kriwilꦄꦏꦔꦤꦏꦮꦭ: 100%|████████████████████████| 25/25 [01:44<00:00,  4.18s/it, Review=25]\n"
     ]
    },
    {
     "name": "stdout",
     "output_type": "stream",
     "text": [
      "Review scraping finished for Angkringan Kriwilꦄꦏꦔꦤꦏꦮꦭ\n",
      "starting scraping for:Decolonial Bar and Lounge\n"
     ]
    },
    {
     "name": "stderr",
     "output_type": "stream",
     "text": [
      "Scraping reviews for Decolonial Bar and Lounge: 100%|███████████████████████| 25/25 [01:43<00:00,  4.15s/it, Review=25]\n"
     ]
    },
    {
     "name": "stdout",
     "output_type": "stream",
     "text": [
      "Review scraping finished for Decolonial Bar and Lounge\n",
      "starting scraping for:Pub Med Yogyakarta\n"
     ]
    },
    {
     "name": "stderr",
     "output_type": "stream",
     "text": [
      "Scraping reviews for Pub Med Yogyakarta: 100%|██████████████████████████████| 25/25 [01:56<00:00,  4.66s/it, Review=25]\n"
     ]
    },
    {
     "name": "stdout",
     "output_type": "stream",
     "text": [
      "Review scraping finished for Pub Med Yogyakarta\n",
      "starting scraping for:Sober - Soju Beer Liquor\n"
     ]
    },
    {
     "name": "stderr",
     "output_type": "stream",
     "text": [
      "Scraping reviews for Sober - Soju Beer Liquor: 100%|████████████████████████| 25/25 [01:45<00:00,  4.20s/it, Review=25]\n"
     ]
    },
    {
     "name": "stdout",
     "output_type": "stream",
     "text": [
      "Review scraping finished for Sober - Soju Beer Liquor\n",
      "starting scraping for:ꦗꦭꦤꦭꦮꦤꦒꦪꦎꦫꦒꦤꦭꦩꦏ\n",
      "starting scraping for:Sweet leaf drink  chips\n"
     ]
    },
    {
     "name": "stderr",
     "output_type": "stream",
     "text": [
      "Scraping reviews for Sweet leaf drink  chips: 100%|█████████████████████████| 25/25 [01:43<00:00,  4.15s/it, Review=25]\n"
     ]
    },
    {
     "name": "stdout",
     "output_type": "stream",
     "text": [
      "Review scraping finished for Sweet leaf drink  chips\n",
      "starting scraping for:Spark Resto And Sports Bar\n"
     ]
    },
    {
     "name": "stderr",
     "output_type": "stream",
     "text": [
      "Scraping reviews for Spark Resto And Sports Bar: 100%|██████████████████████| 25/25 [00:49<00:00,  1.99s/it, Review=25]\n"
     ]
    },
    {
     "name": "stdout",
     "output_type": "stream",
     "text": [
      "Review scraping finished for Spark Resto And Sports Bar\n",
      "starting scraping for:Slate Bar\n"
     ]
    },
    {
     "name": "stderr",
     "output_type": "stream",
     "text": [
      "Scraping reviews for Slate Bar: 100%|███████████████████████████████████████| 25/25 [01:43<00:00,  4.13s/it, Review=25]\n"
     ]
    },
    {
     "name": "stdout",
     "output_type": "stream",
     "text": [
      "Review scraping finished for Slate Bar\n",
      "starting scraping for:Kos Vadevokan\n"
     ]
    },
    {
     "name": "stderr",
     "output_type": "stream",
     "text": [
      "Scraping reviews for Kos Vadevokan: 100%|███████████████████████████████████| 25/25 [01:52<00:00,  4.50s/it, Review=25]\n"
     ]
    },
    {
     "name": "stdout",
     "output_type": "stream",
     "text": [
      "Review scraping finished for Kos Vadevokan\n",
      "starting scraping for:Casa Fresca\n",
      "starting scraping for:The Level\n",
      "starting scraping for:BAGEUR HAUSE\n"
     ]
    },
    {
     "name": "stderr",
     "output_type": "stream",
     "text": [
      "Scraping reviews for BAGEUR HAUSE: 100%|████████████████████████████████████| 25/25 [01:46<00:00,  4.25s/it, Review=25]\n"
     ]
    },
    {
     "name": "stdout",
     "output_type": "stream",
     "text": [
      "Review scraping finished for BAGEUR HAUSE\n",
      "starting scraping for:Stay Corner Yk\n"
     ]
    },
    {
     "name": "stderr",
     "output_type": "stream",
     "text": [
      "Scraping reviews for Stay Corner Yk: 100%|██████████████████████████████████| 25/25 [01:48<00:00,  4.34s/it, Review=25]\n"
     ]
    },
    {
     "name": "stdout",
     "output_type": "stream",
     "text": [
      "Review scraping finished for Stay Corner Yk\n",
      "starting scraping for:wagokoro Tugu\n",
      "starting scraping for:Von Dutch\n"
     ]
    },
    {
     "name": "stderr",
     "output_type": "stream",
     "text": [
      "Scraping reviews for Von Dutch: 100%|███████████████████████████████████████| 25/25 [01:43<00:00,  4.15s/it, Review=25]\n"
     ]
    },
    {
     "name": "stdout",
     "output_type": "stream",
     "text": [
      "Review scraping finished for Von Dutch\n",
      "starting scraping for:TapHouse Beer Garden\n"
     ]
    },
    {
     "name": "stderr",
     "output_type": "stream",
     "text": [
      "Scraping reviews for TapHouse Beer Garden: 100%|████████████████████████████| 25/25 [00:39<00:00,  1.59s/it, Review=25]\n"
     ]
    },
    {
     "name": "stdout",
     "output_type": "stream",
     "text": [
      "Review scraping finished for TapHouse Beer Garden\n",
      "starting scraping for:Lesehan dara\n"
     ]
    },
    {
     "name": "stderr",
     "output_type": "stream",
     "text": [
      "Scraping reviews for Lesehan dara: 100%|████████████████████████████████████| 25/25 [00:29<00:00,  1.19s/it, Review=25]\n"
     ]
    },
    {
     "name": "stdout",
     "output_type": "stream",
     "text": [
      "Review scraping finished for Lesehan dara\n",
      "starting scraping for:Lucifer\n"
     ]
    },
    {
     "name": "stderr",
     "output_type": "stream",
     "text": [
      "Scraping reviews for Lucifer: 100%|█████████████████████████████████████████| 25/25 [00:48<00:00,  1.94s/it, Review=25]\n"
     ]
    },
    {
     "name": "stdout",
     "output_type": "stream",
     "text": [
      "Review scraping finished for Lucifer\n",
      "starting scraping for:Omahe rafli\n",
      "starting scraping for:Wedang ronde jogja mangkubumi\n",
      "starting scraping for:Bar bola pelangi\n",
      "starting scraping for:Juragan\n",
      "starting scraping for:Sentra Gowongan\n"
     ]
    },
    {
     "name": "stderr",
     "output_type": "stream",
     "text": [
      "Scraping reviews for Sentra Gowongan: 100%|█████████████████████████████████| 25/25 [01:42<00:00,  4.10s/it, Review=25]\n"
     ]
    },
    {
     "name": "stdout",
     "output_type": "stream",
     "text": [
      "Review scraping finished for Sentra Gowongan\n",
      "starting scraping for:Pink Elephant Coffee  Lounge\n"
     ]
    },
    {
     "name": "stderr",
     "output_type": "stream",
     "text": [
      "Scraping reviews for Pink Elephant Coffee  Lounge: 100%|████████████████████| 25/25 [00:51<00:00,  2.08s/it, Review=25]\n"
     ]
    },
    {
     "name": "stdout",
     "output_type": "stream",
     "text": [
      "Review scraping finished for Pink Elephant Coffee  Lounge\n",
      "starting scraping for:De Djogdja Karaoke Lounge Cafe\n"
     ]
    },
    {
     "name": "stderr",
     "output_type": "stream",
     "text": [
      "Scraping reviews for De Djogdja Karaoke Lounge Cafe: 100%|██████████████████| 25/25 [01:52<00:00,  4.49s/it, Review=25]\n"
     ]
    },
    {
     "name": "stdout",
     "output_type": "stream",
     "text": [
      "Review scraping finished for De Djogdja Karaoke Lounge Cafe\n",
      "starting scraping for:Taman Sari Pool Bar\n"
     ]
    },
    {
     "name": "stderr",
     "output_type": "stream",
     "text": [
      "Scraping reviews for Taman Sari Pool Bar: 100%|█████████████████████████████| 25/25 [01:42<00:00,  4.12s/it, Review=25]\n"
     ]
    },
    {
     "name": "stdout",
     "output_type": "stream",
     "text": [
      "Review scraping finished for Taman Sari Pool Bar\n",
      "starting scraping for:Hiburan Nightlife  Pub  Bar Banana Cafe\n"
     ]
    },
    {
     "name": "stderr",
     "output_type": "stream",
     "text": [
      "Scraping reviews for Hiburan Nightlife  Pub  Bar Banana Cafe: 100%|█████████| 25/25 [01:46<00:00,  4.24s/it, Review=25]\n"
     ]
    },
    {
     "name": "stdout",
     "output_type": "stream",
     "text": [
      "Review scraping finished for Hiburan Nightlife  Pub  Bar Banana Cafe\n",
      "starting scraping for:Angkringan Pak Aris\n"
     ]
    },
    {
     "name": "stderr",
     "output_type": "stream",
     "text": [
      "Scraping reviews for Angkringan Pak Aris: 100%|█████████████████████████████| 25/25 [01:47<00:00,  4.30s/it, Review=25]\n"
     ]
    },
    {
     "name": "stdout",
     "output_type": "stream",
     "text": [
      "Review scraping finished for Angkringan Pak Aris\n",
      "starting scraping for:Merapi Coffee Shop\n"
     ]
    },
    {
     "name": "stderr",
     "output_type": "stream",
     "text": [
      "Scraping reviews for Merapi Coffee Shop: 100%|██████████████████████████████| 25/25 [01:47<00:00,  4.29s/it, Review=25]\n"
     ]
    },
    {
     "name": "stdout",
     "output_type": "stream",
     "text": [
      "Review scraping finished for Merapi Coffee Shop\n",
      "starting scraping for:Internet Learning Cafe - Ambarukmo\n"
     ]
    },
    {
     "name": "stderr",
     "output_type": "stream",
     "text": [
      "Scraping reviews for Internet Learning Cafe - Ambarukmo: 100%|██████████████| 25/25 [00:35<00:00,  1.43s/it, Review=25]\n"
     ]
    },
    {
     "name": "stdout",
     "output_type": "stream",
     "text": [
      "Review scraping finished for Internet Learning Cafe - Ambarukmo\n",
      "starting scraping for:Sekar Merapi Waroeng Kopi\n"
     ]
    },
    {
     "name": "stderr",
     "output_type": "stream",
     "text": [
      "Scraping reviews for Sekar Merapi Waroeng Kopi: 100%|███████████████████████| 25/25 [01:44<00:00,  4.16s/it, Review=25]\n"
     ]
    },
    {
     "name": "stdout",
     "output_type": "stream",
     "text": [
      "Review scraping finished for Sekar Merapi Waroeng Kopi\n",
      "starting scraping for:Pengantar Kopi\n"
     ]
    },
    {
     "name": "stderr",
     "output_type": "stream",
     "text": [
      "Scraping reviews for Pengantar Kopi: 100%|██████████████████████████████████| 25/25 [00:36<00:00,  1.45s/it, Review=25]\n"
     ]
    },
    {
     "name": "stdout",
     "output_type": "stream",
     "text": [
      "Review scraping finished for Pengantar Kopi\n",
      "starting scraping for:Omah Semar Cafe  homestay\n",
      "starting scraping for:SENJA coffee to go\n"
     ]
    },
    {
     "name": "stderr",
     "output_type": "stream",
     "text": [
      "Scraping reviews for SENJA coffee to go: 100%|██████████████████████████████| 25/25 [00:24<00:00,  1.04it/s, Review=25]\n"
     ]
    },
    {
     "name": "stdout",
     "output_type": "stream",
     "text": [
      "Review scraping finished for SENJA coffee to go\n",
      "starting scraping for:KASULI Kafe Susu Tuli\n"
     ]
    },
    {
     "name": "stderr",
     "output_type": "stream",
     "text": [
      "Scraping reviews for KASULI Kafe Susu Tuli: 100%|███████████████████████████| 25/25 [01:45<00:00,  4.21s/it, Review=25]\n"
     ]
    },
    {
     "name": "stdout",
     "output_type": "stream",
     "text": [
      "Review scraping finished for KASULI Kafe Susu Tuli\n",
      "starting scraping for:Warmindo Perdana Cafe\n"
     ]
    },
    {
     "name": "stderr",
     "output_type": "stream",
     "text": [
      "Scraping reviews for Warmindo Perdana Cafe: 100%|███████████████████████████| 25/25 [01:18<00:00,  3.16s/it, Review=25]\n"
     ]
    },
    {
     "name": "stdout",
     "output_type": "stream",
     "text": [
      "Review scraping finished for Warmindo Perdana Cafe\n",
      "starting scraping for:POENOKAWAN CAFE RESTO  GALLERY\n",
      "starting scraping for:Posko Goyang\n"
     ]
    },
    {
     "name": "stderr",
     "output_type": "stream",
     "text": [
      "Scraping reviews for Posko Goyang: 100%|████████████████████████████████████| 25/25 [01:45<00:00,  4.23s/it, Review=25]\n"
     ]
    },
    {
     "name": "stdout",
     "output_type": "stream",
     "text": [
      "Review scraping finished for Posko Goyang\n",
      "starting scraping for:Sawo 7 Cafe and Guest House\n",
      "starting scraping for:Burjo Barokah Merapi warmindo\n"
     ]
    },
    {
     "name": "stderr",
     "output_type": "stream",
     "text": [
      "Scraping reviews for Burjo Barokah Merapi warmindo: 100%|███████████████████| 25/25 [01:53<00:00,  4.54s/it, Review=25]\n"
     ]
    },
    {
     "name": "stdout",
     "output_type": "stream",
     "text": [
      "Review scraping finished for Burjo Barokah Merapi warmindo\n",
      "starting scraping for:Wayaekopi\n"
     ]
    },
    {
     "name": "stderr",
     "output_type": "stream",
     "text": [
      "Scraping reviews for Wayaekopi: 100%|███████████████████████████████████████| 25/25 [02:04<00:00,  4.98s/it, Review=25]\n"
     ]
    },
    {
     "name": "stdout",
     "output_type": "stream",
     "text": [
      "Review scraping finished for Wayaekopi\n",
      "starting scraping for:Angkringan Jaman Edan\n"
     ]
    },
    {
     "name": "stderr",
     "output_type": "stream",
     "text": [
      "Scraping reviews for Angkringan Jaman Edan: 100%|███████████████████████████| 25/25 [00:46<00:00,  1.87s/it, Review=25]\n"
     ]
    },
    {
     "name": "stdout",
     "output_type": "stream",
     "text": [
      "Review scraping finished for Angkringan Jaman Edan\n",
      "starting scraping for:Merapi Live Music\n"
     ]
    },
    {
     "name": "stderr",
     "output_type": "stream",
     "text": [
      "Scraping reviews for Merapi Live Music: 100%|███████████████████████████████| 25/25 [01:57<00:00,  4.72s/it, Review=25]\n"
     ]
    },
    {
     "name": "stdout",
     "output_type": "stream",
     "text": [
      "Review scraping finished for Merapi Live Music\n",
      "starting scraping for:Kopi Imu Mbana\n"
     ]
    },
    {
     "name": "stderr",
     "output_type": "stream",
     "text": [
      "Scraping reviews for Kopi Imu Mbana: 100%|██████████████████████████████████| 25/25 [01:46<00:00,  4.25s/it, Review=25]\n"
     ]
    },
    {
     "name": "stdout",
     "output_type": "stream",
     "text": [
      "Review scraping finished for Kopi Imu Mbana\n",
      "starting scraping for:Pempek Ummu Naurah\n"
     ]
    },
    {
     "name": "stderr",
     "output_type": "stream",
     "text": [
      "Scraping reviews for Pempek Ummu Naurah: 100%|██████████████████████████████| 25/25 [01:42<00:00,  4.10s/it, Review=25]\n"
     ]
    },
    {
     "name": "stdout",
     "output_type": "stream",
     "text": [
      "Review scraping finished for Pempek Ummu Naurah\n",
      "starting scraping for:Warung Makan Tarusbawa\n"
     ]
    },
    {
     "name": "stderr",
     "output_type": "stream",
     "text": [
      "Scraping reviews for Warung Makan Tarusbawa: 100%|██████████████████████████| 25/25 [01:42<00:00,  4.10s/it, Review=25]\n"
     ]
    },
    {
     "name": "stdout",
     "output_type": "stream",
     "text": [
      "Review scraping finished for Warung Makan Tarusbawa\n",
      "starting scraping for:Warung Makan lovela\n",
      "starting scraping for:Warung Gardu Pandang Merapi free wifi\n",
      "starting scraping for:Warung Makan Mbok Sri\n"
     ]
    },
    {
     "name": "stderr",
     "output_type": "stream",
     "text": [
      "Scraping reviews for Warung Makan Mbok Sri: 100%|███████████████████████████| 25/25 [01:47<00:00,  4.31s/it, Review=25]\n"
     ]
    },
    {
     "name": "stdout",
     "output_type": "stream",
     "text": [
      "Review scraping finished for Warung Makan Mbok Sri\n",
      "starting scraping for:Pondok Merapi\n"
     ]
    },
    {
     "name": "stderr",
     "output_type": "stream",
     "text": [
      "Scraping reviews for Pondok Merapi: 100%|███████████████████████████████████| 25/25 [00:28<00:00,  1.15s/it, Review=25]\n"
     ]
    },
    {
     "name": "stdout",
     "output_type": "stream",
     "text": [
      "Review scraping finished for Pondok Merapi\n",
      "starting scraping for:Warung Makan Yafran\n",
      "starting scraping for:Warung Makan Nirwana\n"
     ]
    },
    {
     "name": "stderr",
     "output_type": "stream",
     "text": [
      "Scraping reviews for Warung Makan Nirwana: 100%|████████████████████████████| 25/25 [01:42<00:00,  4.11s/it, Review=25]\n"
     ]
    },
    {
     "name": "stdout",
     "output_type": "stream",
     "text": [
      "Review scraping finished for Warung Makan Nirwana\n",
      "starting scraping for:Warung Makan dan Catering Mbah Ganis\n"
     ]
    },
    {
     "name": "stderr",
     "output_type": "stream",
     "text": [
      "Scraping reviews for Warung Makan dan Catering Mbah Ganis: 100%|████████████| 25/25 [00:23<00:00,  1.07it/s, Review=25]\n"
     ]
    },
    {
     "name": "stdout",
     "output_type": "stream",
     "text": [
      "Review scraping finished for Warung Makan dan Catering Mbah Ganis\n",
      "starting scraping for:Beukenhof Restaurant\n"
     ]
    },
    {
     "name": "stderr",
     "output_type": "stream",
     "text": [
      "Scraping reviews for Beukenhof Restaurant: 100%|████████████████████████████| 25/25 [00:18<00:00,  1.36it/s, Review=25]\n"
     ]
    },
    {
     "name": "stdout",
     "output_type": "stream",
     "text": [
      "Review scraping finished for Beukenhof Restaurant\n",
      "starting scraping for:Warung Makan SELALU RINDU TO YOU\n"
     ]
    },
    {
     "name": "stderr",
     "output_type": "stream",
     "text": [
      "Scraping reviews for Warung Makan SELALU RINDU TO YOU: 100%|████████████████| 25/25 [01:44<00:00,  4.19s/it, Review=25]\n"
     ]
    },
    {
     "name": "stdout",
     "output_type": "stream",
     "text": [
      "Review scraping finished for Warung Makan SELALU RINDU TO YOU\n",
      "starting scraping for:QM Merapi\n"
     ]
    },
    {
     "name": "stderr",
     "output_type": "stream",
     "text": [
      "Scraping reviews for QM Merapi: 100%|███████████████████████████████████████| 25/25 [01:57<00:00,  4.69s/it, Review=25]\n"
     ]
    },
    {
     "name": "stdout",
     "output_type": "stream",
     "text": [
      "Review scraping finished for QM Merapi\n",
      "starting scraping for:Warung Makan Restu Ibu\n"
     ]
    },
    {
     "name": "stderr",
     "output_type": "stream",
     "text": [
      "Scraping reviews for Warung Makan Restu Ibu: 100%|██████████████████████████| 25/25 [00:33<00:00,  1.35s/it, Review=25]\n"
     ]
    },
    {
     "name": "stdout",
     "output_type": "stream",
     "text": [
      "Review scraping finished for Warung Makan Restu Ibu\n",
      "starting scraping for:warung makan bu in\n"
     ]
    },
    {
     "name": "stderr",
     "output_type": "stream",
     "text": [
      "Scraping reviews for warung makan bu in: 100%|██████████████████████████████| 25/25 [01:41<00:00,  4.07s/it, Review=25]\n"
     ]
    },
    {
     "name": "stdout",
     "output_type": "stream",
     "text": [
      "Review scraping finished for warung makan bu in\n",
      "starting scraping for:Rumah Makan Bonda Merapi\n"
     ]
    },
    {
     "name": "stderr",
     "output_type": "stream",
     "text": [
      "Scraping reviews for Rumah Makan Bonda Merapi: 100%|████████████████████████| 25/25 [00:35<00:00,  1.42s/it, Review=25]\n"
     ]
    },
    {
     "name": "stdout",
     "output_type": "stream",
     "text": [
      "Review scraping finished for Rumah Makan Bonda Merapi\n",
      "starting scraping for:Sandyakala Resto Merapi\n"
     ]
    },
    {
     "name": "stderr",
     "output_type": "stream",
     "text": [
      "Scraping reviews for Sandyakala Resto Merapi: 100%|█████████████████████████| 25/25 [01:42<00:00,  4.11s/it, Review=25]\n"
     ]
    },
    {
     "name": "stdout",
     "output_type": "stream",
     "text": [
      "Review scraping finished for Sandyakala Resto Merapi\n",
      "starting scraping for:RM. Telogo Roso\n"
     ]
    },
    {
     "name": "stderr",
     "output_type": "stream",
     "text": [
      "Scraping reviews for RM. Telogo Roso: 100%|█████████████████████████████████| 25/25 [01:46<00:00,  4.28s/it, Review=25]\n"
     ]
    },
    {
     "name": "stdout",
     "output_type": "stream",
     "text": [
      "Review scraping finished for RM. Telogo Roso\n",
      "starting scraping for:Warung Makan Bu Lia\n",
      "starting scraping for:Merapi Resto  Cafe\n",
      "starting scraping for:Angkringan Merapi\n"
     ]
    },
    {
     "name": "stderr",
     "output_type": "stream",
     "text": [
      "Scraping reviews for Angkringan Merapi: 100%|███████████████████████████████| 25/25 [01:42<00:00,  4.10s/it, Review=25]\n"
     ]
    },
    {
     "name": "stdout",
     "output_type": "stream",
     "text": [
      "Review scraping finished for Angkringan Merapi\n",
      "starting scraping for:MOODBAR\n"
     ]
    },
    {
     "name": "stderr",
     "output_type": "stream",
     "text": [
      "Scraping reviews for MOODBAR: 100%|█████████████████████████████████████████| 25/25 [01:43<00:00,  4.14s/it, Review=25]\n"
     ]
    },
    {
     "name": "stdout",
     "output_type": "stream",
     "text": [
      "Review scraping finished for MOODBAR\n",
      "starting scraping for:Osea Resto and Bar Jogja\n"
     ]
    },
    {
     "name": "stderr",
     "output_type": "stream",
     "text": [
      "Scraping reviews for Osea Resto and Bar Jogja: 100%|████████████████████████| 25/25 [00:23<00:00,  1.08it/s, Review=25]\n"
     ]
    },
    {
     "name": "stdout",
     "output_type": "stream",
     "text": [
      "Review scraping finished for Osea Resto and Bar Jogja\n",
      "starting scraping for:Mak Walidi hollywings\n"
     ]
    },
    {
     "name": "stderr",
     "output_type": "stream",
     "text": [
      "Scraping reviews for Mak Walidi hollywings: 100%|███████████████████████████| 25/25 [01:43<00:00,  4.12s/it, Review=25]\n"
     ]
    },
    {
     "name": "stdout",
     "output_type": "stream",
     "text": [
      "Review scraping finished for Mak Walidi hollywings\n",
      "starting scraping for:Angkringan Krusty krab 2\n"
     ]
    },
    {
     "name": "stderr",
     "output_type": "stream",
     "text": [
      "Scraping reviews for Angkringan Krusty krab 2: 100%|████████████████████████| 25/25 [01:43<00:00,  4.14s/it, Review=25]\n"
     ]
    },
    {
     "name": "stdout",
     "output_type": "stream",
     "text": [
      "Review scraping finished for Angkringan Krusty krab 2\n",
      "starting scraping for:Caffe77\n"
     ]
    },
    {
     "name": "stderr",
     "output_type": "stream",
     "text": [
      "Scraping reviews for Caffe77: 100%|█████████████████████████████████████████| 25/25 [00:53<00:00,  2.14s/it, Review=25]\n"
     ]
    },
    {
     "name": "stdout",
     "output_type": "stream",
     "text": [
      "Review scraping finished for Caffe77\n",
      "starting scraping for:dTEKO\n"
     ]
    },
    {
     "name": "stderr",
     "output_type": "stream",
     "text": [
      "Scraping reviews for dTEKO: 100%|███████████████████████████████████████████| 25/25 [00:36<00:00,  1.48s/it, Review=25]\n"
     ]
    },
    {
     "name": "stdout",
     "output_type": "stream",
     "text": [
      "Review scraping finished for dTEKO\n",
      "starting scraping for:Dini Hari Kopi\n"
     ]
    },
    {
     "name": "stderr",
     "output_type": "stream",
     "text": [
      "Scraping reviews for Dini Hari Kopi: 100%|██████████████████████████████████| 25/25 [00:26<00:00,  1.07s/it, Review=25]\n"
     ]
    },
    {
     "name": "stdout",
     "output_type": "stream",
     "text": [
      "Review scraping finished for Dini Hari Kopi\n",
      "starting scraping for:Roetin Coffee\n"
     ]
    },
    {
     "name": "stderr",
     "output_type": "stream",
     "text": [
      "Scraping reviews for Roetin Coffee: 100%|███████████████████████████████████| 25/25 [00:30<00:00,  1.22s/it, Review=25]\n"
     ]
    },
    {
     "name": "stdout",
     "output_type": "stream",
     "text": [
      "Review scraping finished for Roetin Coffee\n",
      "starting scraping for:Stiff Return\n"
     ]
    },
    {
     "name": "stderr",
     "output_type": "stream",
     "text": [
      "Scraping reviews for Stiff Return: 100%|████████████████████████████████████| 25/25 [00:55<00:00,  2.21s/it, Review=25]\n"
     ]
    },
    {
     "name": "stdout",
     "output_type": "stream",
     "text": [
      "Review scraping finished for Stiff Return\n",
      "starting scraping for:Mrikiniki Angkringan And Gallery\n"
     ]
    },
    {
     "name": "stderr",
     "output_type": "stream",
     "text": [
      "Scraping reviews for Mrikiniki Angkringan And Gallery: 100%|████████████████| 25/25 [00:36<00:00,  1.48s/it, Review=25]\n"
     ]
    },
    {
     "name": "stdout",
     "output_type": "stream",
     "text": [
      "Review scraping finished for Mrikiniki Angkringan And Gallery\n",
      "starting scraping for:Tempat ngopi\n"
     ]
    },
    {
     "name": "stderr",
     "output_type": "stream",
     "text": [
      "Scraping reviews for Tempat ngopi: 100%|████████████████████████████████████| 25/25 [00:16<00:00,  1.51it/s, Review=25]\n"
     ]
    },
    {
     "name": "stdout",
     "output_type": "stream",
     "text": [
      "Review scraping finished for Tempat ngopi\n",
      "starting scraping for:KOPI VASTE\n"
     ]
    },
    {
     "name": "stderr",
     "output_type": "stream",
     "text": [
      "Scraping reviews for KOPI VASTE: 100%|██████████████████████████████████████| 25/25 [00:47<00:00,  1.89s/it, Review=25]\n"
     ]
    },
    {
     "name": "stdout",
     "output_type": "stream",
     "text": [
      "Review scraping finished for KOPI VASTE\n",
      "starting scraping for:Cafe Phewee\n"
     ]
    },
    {
     "name": "stderr",
     "output_type": "stream",
     "text": [
      "Scraping reviews for Cafe Phewee: 100%|█████████████████████████████████████| 25/25 [00:28<00:00,  1.14s/it, Review=25]\n"
     ]
    },
    {
     "name": "stdout",
     "output_type": "stream",
     "text": [
      "Review scraping finished for Cafe Phewee\n",
      "starting scraping for:Kedai Ngopi Jogkie\n"
     ]
    },
    {
     "name": "stderr",
     "output_type": "stream",
     "text": [
      "Scraping reviews for Kedai Ngopi Jogkie: 100%|██████████████████████████████| 25/25 [01:43<00:00,  4.14s/it, Review=25]\n"
     ]
    },
    {
     "name": "stdout",
     "output_type": "stream",
     "text": [
      "Review scraping finished for Kedai Ngopi Jogkie\n",
      "starting scraping for:Vagida Coffee\n"
     ]
    },
    {
     "name": "stderr",
     "output_type": "stream",
     "text": [
      "Scraping reviews for Vagida Coffee: 100%|███████████████████████████████████| 25/25 [01:46<00:00,  4.28s/it, Review=25]\n"
     ]
    },
    {
     "name": "stdout",
     "output_type": "stream",
     "text": [
      "Review scraping finished for Vagida Coffee\n",
      "starting scraping for:Goela\n"
     ]
    },
    {
     "name": "stderr",
     "output_type": "stream",
     "text": [
      "Scraping reviews for Goela: 100%|███████████████████████████████████████████| 25/25 [01:41<00:00,  4.08s/it, Review=25]\n"
     ]
    },
    {
     "name": "stdout",
     "output_type": "stream",
     "text": [
      "Review scraping finished for Goela\n",
      "starting scraping for:Warung Kopi Godok Dull Mbanon\n"
     ]
    },
    {
     "name": "stderr",
     "output_type": "stream",
     "text": [
      "Scraping reviews for Warung Kopi Godok Dull Mbanon: 100%|███████████████████| 25/25 [01:44<00:00,  4.19s/it, Review=25]\n"
     ]
    },
    {
     "name": "stdout",
     "output_type": "stream",
     "text": [
      "Review scraping finished for Warung Kopi Godok Dull Mbanon\n",
      "starting scraping for:caffe\n",
      "tempat ngopi is already scrapped. Check or delete the file if you want to rescrape it.\n",
      "starting scraping for:Drubble Drink\n",
      "starting scraping for:Angkringan Legendaris\n"
     ]
    },
    {
     "name": "stderr",
     "output_type": "stream",
     "text": [
      "Scraping reviews for Angkringan Legendaris: 100%|███████████████████████████| 25/25 [00:54<00:00,  2.16s/it, Review=25]\n"
     ]
    },
    {
     "name": "stdout",
     "output_type": "stream",
     "text": [
      "Review scraping finished for Angkringan Legendaris\n",
      "starting scraping for:Kandang oguts\n"
     ]
    },
    {
     "name": "stderr",
     "output_type": "stream",
     "text": [
      "Scraping reviews for Kandang oguts: 100%|███████████████████████████████████| 25/25 [00:38<00:00,  1.54s/it, Review=25]\n"
     ]
    },
    {
     "name": "stdout",
     "output_type": "stream",
     "text": [
      "Review scraping finished for Kandang oguts\n",
      "starting scraping for:Pitutur\n"
     ]
    },
    {
     "name": "stderr",
     "output_type": "stream",
     "text": [
      "Scraping reviews for Pitutur: 100%|█████████████████████████████████████████| 25/25 [00:24<00:00,  1.01it/s, Review=25]\n"
     ]
    },
    {
     "name": "stdout",
     "output_type": "stream",
     "text": [
      "Review scraping finished for Pitutur\n",
      "starting scraping for:Omah NgGunung\n",
      "starting scraping for:Kurniawan Kuliner Goa Pindul\n"
     ]
    },
    {
     "name": "stderr",
     "output_type": "stream",
     "text": [
      "Scraping reviews for Kurniawan Kuliner Goa Pindul: 100%|████████████████████| 25/25 [01:41<00:00,  4.08s/it, Review=25]\n"
     ]
    },
    {
     "name": "stdout",
     "output_type": "stream",
     "text": [
      "Review scraping finished for Kurniawan Kuliner Goa Pindul\n",
      "starting scraping for:RM Karindra Goa Pindul\n"
     ]
    },
    {
     "name": "stderr",
     "output_type": "stream",
     "text": [
      "Scraping reviews for RM Karindra Goa Pindul: 100%|██████████████████████████| 25/25 [01:58<00:00,  4.74s/it, Review=25]\n"
     ]
    },
    {
     "name": "stdout",
     "output_type": "stream",
     "text": [
      "Review scraping finished for RM Karindra Goa Pindul\n",
      "starting scraping for:Sate Goa Pindul\n"
     ]
    },
    {
     "name": "stderr",
     "output_type": "stream",
     "text": [
      "Scraping reviews for Sate Goa Pindul: 100%|█████████████████████████████████| 25/25 [01:41<00:00,  4.07s/it, Review=25]\n"
     ]
    },
    {
     "name": "stdout",
     "output_type": "stream",
     "text": [
      "Review scraping finished for Sate Goa Pindul\n",
      "starting scraping for:Rumah Makan Bu Yus\n",
      "starting scraping for:Angkringan iva\n"
     ]
    },
    {
     "name": "stderr",
     "output_type": "stream",
     "text": [
      "Scraping reviews for Angkringan iva: 100%|██████████████████████████████████| 25/25 [01:44<00:00,  4.19s/it, Review=25]\n"
     ]
    },
    {
     "name": "stdout",
     "output_type": "stream",
     "text": [
      "Review scraping finished for Angkringan iva\n",
      "starting scraping for:Bakso Prasojo\n"
     ]
    },
    {
     "name": "stderr",
     "output_type": "stream",
     "text": [
      "Scraping reviews for Bakso Prasojo: 100%|███████████████████████████████████| 25/25 [01:43<00:00,  4.15s/it, Review=25]\n"
     ]
    },
    {
     "name": "stdout",
     "output_type": "stream",
     "text": [
      "Review scraping finished for Bakso Prasojo\n",
      "starting scraping for:Rocket Chicken Karangmojo\n"
     ]
    },
    {
     "name": "stderr",
     "output_type": "stream",
     "text": [
      "Scraping reviews for Rocket Chicken Karangmojo: 100%|███████████████████████| 25/25 [00:43<00:00,  1.76s/it, Review=25]\n"
     ]
    },
    {
     "name": "stdout",
     "output_type": "stream",
     "text": [
      "Review scraping finished for Rocket Chicken Karangmojo\n",
      "starting scraping for:Warung Kampung Tani\n"
     ]
    },
    {
     "name": "stderr",
     "output_type": "stream",
     "text": [
      "Scraping reviews for Warung Kampung Tani: 100%|█████████████████████████████| 25/25 [00:38<00:00,  1.55s/it, Review=25]\n"
     ]
    },
    {
     "name": "stdout",
     "output_type": "stream",
     "text": [
      "Review scraping finished for Warung Kampung Tani\n",
      "starting scraping for:AR KITCHEN RESTAURANT\n",
      "starting scraping for:Lesehan Nasi Merah Pari Gogo\n"
     ]
    },
    {
     "name": "stderr",
     "output_type": "stream",
     "text": [
      "Scraping reviews for Lesehan Nasi Merah Pari Gogo: 100%|████████████████████| 25/25 [00:17<00:00,  1.42it/s, Review=25]\n"
     ]
    },
    {
     "name": "stdout",
     "output_type": "stream",
     "text": [
      "Review scraping finished for Lesehan Nasi Merah Pari Gogo\n",
      "starting scraping for:Warung Simbok\n"
     ]
    },
    {
     "name": "stderr",
     "output_type": "stream",
     "text": [
      "Scraping reviews for Warung Simbok: 100%|███████████████████████████████████| 25/25 [00:19<00:00,  1.28it/s, Review=25]\n"
     ]
    },
    {
     "name": "stdout",
     "output_type": "stream",
     "text": [
      "Review scraping finished for Warung Simbok\n",
      "starting scraping for:Mie Ngaco\n"
     ]
    },
    {
     "name": "stderr",
     "output_type": "stream",
     "text": [
      "Scraping reviews for Mie Ngaco: 100%|███████████████████████████████████████| 25/25 [00:29<00:00,  1.17s/it, Review=25]\n"
     ]
    },
    {
     "name": "stdout",
     "output_type": "stream",
     "text": [
      "Review scraping finished for Mie Ngaco\n",
      "starting scraping for:Omah Kayu Wonosari\n"
     ]
    },
    {
     "name": "stderr",
     "output_type": "stream",
     "text": [
      "Scraping reviews for Omah Kayu Wonosari: 100%|██████████████████████████████| 25/25 [00:26<00:00,  1.06s/it, Review=25]\n"
     ]
    },
    {
     "name": "stdout",
     "output_type": "stream",
     "text": [
      "Review scraping finished for Omah Kayu Wonosari\n",
      "starting scraping for:Rinten Dalu Coffee  Resto\n"
     ]
    },
    {
     "name": "stderr",
     "output_type": "stream",
     "text": [
      "Scraping reviews for Rinten Dalu Coffee  Resto: 100%|███████████████████████| 25/25 [00:28<00:00,  1.13s/it, Review=25]\n"
     ]
    },
    {
     "name": "stdout",
     "output_type": "stream",
     "text": [
      "Review scraping finished for Rinten Dalu Coffee  Resto\n",
      "starting scraping for:SalSari Resto  Coffee\n"
     ]
    },
    {
     "name": "stderr",
     "output_type": "stream",
     "text": [
      "Scraping reviews for SalSari Resto  Coffee: 100%|███████████████████████████| 25/25 [00:19<00:00,  1.28it/s, Review=25]\n"
     ]
    },
    {
     "name": "stdout",
     "output_type": "stream",
     "text": [
      "Review scraping finished for SalSari Resto  Coffee\n",
      "starting scraping for:Omahena\n"
     ]
    },
    {
     "name": "stderr",
     "output_type": "stream",
     "text": [
      "Scraping reviews for Omahena: 100%|█████████████████████████████████████████| 25/25 [00:23<00:00,  1.09it/s, Review=25]\n"
     ]
    },
    {
     "name": "stdout",
     "output_type": "stream",
     "text": [
      "Review scraping finished for Omahena\n",
      "starting scraping for:Mie Ayam dan Bakso Jumbo Kang Gotrek\n"
     ]
    },
    {
     "name": "stderr",
     "output_type": "stream",
     "text": [
      "Scraping reviews for Mie Ayam dan Bakso Jumbo Kang Gotrek: 100%|████████████| 25/25 [01:41<00:00,  4.08s/it, Review=25]\n"
     ]
    },
    {
     "name": "stdout",
     "output_type": "stream",
     "text": [
      "Review scraping finished for Mie Ayam dan Bakso Jumbo Kang Gotrek\n",
      "starting scraping for:Warung Makan Bu Sidas Pancuran\n"
     ]
    },
    {
     "name": "stderr",
     "output_type": "stream",
     "text": [
      "Scraping reviews for Warung Makan Bu Sidas Pancuran: 100%|██████████████████| 25/25 [00:34<00:00,  1.38s/it, Review=25]\n"
     ]
    },
    {
     "name": "stdout",
     "output_type": "stream",
     "text": [
      "Review scraping finished for Warung Makan Bu Sidas Pancuran\n",
      "starting scraping for:Rumah Makan Padang Giwangan\n"
     ]
    },
    {
     "name": "stderr",
     "output_type": "stream",
     "text": [
      "Scraping reviews for Rumah Makan Padang Giwangan: 100%|█████████████████████| 25/25 [00:33<00:00,  1.33s/it, Review=25]\n"
     ]
    },
    {
     "name": "stdout",
     "output_type": "stream",
     "text": [
      "Review scraping finished for Rumah Makan Padang Giwangan\n",
      "starting scraping for:Wamp Food Frozen Food\n"
     ]
    },
    {
     "name": "stderr",
     "output_type": "stream",
     "text": [
      "Scraping reviews for Wamp Food Frozen Food: 100%|███████████████████████████| 25/25 [00:54<00:00,  2.20s/it, Review=25]\n"
     ]
    },
    {
     "name": "stdout",
     "output_type": "stream",
     "text": [
      "Review scraping finished for Wamp Food Frozen Food\n",
      "starting scraping for:Krisbono Susanto\n",
      "starting scraping for:Tekosopan grup\n",
      "starting scraping for:GARGER STUDIO\n",
      "starting scraping for:Ki jungkung marcuet\n"
     ]
    },
    {
     "name": "stderr",
     "output_type": "stream",
     "text": [
      "Scraping reviews for Ki jungkung marcuet: 100%|█████████████████████████████| 25/25 [01:42<00:00,  4.10s/it, Review=25]\n"
     ]
    },
    {
     "name": "stdout",
     "output_type": "stream",
     "text": [
      "Review scraping finished for Ki jungkung marcuet\n",
      "starting scraping for:Bartono dangklutuk\n"
     ]
    },
    {
     "name": "stderr",
     "output_type": "stream",
     "text": [
      "Scraping reviews for Bartono dangklutuk: 100%|██████████████████████████████| 25/25 [01:43<00:00,  4.14s/it, Review=25]\n"
     ]
    },
    {
     "name": "stdout",
     "output_type": "stream",
     "text": [
      "Review scraping finished for Bartono dangklutuk\n",
      "starting scraping for:Angkringan Argomidang\n"
     ]
    },
    {
     "name": "stderr",
     "output_type": "stream",
     "text": [
      "Scraping reviews for Angkringan Argomidang: 100%|███████████████████████████| 25/25 [01:42<00:00,  4.10s/it, Review=25]\n"
     ]
    },
    {
     "name": "stdout",
     "output_type": "stream",
     "text": [
      "Review scraping finished for Angkringan Argomidang\n",
      "starting scraping for:JARot Cafe N Resto\n",
      "starting scraping for:Selepan kacang morodadi\n"
     ]
    },
    {
     "name": "stderr",
     "output_type": "stream",
     "text": [
      "Scraping reviews for Selepan kacang morodadi: 100%|█████████████████████████| 25/25 [01:45<00:00,  4.21s/it, Review=25]\n"
     ]
    },
    {
     "name": "stdout",
     "output_type": "stream",
     "text": [
      "Review scraping finished for Selepan kacang morodadi\n",
      "starting scraping for:Home stay\n",
      "starting scraping for:Awokwok\n"
     ]
    },
    {
     "name": "stderr",
     "output_type": "stream",
     "text": [
      "Scraping reviews for Awokwok: 100%|█████████████████████████████████████████| 25/25 [01:46<00:00,  4.25s/it, Review=25]\n"
     ]
    },
    {
     "name": "stdout",
     "output_type": "stream",
     "text": [
      "Review scraping finished for Awokwok\n",
      "starting scraping for:Balai Dusun Ngunutlor\n"
     ]
    },
    {
     "name": "stderr",
     "output_type": "stream",
     "text": [
      "Scraping reviews for Balai Dusun Ngunutlor: 100%|███████████████████████████| 25/25 [01:43<00:00,  4.14s/it, Review=25]\n"
     ]
    },
    {
     "name": "stdout",
     "output_type": "stream",
     "text": [
      "Review scraping finished for Balai Dusun Ngunutlor\n",
      "starting scraping for:Pemancingan gading flaying gunungbang\n"
     ]
    },
    {
     "name": "stderr",
     "output_type": "stream",
     "text": [
      "Scraping reviews for Pemancingan gading flaying gunungbang: 100%|███████████| 25/25 [01:43<00:00,  4.14s/it, Review=25]\n"
     ]
    },
    {
     "name": "stdout",
     "output_type": "stream",
     "text": [
      "Review scraping finished for Pemancingan gading flaying gunungbang\n",
      "starting scraping for:GONDESTEAM\n"
     ]
    },
    {
     "name": "stderr",
     "output_type": "stream",
     "text": [
      "Scraping reviews for GONDESTEAM: 100%|██████████████████████████████████████| 25/25 [01:53<00:00,  4.54s/it, Review=25]\n"
     ]
    },
    {
     "name": "stdout",
     "output_type": "stream",
     "text": [
      "Review scraping finished for GONDESTEAM\n",
      "starting scraping for:Pos ronda rt 06 kajar 2\n"
     ]
    },
    {
     "name": "stderr",
     "output_type": "stream",
     "text": [
      "Scraping reviews for Pos ronda rt 06 kajar 2: 100%|█████████████████████████| 25/25 [01:43<00:00,  4.14s/it, Review=25]\n"
     ]
    },
    {
     "name": "stdout",
     "output_type": "stream",
     "text": [
      "Review scraping finished for Pos ronda rt 06 kajar 2\n",
      "starting scraping for:Shafea home\n",
      "starting scraping for:KEDAI KAPTEN MUDA\n"
     ]
    },
    {
     "name": "stderr",
     "output_type": "stream",
     "text": [
      "Scraping reviews for KEDAI KAPTEN MUDA: 100%|███████████████████████████████| 25/25 [01:41<00:00,  4.07s/it, Review=25]\n"
     ]
    },
    {
     "name": "stdout",
     "output_type": "stream",
     "text": [
      "Review scraping finished for KEDAI KAPTEN MUDA\n",
      "starting scraping for:KOPIYUK\n",
      "starting scraping for:Karaoke Edy\n",
      "starting scraping for:Ralls  Dwy\n"
     ]
    },
    {
     "name": "stderr",
     "output_type": "stream",
     "text": [
      "Scraping reviews for Ralls  Dwy: 100%|██████████████████████████████████████| 25/25 [01:42<00:00,  4.10s/it, Review=25]"
     ]
    },
    {
     "name": "stdout",
     "output_type": "stream",
     "text": [
      "Review scraping finished for Ralls  Dwy\n"
     ]
    },
    {
     "name": "stderr",
     "output_type": "stream",
     "text": [
      "\n"
     ]
    }
   ],
   "source": [
    "driver = webdriver.Chrome()\n",
    "# Create the 'review' directory if it doesn't exist\n",
    "os.makedirs('review', exist_ok=True)\n",
    "\n",
    "with open(read_path, newline='', encoding='utf-8') as csvfile:\n",
    "    reader = csv.reader(csvfile)\n",
    "\n",
    "    next(reader)\n",
    "    for row in reader:\n",
    "        clean_filename(row[0])\n",
    "        NAMA = cleaned_filename\n",
    "        nomor = 1\n",
    "        review_count = 0\n",
    "\n",
    "        # Generate the write file path based on the restaurant name\n",
    "        write_filename = f\"{NAMA}.csv\"\n",
    "        write_path = os.path.join(\"review\", write_filename)\n",
    "\n",
    "        # Check if the file already exists and have more than 20 lines\n",
    "        if os.path.exists(write_path):\n",
    "            with open(write_path, 'r', encoding='utf-8') as file:\n",
    "                lines = file.readlines()\n",
    "                non_empty_lines = [line for line in lines if line.strip()]  # Filter non-empty lines\n",
    "                if len(non_empty_lines) > 20:\n",
    "                    print(f\"{NAMA} is already scrapped. Check or delete the file if you want to rescrape it.\")\n",
    "                    driver.quit()  # Close the webdriver\n",
    "                    continue\n",
    "        try:\n",
    "            search(NAMA)\n",
    "        except:\n",
    "            continue\n",
    "            \n",
    "        try:\n",
    "            review_button()\n",
    "        except:\n",
    "            continue\n",
    "        \n",
    "        # Open the CSV file for writing with UTF-8 encoding\n",
    "        with codecs.open(write_path, mode='w', encoding='utf-8', errors='ignore') as details_file:\n",
    "            writer = csv.DictWriter(details_file, fieldnames=fieldnames)\n",
    "            writer.writeheader()\n",
    "\n",
    "            # Write the name and link as separate rows\n",
    "            writer.writerow({'PLACE NAME': NAMA})\n",
    "            writer.writerow({'LINK': link})\n",
    "            writer.writerow({})  # Empty row for separation\n",
    "\n",
    "            # Write the column headers\n",
    "            writer.writerow({\n",
    "                'TIME': 'TIME',\n",
    "                'NAME': 'NAME',\n",
    "                'EXPERIENCE': 'EXPERIENCE',\n",
    "                'NUMBER OF REVIEW': 'NUMBER OF REVIEW',\n",
    "                'REVIEW': 'REVIEW',\n",
    "                'STAR': 'STAR'\n",
    "            })\n",
    "\n",
    "            # Use tqdm to create a progress bar\n",
    "            progress_bar = tqdm(range(jumlah_review), desc=f\"Scraping reviews for {NAMA}\")\n",
    "\n",
    "            for x in progress_bar:\n",
    "                try:\n",
    "                    review_scrap()\n",
    "                    changerange(nomor)\n",
    "                except:\n",
    "                    pass\n",
    "\n",
    "                details_dict = {\n",
    "                    'TIME': time_of_review,\n",
    "                    'NAME': name,\n",
    "                    'EXPERIENCE': experience,\n",
    "                    'NUMBER OF REVIEW': num_of_review,\n",
    "                    'REVIEW': review,\n",
    "                    'STAR': filled_star_count\n",
    "                }\n",
    "\n",
    "                writer.writerow(details_dict)\n",
    "\n",
    "                # Update the progress bar\n",
    "                progress_bar.set_postfix({'Review': x + 1})\n",
    "\n",
    "            # Close the progress bar\n",
    "            progress_bar.close()"
   ]
  },
  {
   "cell_type": "code",
   "execution_count": null,
   "id": "8295560f",
   "metadata": {},
   "outputs": [],
   "source": [
    "driver = webdriver.Chrome()\n",
    "# Create the 'review' directory if it doesn't exist\n",
    "os.makedirs('review', exist_ok=True)\n",
    "\n",
    "# Open the input file and loop through each vessel name\n",
    "with open(read_path, newline='', encoding='utf-8') as csvfile:\n",
    "    reader = csv.reader(csvfile)\n",
    "    next(reader)  # Skip the header row\n",
    "\n",
    "    rows = list(reader)  # Convert the remaining rows to a list\n",
    "    total_rows = len(rows)  # Get the total number of rows\n",
    "\n",
    "    for row in tqdm(rows, total=total_rows, desc=\"Processing rows\"):\n",
    "        clean_filename(row[0])\n",
    "        NAMA = cleaned_filename\n",
    "        nomor = 1\n",
    "        review_count = 0\n",
    "\n",
    "        # Generate the write file path based on the restaurant name\n",
    "        write_filename = f\"{NAMA}.csv\"\n",
    "        write_path = os.path.join(\"review\", write_filename)\n",
    "\n",
    "        # Check if the file already exists and has more than 20 lines\n",
    "        if os.path.exists(write_path):\n",
    "            with open(write_path, 'r', encoding='utf-8') as file:\n",
    "                lines = file.readlines()\n",
    "                non_empty_lines = [line for line in lines if line.strip()]  # Filter non-empty lines\n",
    "                if len(non_empty_lines) > 20:\n",
    "                    print(f\"{NAMA} is already scrapped. Check or delete the file if you want to rescrape it.\")\n",
    "                    driver.quit()  # Close the webdriver\n",
    "                    continue\n",
    "        try:\n",
    "            search(NAMA)\n",
    "        except:\n",
    "            continue\n",
    "\n",
    "        try:\n",
    "            review_button()\n",
    "        except:\n",
    "            continue\n",
    "\n",
    "        # Open the CSV file for writing with UTF-8 encoding\n",
    "        with codecs.open(write_path, mode='w', encoding='utf-8', errors='ignore') as details_file:\n",
    "            writer = csv.DictWriter(details_file, fieldnames=fieldnames)\n",
    "            writer.writeheader()\n",
    "\n",
    "            # Write the name and link as separate rows\n",
    "            writer.writerow({'PLACE NAME': NAMA})\n",
    "            writer.writerow({'LINK': link})\n",
    "            writer.writerow({})  # Empty row for separation\n",
    "\n",
    "            # Write the column headers\n",
    "            writer.writerow({\n",
    "                'TIME': 'TIME',\n",
    "                'NAME': 'NAME',\n",
    "                'EXPERIENCE': 'EXPERIENCE',\n",
    "                'NUMBER OF REVIEW': 'NUMBER OF REVIEW',\n",
    "                'REVIEW': 'REVIEW',\n",
    "                'STAR': 'STAR'\n",
    "            })\n",
    "\n",
    "            # Use tqdm to create a progress bar\n",
    "            progress_bar = tqdm(range(jumlah_review), desc=f\"Scraping reviews for {NAMA}\")\n",
    "\n",
    "            for x in progress_bar:\n",
    "                try:\n",
    "                    review_scrap()\n",
    "                    changerange(nomor)\n",
    "                except:\n",
    "                    pass\n",
    "\n",
    "                details_dict = {\n",
    "                    'TIME': time_of_review,\n",
    "                    'NAME': name,\n",
    "                    'EXPERIENCE': experience,\n",
    "                    'NUMBER OF REVIEW': num_of_review,\n",
    "                    'REVIEW': review,\n",
    "                    'STAR': filled_star_count\n",
    "                }\n",
    "\n",
    "                writer.writerow(details_dict)\n",
    "\n",
    "                # Update the progress bar\n",
    "                progress_bar.set_postfix({'Review': x + 1})\n",
    "\n",
    "            # Close the progress bar\n",
    "            progress_bar.close()\n",
    "        progress_bar.close()\n",
    "\n",
    "            print(f\"Review scraping finished for {NAMA}\")\n"
   ]
  },
  {
   "cell_type": "code",
   "execution_count": null,
   "id": "7fbce930",
   "metadata": {},
   "outputs": [],
   "source": []
  }
 ],
 "metadata": {
  "kernelspec": {
   "display_name": "Python 3 (ipykernel)",
   "language": "python",
   "name": "python3"
  },
  "language_info": {
   "codemirror_mode": {
    "name": "ipython",
    "version": 3
   },
   "file_extension": ".py",
   "mimetype": "text/x-python",
   "name": "python",
   "nbconvert_exporter": "python",
   "pygments_lexer": "ipython3",
   "version": "3.11.3"
  }
 },
 "nbformat": 4,
 "nbformat_minor": 5
}
