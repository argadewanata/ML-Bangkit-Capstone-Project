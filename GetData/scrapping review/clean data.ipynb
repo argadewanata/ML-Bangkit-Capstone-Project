{
 "cells": [
  {
   "cell_type": "code",
   "execution_count": 2,
   "id": "dfa4f0ba",
   "metadata": {},
   "outputs": [],
   "source": [
    "import csv\n",
    "import os"
   ]
  },
  {
   "cell_type": "code",
   "execution_count": 3,
   "id": "168c88ea",
   "metadata": {},
   "outputs": [],
   "source": [
    "read_filename = \"places.csv\"\n",
    "write_filename = \"names.csv\"\n",
    "\n",
    "input_file =os.path.join(\"response\", read_filename)\n",
    "output_file = os.path.join(\"response\",write_filename)"
   ]
  },
  {
   "cell_type": "code",
   "execution_count": 4,
   "id": "657effe4",
   "metadata": {},
   "outputs": [
    {
     "name": "stdout",
     "output_type": "stream",
     "text": [
      "Output CSV file path: C:\\Users\\abinp\\Documents\\ITS\\BANGKIT\\capstone\\ML-Bangkit-Capstone-Project\\GetData\\scrapping review\\response\\names.csv\n"
     ]
    }
   ],
   "source": [
    "# Open the input CSV file\n",
    "with open(input_file, 'r', encoding='utf-8') as file:\n",
    "    reader = csv.DictReader(file)\n",
    "    place_names = []\n",
    "\n",
    "    # Iterate over the rows in the CSV and extract place names\n",
    "    for row in reader:\n",
    "        place_names.append(row['Name'])\n",
    "\n",
    "# Get the current directory\n",
    "current_dir = os.getcwd()\n",
    "\n",
    "# Create the output file path\n",
    "output_path = os.path.join(current_dir, output_file)\n",
    "\n",
    "# Open the output CSV file for writing\n",
    "with open(output_path, 'w', encoding='utf-8', newline='') as file:\n",
    "    writer = csv.writer(file)\n",
    "\n",
    "    # Write the place names to the output CSV file\n",
    "    writer.writerow(['Place_Name'])  # Write header\n",
    "    for place_name in place_names:\n",
    "        writer.writerow([place_name])\n",
    "\n",
    "# Print the output file path\n",
    "print(\"Output CSV file path:\", output_path)"
   ]
  },
  {
   "cell_type": "code",
   "execution_count": null,
   "id": "a8327c4a",
   "metadata": {},
   "outputs": [],
   "source": []
  }
 ],
 "metadata": {
  "kernelspec": {
   "display_name": "Python 3 (ipykernel)",
   "language": "python",
   "name": "python3"
  },
  "language_info": {
   "codemirror_mode": {
    "name": "ipython",
    "version": 3
   },
   "file_extension": ".py",
   "mimetype": "text/x-python",
   "name": "python",
   "nbconvert_exporter": "python",
   "pygments_lexer": "ipython3",
   "version": "3.11.3"
  }
 },
 "nbformat": 4,
 "nbformat_minor": 5
}
