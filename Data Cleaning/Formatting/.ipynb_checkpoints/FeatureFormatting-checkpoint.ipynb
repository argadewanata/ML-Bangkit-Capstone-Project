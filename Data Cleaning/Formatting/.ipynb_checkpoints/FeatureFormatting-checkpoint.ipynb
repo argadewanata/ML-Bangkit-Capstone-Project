{
 "cells": [
  {
   "cell_type": "code",
   "execution_count": 1,
   "metadata": {
    "id": "NURZIxq2Vygf"
   },
   "outputs": [],
   "source": [
    "import pandas as pd"
   ]
  },
  {
   "cell_type": "code",
   "execution_count": 4,
   "metadata": {
    "id": "2GTuvQAQZRBG"
   },
   "outputs": [],
   "source": [
    "PLACES_CSV_PATH = \"../../Database/CSV/Places.csv\"\n",
    "FEATURE_CSV_PATH = \"../../GetData/scrapping review/feature/Anggrek Executive Lounge Stasiun Tugu Yogyakarta.csv\""
   ]
  },
  {
   "cell_type": "code",
   "execution_count": 5,
   "metadata": {
    "id": "pVeVSBBIZacQ"
   },
   "outputs": [],
   "source": [
    "places_df = pd.read_csv(PLACES_CSV_PATH)\n",
    "feature_df = pd.read_csv(FEATURE_CSV_PATH)"
   ]
  },
  {
   "cell_type": "code",
   "execution_count": 6,
   "metadata": {},
   "outputs": [
    {
     "name": "stdout",
     "output_type": "stream",
     "text": [
      "['Place_ID', 'Name', 'FormattedPhone', 'FormattedAddress', 'Latitude', 'Longitude', 'OverallRating', 'PriceLevel', 'Website', 'UserRatingTotal', 'ServesBeer', 'ServesWine', 'ServesVegetarianFood', 'WheelchairAccessibleEntrance', 'Halal', 'StreetAddress', 'District', 'City', 'Regency', 'Province', 'PostalNumber']\n"
     ]
    }
   ],
   "source": [
    "# List all columns in the DataFrame\n",
    "places_columns = places_df.columns.tolist()\n",
    "\n",
    "# Print the list of columns\n",
    "print(places_columns)"
   ]
  },
  {
   "cell_type": "code",
   "execution_count": 9,
   "metadata": {},
   "outputs": [],
   "source": [
    "# List of columns to keep\n",
    "columns_to_keep = ['Place_ID', 'Name']\n",
    "\n",
    "# Drop columns except for the specified ones\n",
    "places_df = places_df.drop(columns=[col for col in places_df.columns if col not in columns_to_keep])\n",
    "\n",
    "# Rename Name Column\n",
    "places_df = places_df.rename(columns={'Name': 'Place_Name'})"
   ]
  },
  {
   "cell_type": "code",
   "execution_count": 10,
   "metadata": {
    "colab": {
     "base_uri": "https://localhost:8080/",
     "height": 1000
    },
    "id": "_6qTKTxjZweT",
    "outputId": "98bd629b-d61a-487b-db87-67014d6dd221"
   },
   "outputs": [
    {
     "data": {
      "text/html": [
       "<div>\n",
       "<style scoped>\n",
       "    .dataframe tbody tr th:only-of-type {\n",
       "        vertical-align: middle;\n",
       "    }\n",
       "\n",
       "    .dataframe tbody tr th {\n",
       "        vertical-align: top;\n",
       "    }\n",
       "\n",
       "    .dataframe thead th {\n",
       "        text-align: right;\n",
       "    }\n",
       "</style>\n",
       "<table border=\"1\" class=\"dataframe\">\n",
       "  <thead>\n",
       "    <tr style=\"text-align: right;\">\n",
       "      <th></th>\n",
       "      <th>Place_ID</th>\n",
       "      <th>Place_Name</th>\n",
       "    </tr>\n",
       "  </thead>\n",
       "  <tbody>\n",
       "    <tr>\n",
       "      <th>0</th>\n",
       "      <td>ChIJ8b3du_dZei4R5Csj9BqdzsM</td>\n",
       "      <td>LOKO CAFE STASIUN TUGU</td>\n",
       "    </tr>\n",
       "    <tr>\n",
       "      <th>1</th>\n",
       "      <td>ChIJ-1OO3xhZei4RpiUw_jIlPBQ</td>\n",
       "      <td>TUGU LOR</td>\n",
       "    </tr>\n",
       "    <tr>\n",
       "      <th>2</th>\n",
       "      <td>ChIJAbDRQ7pZei4Rm8oXtJg74k8</td>\n",
       "      <td>Ramu Nostalgia - Tugu Yogyakarta</td>\n",
       "    </tr>\n",
       "    <tr>\n",
       "      <th>3</th>\n",
       "      <td>ChIJWW-U4vlZei4RHX6ILzVTvcA</td>\n",
       "      <td>Kedai Kolega Tugu</td>\n",
       "    </tr>\n",
       "    <tr>\n",
       "      <th>4</th>\n",
       "      <td>ChIJq6pHmTBYei4RlTjahkZgUlY</td>\n",
       "      <td>Wedangan</td>\n",
       "    </tr>\n",
       "    <tr>\n",
       "      <th>...</th>\n",
       "      <td>...</td>\n",
       "      <td>...</td>\n",
       "    </tr>\n",
       "    <tr>\n",
       "      <th>546</th>\n",
       "      <td>ChIJ9bR2cARNei4RGT_bEf77qyk</td>\n",
       "      <td>Shafea home</td>\n",
       "    </tr>\n",
       "    <tr>\n",
       "      <th>547</th>\n",
       "      <td>ChIJNyTTyIK1ey4RvIRJaw8eSFk</td>\n",
       "      <td>KEDAI KAPTEN MUDA</td>\n",
       "    </tr>\n",
       "    <tr>\n",
       "      <th>548</th>\n",
       "      <td>ChIJbUgs4BZLei4RM6q6BWRgIQQ</td>\n",
       "      <td>KOPIYUK</td>\n",
       "    </tr>\n",
       "    <tr>\n",
       "      <th>549</th>\n",
       "      <td>ChIJ29d7H1VLei4REVfbBPkULPA</td>\n",
       "      <td>Karaoke Edy</td>\n",
       "    </tr>\n",
       "    <tr>\n",
       "      <th>550</th>\n",
       "      <td>ChIJn69MZXm1ey4RdBcckJestyQ</td>\n",
       "      <td>Rall's &amp; Dwy</td>\n",
       "    </tr>\n",
       "  </tbody>\n",
       "</table>\n",
       "<p>551 rows × 2 columns</p>\n",
       "</div>"
      ],
      "text/plain": [
       "                        Place_ID                        Place_Name\n",
       "0    ChIJ8b3du_dZei4R5Csj9BqdzsM            LOKO CAFE STASIUN TUGU\n",
       "1    ChIJ-1OO3xhZei4RpiUw_jIlPBQ                          TUGU LOR\n",
       "2    ChIJAbDRQ7pZei4Rm8oXtJg74k8  Ramu Nostalgia - Tugu Yogyakarta\n",
       "3    ChIJWW-U4vlZei4RHX6ILzVTvcA                 Kedai Kolega Tugu\n",
       "4    ChIJq6pHmTBYei4RlTjahkZgUlY                          Wedangan\n",
       "..                           ...                               ...\n",
       "546  ChIJ9bR2cARNei4RGT_bEf77qyk                       Shafea home\n",
       "547  ChIJNyTTyIK1ey4RvIRJaw8eSFk                 KEDAI KAPTEN MUDA\n",
       "548  ChIJbUgs4BZLei4RM6q6BWRgIQQ                           KOPIYUK\n",
       "549  ChIJ29d7H1VLei4REVfbBPkULPA                       Karaoke Edy\n",
       "550  ChIJn69MZXm1ey4RdBcckJestyQ                      Rall's & Dwy\n",
       "\n",
       "[551 rows x 2 columns]"
      ]
     },
     "execution_count": 10,
     "metadata": {},
     "output_type": "execute_result"
    }
   ],
   "source": [
    "places_df"
   ]
  },
  {
   "cell_type": "code",
   "execution_count": null,
   "metadata": {
    "id": "EsstrupwaJ4i"
   },
   "outputs": [],
   "source": [
    "all_column = df.columns.tolist()"
   ]
  },
  {
   "cell_type": "code",
   "execution_count": null,
   "metadata": {
    "colab": {
     "base_uri": "https://localhost:8080/"
    },
    "id": "R8dL9_KXaa-v",
    "outputId": "6db0521e-f892-4568-bb19-f5c6b199de03"
   },
   "outputs": [],
   "source": [
    "all_column"
   ]
  },
  {
   "cell_type": "code",
   "execution_count": null,
   "metadata": {
    "id": "NglqsQi5alNt"
   },
   "outputs": [],
   "source": [
    "df = df.drop('Unnamed: 0', axis=1)"
   ]
  },
  {
   "cell_type": "code",
   "execution_count": null,
   "metadata": {
    "id": "XNto5iHna5_G"
   },
   "outputs": [],
   "source": [
    "df = df.drop('status',axis=1)"
   ]
  },
  {
   "cell_type": "code",
   "execution_count": null,
   "metadata": {
    "id": "kbkAb1onbAmD"
   },
   "outputs": [],
   "source": [
    "viewport_columns = ['geometry_viewport_northeast_lat','geometry_viewport_northeast_lng','geometry_viewport_southwest_lat','geometry_viewport_southwest_lng']\n",
    "df = df.drop(viewport_columns,axis=1)"
   ]
  },
  {
   "cell_type": "code",
   "execution_count": null,
   "metadata": {
    "id": "gTYxPCjAbtpi"
   },
   "outputs": [],
   "source": [
    "df = df.drop('plus_code_global_code',axis=1)"
   ]
  },
  {
   "cell_type": "code",
   "execution_count": null,
   "metadata": {
    "id": "UjMRuGYmXyiq"
   },
   "outputs": [],
   "source": [
    "df = df.drop('opening_hours_weekday_text',axis=1)"
   ]
  },
  {
   "cell_type": "code",
   "execution_count": null,
   "metadata": {
    "id": "3cZW67VoXLm9"
   },
   "outputs": [],
   "source": [
    "new_column_names = {\n",
    "    'place_id': 'Places_ID',\n",
    "    'name': 'Name',\n",
    "    'formatted_address': 'FormattedAddress',\n",
    "    'formatted_phone_number': 'FormattedPhone',\n",
    "    'geometry_location_lat': 'Latitude',\n",
    "    'geometry_location_lng': 'Longitude',\n",
    "    'serves_beer': 'ServesBeer',\n",
    "    'serves_wine': 'ServesWine',\n",
    "    'user_ratings_total': 'UserRatingTotal',\n",
    "    'website': 'Website',\n",
    "    'price_level': 'PriceLevel',\n",
    "    'wheelchair_accessible_entrance': 'WheelchairAccessibleEntrance',\n",
    "    'street_address': 'StreetAddress',\n",
    "    'district': 'District',\n",
    "    'city': 'City',\n",
    "    'regency': 'Regency',\n",
    "    'province': 'Province',\n",
    "    'postal_number': 'PostalNumber',\n",
    "    'photo_link': 'PhotoLink'\n",
    "}\n",
    "df = df.rename(columns=new_column_names)"
   ]
  },
  {
   "cell_type": "code",
   "execution_count": null,
   "metadata": {
    "colab": {
     "base_uri": "https://localhost:8080/",
     "height": 1000
    },
    "id": "0_lw8pggam8B",
    "outputId": "8ae845ee-659c-4df9-858b-0959a0451af8"
   },
   "outputs": [],
   "source": [
    "df"
   ]
  },
  {
   "cell_type": "code",
   "execution_count": null,
   "metadata": {
    "id": "VPlYGSR1cuvB"
   },
   "outputs": [],
   "source": [
    "df.to_csv('Places.csv', index=False)"
   ]
  }
 ],
 "metadata": {
  "colab": {
   "provenance": []
  },
  "kernelspec": {
   "display_name": "Python 3 (ipykernel)",
   "language": "python",
   "name": "python3"
  },
  "language_info": {
   "codemirror_mode": {
    "name": "ipython",
    "version": 3
   },
   "file_extension": ".py",
   "mimetype": "text/x-python",
   "name": "python",
   "nbconvert_exporter": "python",
   "pygments_lexer": "ipython3",
   "version": "3.9.6"
  }
 },
 "nbformat": 4,
 "nbformat_minor": 1
}
