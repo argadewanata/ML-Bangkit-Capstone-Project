{
 "cells": [
  {
   "cell_type": "code",
   "execution_count": 1,
   "metadata": {
    "id": "A1gAaGOg4a4m"
   },
   "outputs": [],
   "source": [
    "import pandas as pd\n",
    "import json\n",
    "import re"
   ]
  },
  {
   "cell_type": "code",
   "execution_count": 2,
   "metadata": {},
   "outputs": [],
   "source": [
    "Onecity_v1_all_fields = \"../../GetData/response/1City_v1_all_fields.json\""
   ]
  },
  {
   "cell_type": "markdown",
   "metadata": {
    "id": "D8H9q9ldWUQO"
   },
   "source": [
    "# Selected Fields"
   ]
  },
  {
   "cell_type": "code",
   "execution_count": 3,
   "metadata": {
    "id": "DQbFnHtkn9JP"
   },
   "outputs": [],
   "source": [
    "with open(Onecity_v1_all_fields) as file:\n",
    "    data = json.load(file)"
   ]
  },
  {
   "cell_type": "code",
   "execution_count": 4,
   "metadata": {},
   "outputs": [],
   "source": [
    "# Extract relevant information\n",
    "rows = []\n",
    "for item in data:\n",
    "    result = item[\"result\"]\n",
    "    place_id = result.get(\"place_id\")\n",
    "    name = result.get(\"name\")\n",
    "    formatted_phone_number = result.get(\"formatted_phone_number\")\n",
    "    formatted_address = result.get(\"formatted_address\")\n",
    "    geometry = result.get(\"geometry\")\n",
    "    opening_hours = result.get(\"opening_hours\")\n",
    "    rating = result.get(\"rating\")\n",
    "    reviews = result.get(\"reviews\")\n",
    "    types = result.get(\"types\")\n",
    "    website = result.get(\"website\")\n",
    "    user_ratings_total = result.get(\"user_ratings_total\")\n",
    "    price_level = result.get(\"price_level\")\n",
    "    serves_beer = result.get(\"serves_beer\")\n",
    "    serves_vegetarian_food = result.get(\"serves_vegetarian_food\")\n",
    "    serves_wine = result.get(\"serves_wine\")\n",
    "    wheelchair_accessible_entrance = result.get(\"wheelchair_accessible_entrance\")\n",
    "\n",
    "    rows.append({\n",
    "        \"Place_ID\": place_id,\n",
    "        \"Name\": name,\n",
    "        \"FormattedPhone\": formatted_phone_number,\n",
    "        \"FormattedAddress\": formatted_address,\n",
    "        \"Latitude\":geometry['location']['lat'],\n",
    "        \"Longitude\":geometry['location']['lng'],\n",
    "#         \"OpeningHours\": opening_hours,\n",
    "        \"OverallRating\": rating,\n",
    "        \"PriceLevel\": price_level,\n",
    "#         \"Reviews\": reviews,\n",
    "#         \"Types\": types,\n",
    "        \"Website\": website,\n",
    "        \"UserRatingTotal\": user_ratings_total,\n",
    "        \"ServesBeer\": serves_beer,\n",
    "        \"ServesWine\": serves_wine,\n",
    "        \"ServesVegetarianFood\": serves_vegetarian_food,\n",
    "        \"WheelchairAccessibleEntrance\": wheelchair_accessible_entrance\n",
    "    })"
   ]
  },
  {
   "cell_type": "code",
   "execution_count": 5,
   "metadata": {},
   "outputs": [],
   "source": [
    "# Create DataFrame\n",
    "df = pd.DataFrame(rows)"
   ]
  },
  {
   "cell_type": "code",
   "execution_count": 6,
   "metadata": {},
   "outputs": [],
   "source": [
    "# Create the 'halal' column\n",
    "df['Halal'] = (df['ServesBeer'] == False) & (df['ServesWine'] == False)"
   ]
  },
  {
   "cell_type": "code",
   "execution_count": 7,
   "metadata": {},
   "outputs": [
    {
     "data": {
      "text/html": [
       "<div>\n",
       "<style scoped>\n",
       "    .dataframe tbody tr th:only-of-type {\n",
       "        vertical-align: middle;\n",
       "    }\n",
       "\n",
       "    .dataframe tbody tr th {\n",
       "        vertical-align: top;\n",
       "    }\n",
       "\n",
       "    .dataframe thead th {\n",
       "        text-align: right;\n",
       "    }\n",
       "</style>\n",
       "<table border=\"1\" class=\"dataframe\">\n",
       "  <thead>\n",
       "    <tr style=\"text-align: right;\">\n",
       "      <th></th>\n",
       "      <th>Place_ID</th>\n",
       "      <th>Name</th>\n",
       "      <th>FormattedPhone</th>\n",
       "      <th>FormattedAddress</th>\n",
       "      <th>Latitude</th>\n",
       "      <th>Longitude</th>\n",
       "      <th>OverallRating</th>\n",
       "      <th>PriceLevel</th>\n",
       "      <th>Website</th>\n",
       "      <th>UserRatingTotal</th>\n",
       "      <th>ServesBeer</th>\n",
       "      <th>ServesWine</th>\n",
       "      <th>ServesVegetarianFood</th>\n",
       "      <th>WheelchairAccessibleEntrance</th>\n",
       "      <th>Halal</th>\n",
       "    </tr>\n",
       "  </thead>\n",
       "  <tbody>\n",
       "    <tr>\n",
       "      <th>0</th>\n",
       "      <td>ChIJ8b3du_dZei4R5Csj9BqdzsM</td>\n",
       "      <td>LOKO CAFE STASIUN TUGU</td>\n",
       "      <td>0812-2009-6492</td>\n",
       "      <td>Sosromenduran, Gedong Tengen, Kota Yogyakarta,...</td>\n",
       "      <td>-7.789311</td>\n",
       "      <td>110.363483</td>\n",
       "      <td>4.1</td>\n",
       "      <td>NaN</td>\n",
       "      <td>https://instagram.com/lokocafe?igshid=OTJlNzQ0...</td>\n",
       "      <td>12.0</td>\n",
       "      <td>None</td>\n",
       "      <td>None</td>\n",
       "      <td>None</td>\n",
       "      <td>None</td>\n",
       "      <td>False</td>\n",
       "    </tr>\n",
       "    <tr>\n",
       "      <th>1</th>\n",
       "      <td>ChIJ-1OO3xhZei4RpiUw_jIlPBQ</td>\n",
       "      <td>TUGU LOR</td>\n",
       "      <td>(0274) 515268</td>\n",
       "      <td>Cokrodiningratan, Kec. Jetis, Kota Yogyakarta,...</td>\n",
       "      <td>-7.774089</td>\n",
       "      <td>110.368301</td>\n",
       "      <td>4.5</td>\n",
       "      <td>2.0</td>\n",
       "      <td>None</td>\n",
       "      <td>1644.0</td>\n",
       "      <td>False</td>\n",
       "      <td>False</td>\n",
       "      <td>None</td>\n",
       "      <td>False</td>\n",
       "      <td>True</td>\n",
       "    </tr>\n",
       "    <tr>\n",
       "      <th>2</th>\n",
       "      <td>ChIJAbDRQ7pZei4Rm8oXtJg74k8</td>\n",
       "      <td>Ramu Nostalgia - Tugu Yogyakarta</td>\n",
       "      <td>0851-5692-3734</td>\n",
       "      <td>Jl. A.M. Sangaji No.2, Cokrodiningratan, Kec. ...</td>\n",
       "      <td>-7.782492</td>\n",
       "      <td>110.367303</td>\n",
       "      <td>5.0</td>\n",
       "      <td>NaN</td>\n",
       "      <td>http://www.ramunostalgia.com/</td>\n",
       "      <td>17.0</td>\n",
       "      <td>False</td>\n",
       "      <td>False</td>\n",
       "      <td>None</td>\n",
       "      <td>None</td>\n",
       "      <td>True</td>\n",
       "    </tr>\n",
       "    <tr>\n",
       "      <th>3</th>\n",
       "      <td>ChIJWW-U4vlZei4RHX6ILzVTvcA</td>\n",
       "      <td>Kedai Kolega Tugu</td>\n",
       "      <td>0821-3750-7055</td>\n",
       "      <td>Jl. P. Mangkubumi No.21, Gowongan, Kec. Jetis,...</td>\n",
       "      <td>-7.787412</td>\n",
       "      <td>110.366382</td>\n",
       "      <td>4.6</td>\n",
       "      <td>NaN</td>\n",
       "      <td>None</td>\n",
       "      <td>59.0</td>\n",
       "      <td>False</td>\n",
       "      <td>False</td>\n",
       "      <td>None</td>\n",
       "      <td>None</td>\n",
       "      <td>True</td>\n",
       "    </tr>\n",
       "    <tr>\n",
       "      <th>4</th>\n",
       "      <td>ChIJq6pHmTBYei4RlTjahkZgUlY</td>\n",
       "      <td>Wedangan</td>\n",
       "      <td>None</td>\n",
       "      <td>Jl. A.M. Sangaji No.9, Cokrodiningratan, Kec. ...</td>\n",
       "      <td>-7.782092</td>\n",
       "      <td>110.367058</td>\n",
       "      <td>5.0</td>\n",
       "      <td>NaN</td>\n",
       "      <td>None</td>\n",
       "      <td>10.0</td>\n",
       "      <td>False</td>\n",
       "      <td>False</td>\n",
       "      <td>None</td>\n",
       "      <td>None</td>\n",
       "      <td>True</td>\n",
       "    </tr>\n",
       "    <tr>\n",
       "      <th>5</th>\n",
       "      <td>ChIJA-zy0qBZei4RyH8n10ESStY</td>\n",
       "      <td>SENJA croissant sandwich (Tugu Jogja)</td>\n",
       "      <td>0818-280-505</td>\n",
       "      <td>lantai 2, Jl. Jend. Sudirman No.6, Gowongan, K...</td>\n",
       "      <td>-7.783076</td>\n",
       "      <td>110.367481</td>\n",
       "      <td>5.0</td>\n",
       "      <td>NaN</td>\n",
       "      <td>http://www.senja.coffee/</td>\n",
       "      <td>6.0</td>\n",
       "      <td>False</td>\n",
       "      <td>False</td>\n",
       "      <td>True</td>\n",
       "      <td>None</td>\n",
       "      <td>True</td>\n",
       "    </tr>\n",
       "    <tr>\n",
       "      <th>6</th>\n",
       "      <td>ChIJc_LsfTBYei4R2ZbyfvHGvYw</td>\n",
       "      <td>Angkringan Kopi Joss Tugu Mbak lina</td>\n",
       "      <td>None</td>\n",
       "      <td>Jl. P. Mangkubumi No.62, Gowongan, Kec. Jetis,...</td>\n",
       "      <td>-7.783263</td>\n",
       "      <td>110.367152</td>\n",
       "      <td>4.3</td>\n",
       "      <td>1.0</td>\n",
       "      <td>None</td>\n",
       "      <td>190.0</td>\n",
       "      <td>False</td>\n",
       "      <td>False</td>\n",
       "      <td>None</td>\n",
       "      <td>False</td>\n",
       "      <td>True</td>\n",
       "    </tr>\n",
       "    <tr>\n",
       "      <th>7</th>\n",
       "      <td>ChIJ4x0W_y9Yei4RwOOXaCgV1AA</td>\n",
       "      <td>Kopi Tugu</td>\n",
       "      <td>0882-0881-07360</td>\n",
       "      <td>Jl. P. Mangkubumi No.38, Gowongan, Kec. Jetis,...</td>\n",
       "      <td>-7.785902</td>\n",
       "      <td>110.366869</td>\n",
       "      <td>4.4</td>\n",
       "      <td>2.0</td>\n",
       "      <td>https://www.facebook.com/thekopitugu/</td>\n",
       "      <td>181.0</td>\n",
       "      <td>False</td>\n",
       "      <td>False</td>\n",
       "      <td>None</td>\n",
       "      <td>None</td>\n",
       "      <td>True</td>\n",
       "    </tr>\n",
       "    <tr>\n",
       "      <th>8</th>\n",
       "      <td>ChIJNYG2v7BZei4R8Z6vW-rHloU</td>\n",
       "      <td>Angkringan wulan ndari stasiun tugu</td>\n",
       "      <td>0858-0119-4008</td>\n",
       "      <td>6967+3QR, Jl. Ps. Kembang, Sosromenduran, Gedo...</td>\n",
       "      <td>-7.789752</td>\n",
       "      <td>110.364383</td>\n",
       "      <td>4.7</td>\n",
       "      <td>NaN</td>\n",
       "      <td>None</td>\n",
       "      <td>7.0</td>\n",
       "      <td>False</td>\n",
       "      <td>False</td>\n",
       "      <td>None</td>\n",
       "      <td>None</td>\n",
       "      <td>True</td>\n",
       "    </tr>\n",
       "    <tr>\n",
       "      <th>9</th>\n",
       "      <td>ChIJbb1fhSVYei4Rb7iTdfesaPI</td>\n",
       "      <td>Kopi Joss 'Lek No'</td>\n",
       "      <td>None</td>\n",
       "      <td>Jl. Ps. Kembang, Sosromenduran, Gedong Tengen,...</td>\n",
       "      <td>-7.789813</td>\n",
       "      <td>110.365083</td>\n",
       "      <td>4.6</td>\n",
       "      <td>1.0</td>\n",
       "      <td>None</td>\n",
       "      <td>388.0</td>\n",
       "      <td>False</td>\n",
       "      <td>False</td>\n",
       "      <td>None</td>\n",
       "      <td>False</td>\n",
       "      <td>True</td>\n",
       "    </tr>\n",
       "  </tbody>\n",
       "</table>\n",
       "</div>"
      ],
      "text/plain": [
       "                      Place_ID                                   Name  \\\n",
       "0  ChIJ8b3du_dZei4R5Csj9BqdzsM                 LOKO CAFE STASIUN TUGU   \n",
       "1  ChIJ-1OO3xhZei4RpiUw_jIlPBQ                               TUGU LOR   \n",
       "2  ChIJAbDRQ7pZei4Rm8oXtJg74k8       Ramu Nostalgia - Tugu Yogyakarta   \n",
       "3  ChIJWW-U4vlZei4RHX6ILzVTvcA                      Kedai Kolega Tugu   \n",
       "4  ChIJq6pHmTBYei4RlTjahkZgUlY                               Wedangan   \n",
       "5  ChIJA-zy0qBZei4RyH8n10ESStY  SENJA croissant sandwich (Tugu Jogja)   \n",
       "6  ChIJc_LsfTBYei4R2ZbyfvHGvYw    Angkringan Kopi Joss Tugu Mbak lina   \n",
       "7  ChIJ4x0W_y9Yei4RwOOXaCgV1AA                              Kopi Tugu   \n",
       "8  ChIJNYG2v7BZei4R8Z6vW-rHloU    Angkringan wulan ndari stasiun tugu   \n",
       "9  ChIJbb1fhSVYei4Rb7iTdfesaPI                     Kopi Joss 'Lek No'   \n",
       "\n",
       "    FormattedPhone                                   FormattedAddress  \\\n",
       "0   0812-2009-6492  Sosromenduran, Gedong Tengen, Kota Yogyakarta,...   \n",
       "1    (0274) 515268  Cokrodiningratan, Kec. Jetis, Kota Yogyakarta,...   \n",
       "2   0851-5692-3734  Jl. A.M. Sangaji No.2, Cokrodiningratan, Kec. ...   \n",
       "3   0821-3750-7055  Jl. P. Mangkubumi No.21, Gowongan, Kec. Jetis,...   \n",
       "4             None  Jl. A.M. Sangaji No.9, Cokrodiningratan, Kec. ...   \n",
       "5     0818-280-505  lantai 2, Jl. Jend. Sudirman No.6, Gowongan, K...   \n",
       "6             None  Jl. P. Mangkubumi No.62, Gowongan, Kec. Jetis,...   \n",
       "7  0882-0881-07360  Jl. P. Mangkubumi No.38, Gowongan, Kec. Jetis,...   \n",
       "8   0858-0119-4008  6967+3QR, Jl. Ps. Kembang, Sosromenduran, Gedo...   \n",
       "9             None  Jl. Ps. Kembang, Sosromenduran, Gedong Tengen,...   \n",
       "\n",
       "   Latitude   Longitude  OverallRating  PriceLevel  \\\n",
       "0 -7.789311  110.363483            4.1         NaN   \n",
       "1 -7.774089  110.368301            4.5         2.0   \n",
       "2 -7.782492  110.367303            5.0         NaN   \n",
       "3 -7.787412  110.366382            4.6         NaN   \n",
       "4 -7.782092  110.367058            5.0         NaN   \n",
       "5 -7.783076  110.367481            5.0         NaN   \n",
       "6 -7.783263  110.367152            4.3         1.0   \n",
       "7 -7.785902  110.366869            4.4         2.0   \n",
       "8 -7.789752  110.364383            4.7         NaN   \n",
       "9 -7.789813  110.365083            4.6         1.0   \n",
       "\n",
       "                                             Website  UserRatingTotal  \\\n",
       "0  https://instagram.com/lokocafe?igshid=OTJlNzQ0...             12.0   \n",
       "1                                               None           1644.0   \n",
       "2                      http://www.ramunostalgia.com/             17.0   \n",
       "3                                               None             59.0   \n",
       "4                                               None             10.0   \n",
       "5                           http://www.senja.coffee/              6.0   \n",
       "6                                               None            190.0   \n",
       "7              https://www.facebook.com/thekopitugu/            181.0   \n",
       "8                                               None              7.0   \n",
       "9                                               None            388.0   \n",
       "\n",
       "  ServesBeer ServesWine ServesVegetarianFood WheelchairAccessibleEntrance  \\\n",
       "0       None       None                 None                         None   \n",
       "1      False      False                 None                        False   \n",
       "2      False      False                 None                         None   \n",
       "3      False      False                 None                         None   \n",
       "4      False      False                 None                         None   \n",
       "5      False      False                 True                         None   \n",
       "6      False      False                 None                        False   \n",
       "7      False      False                 None                         None   \n",
       "8      False      False                 None                         None   \n",
       "9      False      False                 None                        False   \n",
       "\n",
       "   Halal  \n",
       "0  False  \n",
       "1   True  \n",
       "2   True  \n",
       "3   True  \n",
       "4   True  \n",
       "5   True  \n",
       "6   True  \n",
       "7   True  \n",
       "8   True  \n",
       "9   True  "
      ]
     },
     "execution_count": 7,
     "metadata": {},
     "output_type": "execute_result"
    }
   ],
   "source": [
    "df.head(10)"
   ]
  },
  {
   "cell_type": "code",
   "execution_count": 8,
   "metadata": {
    "colab": {
     "base_uri": "https://localhost:8080/"
    },
    "id": "wAKQ1AaqKLwo",
    "outputId": "1c125b5a-a9aa-47fc-8b78-9620aedc78de"
   },
   "outputs": [
    {
     "data": {
      "text/plain": [
       "Index(['Place_ID', 'Name', 'FormattedPhone', 'FormattedAddress', 'Latitude',\n",
       "       'Longitude', 'OverallRating', 'PriceLevel', 'Website',\n",
       "       'UserRatingTotal', 'ServesBeer', 'ServesWine', 'ServesVegetarianFood',\n",
       "       'WheelchairAccessibleEntrance', 'Halal'],\n",
       "      dtype='object')"
      ]
     },
     "execution_count": 8,
     "metadata": {},
     "output_type": "execute_result"
    }
   ],
   "source": [
    "df.columns"
   ]
  },
  {
   "cell_type": "markdown",
   "metadata": {
    "id": "Bb4OSsJN9mfP"
   },
   "source": [
    "## Seperate The Address into Different Columns"
   ]
  },
  {
   "cell_type": "code",
   "execution_count": 9,
   "metadata": {
    "colab": {
     "base_uri": "https://localhost:8080/"
    },
    "id": "sc_VeVZN9mFg",
    "outputId": "be3bc7f6-5f83-42c3-dc2e-233a96c7e087"
   },
   "outputs": [
    {
     "data": {
      "text/plain": [
       "['Sosromenduran, Gedong Tengen, Kota Yogyakarta, Daerah Istimewa Yogyakarta',\n",
       " 'Cokrodiningratan, Kec. Jetis, Kota Yogyakarta, Daerah Istimewa Yogyakarta 55233',\n",
       " 'Jl. A.M. Sangaji No.2, Cokrodiningratan, Kec. Jetis, Kota Yogyakarta, Daerah Istimewa Yogyakarta 55233',\n",
       " 'Jl. P. Mangkubumi No.21, Gowongan, Kec. Jetis, Kota Yogyakarta, Daerah Istimewa Yogyakarta 55232',\n",
       " 'Jl. A.M. Sangaji No.9, Cokrodiningratan, Kec. Jetis, Kota Yogyakarta, Daerah Istimewa Yogyakarta 55233',\n",
       " 'lantai 2, Jl. Jend. Sudirman No.6, Gowongan, Kec. Jetis, Kota Yogyakarta, Daerah Istimewa Yogyakarta 55233',\n",
       " 'Jl. P. Mangkubumi No.62, Gowongan, Kec. Jetis, Kota Yogyakarta, Daerah Istimewa Yogyakarta 55233',\n",
       " 'Jl. P. Mangkubumi No.38, Gowongan, Kec. Jetis, Kota Yogyakarta, Daerah Istimewa Yogyakarta 55233',\n",
       " '6967+3QR, Jl. Ps. Kembang, Sosromenduran, Gedong Tengen, Kota Yogyakarta, Daerah Istimewa Yogyakarta 55271',\n",
       " 'Jl. Ps. Kembang, Sosromenduran, Gedong Tengen, Kota Yogyakarta, Daerah Istimewa Yogyakarta 55271',\n",
       " 'Komp. Ps. Kembang, Jl. Ps. Kembang, Sosromenduran, Gedong Tengen, Kota Yogyakarta, Daerah Istimewa Yogyakarta 55271',\n",
       " '6978+QP8, Jl. P. Mangkubumi, Gowongan, Kec. Jetis, Kota Yogyakarta, Daerah Istimewa Yogyakarta 55233',\n",
       " 'Jl. P. Mangkubumi No.73, Gowongan, Kec. Jetis, Kota Yogyakarta, Daerah Istimewa Yogyakarta 55233',\n",
       " 'Jl. Pangeran Diponegoro No.17, RW.001, Gowongan, Kec. Jetis, Kota Yogyakarta, Daerah Istimewa Yogyakarta 55233',\n",
       " 'Jl.Margoutomo, Kembang, Ngestiharjo, Kec. Kasihan, Kota Yogyakarta, Daerah Istimewa Yogyakarta 55232',\n",
       " 'Jl. Pangeran Diponegoro No.2, Gowongan, Kec. Jetis, Kota Yogyakarta, Daerah Istimewa Yogyakarta 55233',\n",
       " 'Jl. Margo Utomo No.79, Gowongan, Kec. Jetis, Kota Yogyakarta, Daerah Istimewa Yogyakarta 55233',\n",
       " 'Jl. Pangeran Diponegoro No.17, Gowongan, Kec. Jetis, Kota Yogyakarta, Daerah Istimewa Yogyakarta 55233',\n",
       " 'Jl. A.M. Sangaji No.2, Cokrodiningratan, Kec. Jetis, Kota Yogyakarta, Daerah Istimewa Yogyakarta 55233',\n",
       " 'Jl. Pangeran Diponegoro No.1, Gowongan, Kec. Jetis, Kota Jakarta Timur, Daerah Istimewa Yogyakarta 55233',\n",
       " 'Jl. Panembahan Mangkurat No.20, Panembahan, Kecamatan Kraton, Kota Yogyakarta, Daerah Istimewa Yogyakarta 55131',\n",
       " 'Jl. Rotowijayan No.12, Kadipaten, Kecamatan Kraton, Kota Yogyakarta, Daerah Istimewa Yogyakarta 55132',\n",
       " 'Jl. Panembahan Mangkurat No.10, Panembahan, Kecamatan Kraton, Kota Yogyakarta, Daerah Istimewa Yogyakarta 55131',\n",
       " 'Alun alun utara, Kecamatan Kraton, Kota Yogyakarta, Daerah Istimewa Yogyakarta 55131',\n",
       " 'Jl. Alun-Alun Utara, Panembahan, Kecamatan Kraton, Kota Yogyakarta, Daerah Istimewa Yogyakarta 55131',\n",
       " 'KT 1 329 Kraton, Jl. Taman, Patehan, Kecamatan Kraton, Kota Yogyakarta, Daerah Istimewa Yogyakarta 55133',\n",
       " 'Jl. Panembahan, Panembahan, Kecamatan Kraton, Kota Yogyakarta, Daerah Istimewa Yogyakarta 55131',\n",
       " 'Jl. Patehan Lor No.8, Patehan, Kecamatan Kraton, Kota Yogyakarta, Daerah Istimewa Yogyakarta 55133',\n",
       " 'Komplek Wisata Tamansari Jalan Tamanan, Patehan, Kecamatan Kraton, Kota Yogyakarta, Daerah Istimewa Yogyakarta 55133',\n",
       " 'Jl. Pangurakan No.04, Ngupasan, Kec. Gondomanan, Kota Yogyakarta, Daerah Istimewa Yogyakarta 55122',\n",
       " 'Jl. Langenarjan Kidul No.15, Panembahan, Kecamatan Kraton, Kota Yogyakarta, Daerah Istimewa Yogyakarta 55131',\n",
       " 'Jl. Polowijan, Patehan, Kecamatan Kraton, Kota Yogyakarta, Daerah Istimewa Yogyakarta 55133',\n",
       " 'Jl. Wijilan No.8, Panembahan, Kecamatan Kraton, Kota Yogyakarta, Daerah Istimewa Yogyakarta 55131',\n",
       " '59W8+46P, Jl. Alun-Alun Utara, Prawirodirjan, Kec. Gondomanan, Kota Yogyakarta, Daerah Istimewa Yogyakarta 55131',\n",
       " '59V8+V58, Jl. Alun-Alun Utara, Panembahan, Kecamatan Kraton, Kota Yogyakarta, Daerah Istimewa Yogyakarta 55131',\n",
       " 'Jl. Taman Sari No.1/310, Patehan, Kecamatan Kraton, Kota Yogyakarta, Daerah Istimewa Yogyakarta 55133',\n",
       " 'Jl. Ngadisuryan No.14, Patehan, Kecamatan Kraton, Kota Yogyakarta, Daerah Istimewa Yogyakarta 55133',\n",
       " 'Jl. Kemitbumen No.23, Panembahan, Kecamatan Kraton, Kota Yogyakarta, Daerah Istimewa Yogyakarta 55131',\n",
       " 'Kios No. 1, Parkiran Bis Wisata Senopati, Jl. Panembahan Senopati No.16, Prawirodirjan, Kec. Gondomanan, Kota Yogyakarta, Daerah Istimewa Yogyakarta 55131',\n",
       " '59W8+C77, Jl. Alun-Alun Utara, Panembahan, Kecamatan Kraton, Kota Yogyakarta, Daerah Istimewa Yogyakarta 55131',\n",
       " 'Bandara NYIA, Unnamed Road Sidorejo, Area Kebun, Glagah, Kec. Temon, Kabupaten Kulon Progo, Daerah Istimewa Yogyakarta 55654',\n",
       " '4336+94X New Yogyakarta International Airport (NYIA, Ngringit, Palihan, Kec. Temon, Kabupaten Kulon Progo, Daerah Istimewa Yogyakarta 55654',\n",
       " 'Gedung Terminal Sementara Bandar Udara Internasional Yogyakarta, 33X5+VRG, Area Kebun, Glagah, Kec. Temon, Kabupaten Kulon Progo, Daerah Istimewa Yogyakarta 55654',\n",
       " 'Bandar Udara Internasional Yogyakarta, Jl. Wates - Purworejo No.Km, RW.42, Area Kebun, Glagah, Kec. Temon, Kabupaten Kulon Progo, Daerah Istimewa Yogyakarta 55654',\n",
       " 'YIA) Yogyakarta International Airport, 4326+X2M, Kepek, Temon Wetan, Temon, Kulon Progo Regency, Special Region of Yogyakarta 55654',\n",
       " '4335+2XC International Airport, Kepek, Palihan, Kec. Temon, Kabupaten Kulon Progo, Daerah Istimewa Yogyakarta 55654',\n",
       " 'Yogyakarta International Airport, Kulon Progo Yogyakarta International Airport, Unnamed Road, 4325+8RQ, Munggangan, Palihan, Temon, Kulon Progo Regency, Special Region of Yogyakarta 55654',\n",
       " 'Sidorejo, Glagah, Kec. Temon, Kabupaten Kulon Progo, Daerah Istimewa Yogyakarta 55654',\n",
       " 'Jl. Wates - Purworejo, Melangsen, Palihan, Kec. Temon, Kabupaten Kulon Progo, Daerah Istimewa Yogyakarta 55654',\n",
       " '4335+2XM Bandara Internasional, Kepek, Palihan, Kec. Temon, Kabupaten Kulon Progo, Daerah Istimewa Yogyakarta 55654',\n",
       " '4328+J8C, Sidorejo, Glagah, Kec. Temon, Kabupaten Kulon Progo, Daerah Istimewa Yogyakarta 55654',\n",
       " 'Yogyakarta International Airport, Kepek, Palihan, Kec. Temon, Kabupaten Kulon Progo, Daerah Istimewa Yogyakarta 55654',\n",
       " '43CG+33V, Kadilangu Lor, Temon Kulon, Kec. Temon, Kabupaten Kulon Progo, Daerah Istimewa Yogyakarta 55654',\n",
       " 'Dukuh, Janten, Kec. Temon, Kabupaten Kulon Progo, Daerah Istimewa Yogyakarta 55654',\n",
       " '432Q+727, Jalan Pantai, Area Kebun, Glagah, Kec. Temon, Kabupaten Kulon Progo, Daerah Istimewa Yogyakarta 55654',\n",
       " '437H+7J8, Kaliwangan, Temon Wetan, Kec. Temon, Kabupaten Kulon Progo, Daerah Istimewa Yogyakarta 55654',\n",
       " 'Yogyakarta International Airport, Kulon Progo Yogyakarta International Airport, Unnamed Road, 4325+5JV, Munggangan, Palihan, Temon, Kulon Progo Regency, Special Region of Yogyakarta 55654',\n",
       " 'Jl. KRT. Brotodiningrat, Granti Wetan, Ngestiharjo, Kec. Wates, Kabupaten Kulon Progo, Daerah Istimewa Yogyakarta 55651',\n",
       " 'Unnamed Road, Kepek, Pengasih, Kec. Pengasih, Kabupaten Kulon Progo, Daerah Istimewa Yogyakarta 55652',\n",
       " 'Obyek Wisata Payung, Soropati, Hargotirto, Kec. Pengasih, Kabupaten Kulon Progo, Daerah Istimewa Yogyakarta 55653',\n",
       " 'Jl. Mancasan Indah III No.14, Ngringin, Condongcatur, Kec. Depok, Kabupaten Sleman, Daerah Istimewa Yogyakarta 55281',\n",
       " 'Jl. Nusa Indah, Ngringin, Condongcatur, Kec. Depok, Kabupaten Sleman, Daerah Istimewa Yogyakarta 55281',\n",
       " 'Jl. Ringin Raya, Ngringin, Condongcatur, Kec. Depok, Kabupaten Sleman, Daerah Istimewa Yogyakarta 55283',\n",
       " '6CR4+3X5, Jl. Nusa Indah, Ngringin, Condongcatur, Kec. Depok, Kabupaten Sleman, Daerah Istimewa Yogyakarta 55281',\n",
       " 'Jl. Ringin Raya No.4, Ngringin, Condongcatur, Kec. Depok, Kabupaten Sleman, Daerah Istimewa Yogyakarta 55281',\n",
       " 'Jl. Nusa Indah Dero, Condongcatur Kec. Depok, Kabupaten Sleman, Daerah Istimewa Yogyakarta 55281 IG:, Dero, Condongcatur, Depok, Sleman Regency, Special Region of Yogyakarta 55281',\n",
       " 'Jl. Prawiro Kuat No.172 C, Ngringin, Condongcatur, Kec. Depok, Kabupaten Sleman, Daerah Istimewa Yogyakarta 55281',\n",
       " 'Jl. Nusa Indah No.30, Ngringin, Condongcatur, Kec. Depok, Kabupaten Sleman, Daerah Istimewa Yogyakarta 55283',\n",
       " 'Jl. Anggrek No.212, Perumnas Condong Catur, Condongcatur, Kec. Depok, Kabupaten Sleman, Daerah Istimewa Yogyakarta 55281',\n",
       " 'Jl. Kamboja I No.97, Perumnas Condong Catur, Condongcatur, Kec. Depok, Kabupaten Sleman, Daerah Istimewa Yogyakarta 55281',\n",
       " '6CX5+2M4, Jl. Wijaya Kusuma, Dero, Condongcatur, Kec. Depok, Kabupaten Sleman, Daerah Istimewa Yogyakarta 55281',\n",
       " 'Jl. Waringinsari II, Ngropoh, Condongcatur, Kec. Depok, Kabupaten Sleman, Daerah Istimewa Yogyakarta 55281',\n",
       " 'Jl. Ringin Raya No.11, Ngringin, Condongcatur, Kec. Depok, Kabupaten Sleman, Daerah Istimewa Yogyakarta 55283',\n",
       " 'Gg. Pucung Baru II, Ngropoh, Caturtunggal, Kec. Depok, Yogyakarta, Daerah Istimewa Yogyakarta 55281',\n",
       " 'Jl. Wahid Hasyim No.50, Ngropoh, Condongcatur, Kec. Depok, Kabupaten Sleman, Daerah Istimewa Yogyakarta 55283',\n",
       " 'Jl. Ring Road Utara No.3f, Mancasan, Condongcatur, Kec. Depok, Kabupaten Sleman, Daerah Istimewa Yogyakarta 55283',\n",
       " '6CR5+MWC, Jl. Ringin Raya, Ngringin, Condongcatur, Kec. Depok, Kabupaten Sleman, Daerah Istimewa Yogyakarta 55281',\n",
       " 'Gg. Garboruci No.372, Kledokan, Caturtunggal, Kec. Depok, Kabupaten Sleman, Daerah Istimewa Yogyakarta 55281',\n",
       " 'Jl. Ringin Raya No.26, Ngringin, Condongcatur, Kec. Depok, Kabupaten Sleman, Daerah Istimewa Yogyakarta 55281',\n",
       " 'Jenengan, Maguwoharjo, Kec. Depok, Kabupaten Sleman, Daerah Istimewa Yogyakarta 55281',\n",
       " 'Jl. Bhinneka Tunggal Ika, Sagan, Caturtunggal, Kec. Depok, Kabupaten Sleman, Daerah Istimewa Yogyakarta 55281',\n",
       " '69JH+7QG Fisipol UGM, Jl. Sosio Yustisia, Karang Malang, Caturtunggal, Kec. Depok, Kabupaten Sleman, Daerah Istimewa Yogyakarta 55281',\n",
       " 'Pertamina Tower, Fakultas Ekonomika dan Bisnis, Humaniora, Bulaksumur,, 69HH+HQ8, Jl. Sosio Yustisia, Karang Malang, Caturtunggal, Kec. Depok, Kabupaten Sleman, Daerah Istimewa Yogyakarta 55281',\n",
       " 'Jl. Lembah UGM, Karang Gayam, Caturtunggal, Kec. Depok, Kabupaten Sleman, Daerah Istimewa Yogyakarta 55281',\n",
       " 'Pojok Timur-Selatan, Fakultas Kehutanan UGM, Jl. Agro No.1, Kocoran, Caturtunggal, Kec. Depok, Kabupaten Sleman, Daerah Istimewa Yogyakarta 55281',\n",
       " 'Jl. Lembah UGM, Karang Malang, Caturtunggal, Kec. Depok, Kabupaten Sleman, Daerah Istimewa Yogyakarta 55281',\n",
       " 'Jl. Cik Di Tiro No.19, Terban, Kec. Gondokusuman, Kota Yogyakarta, Daerah Istimewa Yogyakarta 55223',\n",
       " 'Jl. Agro No.210, Kocoran, Caturtunggal, Kec. Depok, Kabupaten Sleman, Daerah Istimewa Yogyakarta 55281',\n",
       " 'Jl. Sagan GK. V No.788, Terban, Kec. Gondokusuman, Kota Yogyakarta, Daerah Istimewa Yogyakarta 55223',\n",
       " '69HG+WP2, Bulaksumur, Sendowo, Sinduadi, Kec. Mlati, Kabupaten Sleman, Daerah Istimewa Yogyakarta 55281',\n",
       " 'Jalan Sagan Timur GK 5 1053B, Terban, Kec. Gondokusuman, Kota Yogyakarta, Daerah Istimewa Yogyakarta 55223',\n",
       " '69JP+VWV, Karang Gayam, Caturtunggal, Kec. Depok, Kabupaten Sleman, Daerah Istimewa Yogyakarta 55281',\n",
       " '69MH+JR6, Kocoran CT.III, RT.5/RW.3, Kocoran, Caturtunggal, Kec. Depok, Kabupaten Sleman, Daerah Istimewa Yogyakarta',\n",
       " 'Gg. Gayamsari I No.14 F, Kocoran, Caturtunggal, Kec. Depok, Kabupaten Sleman, Daerah Istimewa Yogyakarta 55281',\n",
       " '4, Jl. Kaliurang No.36 km, RW.5, Kocoran, Caturtunggal, Kec. Depok, Kabupaten Sleman, Daerah Istimewa Yogyakarta 55281',\n",
       " 'Jl. Kaliurang Km. 5, Gg. Siti Sonya No.88, Kocoran, Sinduadi, Kec. Mlati, Kabupaten Sleman, Daerah Istimewa Yogyakarta 55281',\n",
       " 'Jl. Pogung Kidul, Pogung Kidul, Sinduadi, Kec. Mlati, Kabupaten Sleman, Daerah Istimewa Yogyakarta 55284',\n",
       " 'Gang Code 3, Karangjati Wetan, No.170 C, Monjali St, RT.06/RW.45, Gemawang, Sinduadi, Mlati, Sleman Regency, Special Region of Yogyakarta 55283',\n",
       " 'Blk. A No.a15, Pogung Kidul, Sinduadi, Kec. Mlati, Kabupaten Sleman, Daerah Istimewa Yogyakarta 55284',\n",
       " 'Karang Malang, Caturtunggal, Kec. Depok, Kabupaten Sleman, Daerah Istimewa Yogyakarta 55281',\n",
       " 'Jl. Karangmalang, Karang Malang, Caturtunggal, Kec. Depok, Kabupaten Sleman, Daerah Istimewa Yogyakarta 55281',\n",
       " 'Jl. Colombo Yogyakarta Jl. Karangmalang No.30, RW.02, Karang Malang, Caturtunggal, Kec. Depok, Kabupaten Sleman, Daerah Istimewa Yogyakarta 55281',\n",
       " '69GP+Q35, Jl. Karangmalang, Karang Malang, Caturtunggal, Kec. Depok, Kabupaten Sleman, Daerah Istimewa Yogyakarta 55281',\n",
       " 'Gg. Guru No.8C, Mrican, Condongcatur, Kec. Depok, Kabupaten Sleman, Daerah Istimewa Yogyakarta 55281',\n",
       " 'Jl. Komp. Colombo No.37, Mrican, Caturtunggal, Kec. Depok, Kabupaten Sleman, Daerah Istimewa Yogyakarta 55281',\n",
       " 'Jl. Mrican Baru No.1, Mrican, Caturtunggal, Kec. Depok, Kabupaten Sleman, Daerah Istimewa Yogyakarta 55281',\n",
       " 'Jl. Affandi No.25 B, Santren, Caturtunggal, Kec. Depok, Kabupaten Sleman, Daerah Istimewa Yogyakarta 55281',\n",
       " 'Wisma MMUGM, Jl. Karangmalang, Karang Gayam, Caturtunggal, Kec. Depok, Kabupaten Sleman, Daerah Istimewa Yogyakarta 55281',\n",
       " 'Jl. Laksda Adisucipto No.19, Demangan, Kec. Gondokusuman, Kota Yogyakarta, Daerah Istimewa Yogyakarta 55221',\n",
       " 'Jl. Pringgodani Jl. Demangan Baru No.14, Mrican, Caturtunggal, Kec. Depok, Kabupaten Sleman, Daerah Istimewa Yogyakarta 55281',\n",
       " 'Jl. Garuda No.26, Mrican, Caturtunggal, Kec. Depok, Kabupaten Sleman, Daerah Istimewa Yogyakarta 55281',\n",
       " 'Jl. Karangmalang, Karang Malang, Caturtunggal, Kec. Depok, Kabupaten Sleman, Daerah Istimewa Yogyakarta 55281',\n",
       " 'Jl. Mangga No.37, Karang Wuni, Caturtunggal, Kec. Depok, Kabupaten Sleman, Daerah Istimewa Yogyakarta 55281',\n",
       " 'Jl. Komp. Colombo No.39, Mrican, Caturtunggal, Kec. Depok, Kabupaten Sleman, Daerah Istimewa Yogyakarta 55281',\n",
       " 'Jl.Flamboyan, Deresan Jl. Affandi No.90, Karang Gayam, Caturtunggal, Kec. Depok, Kabupaten Sleman, Daerah Istimewa Yogyakarta 55281',\n",
       " 'Jl. Kenari No.7, Demangan Baru, Caturtunggal, Kec. Depok, Kabupaten Sleman, Daerah Istimewa Yogyakarta 55281',\n",
       " 'X8GJ+P4M, Pantai, Parangtritis, Kec. Kretek, Kabupaten Bantul, Daerah Istimewa Yogyakarta 55772',\n",
       " 'X8HF+96H, Pantai, Parangtritis, Kec. Kretek, Kabupaten Bantul, Daerah Istimewa Yogyakarta 55772',\n",
       " 'Pantai, Parangtritis, Kec. Kretek, Kabupaten Bantul, Daerah Istimewa Yogyakarta 55772',\n",
       " 'Pantai, Parangtritis, Kec. Kretek, Kabupaten Bantul, Daerah Istimewa Yogyakarta 55872',\n",
       " 'Jl. Ke Pantai, Pantai, Parangtritis, Kec. Kretek, Kabupaten Bantul, Daerah Istimewa Yogyakarta 55772',\n",
       " 'X8GH+G5J, Pantai, Parangtritis, Kec. Kretek, Kabupaten Bantul, Daerah Istimewa Yogyakarta 55772',\n",
       " 'Pantai, Parangtritis, Kec. Kretek, Kabupaten Bantul, Daerah Istimewa Yogyakarta 55772',\n",
       " 'X8HH+4HX, Jl. Pantai Parangtritis, Pantai, Parangtritis, Kec. Kretek, Kabupaten Bantul, Daerah Istimewa Yogyakarta 55772',\n",
       " 'X8GH+M36, Pantai, Parangtritis, Kec. Kretek, Kabupaten Bantul, Daerah Istimewa Yogyakarta 55772',\n",
       " 'X8GG+W3P, Pantai, Parangtritis, Kec. Kretek, Kabupaten Bantul, Daerah Istimewa Yogyakarta 55772',\n",
       " 'Unnamed Road, X8GJ+48F, Pantai, Parangtritis, Kec. Kretek, Kabupaten Bantul, Daerah Istimewa Yogyakarta 55772',\n",
       " 'X8FM+RP8, Pantai, Parangtritis, Kec. Kretek, Kabupaten Bantul, Daerah Istimewa Yogyakarta',\n",
       " 'X8FM+RP8, Pantai, Parangtritis, Kec. Kretek, Kabupaten Bantul, Daerah Istimewa Yogyakarta 55772',\n",
       " 'X8JC+5P3, Pantai, Parangtritis, Kec. Kretek, Kabupaten Bantul, Daerah Istimewa Yogyakarta 55772',\n",
       " 'Kretek, Pantai, Parangtritis, Kec. Kretek, Kabupaten Bantul, Daerah Istimewa Yogyakarta',\n",
       " 'Parangkusumo, Pantai, Parangtritis, Kec. Kretek, Kabupaten Bantul, Daerah Istimewa Yogyakarta 55772',\n",
       " 'Parang Kusumo Road, X8HG+H88, Pantai, Parangtritis, Kretek, Bantul Regency, Special Region of Yogyakarta 55772',\n",
       " 'Jl. Parangtritis - Panggang, Pantai, Parangtritis, Kec. Kretek, Kabupaten Bantul, Daerah Istimewa Yogyakarta 55772',\n",
       " 'Pantai, Parangtritis, Kec. Kretek, Kabupaten Bantul, Daerah Istimewa Yogyakarta 60253',\n",
       " 'X8GG+QF7, Jl. Pantai Parangkusumo, Pantai, Parangtritis, Kec. Kretek, Kabupaten Bantul, Daerah Istimewa Yogyakarta 55772',\n",
       " 'Jl. Candi Sewu No.30, RT.20/RW.06, Candi Prambanan, Tlogo, Kec. Prambanan, Kabupaten Klaten, Jawa Tengah 57454',\n",
       " 'Unnamed Road, 6FWP+7F3, Rogem, Tamanmartani, Kec. Kalasan, Kabupaten Sleman, Daerah Istimewa Yogyakarta 55571',\n",
       " '6FVQ+9FV, Kranggan, Bokoharjo, Kec. Prambanan, Kabupaten Sleman, Daerah Istimewa Yogyakarta 55572',\n",
       " 'Candi, 6FXX+627, Candi Prambanan, Tlogo, Kec. Prambanan, Kabupaten Klaten, Jawa Tengah 57454',\n",
       " 'ngangkruk, Kb. Dalem Kidul, Kec. Prambanan, Kabupaten Klaten, Jawa Tengah 57454',\n",
       " 'Jl. Raya Prambanan-Klaten No.100, Tlogo Kidul, Kb. Dalem Kidul, Kec. Prambanan, Kabupaten Klaten, Jawa Tengah 57454',\n",
       " 'Jl. Pulerejo No.01, RT.01/RW.01, Pulerejo, Bokoharjo, Kec. Prambanan, Kabupaten Sleman, Daerah Istimewa Yogyakarta 55572',\n",
       " '6FXV+WPM, Candi Prambanan, Tlogo, Kec. Prambanan, Kabupaten Klaten, Jawa Tengah 57454',\n",
       " '6FXQ+343, Jl. Taman Prambanan Kulon, Klurak, Bokoharjo, Kec. Kalasan, Kabupaten Sleman, Daerah Istimewa Yogyakarta 55571',\n",
       " '6FRR+P2R, TAMAN Aster, Klurak Baru, Bokoharjo, Kec. Prambanan, Kabupaten Sleman, Daerah Istimewa Yogyakarta 55572',\n",
       " '7F5R+FJP, Jl. Pulerejo, Kranggan, Bokoharjo, Kec. Prambanan, Kabupaten Sleman, Daerah Istimewa Yogyakarta 55572',\n",
       " 'Jl. Pandawa, Banjarsari, Kb. Dalem Kidul, Kec. Prambanan, Kabupaten Klaten, Jawa Tengah 57454',\n",
       " 'Jl. Raya Solo - Yogyakarta No.KM. 16, Klurak, Tamanmartani, Kec. Prambanan, Kabupaten Sleman, Daerah Istimewa Yogyakarta 55571',\n",
       " 'Jl. Manisrenggo No.1, Area Sawah, Bugisan, Kec. Prambanan, Kabupaten Klaten, Jawa Tengah 57454',\n",
       " '6FWV+GVR, Tlogo Kidul, Tlogo, Kec. Prambanan, Kabupaten Klaten, Jawa Tengah 57454',\n",
       " '7F2Q+779, Jl. Taman Prambanan Kulon, Klurak, Tamanmartani, Kec. Kalasan, Kabupaten Sleman, Daerah Istimewa Yogyakarta 55571',\n",
       " 'Jl. Randusari, Klurak Baru, Bokoharjo, yogyakarta, Kabupaten Sleman, Daerah Istimewa Yogyakarta 55572',\n",
       " 'Jl. Stasiun Prambanan Kios Tegalharjo, Kb. Dalem Kidul, Kec. Prambanan, Kabupaten Klaten, Jawa Tengah 57454',\n",
       " '7F7R+R32, Taman Pabrik, Tamanmartani, Kec. Kalasan, Kabupaten Sleman, Daerah Istimewa Yogyakarta 55571',\n",
       " 'Jl. Raya Manisrenggo - Prambanan No.16, Area Sawah, Bugisan, Kec. Prambanan, Kabupaten Klaten, Jawa Tengah 57454',\n",
       " 'Jl. A.M. Sangaji, Cokrodiningratan, Kec. Jetis, Kota Yogyakarta, Daerah Istimewa Yogyakarta 55233',\n",
       " 'Stasiun Tugu Jalan Pangeran Mangkubumi No. 1 Gowongan, Sosromenduran, Kec. Jetis, Kota Yogyakarta, Daerah Istimewa Yogyakarta 55232',\n",
       " '6967+99G, Sosromenduran, Gedong Tengen, Kota Yogyakarta, Daerah Istimewa Yogyakarta 55271',\n",
       " 'Jl. Margo Utomo Jl. Kb. Dalem, Gowongan, Kec. Jetis, Kota Yogyakarta, Daerah Istimewa Yogyakarta 55233',\n",
       " 'Jl. Pangeran Diponegoro No.14, Gowongan, Kec. Jetis, Kota Yogyakarta, Daerah Istimewa Yogyakarta 55233',\n",
       " 'Ps. Kranggan, Jl. A.M. Sangaji, Gowongan, Kec. Jetis, Kota Yogyakarta, Daerah Istimewa Yogyakarta 55233',\n",
       " 'Jl. A.M. Sangaji No.10, Cokrodiningratan, Kec. Jetis, Kota Yogyakarta, Daerah Istimewa Yogyakarta 55123',\n",
       " '6998+7W6, Jl. A.M. Sangaji, Cokrodiningratan, Kec. Jetis, Kota Yogyakarta, Daerah Istimewa Yogyakarta 55233',\n",
       " 'Jl. Margo Utomo No.3b, Sosromenduran, Gedong Tengen, Kota Yogyakarta, Daerah Istimewa Yogyakarta 55271',\n",
       " 'Stasiun Tugu Yogyakarta, Sosromenduran, Gedong Tengen, Yogyakarta City, Special Region of Yogyakarta 55271',\n",
       " 'Cokrodiningratan, Kec. Jetis, Kota Yogyakarta, Daerah Istimewa Yogyakarta 55233',\n",
       " 'Kuliner Lor Tugu Tenant no 7, Jl. A.M. Sangaji, Cokrodiningratan, Kec. Jetis, Kota Yogyakarta, Daerah Istimewa Yogyakarta',\n",
       " 'Terban Gondokusuman, No.2A-B, Jl. DR. Sardjito, Cokrodiningratan, Kec. Jetis, Kota Yogyakarta, Daerah Istimewa Yogyakarta 55233',\n",
       " '6999+54P, Cokrodiningratan, Kec. Jetis, Kota Yogyakarta, Daerah Istimewa Yogyakarta 55233',\n",
       " 'Jl. Mangkubumi No.58, Gowongan, Kec. Jetis, Kota Yogyakarta, Daerah Istimewa Yogyakarta 55233',\n",
       " '6967+57J, Sosromenduran, Gedong Tengen, Kota Yogyakarta, Daerah Istimewa Yogyakarta 55271',\n",
       " 'Pasar Kranggan, Jl. Diponegoro, 6998+287, Gowongan, Kec. Jetis, Kota Yogyakarta, Daerah Istimewa Yogyakarta 55233',\n",
       " 'Jl. Ps. Kembang No.24-51, Sosromenduran, Gedong Tengen, Kota Yogyakarta, Daerah Istimewa Yogyakarta 55271',\n",
       " 'Jl. Jend. Sudirman No.16, Gowongan, Kec. Jetis, Kota Yogyakarta, Daerah Istimewa Yogyakarta 55233',\n",
       " 'Jl. Magangan Kulon No.1, Panembahan, Kecamatan Kraton, Kota Yogyakarta, Daerah Istimewa Yogyakarta 55131',\n",
       " 'Jl. Rotowijayan No.5, Kadipaten, Kecamatan Kraton, Kota Yogyakarta, Daerah Istimewa Yogyakarta 55132',\n",
       " 'Jl. Mantrigawen Lor No.7, Panembahan, Kecamatan Kraton, Kota Yogyakarta, Daerah Istimewa Yogyakarta 55131',\n",
       " 'Jl. Ngadisuryan No.6, Patehan, Kecamatan Kraton, Kota Yogyakarta, Daerah Istimewa Yogyakarta 55133',\n",
       " 'Jl. Nyai Ahmad Dahlan No.58-62, Notoprajan, Ngampilan, Kota Yogyakarta, Daerah Istimewa Yogyakarta 55262',\n",
       " 'Jl. Pekapalan Timur No.6, Prawirodirjan, Kec. Gondomanan, Kota Yogyakarta, Daerah Istimewa Yogyakarta 55132',\n",
       " 'Jl. Wijilan No.17, Panembahan, Kecamatan Kraton, Kota Yogyakarta, Daerah Istimewa Yogyakarta 55131',\n",
       " 'Jl. Gading No.2, Patehan, Kecamatan Kraton, Kota Yogyakarta, Daerah Istimewa Yogyakarta 55133',\n",
       " 'Jl. Wijilan No.5, RT.31/RW.8, Panembahan, Kecamatan Kraton, Kota Yogyakarta, Daerah Istimewa Yogyakarta 55131',\n",
       " '59Q7+CM7, Jl. Langenastran Lor, Panembahan, Kecamatan Kraton, Kota Yogyakarta, Daerah Istimewa Yogyakarta 55131',\n",
       " 'Jl. Wijilan No.27, Panembahan, Kecamatan Kraton, Kota Yogyakarta, Daerah Istimewa Yogyakarta 55131',\n",
       " 'Jl. Taman, Patehan, Kecamatan Kraton, Kota Yogyakarta, Daerah Istimewa Yogyakarta 55133',\n",
       " '59V8+H2X, Jl. Alun-Alun Utara, Ngupasan, Kecamatan Kraton, Kota Yogyakarta, Daerah Istimewa Yogyakarta 55131',\n",
       " 'Jl. Panembahan Mangkurat No.19, Panembahan, Kecamatan Kraton, Kota Yogyakarta, Daerah Istimewa Yogyakarta 55131',\n",
       " 'Sompilan, Jl. Magangan Kulon, Kadipaten, Kecamatan Kraton, Kota Yogyakarta, Daerah Istimewa Yogyakarta 55132',\n",
       " 'Taman KT 1/ 389, Patehan, Kraton, Yogyakarta City, Special Region of Yogyakarta 55133',\n",
       " 'JL. Pojok Tenggara Jl. Alun-Alun Utara, Panembahan, Kecamatan Kraton, Kota Yogyakarta, Daerah Istimewa Yogyakarta 55131',\n",
       " 'Jl. Suryoputran No.15, Panembahan, Kecamatan Kraton, Kota Yogyakarta, Daerah Istimewa Yogyakarta 55131',\n",
       " 'Foodcourt Kampung Langenastran, Jl. Langenarjan, Panembahan, Kecamatan Kraton, Kota Yogyakarta, Daerah Istimewa Yogyakarta 55131',\n",
       " '59R7+5GJ, Panembahan, Kecamatan Kraton, Kota Yogyakarta, Daerah Istimewa Yogyakarta 55133',\n",
       " 'Yogyakarta International Airport, Kulon Progo Yogyakarta International Airport, Unnamed Road, 4325+8Q5, Munggangan, Palihan, Temon, Kulon Progo Regency, Special Region of Yogyakarta 55654',\n",
       " 'Yogyakarta International Airport, Kulon Progo Yogyakarta International Airport, Unnamed Road, Munggangan, Palihan, Temon, Kulon Progo Regency, Special Region of Yogyakarta 55654',\n",
       " 'Yogyakarta International Airport, Jl. Wates - Purworejo No.KM, RW.42, Logede, Glagah, Kec. Temon, Kabupaten Kulon Progo, Daerah Istimewa Yogyakarta 55282',\n",
       " '4336+93X, Ngringit, Palihan, Kec. Temon, Kabupaten Kulon Progo, Daerah Istimewa Yogyakarta 55654',\n",
       " 'Bandar Udara Internasional Yogyakarta, Jl. Wates - Purworejo No.Km, RW.42, Area Kebun, Glagah, Kec. Temon, Kabupaten Kulon Progo, Daerah Istimewa Yogyakarta 55654',\n",
       " '4336+93X, Ngringit, Palihan, Kec. Temon, Kabupaten Kulon Progo, Daerah Istimewa Yogyakarta 55654',\n",
       " 'Yogyakarta International Airport (YIA), Jl. Wates - Purworejo No.Km, RW.42, Area Kebun, Glagah, Temon, Kulon Progo Regency, Special Region of Yogyakarta 55654',\n",
       " 'Jl. Daendels Pantai Sel. No.16, Kretek, Palihan, Kec. Temon, Kabupaten Kulon Progo, Daerah Istimewa Yogyakarta 55654',\n",
       " 'Yogyakarta International Airport, Kulon Progo Yogyakarta International Airport, Unnamed Road, 33X5+VJ2, Munggangan, Palihan, Kec. Temon, Kabupaten Kulon Progo, Daerah Istimewa Yogyakarta 55654',\n",
       " 'Jl. Daendels Pantai Sel., Selong, Palihan, Kec. Temon, Kabupaten Kulon Progo, Daerah Istimewa Yogyakarta 55654',\n",
       " '4344+H9H, Kragon 1, Palihan, Kec. Temon, Kabupaten Kulon Progo, Daerah Istimewa Yogyakarta 55654',\n",
       " 'Bandara Yogyakarta International Airport Pintu zona kedatangan, Area Kebun, Glagah, Kec. Temon, Kabupaten Kulon Progo, Daerah Istimewa Yogyakarta 55654',\n",
       " 'Depan Bandara YIA, Jl. Wates - Purworejo No.KM.16, Tanggalan, Palihan, Kec. Temon, Kabupaten Kulon Progo, Daerah Istimewa Yogyakarta 55654',\n",
       " 'Bandar Udara Internasional Yogyakarta, Jl. Wates - Purworejo No.Km, RW.42, Area Kebun, Glagah, Kec. Temon, Kabupaten Kulon Progo, Daerah Istimewa Yogyakarta 55654',\n",
       " 'Jl. Daendels Pantai Sel. No.16, Selong, Palihan, Kec. Temon, Kabupaten Kulon Progo, Daerah Istimewa Yogyakarta 55654',\n",
       " 'Yogyakarta International Airport Glagah, 4325+436, Kragon 2, Palihan, Kec. Temon, Kabupaten Kulon Progo, Daerah Istimewa Yogyakarta 55654',\n",
       " 'Bandara yogyakarta kulonprogo, 4377+G8C, Area Kebun, Kebonrejo, Kec. Temon, Kabupaten Kulon Progo, Daerah Istimewa Yogyakarta 55654',\n",
       " '6CR5+4JR, Ngringin, Condongcatur, Kec. Depok, Kabupaten Sleman, Daerah Istimewa Yogyakarta 55281',\n",
       " '6CR5+4HX, Ngringin, Condongcatur, Kec. Depok, Kabupaten Sleman, Daerah Istimewa Yogyakarta 55281',\n",
       " 'Jl. Ringin Raya No.4, Ngringin, Condongcatur, Kec. Depok, Kabupaten Sleman, Daerah Istimewa Yogyakarta 55281',\n",
       " '6CQ5+W94, Jl. Ring Road Utara, Ngringin, Condongcatur, Kec. Depok, Kabupaten Sleman, Daerah Istimewa Yogyakarta 56484',\n",
       " 'Jl. Ringin Raya, Ngringin, Condongcatur, Kec. Depok, Kabupaten Sleman, Ngringin, Condongcatur, Kec. Depok, Yogyakarta, Daerah Istimewa Yogyakarta 55281',\n",
       " 'Jl. Nusa Indah No.38, Ngringin, Condongcatur, Kec. Depok, Kabupaten Sleman, Daerah Istimewa Yogyakarta 55281',\n",
       " 'Jl. Mancasan Indah IV No.5, Ngringin, Condongcatur, Kec. Depok, Kabupaten Sleman, Daerah Istimewa Yogyakarta 55281',\n",
       " 'No.2Ngringin, Jl. Ringin Raya, Ngringin, Condongcatur, Kec. Depok, Kabupaten Sleman, Daerah Istimewa Yogyakarta 55281',\n",
       " 'Jl. Nusa Indah No.30, Ngringin, Condongcatur, Kec. Depok, Kabupaten Sleman, Daerah Istimewa Yogyakarta 55283',\n",
       " 'Jl. Ringin Raya No.6, Ngringin, Condongcatur, Kec. Depok, Kabupaten Sleman, Daerah Istimewa Yogyakarta 55281',\n",
       " 'Jl. Ringin Raya No.29, Ngringin, Condongcatur, Kec. Depok, Kabupaten Sleman, Daerah Istimewa Yogyakarta 55281',\n",
       " '6CR6+C82, Ngringin, Condongcatur, Kec. Depok, Kabupaten Sleman, Daerah Istimewa Yogyakarta 55281',\n",
       " '6CR5+PRR, Jl. Ringin Raya, RT.04/Rw19/RW.no 11, Ngringin, Condongcatur, Kec. Depok, Kabupaten Sleman, Daerah Istimewa Yogyakarta 55283',\n",
       " 'Jl. Ringin Raya No.14-6, Ngringin, Condongcatur, Kec. Depok, Kabupaten Sleman, Daerah Istimewa Yogyakarta 55281',\n",
       " '6CR5+RHG, Jl. Ringin Raya, Ngringin, Condongcatur, Kec. Depok, Kabupaten Sleman, Daerah Istimewa Yogyakarta 55281',\n",
       " 'Jl. Mancasan Indah II Perumahan Puri Permata II No.2, Ngringin, Condongcatur, Kec. Depok, Kabupaten Sleman, Daerah Istimewa Yogyakarta 55283',\n",
       " 'Jl. Nusa Indah Dero, Condongcatur Kec. Depok, Kabupaten Sleman, Daerah Istimewa Yogyakarta 55281 IG:, Dero, Condongcatur, Kec. Depok, Kabupaten Sleman, Daerah Istimewa Yogyakarta 55281',\n",
       " 'Jl. Ringin Raya No.22-4, Ngringin, Condongcatur, Kec. Depok, Kabupaten Sleman, Daerah Istimewa Yogyakarta 55281',\n",
       " 'Jl. Ringin Raya No.22, Ngringin, Condongcatur, Kec. Depok, Kabupaten Sleman, Daerah Istimewa Yogyakarta 55283',\n",
       " 'Quest House, Sendowo, Sinduadi, Kec. Mlati, Kabupaten Sleman, Daerah Istimewa Yogyakarta 55281',\n",
       " 'Sendowo, Sinduadi, Kec. Mlati, Kabupaten Sleman, Daerah Istimewa Yogyakarta 55281',\n",
       " 'Jl. Persatuan, Sendowo, Sinduadi, Kec. Mlati, Kabupaten Sleman, Daerah Istimewa Yogyakarta 55281',\n",
       " 'Universitas Gadjah Mada, Jl. Sosio Humaniora No.1, Karang Malang, Caturtunggal, Kec. Depok, Kabupaten Sleman, Daerah Istimewa Yogyakarta 55281',\n",
       " 'Sinduadi, Mlati, Kabupaten Sleman, Daerah Istimewa Yogyakarta 5528, Jl. Persatuan, Sendowo, Sinduadi, Kec. Mlati, Kota Yogyakarta, Daerah Istimewa Yogyakarta 55281',\n",
       " 'Jl. Kaliurang KM. 3 Barat Graha Saha Pramana UGM Mlati, Sendowo, Sinduadi, Kec. Mlati, Kabupaten Sleman, Daerah Istimewa Yogyakarta 55582',\n",
       " 'Jl. Baru Jl. Lembah UGM No.1, Karang Gayam, Caturtunggal, Kec. Depok, Kabupaten Sleman, Daerah Istimewa Yogyakarta 55281',\n",
       " '69HG+VP8, Jl. Persatuan, Sendowo, Sinduadi, Kec. Mlati, Kabupaten Sleman, Daerah Istimewa Yogyakarta 55281',\n",
       " 'Jl. Persatuan, Sendowo, Terban, Kec. Gondokusuman, Kota Yogyakarta, Daerah Istimewa Yogyakarta 55223',\n",
       " 'Senolowo, Sinduadi, Kec. Mlati, Kabupaten Sleman, Daerah Istimewa Yogyakarta 55281',\n",
       " 'Jl. Persatuan, Sendowo, Sinduadi, Kec. Mlati, Kabupaten Sleman, Daerah Istimewa Yogyakarta 55281',\n",
       " 'kantin pujale UGM, Jl. Olahraga, Karang Malang, Caturtunggal, Kec. Depok, Kabupaten Sleman, Daerah Istimewa Yogyakarta 55281',\n",
       " 'Kantin Fakultas Farmasi UGM, Sendowo, Sinduadi, Kec. Mlati, Kabupaten Sleman, Daerah Istimewa Yogyakarta 55284',\n",
       " 'Jl. C. Simanjuntak No.73, Terban, Kec. Gondokusuman, Kabupaten Sleman, Daerah Istimewa Yogyakarta 55281',\n",
       " 'jl. Lembah UGM Karangmalang, 69HM+773, Karang Malang, Caturtunggal, Kec. Depok, Kabupaten Sleman, Daerah Istimewa Yogyakarta 55281',\n",
       " 'Jl. Kaliurang Km. 4, Caturtunggal, Depok, Karang Malang, Sinduadi, Kec. Mlati, Kabupaten Sleman, Daerah Istimewa Yogyakarta 55281',\n",
       " '69GG+X9P, Sendowo, Sinduadi, Kec. Mlati, Kabupaten Sleman, Daerah Istimewa Yogyakarta 55281',\n",
       " 'Jl. Persatuan, Sendowo, Sinduadi, Kec. Mlati, Kabupaten Sleman, Daerah Istimewa Yogyakarta 55281',\n",
       " 'Jl. Kaliurang No.KM.3, Sendowo, Sinduadi, Kec. Mlati, Yogyakarta, Daerah Istimewa Yogyakarta 55582',\n",
       " 'Universitas Gadjah Mada, 69JJ+XXF, Jalan Olahraga, Caturtunggal, Kocoran, Caturtunggal, Kec. Depok, Kabupaten Sleman, Daerah Istimewa Yogyakarta 55281',\n",
       " 'Food Court UNY No.7 Jalan Karang Malang, Karang Malang, Caturtunggal, Kec. Depok, Kabupaten Sleman, Daerah Istimewa Yogyakarta 55281',\n",
       " 'Jl. Wirata Jl. Karangmalang, Karang Gayam, Caturtunggal, Kec. Depok, Kabupaten Sleman, Daerah Istimewa Yogyakarta 55281',\n",
       " '69GP+P93, Jl. Karangmalang, Karang Malang, Caturtunggal, Kec. Depok, Kabupaten Sleman, Daerah Istimewa Yogyakarta 55281',\n",
       " 'Karang Malang, Caturtunggal, Kec. Depok, Kabupaten Sleman, Daerah Istimewa Yogyakarta 55281',\n",
       " 'Taman Kuliner Karang Malang, Jl. Karangmalang, Karang Gayam, Caturtunggal, Kec. Depok, Kabupaten Sleman, Daerah Istimewa Yogyakarta 55281',\n",
       " 'Taman Kuliner UNY No. 17, Jalan Karangmalang, Depok, Karang Gayam, Caturtunggal, Kec. Depok, Kabupaten Sleman, Daerah Istimewa Yogyakarta 55281',\n",
       " 'Jl. Affandi No.168, Santren, Caturtunggal, Kec. Depok, Kabupaten Sleman, Daerah Istimewa Yogyakarta 55221',\n",
       " 'Jl. Karangmalang No.A.10, Karang Malang, Caturtunggal, Kec. Depok, Kabupaten Sleman, Daerah Istimewa Yogyakarta 55281',\n",
       " '69GQ+Q66, Gg. Guru, Santren, Caturtunggal, Kec. Depok, Kabupaten Sleman, Daerah Istimewa Yogyakarta 55281',\n",
       " 'Jl. Colombo Yogyakarta No.8, Samirono, Caturtunggal, Kec. Depok, Kabupaten Sleman, Daerah Istimewa Yogyakarta 55281',\n",
       " '69GP+2J6, Karang Malang, Caturtunggal, Kec. Depok, Kabupaten Sleman, Daerah Istimewa Yogyakarta 55281',\n",
       " 'Jl. Samironobaru No.1C, Samirono, Caturtunggal, Kec. Depok, Kabupaten Sleman, Daerah Istimewa Yogyakarta 55281',\n",
       " 'Jl. Affandi No.168, Santren, Caturtunggal, Kec. Depok, Kabupaten Sleman, Daerah Istimewa Yogyakarta 55281',\n",
       " 'Jl. Colombo Yogyakarta No.40, Karang Malang, Caturtunggal, Kec. Depok, Kabupaten Sleman, Daerah Istimewa Yogyakarta 55281',\n",
       " '69GP+P5G, Karang Malang, Caturtunggal, Kec. Depok, Kabupaten Sleman, Daerah Istimewa Yogyakarta 55281',\n",
       " 'Jl. Karangmalang Blk. A No.16, Karang Malang, Caturtunggal, Kec. Depok, Kabupaten Sleman, Daerah Istimewa Yogyakarta 55281',\n",
       " 'Jl. Colombo Yogyakarta No.4, Samirono, Caturtunggal, Kec. Depok, Kabupaten Sleman, Daerah Istimewa Yogyakarta 55281',\n",
       " 'Jl. Colombo Yogyakarta, Karang Malang, Caturtunggal, Kec. Depok, Kabupaten Sleman, Daerah Istimewa Yogyakarta 55222',\n",
       " '69GQ+Q3G, Jl. Komojoyo, Santren, Caturtunggal, Kec. Depok, Kabupaten Sleman, Daerah Istimewa Yogyakarta 55281',\n",
       " 'X8FM+RWG, Pantai, Parangtritis, Kec. Kretek, Kabupaten Bantul, Daerah Istimewa Yogyakarta 55772',\n",
       " 'rt.03 mancingan XI 55772, Pantai, Parangtritis, Kec. Kretek, Kabupaten Bantul, Daerah Istimewa Yogyakarta 55772',\n",
       " 'X8GJ+Q7P, Pantai, Parangtritis, Kec. Kretek, Kabupaten Bantul, Daerah Istimewa Yogyakarta 55772',\n",
       " 'Pantai, Parangtritis, Kec. Kretek, Kabupaten Bantul, Daerah Istimewa Yogyakarta 55772',\n",
       " 'Pantai, Parangtritis, Kec. Kretek, Kabupaten Bantul, Daerah Istimewa Yogyakarta 55772',\n",
       " 'X8GH+5W3, Pantai, Parangtritis, Kec. Kretek, Kabupaten Bantul, Daerah Istimewa Yogyakarta',\n",
       " 'Pantai, Parangtritis, Kec. Kretek, Kabupaten Bantul, Daerah Istimewa Yogyakarta 55772',\n",
       " 'X8GH+G86, Pantai, Parangtritis, Kec. Kretek, Kabupaten Bantul, Daerah Istimewa Yogyakarta 55772',\n",
       " 'X8GJ+83X, Pantai, Parangtritis, Kec. Kretek, Kabupaten Bantul, Daerah Istimewa Yogyakarta 55772',\n",
       " 'X8GJ+5PH, Pantai, Parangtritis, Kec. Kretek, Kabupaten Bantul, Daerah Istimewa Yogyakarta 55772',\n",
       " 'X8GJ+4QJ, Pantai, Parangtritis, Kec. Kretek, Kabupaten Bantul, Daerah Istimewa Yogyakarta 55772',\n",
       " 'Pantai, Parangtritis, Kec. Kretek, Kabupaten Bantul, Daerah Istimewa Yogyakarta 55772',\n",
       " 'X8GM+44G, Pantai, Parangtritis, Kec. Kretek, Kabupaten Bantul, Daerah Istimewa Yogyakarta 55772',\n",
       " 'X8GJ+4W9, Pantai, Parangtritis, Kec. Kretek, Kabupaten Bantul, Daerah Istimewa Yogyakarta 55772',\n",
       " 'Mancingan 11 Parangtritis Kretek, Pantai, Parangtritis, Kec. Kretek, Kabupaten Bantul, Daerah Istimewa Yogyakarta 55771',\n",
       " 'Pantai Parangtritis Mancingan II Parangtritis Kretek, X8GJ+5V2, Pantai, Parangtritis, Kec. Kretek, Kabupaten Bantul, Daerah Istimewa Yogyakarta 55772',\n",
       " 'Mancingan XI, RT.02, Pantai, Parangtritis, Kec. Kretek, Kabupaten Bantul, Daerah Istimewa Yogyakarta 55772',\n",
       " 'Mancingan Rt 04, Pantai, Parangtritis, Kec. Kretek, Kabupaten Bantul, Daerah Istimewa Yogyakarta 55772',\n",
       " 'Unnamed Road, 55772, Pantai, Parangtritis, Kec. Kretek, Kabupaten Bantul, Daerah Istimewa Yogyakarta 55772',\n",
       " 'Jalan Pulorejo, Pulir Rejo, Bokoharjo, Kec. Prambanan, Kabupaten Sleman, Daerah Istimewa Yogyakarta 55572',\n",
       " 'Jl. Candi Sewu, Ngangruk Baru, Tlogo, Kec. Prambanan, Kabupaten Klaten, Jawa Tengah 57454',\n",
       " 'Jl. Raya Solo - Yogyakarta, Kranggan, Bokoharjo, Kec. Prambanan, Kabupaten Sleman, Daerah Istimewa Yogyakarta 55572',\n",
       " 'Jl. Candi Sewu No.15, Candi Prambanan, Tlogo, Kec. Prambanan, Kabupaten Klaten, Jawa Tengah 57454',\n",
       " 'Jl. Prambanan RT. 07 RW. 31 Desa, Pulir Rejo, Bokoharjo, Sleman, Sleman Regency, Special Region of Yogyakarta 55572',\n",
       " '6FXW+P2Q, Jl. Candi Sewu, Candi Prambanan, Tlogo, Kec. Prambanan, Kabupaten Klaten, Jawa Tengah 57454',\n",
       " 'Jl. Candi Sewu No.26, Tlogo Kidul, Tlogo, Kec. Prambanan, Kabupaten Klaten, Daerah Istimewa Yogyakarta 55555',\n",
       " 'Jl. Raya Solo - Yogyakarta No.23, Koplak, Kb. Dalem Kidul, Kec. Prambanan, Kabupaten Klaten, Jawa Tengah 57454',\n",
       " '6FVQ+PXH, Kranggan, Bokoharjo, Kec. Prambanan, Kabupaten Sleman, Daerah Istimewa Yogyakarta 55572',\n",
       " '6FXQ+J4Q, Klurak, Tamanmartani, Kec. Kalasan, Kabupaten Sleman, Daerah Istimewa Yogyakarta 55571',\n",
       " 'Tugu perdamaian, Jl. Jogja-Solo No.16, Kranggan, Bokoharjo, Kec. Prambanan, Kabupaten Sleman, Daerah Istimewa Yogyakarta 55572',\n",
       " 'Candi, 6FXV+RX8, Candi Prambanan, Tlogo, Kec. Prambanan, Kabupaten Klaten, Jawa Tengah 57454',\n",
       " '6FVR+M36, Jl. Raya Solo - Yogyakarta, Kranggan, Bokoharjo, Kec. Prambanan, Kabupaten Sleman, Daerah Istimewa Yogyakarta 55572',\n",
       " '6FVR+QGQ, Kranggan, Bokoharjo, Kec. Prambanan, Kabupaten Sleman, Daerah Istimewa Yogyakarta 55572',\n",
       " '6FVR+RWM, Jl. Raya Solo - Yogyakarta, Koplak, Kb. Dalem Kidul, Kec. Prambanan, Kabupaten Klaten, Daerah Istimewa Yogyakarta 57454',\n",
       " 'Jl. Raya Solo - Yogyakarta KM.17, Jl. Tapurnas No.18B, Koplak, Kb. Dalem Kidul, Kec. Prambanan, Kabupaten Klaten, Jawa Tengah 57454',\n",
       " '6FVV+RPM, Koplak, Kb. Dalem Kidul, Kec. Prambanan, Kabupaten Klaten, Jawa Tengah',\n",
       " '6FWW+59P, Jl. Candi Sewu, Tlogo Kidul, Tlogo, Kec. Prambanan, Kabupaten Klaten, Jawa Tengah 57454',\n",
       " 'Jl. Raya Jogjakarta Solo No.3-24, Sidodadi, Tlogo, Kec. Prambanan, Kabupaten Klaten, Jawa Tengah 57454',\n",
       " '7G32+RC7, Area Sawah, Bugisan, Kec. Prambanan, Kabupaten Klaten, Jawa Tengah',\n",
       " '7G73+4R8, Dengok Wetan, Kb. Dalem Lor, Kec. Prambanan, Kabupaten Klaten, Jawa Tengah 57454',\n",
       " '6FMM+MH3, Randu Gunting, Tamanmartani, Kec. Kalasan, Kabupaten Sleman, Daerah Istimewa Yogyakarta 55571',\n",
       " 'Randugunting RT 2 RW 1, Randu Gunting, Tamanmartani, Kec. Kalasan, Kabupaten Sleman, Daerah Istimewa Yogyakarta 55571',\n",
       " 'Jl. Raya LPMP No.95, Karang Nongko, Tirtomartani, Kec. Kalasan, Kabupaten Sleman, Daerah Istimewa Yogyakarta 55571',\n",
       " '7G28+CF3, Wirorejan, RT.3/rw1, Sanggrahan, Kec. Prambanan, Kabupaten Klaten, Jawa Tengah',\n",
       " '6FRQ+67G, Jl. Raya Piyungan - Prambanan, Klurak Baru, Bokoharjo, Kec. Prambanan, Kabupaten Sleman, Daerah Istimewa Yogyakarta',\n",
       " '6GM5+G83, Drini, Pereng, Kec. Prambanan, Kabupaten Klaten, Jawa Tengah 57454',\n",
       " '6FXJ+8MJ, Carikan, Tamanmartani, Kec. Kalasan, Kabupaten Sleman, Daerah Istimewa Yogyakarta 55571',\n",
       " 'Jl. Raya Piyungan - Prambanan No.5, Potrojayan, Madurejo, Kec. Prambanan, Kabupaten Sleman, Daerah Istimewa Yogyakarta 55572',\n",
       " '6F4C+GW3, Mutihan, Madurejo, Kec. Prambanan, Kabupaten Sleman, Daerah Istimewa Yogyakarta 55572',\n",
       " '7F8J+8P2, Jl. Sentono, Sentono, Tamanmartani, Kec. Kalasan, Kabupaten Sleman, Daerah Istimewa Yogyakarta 55571',\n",
       " '6G9F+59H, Tegalsari, Sengon, Kec. Prambanan, Kabupaten Klaten, Jawa Tengah',\n",
       " 'Gangsiran, Ngangsiran, Madurejo, Kec. Prambanan, Kabupaten Sleman, Daerah Istimewa Yogyakarta 55572',\n",
       " '6FVJ+3X8, Kepatihan, Tamanmartani, Kec. Kalasan, Kabupaten Sleman, Daerah Istimewa Yogyakarta 55571',\n",
       " '5FVM+G4M, Daleman, Sumberharjo, Kec. Prambanan, Kabupaten Sleman, Daerah Istimewa Yogyakarta 55572',\n",
       " '7F56+G2Q, Jl. Grenjeng, Babadan, Purwomartani, Kalasan, Sleman Regency, Special Region of Yogyakarta 55571',\n",
       " '7G77+XRC, jalidan, Purworejo, Brajan, Kec. Prambanan, Kabupaten Klaten, Jawa Tengah 57454',\n",
       " '7G23+266, Pemukubaru, Tlogo, Kec. Prambanan, Kabupaten Klaten, Jawa Tengah 57454',\n",
       " 'Jl. Raya Manisrenggo - Prambanan No.16, Dengokrangka, Kb. Dalem Lor, Kec. Prambanan, Kabupaten Klaten, Jawa Tengah 57454',\n",
       " 'Unnamed Road, Pantai, Parangtritis, Kec. Kretek, Kabupaten Bantul, Daerah Istimewa Yogyakarta 55772',\n",
       " 'X8JC+3PW, Pantai, Parangtritis, Kec. Kretek, Kabupaten Bantul, Daerah Istimewa Yogyakarta 55772',\n",
       " 'X8HC+WMW, Pantai, Parangtritis, Kec. Kretek, Kabupaten Bantul, Daerah Istimewa Yogyakarta 55772',\n",
       " 'Jl. Pantai Parangkusumo No.16, Pantai, Parangtritis, Kec. Kretek, Kabupaten Bantul, Daerah Istimewa Yogyakarta 55772',\n",
       " 'X8HG+F75, Pantai, Parangtritis, Kec. Kretek, Kabupaten Bantul, Daerah Istimewa Yogyakarta 55772',\n",
       " 'Pantai selatan mbolong, Mancingan, Parangtritis, Kec. Kretek, Kabupaten Bantul, Daerah Istimewa Yogyakarta 55772',\n",
       " 'X8JC+6PV, Pantai, Parangtritis, Kec. Kretek, Kabupaten Bantul, Daerah Istimewa Yogyakarta',\n",
       " 'Jl. Pantai Parangkusumo No.16, Pantai, Parangtritis, Kec. Kretek, Kabupaten Bantul, Daerah Istimewa Yogyakarta 55772',\n",
       " 'Pantai, Parangkusumo, Kec. Kretek, Kabupaten Bantul, Daerah Istimewa Yogyakarta 55772',\n",
       " 'X8JC+6MM, Jl. Pantai Parangkusumo, Mancingan, Parangtritis, Kec. Kretek, Kabupaten Bantul, Daerah Istimewa Yogyakarta 55772',\n",
       " 'Parang Kusumo, Pantai, Parangtritis, Kec. Kretek, Kabupaten Bantul, Daerah Istimewa Yogyakarta 60176',\n",
       " 'panda karaoke parangkusumo, Jl. Pantai Parangkusumo, Pantai, Parangtritis, Kec. Kretek, Kabupaten Bantul, Daerah Istimewa Yogyakarta 55772',\n",
       " 'X8FQ+WR2, Jl. Pantai Parangtritis, Pantai, Parangtritis, Kec. Kretek, Kabupaten Bantul, Daerah Istimewa Yogyakarta 55772',\n",
       " 'Jl. Pantai Parangkusumo No.16, Pantai, Parangtritis, Kec. Kretek, Kabupaten Bantul, Daerah Istimewa Yogyakarta 55772',\n",
       " 'X8P2+269, Pantai, Parangtritis, Kec. Kretek, Kabupaten Bantul, Daerah Istimewa Yogyakarta 55772',\n",
       " 'X8RC+J73, Grogol VIII, Parangtritis, Kec. Kretek, Kabupaten Bantul, Daerah Istimewa Yogyakarta 55772',\n",
       " 'Unnamed Road, X8HG+H6X, Pantai, Parangtritis, Kec. Kretek, Kabupaten Bantul, Daerah Istimewa Yogyakarta 55772',\n",
       " 'X8JC+5P3, Pantai, Parangtritis, Kec. Kretek, Kabupaten Bantul, Daerah Istimewa Yogyakarta 55772',\n",
       " 'Buruhan Rt 02, Galan, Tirtosari, Kec. Kretek, Kabupaten Bantul, Daerah Istimewa Yogyakarta 55772',\n",
       " 'X8JC+7GC, Pantai, Parangtritis, Kec. Kretek, Kabupaten Bantul, Daerah Istimewa Yogyakarta 55772',\n",
       " 'Jogjakarta Plaza Hotel Area, Jalan Affandi, Gejayan, Komplek Colombo, 69FQ+4P9, Mrican, Caturtunggal, Kec. Depok, Kota Yogyakarta, Daerah Istimewa Yogyakarta 55281',\n",
       " 'Jl. Moses Gatotkaca No.47, Mrican, Caturtunggal, Kec. Depok, Kabupaten Sleman, Daerah Istimewa Yogyakarta 55281',\n",
       " 'Jl. Colombo Yogyakarta No.14, Karang Malang, Caturtunggal, Kec. Depok, Kabupaten Sleman, Daerah Istimewa Yogyakarta 55281',\n",
       " 'Jl. Colombo Yogyakarta No.7, Samirono, Caturtunggal, Kec. Depok, Kabupaten Sleman, Daerah Istimewa Yogyakarta 55281',\n",
       " 'Sagan ctv/45, Samirono, Caturtunggal, Kec. Depok, Kabupaten Sleman, Daerah Istimewa Yogyakarta 55223',\n",
       " '69HM+PFV, Karang Gayam, Caturtunggal, Kec. Depok, Kabupaten Sleman, Daerah Istimewa Yogyakarta 55281',\n",
       " '69FR+MMX, Jl. Demangan Baru, Mrican, Caturtunggal, Kec. Depok, Kabupaten Sleman, Daerah Istimewa Yogyakarta 55281',\n",
       " '69GV+WXR, Mrican, Caturtunggal, Kec. Depok, Kabupaten Sleman, Daerah Istimewa Yogyakarta 55281',\n",
       " '69HM+CCQ, Karang Malang, Caturtunggal, Kec. Depok, Kabupaten Sleman, Daerah Istimewa Yogyakarta 55281',\n",
       " 'Puri Artha Hotel Area, Jl. Cenderawasih No.36, Demangan Baru, Caturtunggal, Kec. Depok, Kabupaten Sleman, Daerah Istimewa Yogyakarta 55281',\n",
       " 'Jl. Urip Sumoharjo No.111A, Klitren, Kec. Gondokusuman, Kota Yogyakarta, Daerah Istimewa Yogyakarta 55222',\n",
       " 'Jl. Naga No.01, Karang Wuni, Caturtunggal, Kec. Depok, Kabupaten Sleman, Daerah Istimewa Yogyakarta 55281',\n",
       " 'Jl. Laksda Adisucipto No.80, Demangan Baru, Caturtunggal, Kec. Depok, Kabupaten Sleman, Daerah Istimewa Yogyakarta 55281',\n",
       " 'Ground Floor, Jl. Urip Sumoharjo No.37, Klitren, Kec. Gondokusuman, Kota Yogyakarta, Daerah Istimewa Yogyakarta 55522',\n",
       " 'Gg. Cokrowolo, Kocoran, Caturtunggal, Kec. Depok, Kabupaten Sleman, Daerah Istimewa Yogyakarta 55281',\n",
       " 'Jl. C. Simanjuntak No.72a, Terban, Kec. Gondokusuman, Kota Yogyakarta, Daerah Istimewa Yogyakarta 55221',\n",
       " 'Jl. Urip Sumoharjo No.11, Klitren, Kec. Gondokusuman, Kota Yogyakarta, Daerah Istimewa Yogyakarta 55222',\n",
       " 'Gg. Melon No.12, Mundusaren, Caturtunggal, Kec. Depok, Kabupaten Sleman, Daerah Istimewa Yogyakarta 55281',\n",
       " 'Jl. Jend. Sudirman, Terban, Kec. Gondokusuman, Kota Yogyakarta, Daerah Istimewa Yogyakarta 55223',\n",
       " 'Jl. Jend. Sudirman No.69, Terban, Kec. Gondokusuman, Kota Yogyakarta, Daerah Istimewa Yogyakarta 55223',\n",
       " 'Jl. Kesehatan B Jl. Kesehatan Sendowo No.43, Sendowo, Sinduadi, Kec. Mlati, Kabupaten Sleman, Daerah Istimewa Yogyakarta 55281',\n",
       " 'Hotel Tentrem Area, Jl. A.M. Sangaji No.72 A, Cokrodiningratan, Kec. Jetis, Kota Yogyakarta, Daerah Istimewa Yogyakarta 55233',\n",
       " '69MJ+H55, Gg. Cokrowolo, Kocoran, Caturtunggal, Kec. Depok, Kabupaten Sleman, Daerah Istimewa Yogyakarta 55281',\n",
       " '69CC+C67, Terban, Kec. Gondokusuman, Kota Yogyakarta, Daerah Istimewa Yogyakarta 55223',\n",
       " 'Hotel Tentrem, Jl. A.M. Sangaji No.72A, Cokrodiningratan, Kec. Jetis, Kota Yogyakarta, Daerah Istimewa Yogyakarta 55233',\n",
       " 'Jl. Jend. Sudirman No.5, Gowongan, Kec. Jetis, Kota Yogyakarta, Daerah Istimewa Yogyakarta 55233',\n",
       " 'Jl. Pandega Wirabuana No.3, Manggung, Caturtunggal, Kec. Depok, Kabupaten Sleman, Daerah Istimewa Yogyakarta 55281',\n",
       " '69VJ+CWM, Manggung, Caturtunggal, Kec. Depok, Kabupaten Sleman, Daerah Istimewa Yogyakarta 55281',\n",
       " 'Jl. Magelang - Yogyakarta KM.4,5 No.158, Rogoyudan, Sinduadi, Kec. Mlati, Kabupaten Sleman, Daerah Istimewa Yogyakarta 55284',\n",
       " 'JL. Jenderal Sudirman, No. 99-101, Kotabaru, Kec. Gondokusuman, Kota Yogyakarta, Daerah Istimewa Yogyakarta 55224',\n",
       " 'Jl. Pakuningratan No.34, Cokrodiningratan, Kec. Jetis, Kota Yogyakarta, Daerah Istimewa Yogyakarta 55233',\n",
       " '6CR5+QR5, Jl. Ringin Raya, Ngringin, Condongcatur, Kec. Depok, Kabupaten Sleman, Daerah Istimewa Yogyakarta 55281',\n",
       " 'Jl. Ringin Raya No.4, Ngringin, Condongcatur, Kec. Depok, Kabupaten Sleman, Daerah Istimewa Yogyakarta 55281',\n",
       " 'Jl. Ring Road Utara No.273, Ngropoh, Condongcatur, Kec. Depok, Kabupaten Sleman, Daerah Istimewa Yogyakarta 55281',\n",
       " 'Jl. Perumnas No.9, Kledokan, Caturtunggal, Kec. Depok, Kabupaten Sleman, Daerah Istimewa Yogyakarta 55281',\n",
       " '69VX+MQC, Sanggrahan, Condongcatur, Kec. Depok, Kabupaten Sleman, Daerah Istimewa Yogyakarta',\n",
       " 'Jl. Manggis No.2-6, Gempol, Condongcatur, Kec. Depok, Kabupaten Sleman, Daerah Istimewa Yogyakarta 55281',\n",
       " 'Jalan Ring Road Utara, 6CP9+W4J, Jl. Utama, Jenengan, Maguwoharjo, Kec. Depok, Kabupaten Sleman, Daerah Istimewa Yogyakarta 55281',\n",
       " 'Jl. Ringin Raya No.123, Ngringin, Condongcatur, Kec. Depok, Kabupaten Sleman, Daerah Istimewa Yogyakarta 55281',\n",
       " 'Jl. Selokan Mataram No.1-3, Kledokan, Caturtunggal, Kec. Depok, Kabupaten Sleman, Daerah Istimewa Yogyakarta 55281',\n",
       " 'Jl. Wahid Hasyim No.73, Ngropoh, Condongcatur, Kec. Depok, Kabupaten Sleman, Daerah Istimewa Yogyakarta 55281',\n",
       " '6CV5+F47, Jl. Perumnas Jl. Flamboyan, Perumnas Condong Catur, Condongcatur, Kec. Depok, Kabupaten Sleman, Daerah Istimewa Yogyakarta 53356',\n",
       " '6CV4+FX7, Perumnas Condong Catur, Condongcatur, Kec. Depok, Kabupaten Sleman, Daerah Istimewa Yogyakarta 55281',\n",
       " 'Jl. Perumnas No.184, Kledokan, Condongcatur, Kec. Depok, Kabupaten Sleman, Daerah Istimewa Yogyakarta 55281',\n",
       " 'Jl. Seturan Raya No.4, Kledokan, Caturtunggal, Kec. Depok, Kabupaten Sleman, Daerah Istimewa Yogyakarta 55281',\n",
       " 'Jl. Perumnas No.83, Dabag, Condongcatur, Kec. Depok, Kabupaten Sleman, Daerah Istimewa Yogyakarta 55281',\n",
       " 'Jl. Laksda Adisucipto No.82, Ambarukmo, Caturtunggal, Sleman, Kota Yogyakarta, Daerah Istimewa Yogyakarta 55281',\n",
       " 'Jalan Rasamala No 10 B, Gejayan CondongcaturNgabean, Wetan, Sinduharjo, Ngaglik, Sleman Regency, Special Region of Yogyakarta 55281',\n",
       " '4326+Q39, Kepek, Glagah, Kec. Temon, Kabupaten Kulon Progo, Daerah Istimewa Yogyakarta 55654',\n",
       " '426X+3HM, Glampingan, Sindutan, Kec. Temon, Kabupaten Kulon Progo, Daerah Istimewa Yogyakarta 55654',\n",
       " 'Yogyakarta International Airport Glagah, 4325+436, Kragon 2, Palihan, Temon, Kulon Progo Regency, Special Region of Yogyakarta 55654',\n",
       " '428X+8J5, Plempukan, Sindutan, Kec. Temon, Kabupaten Kulon Progo, Daerah Istimewa Yogyakarta',\n",
       " '437H+592, Kadilangu Kidul, Temon Kulon, Kec. Temon, Kabupaten Kulon Progo, Daerah Istimewa Yogyakarta 55654',\n",
       " '437M+576, Kaliwangan, Temon Wetan, Kec. Temon, Kabupaten Kulon Progo, Daerah Istimewa Yogyakarta 55654',\n",
       " '44C3+XV2, Kedunadang II, Kedundang, Kec. Temon, Kabupaten Kulon Progo, Daerah Istimewa Yogyakarta 55654',\n",
       " '428X+7H7, Plempukan, Sindutan, Kec. Temon, Kabupaten Kulon Progo, Daerah Istimewa Yogyakarta',\n",
       " '44J4+P76, Kaligayam, Kulur, Kec. Temon, Kabupaten Kulon Progo, Daerah Istimewa Yogyakarta 55654',\n",
       " 'Dusun II, Dadirejo, Kec. Bagelen, Kabupaten Purworejo, Jawa Tengah 54174',\n",
       " '428W+J74, Area Kebun, Sindutan, Kec. Temon, Kabupaten Kulon Progo, Daerah Istimewa Yogyakarta 55654',\n",
       " '34V9+JMF, Jl. Mukidi, Kuwirun, Kulwaru, Kec. Wates, Kabupaten Kulon Progo, Daerah Istimewa Yogyakarta 55651',\n",
       " 'Josutan RT 22/10, Sendang, Karangsari, Kec. Pengasih, Kabupaten Kulon Progo, Daerah Istimewa Yogyakarta 55652',\n",
       " '33VH+2PC, Glagah, Kec. Temon, Kabupaten Kulon Progo, Daerah Istimewa Yogyakarta 55654',\n",
       " '44MH+Q89, Josutan, Karangsari, Kec. Pengasih, Kabupaten Kulon Progo, Daerah Istimewa Yogyakarta 55652',\n",
       " 'Unnamed Road, 45J2+F4Q, Kedunggong, Wates, Kec. Wates, Kabupaten Kulon Progo, Daerah Istimewa Yogyakarta 55651',\n",
       " '448R+RV6, Ngrandu, Triharjo, Kec. Wates, Kabupaten Kulon Progo, Daerah Istimewa Yogyakarta 55651',\n",
       " '44VG+CRF, Penggung, Hargorejo, Kec. Kokap, Kabupaten Kulon Progo, Daerah Istimewa Yogyakarta 55653',\n",
       " 'Granti Wetan, Ngestiharjo, Kec. Wates, Kabupaten Kulon Progo, Daerah Istimewa Yogyakarta',\n",
       " '444W+864, Jl. KH. Wahid Hasyim, Klopo Sepuluh, Bendungan, Kec. Wates, Kabupaten Kulon Progo, Daerah Istimewa Yogyakarta 55651',\n",
       " '59R6+JF8, Jl. Magangan Kulon, Panembahan, Kecamatan Kraton, Kota Yogyakarta, Daerah Istimewa Yogyakarta 55133',\n",
       " 'Lorong Barat Gg. Cemp. No.17426, Mantrijeron, Kec. Mantrijeron, Kota Yogyakarta, Daerah Istimewa Yogyakarta 55143',\n",
       " 'Jl. Nagan Lor No.27, Patehan, Kecamatan Kraton, Kota Yogyakarta, Daerah Istimewa Yogyakarta 55133',\n",
       " 'No, Jl. Alun-Alun Utara No.1, Kadipaten, Kecamatan Kraton, Kota Yogyakarta, Daerah Istimewa Yogyakarta 55132',\n",
       " 'Indies, Jl. Prawirotaman 3, Brontokusuman, Kec. Mergangsan, Kota Yogyakarta, Daerah Istimewa Yogyakarta 55153',\n",
       " 'Hotel Melia Purosani Yogyakarta Lobby Level No. 31, Gondomanan, Jl. Mayor Suryotomo, Ngupasan, Kec. Gondomanan, Kota Yogyakarta, Daerah Istimewa Yogyakarta 55122',\n",
       " 'Jl. Suryodiningratan No.26, RT.30/RW.08, Suryodiningratan, Kec. Mantrijeron, Kota Yogyakarta, Daerah Istimewa Yogyakarta 55141',\n",
       " 'Gg. Lowanu No.1323, Brontokusuman, Kec. Mergangsan, Kota Yogyakarta, Daerah Istimewa Yogyakarta 55153',\n",
       " 'Jl. Parangtritis No.81, Brontokusuman, Kec. Mergangsan, Kota Yogyakarta, Daerah Istimewa Yogyakarta 55143',\n",
       " 'Lantai Roof, Jogjatronik Mall, Jl. Brigjen Katamso No.75-77, Prawirodirjan, Gondomanan, Yogyakarta City, Special Region of Yogyakarta 55121',\n",
       " 'Jl. Prawirotaman No.1, Brontokusuman, Kec. Mergangsan, Kota Yogyakarta, Daerah Istimewa Yogyakarta 55153',\n",
       " '59J9+G7F Sekolah Dasar Negeri Timuran, Brontokusuman, Kec. Mergangsan, Kota Yogyakarta, Daerah Istimewa Yogyakarta 55143',\n",
       " 'Jl. Margo Mulyo No.23, Ngupasan, Kec. Gondomanan, Kota Yogyakarta, Daerah Istimewa Yogyakarta 55122',\n",
       " 'Jl. Sosrowijayan No.33, Sosromenduran, Gedong Tengen, Kota Yogyakarta, Daerah Istimewa Yogyakarta 55271',\n",
       " 'Jl. Parangtritis No.87, Brontokusuman, Kec. Mergangsan, Kota Yogyakarta, Daerah Istimewa Yogyakarta 55143',\n",
       " '59VG+3CW, Wirogunan, Kec. Mergangsan, Kota Yogyakarta, Daerah Istimewa Yogyakarta 55151',\n",
       " 'Jl. Pugeran No.6, Maguwoharjo, Kec. Depok, Kabupaten Sleman, Daerah Istimewa Yogyakarta 55141',\n",
       " 'Melia Purosani Hotel Yogyakarta Area, Jalan Mayor Suryotomo No. 31, Ngupasan, Ngupasan, Kec. Gondomanan, Kota Yogyakarta, Daerah Istimewa Yogyakarta 55122',\n",
       " 'JL. Prawirotaman, No. I / 5, 55152, Brontokusuman, Kec. Mergangsan, Kota Yogyakarta, Daerah Istimewa Yogyakarta 55153',\n",
       " '1 No, Jl. Prawirotaman No.16, Brontokusuman, Mergangsan, Yogyakarta City, Special Region of Yogyakarta 55153',\n",
       " 'Jl. A.M. Sangaji No.3, Gowongan, Kec. Jetis, Kota Yogyakarta, Daerah Istimewa Yogyakarta 55233',\n",
       " 'Jl. Kranggan No.44, Cokrodiningratan, Kec. Jetis, Kota Yogyakarta, Daerah Istimewa Yogyakarta 55233',\n",
       " 'Jl. Jlagran No.18, Pringgokusuman, Gedong Tengen, Kota Yogyakarta, Daerah Istimewa Yogyakarta 55272',\n",
       " 'Jl. Margo Utomo No.55, Gowongan, Kec. Jetis, Kota Yogyakarta, Daerah Istimewa Yogyakarta 55233',\n",
       " 'Jl. Sosrowijayan No.71, Sosromenduran, Gedong Tengen, Kota Yogyakarta, Daerah Istimewa Yogyakarta 55272',\n",
       " '6979+Q7M, Jl. Kp. Jogoyudan, Gowongan, Kec. Jetis, Kota Yogyakarta, Daerah Istimewa Yogyakarta 55233',\n",
       " 'Depan KR, Jl. P. Mangkubumi, Gowongan, Kec. Jetis, Kota Yogyakarta, Daerah Istimewa Yogyakarta 55233',\n",
       " 'Jl. Mataram No.18, Suryatmajan, Kec. Danurejan, Kota Yogyakarta, Daerah Istimewa Yogyakarta 55213',\n",
       " '6987+PF2, Gowongan, Kec. Jetis, Kota Yogyakarta, Daerah Istimewa Yogyakarta',\n",
       " 'Jl. Gowongan Lor No.333, Gowongan, Kec. Jetis, Kota Yogyakarta, Daerah Istimewa Yogyakarta 55233',\n",
       " 'Jl. Margo Utomo No.103, Gowongan, Kec. Jetis, Kota Yogyakarta, Daerah Istimewa Yogyakarta 55232',\n",
       " 'Jl. Malioboro No.60, RW.001, Suryatmajan, Kec. Danurejan, Kota Yogyakarta, Daerah Istimewa Yogyakarta 55213',\n",
       " 'Jl. Margo Utomo No.44, Gowongan, Kec. Jetis, Kota Yogyakarta, Daerah Istimewa Yogyakarta 55232',\n",
       " 'Jl. Parangtritis No.64, Mantrijeron, Kec. Mantrijeron, Kota Yogyakarta, Daerah Istimewa Yogyakarta 55143',\n",
       " 'Jl. Sunaryo No.3, Kotabaru, Kec. Gondokusuman, Kota Yogyakarta, Daerah Istimewa Yogyakarta 55224',\n",
       " 'Abadi Hotel Jogja, Jl. Ps. Kembang No.49, Sosromenduran, Gedong Tengen, Kota Yogyakarta, Daerah Istimewa Yogyakarta 55271',\n",
       " 'Jl. Laksda Adisucipto No.26, Ambarukmo, Caturtunggal, Kec. Depok, Kabupaten Sleman, Daerah Istimewa Yogyakarta 55281',\n",
       " 'Gg. Bima No.25, Gedongan, Sinduadi, Kec. Mlati, Kabupaten Sleman, Daerah Istimewa Yogyakarta 55284',\n",
       " 'Gang Hansip Karno Waluyo Tukangan, Jl. Tegal Panggung DN II No.664, Tegal Panggung, Kec. Danurejan, Kota Yogyakarta, Daerah Istimewa Yogyakarta 55212',\n",
       " 'Jl. Argolubang No.22, Baciro, Kec. Gondokusuman, Kota Yogyakarta, Daerah Istimewa Yogyakarta 55225',\n",
       " 'Jl. Kemetiran Kidul No.48, Pringgokusuman, Gedong Tengen, Kota Yogyakarta, Daerah Istimewa Yogyakarta 55272',\n",
       " 'Jl. Langenarjan Lor No.16, Panembahan, Kecamatan Kraton, Kota Yogyakarta, Daerah Istimewa Yogyakarta 55131',\n",
       " 'Jl Gandekan lor no 62, Pringgokusuman, Gedong Tengen, Kota Yogyakarta, Daerah Istimewa Yogyakarta 55272',\n",
       " 'Jl. KH. Ahmad Dahlan No.71, RW.08, Notoprajan, Ngampilan, Kota Yogyakarta, Daerah Istimewa Yogyakarta 55262',\n",
       " 'Jl. Krasak Timur No.10a, Kotabaru, Kec. Gondokusuman, Kota Yogyakarta, Daerah Istimewa Yogyakarta 55224',\n",
       " 'Jl. Sawojajar No.7, Panembahan, Kecamatan Kraton, Kota Yogyakarta, Daerah Istimewa Yogyakarta 55131',\n",
       " 'Jalan Asem Gede.6, RW No.RT.15, Gempol, Condongcatur, Kec. Depok, Kabupaten Sleman, Daerah Istimewa Yogyakarta 55283',\n",
       " 'Jl. Ronodigdayan No.70, Bausasran, Kec. Danurejan, Kota Yogyakarta, Daerah Istimewa Yogyakarta 55211',\n",
       " 'Jl. Margo Utomo No.30, Gowongan, Kec. Jetis, Kota Yogyakarta, Daerah Istimewa Yogyakarta 55233',\n",
       " 'jl. kaliurang km 9 Dayu, Jaban, Sinduharjo, Kec. Ngaglik, Kabupaten Sleman, Daerah Istimewa Yogyakarta 55581',\n",
       " 'DN I Jl. Sosrokusuman No.168, Suryatmajan, Kec. Danurejan, Kota Yogyakarta, Daerah Istimewa Yogyakarta 55213',\n",
       " 'Her 2, jl Merapi No.16, Dusun 2, Suroteleng, Kec. Selo, Kabupaten Boyolali, Jawa Tengah 57363',\n",
       " 'Kawasan Wisata Tlogo Putri, Jalan Tlogo Putri, Pakem, Kaliurang, Hargobinangun, Kec. Pakem, Kabupaten Sleman, Daerah Istimewa Yogyakarta 55582',\n",
       " 'Kaliurang Timur, RT.06/RW.15, Kaliurang, Hargobinangun, Kec. Pakem, Kabupaten Sleman, Daerah Istimewa Yogyakarta 55582',\n",
       " 'JL. Astarengga , Purwo Binangun, CC4G+M2G, Kaliurang, Hargobinangun, Kec. Pakem, Kabupaten Sleman, Daerah Istimewa Yogyakarta 55582',\n",
       " 'CC3R+645, Palemsari, Umbulharjo, Kec. Cangkringan, Kabupaten Sleman, Daerah Istimewa Yogyakarta 55583',\n",
       " 'Kedungsriti, Sidorejo, Umbulharjo, Kec. Cangkringan, Kabupaten Sleman, Daerah Istimewa Yogyakarta 55583',\n",
       " 'Jl. Raya Merapi Golf No.17, Balong, Umbulharjo, Kec. Cangkringan, Kabupaten Sleman, Daerah Istimewa Yogyakarta 55583',\n",
       " 'Kawasan Wisata Tlogo Putri, Jalan Tlogo Putri, Pakem, CC4M+W2V, Kaliurang, Hargobinangun, Kec. Pakem, Kabupaten Sleman, Daerah Istimewa Yogyakarta 55582',\n",
       " 'CC4J+9C7, Kaliurang, Hargobinangun, Kec. Pakem, Kabupaten Sleman, Daerah Istimewa Yogyakarta 55582',\n",
       " 'Kawasan Museum Ullen Sentalu, Jl. Boyong Km. 25, Kaliurang Barat, Kaliurang, Hargobinangun, Kec. Pakem, Kabupaten Sleman, Daerah Istimewa Yogyakarta 55582',\n",
       " '9CM9+WW2, Jl. Boyong, Bojong, Hargobinangun, Kec. Pakem, Kabupaten Sleman, Daerah Istimewa Yogyakarta 55582',\n",
       " 'Gondang, Umbulharjo, Kec. Cangkringan, Kabupaten Sleman, Daerah Istimewa Yogyakarta 55583',\n",
       " '9CJM+JG5, Jl. Raya Merapi Golf, Balong, Umbulharjo, Kec. Cangkringan, Kabupaten Sleman, Daerah Istimewa Yogyakarta 55583',\n",
       " 'CC4J+866, Jl. Tlogo Putri, Kaliurang, Hargobinangun, Kec. Pakem, Kabupaten Sleman, Daerah Istimewa Yogyakarta 55582',\n",
       " '9C9M+XQ2, Karanggeneng, Umbulharjo, Kec. Cangkringan, Kabupaten Sleman, Daerah Istimewa Yogyakarta 55583',\n",
       " 'Grogol Gambretan, RT.03/RW.09, Grogol, Umbulharjo, Kec. Cangkringan, Kabupaten Sleman, Daerah Istimewa Yogyakarta 55583',\n",
       " 'Jalan Tlogo Putri, Kaliurang,, Kelurahan Hargobinangun, Kecamatan Pakem, Sleman, Kaliurang, Hargobinangun, Kec. Pakem, Kabupaten Sleman, Daerah Istimewa Yogyakarta 55585',\n",
       " '9CWF+P6F, Kaliurang, Hargobinangun, Kec. Pakem, Kabupaten Sleman, Daerah Istimewa Yogyakarta 55582',\n",
       " 'Jl. Raya Merapi Golf Barat No.8, Gambretan, Umbulharjo, Kec. Cangkringan, Yogyakarta, Daerah Istimewa Yogyakarta 57373',\n",
       " 'Jl. Kaliadem No.Manggong, 9F94+J63, Pager Jurang, Kepuharjo, Kec. Cangkringan, Kabupaten Sleman, Daerah Istimewa Yogyakarta 55583',\n",
       " '8CF5+HGF, Jl. Harjobinangun, Kalidadap, Harjobinangun, Kec. Pakem, Kabupaten Sleman, Daerah Istimewa Yogyakarta 55582',\n",
       " 'Jl. Pakem - Turi No.23, Blembem Lor, Harjobinangun, Kec. Pakem, Kabupaten Sleman, Daerah Istimewa Yogyakarta 55582',\n",
       " 'Gg. Ledok Tukangan No.52, Tegal Panggung, Kec. Danurejan, Kota Yogyakarta, Daerah Istimewa Yogyakarta 55212',\n",
       " 'Jl. Krasak Timur No.24, Kotabaru, Kec. Gondokusuman, Kota Yogyakarta, Daerah Istimewa Yogyakarta 55224',\n",
       " '3M2F+9F4, Gedang Rejo, Gedangrejo, Kec. Karangmojo, Kabupaten Gunung Kidul, Daerah Istimewa Yogyakarta 55891',\n",
       " 'Jl. Pudak No.42, Pandansari, Wonosari, Kec. Wonosari, Kabupaten Gunung Kidul, Daerah Istimewa Yogyakarta 55851',\n",
       " 'Jl. Kenanga No.19, Purbosari, Wonosari, Kec. Wonosari, Kabupaten Gunung Kidul, Daerah Istimewa Yogyakarta 55851',\n",
       " 'Trimulyo I, Kepek, Kec. Wonosari, Kabupaten Gunung Kidul, Daerah Istimewa Yogyakarta 55813',\n",
       " 'Gadungsari, Wonosari, Kec. Wonosari, Kabupaten Gunung Kidul, Daerah Istimewa Yogyakarta 55851',\n",
       " '2JM3+8Q4, Jl. Kenanga, Purbosari, Wonosari, Kec. Wonosari, Kabupaten Gunung Kidul, Daerah Istimewa Yogyakarta 55851',\n",
       " '3J97+WHF, Duwetrejo, Karangtengah, Kec. Wonosari, Kabupaten Gunung Kidul, Daerah Istimewa Yogyakarta',\n",
       " '2JF2+R4P, Seneng, seneng, Kec. Wonosari, Kabupaten Gunung Kidul, Daerah Istimewa Yogyakarta 55851',\n",
       " '2HJW+PQC, Trimulyo I, Kepek, Kec. Wonosari, Kabupaten Gunung Kidul, Daerah Istimewa Yogyakarta 55813',\n",
       " 'Jl. Flamboyan No.20, RT.01/RW.01, Trimulyo I, Kepek, Kec. Wonosari, Kabupaten Gunung Kidul, Daerah Istimewa Yogyakarta',\n",
       " 'Bansari Rt. 01/ Rw. 04, Kepek, Wonosari, Bansari, Kepek, Kec. Wonosari, Kabupaten Gunung Kidul, Daerah Istimewa Yogyakarta 55813',\n",
       " 'Jl. Baron, Pasar, Besole, Kec. Wonosari, Kabupaten Gunung Kidul, Daerah Istimewa Yogyakarta 55881',\n",
       " '2HJ6+8H9, Pulutan, Kec. Wonosari, Kabupaten Gunung Kidul, Daerah Istimewa Yogyakarta 55851',\n",
       " 'Unnamed Road, 5M8Q+JH4, Gelaran, Kampung, Kec. Ngawen, Kabupaten Gunung Kidul, Daerah Istimewa Yogyakarta 55853',\n",
       " '2M8V+7V5, BoloDukuh lor, Sidorejo, Kec. Ponjong, Kabupaten Gunung Kidul, Daerah Istimewa Yogyakarta 55892',\n",
       " 'Jl. Manthous No.17, Sumber Rejo, Ngawu, Kec. Playen, Kabupaten Gunung Kidul, Daerah Istimewa Yogyakarta 55861',\n",
       " '2JC2+PF9, Karang Duwet I, Karangrejek, Kec. Wonosari, Kabupaten Gunung Kidul, Daerah Istimewa Yogyakarta 55851',\n",
       " 'Besari, Siraman, Kec. Wonosari, Kabupaten Gunung Kidul, Daerah Istimewa Yogyakarta 55851',\n",
       " '4MMW+F7F, RT.003/RW.002, Sambirejo, Watusigar, Kec. Ngawen, Kabupaten Gunung Kidul, Daerah Istimewa Yogyakarta 55853',\n",
       " 'Jl. Dewandaru Jl. Madusari No.66, Madusari, Kepek, Kec. Wonosari, Kabupaten Gunung Kidul, Daerah Istimewa Yogyakarta 55813',\n",
       " 'Unnamed Road, 3M82+FW9, Seropan, Bejiharjo, Kec. Karangmojo, Kabupaten Gunung Kidul, Daerah Istimewa Yogyakarta 55891',\n",
       " 'Gunungbang, Bejiharjo, Kec. Karangmojo, Kabupaten Gunung Kidul, Daerah Istimewa Yogyakarta 55891',\n",
       " '3JCR+FP4, Karang Lor, Bejiharjo, Kec. Karangmojo, Kabupaten Gunung Kidul, Daerah Istimewa Yogyakarta 55891',\n",
       " '3MC3+9H4, Seropan, Bejiharjo, Kec. Karangmojo, Kabupaten Gunung Kidul, Daerah Istimewa Yogyakarta 55891',\n",
       " 'Nglampar, Wiladeg, Kec. Karangmojo, Kabupaten Gunung Kidul, Daerah Istimewa Yogyakarta',\n",
       " '3J5C+5FF, Grogol I, Bejiharjo, Kec. Karangmojo, Kabupaten Gunung Kidul, Daerah Istimewa Yogyakarta 55891',\n",
       " 'Jl. Karangmojo - Wonosari, Karangmojo, Kec. Karangmojo, Kabupaten Gunung Kidul, Daerah Istimewa Yogyakarta 55891',\n",
       " 'Jl. Ki Demang Wonopawiro Jl. Ngemplek No.16, Ngrebah I, Piyaman, Kec. Wonosari, Kabupaten Gunung Kidul, Daerah Istimewa Yogyakarta 55851',\n",
       " 'Jl. Perumahan pal gading regency blok E 26, Logandeng, Kec. Playen, Kabupaten Gunung Kidul, Daerah Istimewa Yogyakarta 55851',\n",
       " '2M32+537, Munggi Ps., Semanu, Kec. Semanu, Kabupaten Gunung Kidul, Daerah Istimewa Yogyakarta 55893',\n",
       " 'Jl.Wonosari-Yogyakarta KM. 5 Bandung Playen Bandung, Bandung, Kabupaten Gunung Kidul, Daerah Istimewa Yogyakarta 55861',\n",
       " '2HQW+5MG, Jl. Soka, Kepek I, Kepek, Kec. Wonosari, Kabupaten Gunung Kidul, Daerah Istimewa Yogyakarta 55813',\n",
       " 'Jl. Pemuda No.235, Gadungsari, Wonosari, Kec. Wonosari, Kabupaten Gunung Kidul, Daerah Istimewa Yogyakarta 55851',\n",
       " 'Daerah Istimewa, Jl. Baron No.54, Seneng, Siraman, Kec. Wonosari, Kabupaten Gunung Kidul, Daerah Istimewa Yogyakarta 55851',\n",
       " 'Jl. Nasional III No.4, Logandeng, Kec. Playen, Kabupaten Gunung Kidul, Daerah Istimewa Yogyakarta 55861',\n",
       " 'Logandeng, 21/05, Logandeng, Kec. Playen, Kabupaten Gunung Kidul, Daerah Istimewa Yogyakarta 55861',\n",
       " 'Jl. Karangmojo Semanu No.16, Munggi, Kec. Semanu, Kabupaten Gunung Kidul, Daerah Istimewa Yogyakarta 55893',\n",
       " 'Jalan Ki Ageng Giring, 2HHQ+QR5, Siraman, Wonosari, Sumbermulyo, Kepek, Kec. Wonosari, Kabupaten Gunung Kidul, Daerah Istimewa Yogyakarta 55851',\n",
       " 'Jl. Baron No.52, Purwosari, Baleharjo, Kec. Wonosari, Kabupaten Gunung Kidul, Daerah Istimewa Yogyakarta 55851',\n",
       " 'Jl. KH Agus Salim, Kepek I, Kepek, Kec. Wonosari, Kabupaten Gunung Kidul, Daerah Istimewa Yogyakarta 55813',\n",
       " 'Unnamed Road, 3J5M+VC4, Grogol V, Bejiharjo, Kec. Karangmojo, Kabupaten Gunung Kidul, Daerah Istimewa Yogyakarta 55891',\n",
       " '3J2V+2CF, Ngringin, Bejiharjo, Kec. Karangmojo, Kabupaten Gunung Kidul, Daerah Istimewa Yogyakarta 55891',\n",
       " '3J4P+J3V, Gn. Sari, Bejiharjo, Kec. Karangmojo, Kabupaten Gunung Kidul, Daerah Istimewa Yogyakarta 55891',\n",
       " '3MJ5+9JM, Sokoliman II, Bejiharjo, Kec. Karangmojo, Kabupaten Gunung Kidul, Daerah Istimewa Yogyakarta 55891',\n",
       " '3MP7+82C, Sokoliman I, Bejiharjo, Kec. Karangmojo, Kabupaten Gunung Kidul, Daerah Istimewa Yogyakarta 55891',\n",
       " '3J7F+HV, Grogol III, Bejiharjo, Kec. Karangmojo, Kabupaten Gunung Kidul, Daerah Istimewa Yogyakarta',\n",
       " '2MWH+MP7, Jl. Karangmojo Semanu, Karangmojo, Kec. Karangmojo, Kabupaten Gunung Kidul, Daerah Istimewa Yogyakarta 55891',\n",
       " '3MQ6+CHX, Sokoliman I, Bejiharjo, Kec. Karangmojo, Kabupaten Gunung Kidul, Daerah Istimewa Yogyakarta 55891',\n",
       " '3MM7+9C9, Sokoliman I, Bejiharjo, Kec. Karangmojo, Kabupaten Gunung Kidul, Daerah Istimewa Yogyakarta 55891',\n",
       " '3J96+P2M, Gg. Atisegoro, Kajar I, Karangtengah, Kec. Wonosari, Kabupaten Gunung Kidul, Daerah Istimewa Yogyakarta 55851',\n",
       " '2MP6+5V9, Ngunut Lor, Kelor, Kec. Karangmojo, Kabupaten Gunung Kidul, Daerah Istimewa Yogyakarta 55891',\n",
       " '2JCP+GJ8, Gandu I, Bendungan, Kec. Karangmojo, Kabupaten Gunung Kidul, Daerah Istimewa Yogyakarta 55891',\n",
       " '3MC3+3RQ, Seropan, Bejiharjo, Kec. Karangmojo, Kabupaten Gunung Kidul, Daerah Istimewa Yogyakarta 55891',\n",
       " '4M3R+365, Jl. Karangmojo Semin, Candi 7, Jatiayu, Kec. Karangmojo, Kabupaten Gunung Kidul, Daerah Istimewa Yogyakarta 55891',\n",
       " '3J74+9HP, Kajar II, Karangtengah, Kec. Wonosari, Kabupaten Gunung Kidul, Daerah Istimewa Yogyakarta 55851',\n",
       " '3JP2+MW8, Ngringin, Gari, Kec. Wonosari, Kabupaten Gunung Kidul, Daerah Istimewa Yogyakarta 55851',\n",
       " '2MXF+383, Jl. Karangmojo - Wonosari, Gedang Rejo, Gedangrejo, Kec. Karangmojo, Kabupaten Gunung Kidul, Daerah Istimewa Yogyakarta 55891',\n",
       " 'Jln nglipar ngawen Ngrandu 004/001 katongan nglipar SD gentungan ketimur 06.00-20.00 2mb, Mojosari, Katongan, Kec. Nglipar, Kabupaten Gunung Kidul, Daerah Istimewa Yogyakarta 55852',\n",
       " '3J39+9V7, Grogol IV, Bejiharjo, Kec. Karangmojo, Kabupaten Gunung Kidul, Daerah Istimewa Yogyakarta 55891',\n",
       " 'GEDANGSARI RT 04, RW.05, Wukirsari, Baleharjo, Kec. Wonosari, Kabupaten Gunung Kidul, Daerah Istimewa Yogyakarta']"
      ]
     },
     "execution_count": 9,
     "metadata": {},
     "output_type": "execute_result"
    }
   ],
   "source": [
    "df['FormattedAddress'].tolist()"
   ]
  },
  {
   "cell_type": "code",
   "execution_count": 10,
   "metadata": {
    "id": "l6Nf3hqxAdSB"
   },
   "outputs": [],
   "source": [
    "df2 = pd.DataFrame()"
   ]
  },
  {
   "cell_type": "code",
   "execution_count": 11,
   "metadata": {
    "id": "gw_Mg65jAgCf"
   },
   "outputs": [],
   "source": [
    "df2['Place_ID'] = df['Place_ID']\n",
    "df2['Name'] = df['Name']"
   ]
  },
  {
   "cell_type": "code",
   "execution_count": 12,
   "metadata": {
    "id": "zycmwtTzAbYw"
   },
   "outputs": [],
   "source": [
    "df2['Province'] = df['FormattedAddress'].str.split(',').str[-1].str.strip().str.split().str[:-1].str.join(' ')\n",
    "df2['PostalNumber'] = df['FormattedAddress'].str.split().str[-1]"
   ]
  },
  {
   "cell_type": "code",
   "execution_count": 13,
   "metadata": {
    "colab": {
     "base_uri": "https://localhost:8080/",
     "height": 676
    },
    "id": "NePnYejeAoGZ",
    "outputId": "98040544-4194-49a3-d9b0-4a14349a1155"
   },
   "outputs": [
    {
     "data": {
      "text/html": [
       "<div>\n",
       "<style scoped>\n",
       "    .dataframe tbody tr th:only-of-type {\n",
       "        vertical-align: middle;\n",
       "    }\n",
       "\n",
       "    .dataframe tbody tr th {\n",
       "        vertical-align: top;\n",
       "    }\n",
       "\n",
       "    .dataframe thead th {\n",
       "        text-align: right;\n",
       "    }\n",
       "</style>\n",
       "<table border=\"1\" class=\"dataframe\">\n",
       "  <thead>\n",
       "    <tr style=\"text-align: right;\">\n",
       "      <th></th>\n",
       "      <th>Place_ID</th>\n",
       "      <th>Name</th>\n",
       "      <th>Province</th>\n",
       "      <th>PostalNumber</th>\n",
       "    </tr>\n",
       "  </thead>\n",
       "  <tbody>\n",
       "    <tr>\n",
       "      <th>0</th>\n",
       "      <td>ChIJ8b3du_dZei4R5Csj9BqdzsM</td>\n",
       "      <td>LOKO CAFE STASIUN TUGU</td>\n",
       "      <td>Daerah Istimewa</td>\n",
       "      <td>Yogyakarta</td>\n",
       "    </tr>\n",
       "    <tr>\n",
       "      <th>1</th>\n",
       "      <td>ChIJ-1OO3xhZei4RpiUw_jIlPBQ</td>\n",
       "      <td>TUGU LOR</td>\n",
       "      <td>Daerah Istimewa Yogyakarta</td>\n",
       "      <td>55233</td>\n",
       "    </tr>\n",
       "    <tr>\n",
       "      <th>2</th>\n",
       "      <td>ChIJAbDRQ7pZei4Rm8oXtJg74k8</td>\n",
       "      <td>Ramu Nostalgia - Tugu Yogyakarta</td>\n",
       "      <td>Daerah Istimewa Yogyakarta</td>\n",
       "      <td>55233</td>\n",
       "    </tr>\n",
       "    <tr>\n",
       "      <th>3</th>\n",
       "      <td>ChIJWW-U4vlZei4RHX6ILzVTvcA</td>\n",
       "      <td>Kedai Kolega Tugu</td>\n",
       "      <td>Daerah Istimewa Yogyakarta</td>\n",
       "      <td>55232</td>\n",
       "    </tr>\n",
       "    <tr>\n",
       "      <th>4</th>\n",
       "      <td>ChIJq6pHmTBYei4RlTjahkZgUlY</td>\n",
       "      <td>Wedangan</td>\n",
       "      <td>Daerah Istimewa Yogyakarta</td>\n",
       "      <td>55233</td>\n",
       "    </tr>\n",
       "    <tr>\n",
       "      <th>...</th>\n",
       "      <td>...</td>\n",
       "      <td>...</td>\n",
       "      <td>...</td>\n",
       "      <td>...</td>\n",
       "    </tr>\n",
       "    <tr>\n",
       "      <th>546</th>\n",
       "      <td>ChIJ9bR2cARNei4RGT_bEf77qyk</td>\n",
       "      <td>Shafea home</td>\n",
       "      <td>Daerah Istimewa Yogyakarta</td>\n",
       "      <td>55851</td>\n",
       "    </tr>\n",
       "    <tr>\n",
       "      <th>547</th>\n",
       "      <td>ChIJNyTTyIK1ey4RvIRJaw8eSFk</td>\n",
       "      <td>KEDAI KAPTEN MUDA</td>\n",
       "      <td>Daerah Istimewa Yogyakarta</td>\n",
       "      <td>55891</td>\n",
       "    </tr>\n",
       "    <tr>\n",
       "      <th>548</th>\n",
       "      <td>ChIJbUgs4BZLei4RM6q6BWRgIQQ</td>\n",
       "      <td>KOPIYUK</td>\n",
       "      <td>Daerah Istimewa Yogyakarta</td>\n",
       "      <td>55852</td>\n",
       "    </tr>\n",
       "    <tr>\n",
       "      <th>549</th>\n",
       "      <td>ChIJ29d7H1VLei4REVfbBPkULPA</td>\n",
       "      <td>Karaoke Edy</td>\n",
       "      <td>Daerah Istimewa Yogyakarta</td>\n",
       "      <td>55891</td>\n",
       "    </tr>\n",
       "    <tr>\n",
       "      <th>550</th>\n",
       "      <td>ChIJn69MZXm1ey4RdBcckJestyQ</td>\n",
       "      <td>Rall's &amp; Dwy</td>\n",
       "      <td>Daerah Istimewa</td>\n",
       "      <td>Yogyakarta</td>\n",
       "    </tr>\n",
       "  </tbody>\n",
       "</table>\n",
       "<p>551 rows × 4 columns</p>\n",
       "</div>"
      ],
      "text/plain": [
       "                        Place_ID                              Name  \\\n",
       "0    ChIJ8b3du_dZei4R5Csj9BqdzsM            LOKO CAFE STASIUN TUGU   \n",
       "1    ChIJ-1OO3xhZei4RpiUw_jIlPBQ                          TUGU LOR   \n",
       "2    ChIJAbDRQ7pZei4Rm8oXtJg74k8  Ramu Nostalgia - Tugu Yogyakarta   \n",
       "3    ChIJWW-U4vlZei4RHX6ILzVTvcA                 Kedai Kolega Tugu   \n",
       "4    ChIJq6pHmTBYei4RlTjahkZgUlY                          Wedangan   \n",
       "..                           ...                               ...   \n",
       "546  ChIJ9bR2cARNei4RGT_bEf77qyk                       Shafea home   \n",
       "547  ChIJNyTTyIK1ey4RvIRJaw8eSFk                 KEDAI KAPTEN MUDA   \n",
       "548  ChIJbUgs4BZLei4RM6q6BWRgIQQ                           KOPIYUK   \n",
       "549  ChIJ29d7H1VLei4REVfbBPkULPA                       Karaoke Edy   \n",
       "550  ChIJn69MZXm1ey4RdBcckJestyQ                      Rall's & Dwy   \n",
       "\n",
       "                       Province PostalNumber  \n",
       "0               Daerah Istimewa   Yogyakarta  \n",
       "1    Daerah Istimewa Yogyakarta        55233  \n",
       "2    Daerah Istimewa Yogyakarta        55233  \n",
       "3    Daerah Istimewa Yogyakarta        55232  \n",
       "4    Daerah Istimewa Yogyakarta        55233  \n",
       "..                          ...          ...  \n",
       "546  Daerah Istimewa Yogyakarta        55851  \n",
       "547  Daerah Istimewa Yogyakarta        55891  \n",
       "548  Daerah Istimewa Yogyakarta        55852  \n",
       "549  Daerah Istimewa Yogyakarta        55891  \n",
       "550             Daerah Istimewa   Yogyakarta  \n",
       "\n",
       "[551 rows x 4 columns]"
      ]
     },
     "execution_count": 13,
     "metadata": {},
     "output_type": "execute_result"
    }
   ],
   "source": [
    "df2"
   ]
  },
  {
   "cell_type": "code",
   "execution_count": 14,
   "metadata": {
    "id": "ap-KHABMCARo"
   },
   "outputs": [],
   "source": [
    "df2['StreetAddress'] = ''\n",
    "df2['District'] = ''\n",
    "df2['City'] = ''\n",
    "df2['Regency'] = ''"
   ]
  },
  {
   "cell_type": "code",
   "execution_count": 15,
   "metadata": {
    "id": "tS9oX2zyCCUe"
   },
   "outputs": [],
   "source": [
    "for index, row in df.iterrows():\n",
    "    address_parts = row['FormattedAddress'].split(', ')\n",
    "    \n",
    "    # Extract the desired components based on specific patterns\n",
    "    for part in address_parts:\n",
    "        if part.startswith('Jl.'):\n",
    "            df2.at[index, 'StreetAddress'] = part\n",
    "        elif part.startswith('Kec. ') or part.startswith('Kecamatan'):\n",
    "            df2.at[index, 'District'] = part\n",
    "        elif part.startswith('Kota'):\n",
    "            df2.at[index, 'City'] = part\n",
    "        elif part.startswith('Kabupaten'):\n",
    "            df2.at[index, 'Regency'] = part"
   ]
  },
  {
   "cell_type": "code",
   "execution_count": 16,
   "metadata": {
    "colab": {
     "base_uri": "https://localhost:8080/",
     "height": 1000
    },
    "id": "LwwdxIqMCIMu",
    "outputId": "bbb3410b-fd88-4bf6-94d0-9542f6720993"
   },
   "outputs": [
    {
     "data": {
      "text/html": [
       "<div>\n",
       "<style scoped>\n",
       "    .dataframe tbody tr th:only-of-type {\n",
       "        vertical-align: middle;\n",
       "    }\n",
       "\n",
       "    .dataframe tbody tr th {\n",
       "        vertical-align: top;\n",
       "    }\n",
       "\n",
       "    .dataframe thead th {\n",
       "        text-align: right;\n",
       "    }\n",
       "</style>\n",
       "<table border=\"1\" class=\"dataframe\">\n",
       "  <thead>\n",
       "    <tr style=\"text-align: right;\">\n",
       "      <th></th>\n",
       "      <th>Place_ID</th>\n",
       "      <th>Name</th>\n",
       "      <th>Province</th>\n",
       "      <th>PostalNumber</th>\n",
       "      <th>StreetAddress</th>\n",
       "      <th>District</th>\n",
       "      <th>City</th>\n",
       "      <th>Regency</th>\n",
       "    </tr>\n",
       "  </thead>\n",
       "  <tbody>\n",
       "    <tr>\n",
       "      <th>0</th>\n",
       "      <td>ChIJ8b3du_dZei4R5Csj9BqdzsM</td>\n",
       "      <td>LOKO CAFE STASIUN TUGU</td>\n",
       "      <td>Daerah Istimewa</td>\n",
       "      <td>Yogyakarta</td>\n",
       "      <td></td>\n",
       "      <td></td>\n",
       "      <td>Kota Yogyakarta</td>\n",
       "      <td></td>\n",
       "    </tr>\n",
       "    <tr>\n",
       "      <th>1</th>\n",
       "      <td>ChIJ-1OO3xhZei4RpiUw_jIlPBQ</td>\n",
       "      <td>TUGU LOR</td>\n",
       "      <td>Daerah Istimewa Yogyakarta</td>\n",
       "      <td>55233</td>\n",
       "      <td></td>\n",
       "      <td>Kec. Jetis</td>\n",
       "      <td>Kota Yogyakarta</td>\n",
       "      <td></td>\n",
       "    </tr>\n",
       "    <tr>\n",
       "      <th>2</th>\n",
       "      <td>ChIJAbDRQ7pZei4Rm8oXtJg74k8</td>\n",
       "      <td>Ramu Nostalgia - Tugu Yogyakarta</td>\n",
       "      <td>Daerah Istimewa Yogyakarta</td>\n",
       "      <td>55233</td>\n",
       "      <td>Jl. A.M. Sangaji No.2</td>\n",
       "      <td>Kec. Jetis</td>\n",
       "      <td>Kota Yogyakarta</td>\n",
       "      <td></td>\n",
       "    </tr>\n",
       "    <tr>\n",
       "      <th>3</th>\n",
       "      <td>ChIJWW-U4vlZei4RHX6ILzVTvcA</td>\n",
       "      <td>Kedai Kolega Tugu</td>\n",
       "      <td>Daerah Istimewa Yogyakarta</td>\n",
       "      <td>55232</td>\n",
       "      <td>Jl. P. Mangkubumi No.21</td>\n",
       "      <td>Kec. Jetis</td>\n",
       "      <td>Kota Yogyakarta</td>\n",
       "      <td></td>\n",
       "    </tr>\n",
       "    <tr>\n",
       "      <th>4</th>\n",
       "      <td>ChIJq6pHmTBYei4RlTjahkZgUlY</td>\n",
       "      <td>Wedangan</td>\n",
       "      <td>Daerah Istimewa Yogyakarta</td>\n",
       "      <td>55233</td>\n",
       "      <td>Jl. A.M. Sangaji No.9</td>\n",
       "      <td>Kec. Jetis</td>\n",
       "      <td>Kota Yogyakarta</td>\n",
       "      <td></td>\n",
       "    </tr>\n",
       "    <tr>\n",
       "      <th>...</th>\n",
       "      <td>...</td>\n",
       "      <td>...</td>\n",
       "      <td>...</td>\n",
       "      <td>...</td>\n",
       "      <td>...</td>\n",
       "      <td>...</td>\n",
       "      <td>...</td>\n",
       "      <td>...</td>\n",
       "    </tr>\n",
       "    <tr>\n",
       "      <th>546</th>\n",
       "      <td>ChIJ9bR2cARNei4RGT_bEf77qyk</td>\n",
       "      <td>Shafea home</td>\n",
       "      <td>Daerah Istimewa Yogyakarta</td>\n",
       "      <td>55851</td>\n",
       "      <td></td>\n",
       "      <td>Kec. Wonosari</td>\n",
       "      <td></td>\n",
       "      <td>Kabupaten Gunung Kidul</td>\n",
       "    </tr>\n",
       "    <tr>\n",
       "      <th>547</th>\n",
       "      <td>ChIJNyTTyIK1ey4RvIRJaw8eSFk</td>\n",
       "      <td>KEDAI KAPTEN MUDA</td>\n",
       "      <td>Daerah Istimewa Yogyakarta</td>\n",
       "      <td>55891</td>\n",
       "      <td>Jl. Karangmojo - Wonosari</td>\n",
       "      <td>Kec. Karangmojo</td>\n",
       "      <td></td>\n",
       "      <td>Kabupaten Gunung Kidul</td>\n",
       "    </tr>\n",
       "    <tr>\n",
       "      <th>548</th>\n",
       "      <td>ChIJbUgs4BZLei4RM6q6BWRgIQQ</td>\n",
       "      <td>KOPIYUK</td>\n",
       "      <td>Daerah Istimewa Yogyakarta</td>\n",
       "      <td>55852</td>\n",
       "      <td></td>\n",
       "      <td>Kec. Nglipar</td>\n",
       "      <td></td>\n",
       "      <td>Kabupaten Gunung Kidul</td>\n",
       "    </tr>\n",
       "    <tr>\n",
       "      <th>549</th>\n",
       "      <td>ChIJ29d7H1VLei4REVfbBPkULPA</td>\n",
       "      <td>Karaoke Edy</td>\n",
       "      <td>Daerah Istimewa Yogyakarta</td>\n",
       "      <td>55891</td>\n",
       "      <td></td>\n",
       "      <td>Kec. Karangmojo</td>\n",
       "      <td></td>\n",
       "      <td>Kabupaten Gunung Kidul</td>\n",
       "    </tr>\n",
       "    <tr>\n",
       "      <th>550</th>\n",
       "      <td>ChIJn69MZXm1ey4RdBcckJestyQ</td>\n",
       "      <td>Rall's &amp; Dwy</td>\n",
       "      <td>Daerah Istimewa</td>\n",
       "      <td>Yogyakarta</td>\n",
       "      <td></td>\n",
       "      <td>Kec. Wonosari</td>\n",
       "      <td></td>\n",
       "      <td>Kabupaten Gunung Kidul</td>\n",
       "    </tr>\n",
       "  </tbody>\n",
       "</table>\n",
       "<p>551 rows × 8 columns</p>\n",
       "</div>"
      ],
      "text/plain": [
       "                        Place_ID                              Name  \\\n",
       "0    ChIJ8b3du_dZei4R5Csj9BqdzsM            LOKO CAFE STASIUN TUGU   \n",
       "1    ChIJ-1OO3xhZei4RpiUw_jIlPBQ                          TUGU LOR   \n",
       "2    ChIJAbDRQ7pZei4Rm8oXtJg74k8  Ramu Nostalgia - Tugu Yogyakarta   \n",
       "3    ChIJWW-U4vlZei4RHX6ILzVTvcA                 Kedai Kolega Tugu   \n",
       "4    ChIJq6pHmTBYei4RlTjahkZgUlY                          Wedangan   \n",
       "..                           ...                               ...   \n",
       "546  ChIJ9bR2cARNei4RGT_bEf77qyk                       Shafea home   \n",
       "547  ChIJNyTTyIK1ey4RvIRJaw8eSFk                 KEDAI KAPTEN MUDA   \n",
       "548  ChIJbUgs4BZLei4RM6q6BWRgIQQ                           KOPIYUK   \n",
       "549  ChIJ29d7H1VLei4REVfbBPkULPA                       Karaoke Edy   \n",
       "550  ChIJn69MZXm1ey4RdBcckJestyQ                      Rall's & Dwy   \n",
       "\n",
       "                       Province PostalNumber              StreetAddress  \\\n",
       "0               Daerah Istimewa   Yogyakarta                              \n",
       "1    Daerah Istimewa Yogyakarta        55233                              \n",
       "2    Daerah Istimewa Yogyakarta        55233      Jl. A.M. Sangaji No.2   \n",
       "3    Daerah Istimewa Yogyakarta        55232    Jl. P. Mangkubumi No.21   \n",
       "4    Daerah Istimewa Yogyakarta        55233      Jl. A.M. Sangaji No.9   \n",
       "..                          ...          ...                        ...   \n",
       "546  Daerah Istimewa Yogyakarta        55851                              \n",
       "547  Daerah Istimewa Yogyakarta        55891  Jl. Karangmojo - Wonosari   \n",
       "548  Daerah Istimewa Yogyakarta        55852                              \n",
       "549  Daerah Istimewa Yogyakarta        55891                              \n",
       "550             Daerah Istimewa   Yogyakarta                              \n",
       "\n",
       "            District             City                 Regency  \n",
       "0                     Kota Yogyakarta                          \n",
       "1         Kec. Jetis  Kota Yogyakarta                          \n",
       "2         Kec. Jetis  Kota Yogyakarta                          \n",
       "3         Kec. Jetis  Kota Yogyakarta                          \n",
       "4         Kec. Jetis  Kota Yogyakarta                          \n",
       "..               ...              ...                     ...  \n",
       "546    Kec. Wonosari                   Kabupaten Gunung Kidul  \n",
       "547  Kec. Karangmojo                   Kabupaten Gunung Kidul  \n",
       "548     Kec. Nglipar                   Kabupaten Gunung Kidul  \n",
       "549  Kec. Karangmojo                   Kabupaten Gunung Kidul  \n",
       "550    Kec. Wonosari                   Kabupaten Gunung Kidul  \n",
       "\n",
       "[551 rows x 8 columns]"
      ]
     },
     "execution_count": 16,
     "metadata": {},
     "output_type": "execute_result"
    }
   ],
   "source": [
    "df2"
   ]
  },
  {
   "cell_type": "code",
   "execution_count": 17,
   "metadata": {
    "colab": {
     "base_uri": "https://localhost:8080/",
     "height": 337
    },
    "id": "4CMwbxPQ-0BR",
    "outputId": "e0c422ce-4a55-480d-8ae0-6f4ca3bce9dd"
   },
   "outputs": [
    {
     "data": {
      "text/html": [
       "<div>\n",
       "<style scoped>\n",
       "    .dataframe tbody tr th:only-of-type {\n",
       "        vertical-align: middle;\n",
       "    }\n",
       "\n",
       "    .dataframe tbody tr th {\n",
       "        vertical-align: top;\n",
       "    }\n",
       "\n",
       "    .dataframe thead th {\n",
       "        text-align: right;\n",
       "    }\n",
       "</style>\n",
       "<table border=\"1\" class=\"dataframe\">\n",
       "  <thead>\n",
       "    <tr style=\"text-align: right;\">\n",
       "      <th></th>\n",
       "      <th>Place_ID</th>\n",
       "      <th>Name</th>\n",
       "      <th>Province</th>\n",
       "      <th>PostalNumber</th>\n",
       "      <th>StreetAddress</th>\n",
       "      <th>District</th>\n",
       "      <th>City</th>\n",
       "      <th>Regency</th>\n",
       "    </tr>\n",
       "  </thead>\n",
       "  <tbody>\n",
       "    <tr>\n",
       "      <th>0</th>\n",
       "      <td>ChIJ8b3du_dZei4R5Csj9BqdzsM</td>\n",
       "      <td>LOKO CAFE STASIUN TUGU</td>\n",
       "      <td>Daerah Istimewa</td>\n",
       "      <td>Yogyakarta</td>\n",
       "      <td></td>\n",
       "      <td></td>\n",
       "      <td>Kota Yogyakarta</td>\n",
       "      <td></td>\n",
       "    </tr>\n",
       "    <tr>\n",
       "      <th>1</th>\n",
       "      <td>ChIJ-1OO3xhZei4RpiUw_jIlPBQ</td>\n",
       "      <td>TUGU LOR</td>\n",
       "      <td>Daerah Istimewa Yogyakarta</td>\n",
       "      <td>55233</td>\n",
       "      <td></td>\n",
       "      <td>Kec. Jetis</td>\n",
       "      <td>Kota Yogyakarta</td>\n",
       "      <td></td>\n",
       "    </tr>\n",
       "    <tr>\n",
       "      <th>2</th>\n",
       "      <td>ChIJAbDRQ7pZei4Rm8oXtJg74k8</td>\n",
       "      <td>Ramu Nostalgia - Tugu Yogyakarta</td>\n",
       "      <td>Daerah Istimewa Yogyakarta</td>\n",
       "      <td>55233</td>\n",
       "      <td>Jl. A.M. Sangaji No.2</td>\n",
       "      <td>Kec. Jetis</td>\n",
       "      <td>Kota Yogyakarta</td>\n",
       "      <td></td>\n",
       "    </tr>\n",
       "    <tr>\n",
       "      <th>3</th>\n",
       "      <td>ChIJWW-U4vlZei4RHX6ILzVTvcA</td>\n",
       "      <td>Kedai Kolega Tugu</td>\n",
       "      <td>Daerah Istimewa Yogyakarta</td>\n",
       "      <td>55232</td>\n",
       "      <td>Jl. P. Mangkubumi No.21</td>\n",
       "      <td>Kec. Jetis</td>\n",
       "      <td>Kota Yogyakarta</td>\n",
       "      <td></td>\n",
       "    </tr>\n",
       "    <tr>\n",
       "      <th>4</th>\n",
       "      <td>ChIJq6pHmTBYei4RlTjahkZgUlY</td>\n",
       "      <td>Wedangan</td>\n",
       "      <td>Daerah Istimewa Yogyakarta</td>\n",
       "      <td>55233</td>\n",
       "      <td>Jl. A.M. Sangaji No.9</td>\n",
       "      <td>Kec. Jetis</td>\n",
       "      <td>Kota Yogyakarta</td>\n",
       "      <td></td>\n",
       "    </tr>\n",
       "  </tbody>\n",
       "</table>\n",
       "</div>"
      ],
      "text/plain": [
       "                      Place_ID                              Name  \\\n",
       "0  ChIJ8b3du_dZei4R5Csj9BqdzsM            LOKO CAFE STASIUN TUGU   \n",
       "1  ChIJ-1OO3xhZei4RpiUw_jIlPBQ                          TUGU LOR   \n",
       "2  ChIJAbDRQ7pZei4Rm8oXtJg74k8  Ramu Nostalgia - Tugu Yogyakarta   \n",
       "3  ChIJWW-U4vlZei4RHX6ILzVTvcA                 Kedai Kolega Tugu   \n",
       "4  ChIJq6pHmTBYei4RlTjahkZgUlY                          Wedangan   \n",
       "\n",
       "                     Province PostalNumber            StreetAddress  \\\n",
       "0             Daerah Istimewa   Yogyakarta                            \n",
       "1  Daerah Istimewa Yogyakarta        55233                            \n",
       "2  Daerah Istimewa Yogyakarta        55233    Jl. A.M. Sangaji No.2   \n",
       "3  Daerah Istimewa Yogyakarta        55232  Jl. P. Mangkubumi No.21   \n",
       "4  Daerah Istimewa Yogyakarta        55233    Jl. A.M. Sangaji No.9   \n",
       "\n",
       "     District             City Regency  \n",
       "0              Kota Yogyakarta          \n",
       "1  Kec. Jetis  Kota Yogyakarta          \n",
       "2  Kec. Jetis  Kota Yogyakarta          \n",
       "3  Kec. Jetis  Kota Yogyakarta          \n",
       "4  Kec. Jetis  Kota Yogyakarta          "
      ]
     },
     "execution_count": 17,
     "metadata": {},
     "output_type": "execute_result"
    }
   ],
   "source": [
    "df2.head()"
   ]
  },
  {
   "cell_type": "code",
   "execution_count": 18,
   "metadata": {},
   "outputs": [],
   "source": [
    "columns_to_include = [\"StreetAddress\",\"District\",\"City\",\"Regency\",\"Province\",\"PostalNumber\",]"
   ]
  },
  {
   "cell_type": "code",
   "execution_count": 19,
   "metadata": {},
   "outputs": [],
   "source": [
    "merged_df = pd.merge(df, df2[columns_to_include],left_index=True, right_index=True)"
   ]
  },
  {
   "cell_type": "code",
   "execution_count": 20,
   "metadata": {},
   "outputs": [
    {
     "data": {
      "text/html": [
       "<div>\n",
       "<style scoped>\n",
       "    .dataframe tbody tr th:only-of-type {\n",
       "        vertical-align: middle;\n",
       "    }\n",
       "\n",
       "    .dataframe tbody tr th {\n",
       "        vertical-align: top;\n",
       "    }\n",
       "\n",
       "    .dataframe thead th {\n",
       "        text-align: right;\n",
       "    }\n",
       "</style>\n",
       "<table border=\"1\" class=\"dataframe\">\n",
       "  <thead>\n",
       "    <tr style=\"text-align: right;\">\n",
       "      <th></th>\n",
       "      <th>Place_ID</th>\n",
       "      <th>Name</th>\n",
       "      <th>FormattedPhone</th>\n",
       "      <th>FormattedAddress</th>\n",
       "      <th>Latitude</th>\n",
       "      <th>Longitude</th>\n",
       "      <th>OverallRating</th>\n",
       "      <th>PriceLevel</th>\n",
       "      <th>Website</th>\n",
       "      <th>UserRatingTotal</th>\n",
       "      <th>...</th>\n",
       "      <th>ServesWine</th>\n",
       "      <th>ServesVegetarianFood</th>\n",
       "      <th>WheelchairAccessibleEntrance</th>\n",
       "      <th>Halal</th>\n",
       "      <th>StreetAddress</th>\n",
       "      <th>District</th>\n",
       "      <th>City</th>\n",
       "      <th>Regency</th>\n",
       "      <th>Province</th>\n",
       "      <th>PostalNumber</th>\n",
       "    </tr>\n",
       "  </thead>\n",
       "  <tbody>\n",
       "    <tr>\n",
       "      <th>0</th>\n",
       "      <td>ChIJ8b3du_dZei4R5Csj9BqdzsM</td>\n",
       "      <td>LOKO CAFE STASIUN TUGU</td>\n",
       "      <td>0812-2009-6492</td>\n",
       "      <td>Sosromenduran, Gedong Tengen, Kota Yogyakarta,...</td>\n",
       "      <td>-7.789311</td>\n",
       "      <td>110.363483</td>\n",
       "      <td>4.1</td>\n",
       "      <td>NaN</td>\n",
       "      <td>https://instagram.com/lokocafe?igshid=OTJlNzQ0...</td>\n",
       "      <td>12.0</td>\n",
       "      <td>...</td>\n",
       "      <td>None</td>\n",
       "      <td>None</td>\n",
       "      <td>None</td>\n",
       "      <td>False</td>\n",
       "      <td></td>\n",
       "      <td></td>\n",
       "      <td>Kota Yogyakarta</td>\n",
       "      <td></td>\n",
       "      <td>Daerah Istimewa</td>\n",
       "      <td>Yogyakarta</td>\n",
       "    </tr>\n",
       "    <tr>\n",
       "      <th>1</th>\n",
       "      <td>ChIJ-1OO3xhZei4RpiUw_jIlPBQ</td>\n",
       "      <td>TUGU LOR</td>\n",
       "      <td>(0274) 515268</td>\n",
       "      <td>Cokrodiningratan, Kec. Jetis, Kota Yogyakarta,...</td>\n",
       "      <td>-7.774089</td>\n",
       "      <td>110.368301</td>\n",
       "      <td>4.5</td>\n",
       "      <td>2.0</td>\n",
       "      <td>None</td>\n",
       "      <td>1644.0</td>\n",
       "      <td>...</td>\n",
       "      <td>False</td>\n",
       "      <td>None</td>\n",
       "      <td>False</td>\n",
       "      <td>True</td>\n",
       "      <td></td>\n",
       "      <td>Kec. Jetis</td>\n",
       "      <td>Kota Yogyakarta</td>\n",
       "      <td></td>\n",
       "      <td>Daerah Istimewa Yogyakarta</td>\n",
       "      <td>55233</td>\n",
       "    </tr>\n",
       "    <tr>\n",
       "      <th>2</th>\n",
       "      <td>ChIJAbDRQ7pZei4Rm8oXtJg74k8</td>\n",
       "      <td>Ramu Nostalgia - Tugu Yogyakarta</td>\n",
       "      <td>0851-5692-3734</td>\n",
       "      <td>Jl. A.M. Sangaji No.2, Cokrodiningratan, Kec. ...</td>\n",
       "      <td>-7.782492</td>\n",
       "      <td>110.367303</td>\n",
       "      <td>5.0</td>\n",
       "      <td>NaN</td>\n",
       "      <td>http://www.ramunostalgia.com/</td>\n",
       "      <td>17.0</td>\n",
       "      <td>...</td>\n",
       "      <td>False</td>\n",
       "      <td>None</td>\n",
       "      <td>None</td>\n",
       "      <td>True</td>\n",
       "      <td>Jl. A.M. Sangaji No.2</td>\n",
       "      <td>Kec. Jetis</td>\n",
       "      <td>Kota Yogyakarta</td>\n",
       "      <td></td>\n",
       "      <td>Daerah Istimewa Yogyakarta</td>\n",
       "      <td>55233</td>\n",
       "    </tr>\n",
       "    <tr>\n",
       "      <th>3</th>\n",
       "      <td>ChIJWW-U4vlZei4RHX6ILzVTvcA</td>\n",
       "      <td>Kedai Kolega Tugu</td>\n",
       "      <td>0821-3750-7055</td>\n",
       "      <td>Jl. P. Mangkubumi No.21, Gowongan, Kec. Jetis,...</td>\n",
       "      <td>-7.787412</td>\n",
       "      <td>110.366382</td>\n",
       "      <td>4.6</td>\n",
       "      <td>NaN</td>\n",
       "      <td>None</td>\n",
       "      <td>59.0</td>\n",
       "      <td>...</td>\n",
       "      <td>False</td>\n",
       "      <td>None</td>\n",
       "      <td>None</td>\n",
       "      <td>True</td>\n",
       "      <td>Jl. P. Mangkubumi No.21</td>\n",
       "      <td>Kec. Jetis</td>\n",
       "      <td>Kota Yogyakarta</td>\n",
       "      <td></td>\n",
       "      <td>Daerah Istimewa Yogyakarta</td>\n",
       "      <td>55232</td>\n",
       "    </tr>\n",
       "    <tr>\n",
       "      <th>4</th>\n",
       "      <td>ChIJq6pHmTBYei4RlTjahkZgUlY</td>\n",
       "      <td>Wedangan</td>\n",
       "      <td>None</td>\n",
       "      <td>Jl. A.M. Sangaji No.9, Cokrodiningratan, Kec. ...</td>\n",
       "      <td>-7.782092</td>\n",
       "      <td>110.367058</td>\n",
       "      <td>5.0</td>\n",
       "      <td>NaN</td>\n",
       "      <td>None</td>\n",
       "      <td>10.0</td>\n",
       "      <td>...</td>\n",
       "      <td>False</td>\n",
       "      <td>None</td>\n",
       "      <td>None</td>\n",
       "      <td>True</td>\n",
       "      <td>Jl. A.M. Sangaji No.9</td>\n",
       "      <td>Kec. Jetis</td>\n",
       "      <td>Kota Yogyakarta</td>\n",
       "      <td></td>\n",
       "      <td>Daerah Istimewa Yogyakarta</td>\n",
       "      <td>55233</td>\n",
       "    </tr>\n",
       "    <tr>\n",
       "      <th>...</th>\n",
       "      <td>...</td>\n",
       "      <td>...</td>\n",
       "      <td>...</td>\n",
       "      <td>...</td>\n",
       "      <td>...</td>\n",
       "      <td>...</td>\n",
       "      <td>...</td>\n",
       "      <td>...</td>\n",
       "      <td>...</td>\n",
       "      <td>...</td>\n",
       "      <td>...</td>\n",
       "      <td>...</td>\n",
       "      <td>...</td>\n",
       "      <td>...</td>\n",
       "      <td>...</td>\n",
       "      <td>...</td>\n",
       "      <td>...</td>\n",
       "      <td>...</td>\n",
       "      <td>...</td>\n",
       "      <td>...</td>\n",
       "      <td>...</td>\n",
       "    </tr>\n",
       "    <tr>\n",
       "      <th>546</th>\n",
       "      <td>ChIJ9bR2cARNei4RGT_bEf77qyk</td>\n",
       "      <td>Shafea home</td>\n",
       "      <td>None</td>\n",
       "      <td>3JP2+MW8, Ngringin, Gari, Kec. Wonosari, Kabup...</td>\n",
       "      <td>-7.913327</td>\n",
       "      <td>110.602334</td>\n",
       "      <td>NaN</td>\n",
       "      <td>NaN</td>\n",
       "      <td>None</td>\n",
       "      <td>NaN</td>\n",
       "      <td>...</td>\n",
       "      <td>None</td>\n",
       "      <td>None</td>\n",
       "      <td>None</td>\n",
       "      <td>False</td>\n",
       "      <td></td>\n",
       "      <td>Kec. Wonosari</td>\n",
       "      <td></td>\n",
       "      <td>Kabupaten Gunung Kidul</td>\n",
       "      <td>Daerah Istimewa Yogyakarta</td>\n",
       "      <td>55851</td>\n",
       "    </tr>\n",
       "    <tr>\n",
       "      <th>547</th>\n",
       "      <td>ChIJNyTTyIK1ey4RvIRJaw8eSFk</td>\n",
       "      <td>KEDAI KAPTEN MUDA</td>\n",
       "      <td>(242) 433-9005</td>\n",
       "      <td>2MXF+383, Jl. Karangmojo - Wonosari, Gedang Re...</td>\n",
       "      <td>-7.952361</td>\n",
       "      <td>110.673289</td>\n",
       "      <td>5.0</td>\n",
       "      <td>NaN</td>\n",
       "      <td>None</td>\n",
       "      <td>1.0</td>\n",
       "      <td>...</td>\n",
       "      <td>None</td>\n",
       "      <td>None</td>\n",
       "      <td>None</td>\n",
       "      <td>False</td>\n",
       "      <td>Jl. Karangmojo - Wonosari</td>\n",
       "      <td>Kec. Karangmojo</td>\n",
       "      <td></td>\n",
       "      <td>Kabupaten Gunung Kidul</td>\n",
       "      <td>Daerah Istimewa Yogyakarta</td>\n",
       "      <td>55891</td>\n",
       "    </tr>\n",
       "    <tr>\n",
       "      <th>548</th>\n",
       "      <td>ChIJbUgs4BZLei4RM6q6BWRgIQQ</td>\n",
       "      <td>KOPIYUK</td>\n",
       "      <td>0858-0033-2018</td>\n",
       "      <td>Jln nglipar ngawen Ngrandu 004/001 katongan ng...</td>\n",
       "      <td>-7.865053</td>\n",
       "      <td>110.632366</td>\n",
       "      <td>NaN</td>\n",
       "      <td>NaN</td>\n",
       "      <td>None</td>\n",
       "      <td>NaN</td>\n",
       "      <td>...</td>\n",
       "      <td>None</td>\n",
       "      <td>None</td>\n",
       "      <td>None</td>\n",
       "      <td>False</td>\n",
       "      <td></td>\n",
       "      <td>Kec. Nglipar</td>\n",
       "      <td></td>\n",
       "      <td>Kabupaten Gunung Kidul</td>\n",
       "      <td>Daerah Istimewa Yogyakarta</td>\n",
       "      <td>55852</td>\n",
       "    </tr>\n",
       "    <tr>\n",
       "      <th>549</th>\n",
       "      <td>ChIJ29d7H1VLei4REVfbBPkULPA</td>\n",
       "      <td>Karaoke Edy</td>\n",
       "      <td>None</td>\n",
       "      <td>3J39+9V7, Grogol IV, Bejiharjo, Kec. Karangmoj...</td>\n",
       "      <td>-7.946598</td>\n",
       "      <td>110.619662</td>\n",
       "      <td>4.1</td>\n",
       "      <td>2.0</td>\n",
       "      <td>None</td>\n",
       "      <td>144.0</td>\n",
       "      <td>...</td>\n",
       "      <td>False</td>\n",
       "      <td>None</td>\n",
       "      <td>False</td>\n",
       "      <td>False</td>\n",
       "      <td></td>\n",
       "      <td>Kec. Karangmojo</td>\n",
       "      <td></td>\n",
       "      <td>Kabupaten Gunung Kidul</td>\n",
       "      <td>Daerah Istimewa Yogyakarta</td>\n",
       "      <td>55891</td>\n",
       "    </tr>\n",
       "    <tr>\n",
       "      <th>550</th>\n",
       "      <td>ChIJn69MZXm1ey4RdBcckJestyQ</td>\n",
       "      <td>Rall's &amp; Dwy</td>\n",
       "      <td>None</td>\n",
       "      <td>GEDANGSARI RT 04, RW.05, Wukirsari, Baleharjo,...</td>\n",
       "      <td>-7.979882</td>\n",
       "      <td>110.618327</td>\n",
       "      <td>5.0</td>\n",
       "      <td>NaN</td>\n",
       "      <td>None</td>\n",
       "      <td>1.0</td>\n",
       "      <td>...</td>\n",
       "      <td>None</td>\n",
       "      <td>None</td>\n",
       "      <td>None</td>\n",
       "      <td>False</td>\n",
       "      <td></td>\n",
       "      <td>Kec. Wonosari</td>\n",
       "      <td></td>\n",
       "      <td>Kabupaten Gunung Kidul</td>\n",
       "      <td>Daerah Istimewa</td>\n",
       "      <td>Yogyakarta</td>\n",
       "    </tr>\n",
       "  </tbody>\n",
       "</table>\n",
       "<p>551 rows × 21 columns</p>\n",
       "</div>"
      ],
      "text/plain": [
       "                        Place_ID                              Name  \\\n",
       "0    ChIJ8b3du_dZei4R5Csj9BqdzsM            LOKO CAFE STASIUN TUGU   \n",
       "1    ChIJ-1OO3xhZei4RpiUw_jIlPBQ                          TUGU LOR   \n",
       "2    ChIJAbDRQ7pZei4Rm8oXtJg74k8  Ramu Nostalgia - Tugu Yogyakarta   \n",
       "3    ChIJWW-U4vlZei4RHX6ILzVTvcA                 Kedai Kolega Tugu   \n",
       "4    ChIJq6pHmTBYei4RlTjahkZgUlY                          Wedangan   \n",
       "..                           ...                               ...   \n",
       "546  ChIJ9bR2cARNei4RGT_bEf77qyk                       Shafea home   \n",
       "547  ChIJNyTTyIK1ey4RvIRJaw8eSFk                 KEDAI KAPTEN MUDA   \n",
       "548  ChIJbUgs4BZLei4RM6q6BWRgIQQ                           KOPIYUK   \n",
       "549  ChIJ29d7H1VLei4REVfbBPkULPA                       Karaoke Edy   \n",
       "550  ChIJn69MZXm1ey4RdBcckJestyQ                      Rall's & Dwy   \n",
       "\n",
       "     FormattedPhone                                   FormattedAddress  \\\n",
       "0    0812-2009-6492  Sosromenduran, Gedong Tengen, Kota Yogyakarta,...   \n",
       "1     (0274) 515268  Cokrodiningratan, Kec. Jetis, Kota Yogyakarta,...   \n",
       "2    0851-5692-3734  Jl. A.M. Sangaji No.2, Cokrodiningratan, Kec. ...   \n",
       "3    0821-3750-7055  Jl. P. Mangkubumi No.21, Gowongan, Kec. Jetis,...   \n",
       "4              None  Jl. A.M. Sangaji No.9, Cokrodiningratan, Kec. ...   \n",
       "..              ...                                                ...   \n",
       "546            None  3JP2+MW8, Ngringin, Gari, Kec. Wonosari, Kabup...   \n",
       "547  (242) 433-9005  2MXF+383, Jl. Karangmojo - Wonosari, Gedang Re...   \n",
       "548  0858-0033-2018  Jln nglipar ngawen Ngrandu 004/001 katongan ng...   \n",
       "549            None  3J39+9V7, Grogol IV, Bejiharjo, Kec. Karangmoj...   \n",
       "550            None  GEDANGSARI RT 04, RW.05, Wukirsari, Baleharjo,...   \n",
       "\n",
       "     Latitude   Longitude  OverallRating  PriceLevel  \\\n",
       "0   -7.789311  110.363483            4.1         NaN   \n",
       "1   -7.774089  110.368301            4.5         2.0   \n",
       "2   -7.782492  110.367303            5.0         NaN   \n",
       "3   -7.787412  110.366382            4.6         NaN   \n",
       "4   -7.782092  110.367058            5.0         NaN   \n",
       "..        ...         ...            ...         ...   \n",
       "546 -7.913327  110.602334            NaN         NaN   \n",
       "547 -7.952361  110.673289            5.0         NaN   \n",
       "548 -7.865053  110.632366            NaN         NaN   \n",
       "549 -7.946598  110.619662            4.1         2.0   \n",
       "550 -7.979882  110.618327            5.0         NaN   \n",
       "\n",
       "                                               Website  UserRatingTotal  ...  \\\n",
       "0    https://instagram.com/lokocafe?igshid=OTJlNzQ0...             12.0  ...   \n",
       "1                                                 None           1644.0  ...   \n",
       "2                        http://www.ramunostalgia.com/             17.0  ...   \n",
       "3                                                 None             59.0  ...   \n",
       "4                                                 None             10.0  ...   \n",
       "..                                                 ...              ...  ...   \n",
       "546                                               None              NaN  ...   \n",
       "547                                               None              1.0  ...   \n",
       "548                                               None              NaN  ...   \n",
       "549                                               None            144.0  ...   \n",
       "550                                               None              1.0  ...   \n",
       "\n",
       "    ServesWine ServesVegetarianFood WheelchairAccessibleEntrance  Halal  \\\n",
       "0         None                 None                         None  False   \n",
       "1        False                 None                        False   True   \n",
       "2        False                 None                         None   True   \n",
       "3        False                 None                         None   True   \n",
       "4        False                 None                         None   True   \n",
       "..         ...                  ...                          ...    ...   \n",
       "546       None                 None                         None  False   \n",
       "547       None                 None                         None  False   \n",
       "548       None                 None                         None  False   \n",
       "549      False                 None                        False  False   \n",
       "550       None                 None                         None  False   \n",
       "\n",
       "                 StreetAddress         District             City  \\\n",
       "0                                                Kota Yogyakarta   \n",
       "1                                    Kec. Jetis  Kota Yogyakarta   \n",
       "2        Jl. A.M. Sangaji No.2       Kec. Jetis  Kota Yogyakarta   \n",
       "3      Jl. P. Mangkubumi No.21       Kec. Jetis  Kota Yogyakarta   \n",
       "4        Jl. A.M. Sangaji No.9       Kec. Jetis  Kota Yogyakarta   \n",
       "..                         ...              ...              ...   \n",
       "546                               Kec. Wonosari                    \n",
       "547  Jl. Karangmojo - Wonosari  Kec. Karangmojo                    \n",
       "548                                Kec. Nglipar                    \n",
       "549                             Kec. Karangmojo                    \n",
       "550                               Kec. Wonosari                    \n",
       "\n",
       "                    Regency                    Province PostalNumber  \n",
       "0                                       Daerah Istimewa   Yogyakarta  \n",
       "1                            Daerah Istimewa Yogyakarta        55233  \n",
       "2                            Daerah Istimewa Yogyakarta        55233  \n",
       "3                            Daerah Istimewa Yogyakarta        55232  \n",
       "4                            Daerah Istimewa Yogyakarta        55233  \n",
       "..                      ...                         ...          ...  \n",
       "546  Kabupaten Gunung Kidul  Daerah Istimewa Yogyakarta        55851  \n",
       "547  Kabupaten Gunung Kidul  Daerah Istimewa Yogyakarta        55891  \n",
       "548  Kabupaten Gunung Kidul  Daerah Istimewa Yogyakarta        55852  \n",
       "549  Kabupaten Gunung Kidul  Daerah Istimewa Yogyakarta        55891  \n",
       "550  Kabupaten Gunung Kidul             Daerah Istimewa   Yogyakarta  \n",
       "\n",
       "[551 rows x 21 columns]"
      ]
     },
     "execution_count": 20,
     "metadata": {},
     "output_type": "execute_result"
    }
   ],
   "source": [
    "merged_df"
   ]
  },
  {
   "cell_type": "code",
   "execution_count": 21,
   "metadata": {},
   "outputs": [
    {
     "name": "stdout",
     "output_type": "stream",
     "text": [
      "Place_ID                         object\n",
      "Name                             object\n",
      "FormattedPhone                   object\n",
      "FormattedAddress                 object\n",
      "Latitude                        float64\n",
      "Longitude                       float64\n",
      "OverallRating                   float64\n",
      "PriceLevel                      float64\n",
      "Website                          object\n",
      "UserRatingTotal                 float64\n",
      "ServesBeer                       object\n",
      "ServesWine                       object\n",
      "ServesVegetarianFood             object\n",
      "WheelchairAccessibleEntrance     object\n",
      "Halal                              bool\n",
      "StreetAddress                    object\n",
      "District                         object\n",
      "City                             object\n",
      "Regency                          object\n",
      "Province                         object\n",
      "PostalNumber                     object\n",
      "dtype: object\n"
     ]
    }
   ],
   "source": [
    "# Get the data types of each column\n",
    "data_types = merged_df.dtypes\n",
    "\n",
    "# Print the data types\n",
    "print(data_types)"
   ]
  },
  {
   "cell_type": "code",
   "execution_count": 22,
   "metadata": {},
   "outputs": [],
   "source": [
    "merged_df.to_csv(\"Places.csv\",encoding='utf-8',index=False)"
   ]
  },
  {
   "cell_type": "markdown",
   "metadata": {
    "id": "VjTIdzSSCtoN"
   },
   "source": [
    "## Opening and Closing Hours\n"
   ]
  },
  {
   "cell_type": "code",
   "execution_count": null,
   "metadata": {
    "colab": {
     "base_uri": "https://localhost:8080/"
    },
    "id": "CLdvMUlLM0I3",
    "outputId": "dbbfec0c-e7de-4c4c-88f2-c253afceb870"
   },
   "outputs": [],
   "source": [
    "df.columns"
   ]
  },
  {
   "cell_type": "code",
   "execution_count": null,
   "metadata": {
    "colab": {
     "base_uri": "https://localhost:8080/"
    },
    "id": "pOOek1cpM6Ey",
    "outputId": "1a7d32d6-9233-4439-b9f2-de1738c0ce53"
   },
   "outputs": [],
   "source": [
    "df.opening_hours"
   ]
  },
  {
   "cell_type": "code",
   "execution_count": null,
   "metadata": {},
   "outputs": [],
   "source": [
    "df"
   ]
  },
  {
   "cell_type": "code",
   "execution_count": null,
   "metadata": {
    "colab": {
     "base_uri": "https://localhost:8080/"
    },
    "id": "IfLLFVpJCWSR",
    "outputId": "82d7f909-44a8-4980-af85-2fab6653b334"
   },
   "outputs": [],
   "source": [
    "df.opening_hours_weekday_text"
   ]
  },
  {
   "cell_type": "code",
   "execution_count": null,
   "metadata": {
    "id": "T691f_GmNo1H"
   },
   "outputs": [],
   "source": [
    "df2['result_opening_hours_weekday_text_str'] = df['result_opening_hours_weekday_text'].apply(lambda x: ', '.join(x)).tolist()"
   ]
  },
  {
   "cell_type": "code",
   "execution_count": null,
   "metadata": {
    "id": "I_CxsgGrN6mh"
   },
   "outputs": [],
   "source": [
    "df2[['Monday', 'Tuesday', 'Wednesday', 'Thursday', 'Friday', 'Saturday', 'Sunday']] = df2['result_opening_hours_weekday_text_str'].str.split(',', expand=True)"
   ]
  },
  {
   "cell_type": "code",
   "execution_count": null,
   "metadata": {
    "id": "k91MUmFTON4N"
   },
   "outputs": [],
   "source": [
    "df2['Monday_open_hour'] = df2['Monday'].str.split(': ').str[1].str.split('–').str[0]\n",
    "df2['Monday_close_hour'] = df2['Monday'].str.split(': ').str[1].str.split('–').str[1]\n",
    "df2['Tuesday_open_hour'] = df2['Tuesday'].str.split(': ').str[1].str.split('–').str[0]\n",
    "df2['Tuesday_close_hour'] = df2['Tuesday'].str.split(': ').str[1].str.split('–').str[1]\n",
    "df2['Wednesday_open_hour'] = df2['Wednesday'].str.split(': ').str[1].str.split('–').str[0]\n",
    "df2['Wednesday_close_hour'] = df2['Wednesday'].str.split(': ').str[1].str.split('–').str[1]\n",
    "df2['Thursday_open_hour'] = df2['Thursday'].str.split(': ').str[1].str.split('–').str[0]\n",
    "df2['Thursday_close_hour'] = df2['Thursday'].str.split(': ').str[1].str.split('–').str[1]\n",
    "df2['Friday_open_hour'] = df2['Friday'].str.split(': ').str[1].str.split('–').str[0]\n",
    "df2['Friday_close_hour'] = df2['Friday'].str.split(': ').str[1].str.split('–').str[1]\n",
    "df2['Saturday_open_hour'] = df2['Saturday'].str.split(': ').str[1].str.split('–').str[0]\n",
    "df2['Saturday_close_hour'] = df2['Saturday'].str.split(': ').str[1].str.split('–').str[1]\n",
    "df2['Sunday_open_hour'] = df2['Sunday'].str.split(': ').str[1].str.split('–').str[0]\n",
    "df2['Sunday_close_hour'] = df2['Sunday'].str.split(': ').str[1].str.split('–').str[1]"
   ]
  },
  {
   "cell_type": "code",
   "execution_count": null,
   "metadata": {
    "colab": {
     "base_uri": "https://localhost:8080/",
     "height": 490
    },
    "id": "-bKMeYtIOUwF",
    "outputId": "af46bd57-d926-42ba-a43e-7eff5fb53f4c"
   },
   "outputs": [],
   "source": [
    "df2.head()"
   ]
  },
  {
   "cell_type": "markdown",
   "metadata": {
    "id": "ohgYaKbxOsVw"
   },
   "source": [
    "## Reviews Formatting"
   ]
  },
  {
   "cell_type": "code",
   "execution_count": null,
   "metadata": {
    "colab": {
     "base_uri": "https://localhost:8080/"
    },
    "id": "30DfDfuzOgUv",
    "outputId": "52a94748-e54c-4792-91c1-e8d5ce96a3a1"
   },
   "outputs": [],
   "source": [
    "df.columns"
   ]
  },
  {
   "cell_type": "code",
   "execution_count": null,
   "metadata": {
    "colab": {
     "base_uri": "https://localhost:8080/",
     "height": 1000
    },
    "id": "-05Umtf8PNeB",
    "outputId": "6794779b-38f4-4c83-cabf-fb0b4369fb7a"
   },
   "outputs": [],
   "source": [
    "df"
   ]
  },
  {
   "cell_type": "code",
   "execution_count": null,
   "metadata": {
    "id": "4-qp2JX_Ou3B"
   },
   "outputs": [],
   "source": [
    "reviews_df = df[['result_name', 'result_reviews']]"
   ]
  },
  {
   "cell_type": "code",
   "execution_count": null,
   "metadata": {
    "colab": {
     "base_uri": "https://localhost:8080/",
     "height": 676
    },
    "id": "VRQm9zevQ8iV",
    "outputId": "d65e5bce-4ebe-4e17-8fa1-bf03ebdd297b"
   },
   "outputs": [],
   "source": [
    "reviews_df"
   ]
  },
  {
   "cell_type": "code",
   "execution_count": null,
   "metadata": {
    "id": "n5gOP7SnQ0z1"
   },
   "outputs": [],
   "source": [
    "new_reviews_df = pd.DataFrame(columns=['Place Name','Author', 'Review', 'Rating', 'Time'])"
   ]
  },
  {
   "cell_type": "code",
   "execution_count": null,
   "metadata": {
    "colab": {
     "base_uri": "https://localhost:8080/"
    },
    "id": "SroZYN5uTOca",
    "outputId": "e8f804db-4178-46d5-d522-b028b9765a9e"
   },
   "outputs": [],
   "source": [
    "reviews_df.loc[0]['result_reviews']"
   ]
  },
  {
   "cell_type": "code",
   "execution_count": null,
   "metadata": {
    "colab": {
     "base_uri": "https://localhost:8080/"
    },
    "id": "brHLyNWmQlAS",
    "outputId": "a08b9661-b123-42ba-c095-0cd92a561b21"
   },
   "outputs": [],
   "source": [
    "for i in range(len(reviews_df)):\n",
    "    place_name = reviews_df.loc[i]['result_name']\n",
    "    review_list = reviews_df.loc[i]['result_reviews']\n",
    "    \n",
    "    # Iterate over each review in the list\n",
    "    for review in review_list:\n",
    "        author_name = review['author_name']\n",
    "        review_text = review['text']\n",
    "        review_rating = review['rating']\n",
    "        review_time = review['relative_time_description']\n",
    "        \n",
    "        # Create a new row with the place name and review details\n",
    "        new_row = {'Place Name': place_name, 'Author' : author_name, 'Review': review_text, 'Rating' : review_rating, 'Time' : review_time}\n",
    "        \n",
    "        # Append the new row to the new DataFrame\n",
    "        new_reviews_df = new_reviews_df.append(new_row, ignore_index=True)"
   ]
  },
  {
   "cell_type": "code",
   "execution_count": null,
   "metadata": {
    "colab": {
     "base_uri": "https://localhost:8080/",
     "height": 423
    },
    "id": "CPH_uJv6Utu_",
    "outputId": "3cf30591-f317-44ff-8b8d-ecb7c613a1d2"
   },
   "outputs": [],
   "source": [
    "new_reviews_df"
   ]
  },
  {
   "cell_type": "markdown",
   "metadata": {
    "id": "COWRDv4rFHaa"
   },
   "source": [
    "## Types"
   ]
  },
  {
   "cell_type": "code",
   "execution_count": null,
   "metadata": {
    "id": "VP2Tw3WQF1yZ"
   },
   "outputs": [],
   "source": [
    "place_types = ['amusement_park', 'aquarium', 'art_gallery', 'bakery', 'bar',\n",
    "             'beauty_salon', 'book_store', 'cafe','casino',\n",
    "             'clothing_store', 'convenience_store','department_store', 'gym',\n",
    "             'library',\n",
    "             'liquor_store','movie_theater', 'museum',\n",
    "             'night_club','park', 'restaurant',\n",
    "             'shoe_store', 'shopping_mall', 'spa', 'stadium',\n",
    "             'store', 'supermarket', 'tourist_attraction', 'zoo']"
   ]
  },
  {
   "cell_type": "code",
   "execution_count": null,
   "metadata": {
    "colab": {
     "base_uri": "https://localhost:8080/"
    },
    "id": "AG2CwLQLDtnW",
    "outputId": "18e1e33b-9257-43a7-c5e8-c9d618e3f145"
   },
   "outputs": [],
   "source": [
    "df.columns"
   ]
  },
  {
   "cell_type": "code",
   "execution_count": null,
   "metadata": {
    "colab": {
     "base_uri": "https://localhost:8080/"
    },
    "id": "Ny5OcRxkFLD6",
    "outputId": "0afe3852-432e-4b96-f7a3-22dfd92dc22e"
   },
   "outputs": [],
   "source": [
    "df.result_types.tolist()"
   ]
  },
  {
   "cell_type": "code",
   "execution_count": null,
   "metadata": {
    "id": "N3SUtkQxFVA0"
   },
   "outputs": [],
   "source": [
    "place_types_encoded = pd.DataFrame()\n",
    "place_types_encoded['result_name'] = df['result_name']"
   ]
  },
  {
   "cell_type": "code",
   "execution_count": null,
   "metadata": {
    "id": "u-qoAtuyFmj3"
   },
   "outputs": [],
   "source": [
    "# Create a new DataFrame with dummy variables for each type\n",
    "dummy_df = pd.get_dummies(df['result_name'].explode())\n",
    "\n",
    "# Reindex the columns to include all possible types\n",
    "dummy_df = dummy_df.reindex(columns=place_types, fill_value=0)\n",
    "\n",
    "# Sum the dummy variables for each type to get the final 1 or 0 values\n",
    "df_types = dummy_df.groupby(level=0).sum()\n",
    "\n",
    "# Concatenate the original DataFrame with the types DataFrame\n",
    "place_types_encoded = pd.concat([place_types_encoded, df_types], axis=1)"
   ]
  },
  {
   "cell_type": "code",
   "execution_count": null,
   "metadata": {
    "colab": {
     "base_uri": "https://localhost:8080/",
     "height": 1000
    },
    "id": "bG0LIlsfHaWn",
    "outputId": "f6f7d7f4-06f8-4672-c230-33655213135e"
   },
   "outputs": [],
   "source": [
    "place_types_encoded"
   ]
  },
  {
   "cell_type": "markdown",
   "metadata": {
    "id": "uV7LLyItW13K"
   },
   "source": [
    "## Feature Selection"
   ]
  },
  {
   "cell_type": "code",
   "execution_count": null,
   "metadata": {
    "colab": {
     "base_uri": "https://localhost:8080/"
    },
    "id": "LVJyWYyPW1Wx",
    "outputId": "ddcee6a2-4841-4bd9-a35a-883de08d18df"
   },
   "outputs": [],
   "source": [
    "df.columns"
   ]
  },
  {
   "cell_type": "code",
   "execution_count": null,
   "metadata": {
    "id": "r3jDdNxmW8Vb"
   },
   "outputs": [],
   "source": [
    "place_info_selected_fields = df[['result_name', 'status', 'result_formatted_address',\n",
    "       'result_formatted_phone_number', 'result_geometry_location_lat',\n",
    "       'result_geometry_location_lng',\n",
    "       'result_geometry_viewport_northeast_lat',\n",
    "       'result_geometry_viewport_northeast_lng',\n",
    "       'result_geometry_viewport_southwest_lat',\n",
    "       'result_geometry_viewport_southwest_lng',\n",
    "       'result_opening_hours_weekday_text', 'result_rating', 'result_reviews',\n",
    "       'result_serves_beer', 'result_serves_wine',\n",
    "       'result_user_ratings_total', 'result_website', 'result_price_level',\n",
    "       'result_wheelchair_accessible_entrance']]"
   ]
  },
  {
   "cell_type": "code",
   "execution_count": null,
   "metadata": {
    "colab": {
     "base_uri": "https://localhost:8080/"
    },
    "id": "hs-fEX_-XU_u",
    "outputId": "718fdc75-f349-48f5-dbca-7888e1e8b053"
   },
   "outputs": [],
   "source": [
    "df2.columns"
   ]
  },
  {
   "cell_type": "code",
   "execution_count": null,
   "metadata": {
    "id": "u7k4tivqXW-P"
   },
   "outputs": [],
   "source": [
    "place_info_selected_fields_2 = df2[['result_name', 'street_address',\n",
    "       'kecamatan', 'kota', 'kabupaten', 'province', 'postal_number',\n",
    "       'Monday_open_hour', 'Monday_close_hour', 'Tuesday_open_hour',\n",
    "       'Tuesday_close_hour', 'Wednesday_open_hour', 'Wednesday_close_hour',\n",
    "       'Thursday_open_hour', 'Thursday_close_hour', 'Friday_open_hour',\n",
    "       'Friday_close_hour', 'Saturday_open_hour', 'Saturday_close_hour',\n",
    "       'Sunday_open_hour', 'Sunday_close_hour']]"
   ]
  },
  {
   "cell_type": "code",
   "execution_count": null,
   "metadata": {
    "id": "SFGUe_8uXjnh"
   },
   "outputs": [],
   "source": [
    "place_info_new_selected_fields = pd.merge(place_info_selected_fields, place_info_selected_fields_2, on='result_name', how='outer')"
   ]
  },
  {
   "cell_type": "code",
   "execution_count": null,
   "metadata": {
    "colab": {
     "base_uri": "https://localhost:8080/",
     "height": 456
    },
    "id": "XGmO74FAYN8A",
    "outputId": "67ccff77-086c-4bf8-e3ec-a5149317ec6f"
   },
   "outputs": [],
   "source": [
    "place_info_new_selected_fields.head()"
   ]
  },
  {
   "cell_type": "code",
   "execution_count": null,
   "metadata": {
    "id": "bJ1SU3JdYVm4"
   },
   "outputs": [],
   "source": [
    "place_info_new_selected_fields.columns = ['name', 'status', 'formatted_address',\n",
    "       'formatted_phone_number', 'geometry_location_lat',\n",
    "       'geometry_location_lng',\n",
    "       'geometry_viewport_northeast_lat',\n",
    "       'geometry_viewport_northeast_lng',\n",
    "       'geometry_viewport_southwest_lat',\n",
    "       'geometry_viewport_southwest_lng',\n",
    "       'opening_hours_weekday_text', 'rating', 'reviews',\n",
    "       'serves_beer', 'serves_wine', 'user_ratings_total',\n",
    "       'website', 'price_level',\n",
    "       'wheelchair_accessible_entrance', 'street_address', 'kecamatan',\n",
    "       'kota', 'kabupaten', 'province', 'postal_number', 'Monday_open_hour',\n",
    "       'Monday_close_hour', 'Tuesday_open_hour', 'Tuesday_close_hour',\n",
    "       'Wednesday_open_hour', 'Wednesday_close_hour', 'Thursday_open_hour',\n",
    "       'Thursday_close_hour', 'Friday_open_hour', 'Friday_close_hour',\n",
    "       'Saturday_open_hour', 'Saturday_close_hour', 'Sunday_open_hour',\n",
    "       'Sunday_close_hour']"
   ]
  },
  {
   "cell_type": "code",
   "execution_count": null,
   "metadata": {
    "colab": {
     "base_uri": "https://localhost:8080/",
     "height": 490
    },
    "id": "ov861AsvZBcv",
    "outputId": "e216e4fb-0bcb-42f9-d2b9-e9326c799926"
   },
   "outputs": [],
   "source": [
    "place_info_new_selected_fields.head()"
   ]
  },
  {
   "cell_type": "code",
   "execution_count": null,
   "metadata": {
    "colab": {
     "base_uri": "https://localhost:8080/",
     "height": 456
    },
    "id": "O_f1qWLiZQMI",
    "outputId": "73d0c6b5-de2e-498e-9270-a27e45d520fa"
   },
   "outputs": [],
   "source": [
    "place_types_encoded.head()"
   ]
  },
  {
   "cell_type": "code",
   "execution_count": null,
   "metadata": {
    "colab": {
     "base_uri": "https://localhost:8080/",
     "height": 206
    },
    "id": "KBGvGq9iaIO5",
    "outputId": "1c30d426-b1d3-4cba-8c8a-b9981b8bf8b2"
   },
   "outputs": [],
   "source": [
    "new_reviews_df.head()"
   ]
  },
  {
   "cell_type": "markdown",
   "metadata": {
    "id": "kzVXhMcuZaJC"
   },
   "source": [
    "# All Fields"
   ]
  },
  {
   "cell_type": "code",
   "execution_count": null,
   "metadata": {
    "id": "vhG76SOhZi_u"
   },
   "outputs": [],
   "source": [
    "with open(one_city_all_fields) as file:\n",
    "    data = json.load(file)"
   ]
  },
  {
   "cell_type": "code",
   "execution_count": null,
   "metadata": {
    "id": "yzcGg_B5oo7C"
   },
   "outputs": [],
   "source": [
    "# Define the function to flattened json data with nested structure\n",
    "def flatten_json(data, prefix=''):\n",
    "    flattened = {}\n",
    "    if isinstance(data, dict):\n",
    "        for key, value in data.items():\n",
    "            new_key = prefix + key\n",
    "            if isinstance(value, dict):\n",
    "                flattened.update(flatten_json(value, new_key + '_'))\n",
    "            else:\n",
    "                flattened[new_key] = value\n",
    "    elif isinstance(data, list):\n",
    "        for index, item in enumerate(data):\n",
    "            new_key = prefix + str(index)\n",
    "            if isinstance(item, dict):\n",
    "                flattened.update(flatten_json(item, new_key + '_'))\n",
    "            else:\n",
    "                flattened[new_key] = item\n",
    "    else:\n",
    "        flattened[prefix] = data\n",
    "    return flattened"
   ]
  },
  {
   "cell_type": "code",
   "execution_count": null,
   "metadata": {
    "id": "P690HLqXosvJ"
   },
   "outputs": [],
   "source": [
    "flattened_data = flatten_json(data)"
   ]
  },
  {
   "cell_type": "code",
   "execution_count": null,
   "metadata": {
    "colab": {
     "base_uri": "https://localhost:8080/"
    },
    "id": "oRG3h8Fh6Eiv",
    "outputId": "4427dda3-0978-4865-cdd5-719138697a56"
   },
   "outputs": [],
   "source": [
    "# Print the flattened data\n",
    "for key, value in flattened_data.items():\n",
    "    print(key, \":\", value)"
   ]
  },
  {
   "cell_type": "code",
   "execution_count": null,
   "metadata": {
    "id": "PfJPs8JVpjNJ"
   },
   "outputs": [],
   "source": [
    "flattened_data2 = pd.json_normalize(flattened_data['results'], sep='_')\n",
    "df = pd.DataFrame(flattened_data2)"
   ]
  },
  {
   "cell_type": "code",
   "execution_count": null,
   "metadata": {
    "colab": {
     "base_uri": "https://localhost:8080/"
    },
    "id": "fjqELIS2qKim",
    "outputId": "10515abe-afc1-4cfe-b608-f8d79baa25ec"
   },
   "outputs": [],
   "source": [
    "df.columns"
   ]
  },
  {
   "cell_type": "code",
   "execution_count": null,
   "metadata": {
    "colab": {
     "base_uri": "https://localhost:8080/",
     "height": 490
    },
    "id": "dPmX-xSN6I4v",
    "outputId": "2b211269-6ca8-46dd-d271-5a59023ad291"
   },
   "outputs": [],
   "source": [
    "df.head()"
   ]
  },
  {
   "cell_type": "markdown",
   "metadata": {
    "id": "47-3YWoBZi_w"
   },
   "source": [
    "## Seperate The Address into Different Columns"
   ]
  },
  {
   "cell_type": "code",
   "execution_count": null,
   "metadata": {
    "colab": {
     "base_uri": "https://localhost:8080/"
    },
    "id": "sabEDkO7Zi_w",
    "outputId": "7404b9c5-1528-403c-ed4a-5ae05f0411c8"
   },
   "outputs": [],
   "source": [
    "df['formatted_address'].tolist()"
   ]
  },
  {
   "cell_type": "code",
   "execution_count": null,
   "metadata": {
    "colab": {
     "base_uri": "https://localhost:8080/"
    },
    "id": "aJD8FKOFaigs",
    "outputId": "c4168783-365a-4feb-c103-1ee635115306"
   },
   "outputs": [],
   "source": [
    "df.columns"
   ]
  },
  {
   "cell_type": "code",
   "execution_count": null,
   "metadata": {
    "id": "tDlO31ZJZi_w"
   },
   "outputs": [],
   "source": [
    "df2 = pd.DataFrame()"
   ]
  },
  {
   "cell_type": "code",
   "execution_count": null,
   "metadata": {
    "id": "B6XW1BrcZi_x"
   },
   "outputs": [],
   "source": [
    "df2[['name', 'place_id']] = df[['name', 'place_id']]"
   ]
  },
  {
   "cell_type": "code",
   "execution_count": null,
   "metadata": {
    "id": "OYQzh1-8Zi_x"
   },
   "outputs": [],
   "source": [
    "df2['province'] = df['formatted_address'].str.split(',').str[-1].str.strip().str.split().str[:-1].str.join(' ')\n",
    "df2['postal_number'] = df['formatted_address'].str.split().str[-1]"
   ]
  },
  {
   "cell_type": "code",
   "execution_count": null,
   "metadata": {
    "colab": {
     "base_uri": "https://localhost:8080/",
     "height": 676
    },
    "id": "14anXEy7Zi_x",
    "outputId": "7ea974b0-d8a7-4fbe-f4fc-b92ecb728144"
   },
   "outputs": [],
   "source": [
    "df2"
   ]
  },
  {
   "cell_type": "code",
   "execution_count": null,
   "metadata": {
    "id": "TguzF2pDZi_x"
   },
   "outputs": [],
   "source": [
    "df2['street_address'] = ''\n",
    "df2['kecamatan'] = ''\n",
    "df2['kota'] = ''\n",
    "df2['kabupaten'] = ''"
   ]
  },
  {
   "cell_type": "code",
   "execution_count": null,
   "metadata": {
    "id": "_iplWfLmZi_x"
   },
   "outputs": [],
   "source": [
    "for index, row in df.iterrows():\n",
    "    address_parts = row['formatted_address'].split(', ')\n",
    "    \n",
    "    # Extract the desired components based on specific patterns\n",
    "    for part in address_parts:\n",
    "        if part.startswith('Jl.'):\n",
    "            df2.at[index, 'street_address'] = part\n",
    "        elif part.startswith('Kec. ') or part.startswith('Kecamatan'):\n",
    "            df2.at[index, 'kecamatan'] = part\n",
    "        elif part.startswith('Kota'):\n",
    "            df2.at[index, 'kota'] = part\n",
    "        elif part.startswith('Kabupaten'):\n",
    "            df2.at[index, 'kabupaten'] = part"
   ]
  },
  {
   "cell_type": "code",
   "execution_count": null,
   "metadata": {
    "colab": {
     "base_uri": "https://localhost:8080/",
     "height": 424
    },
    "id": "7YAuNOT7Zi_x",
    "outputId": "c95df0bf-fa86-4381-8c0b-a6907680ef2b"
   },
   "outputs": [],
   "source": [
    "df2.head()"
   ]
  },
  {
   "cell_type": "code",
   "execution_count": null,
   "metadata": {
    "colab": {
     "base_uri": "https://localhost:8080/",
     "height": 490
    },
    "id": "QwJ1E897Zi_x",
    "outputId": "6dc00614-b993-48a0-a105-29db0b2341f7"
   },
   "outputs": [],
   "source": [
    "df.head()"
   ]
  },
  {
   "cell_type": "markdown",
   "metadata": {
    "id": "L6awgugPZi_y"
   },
   "source": [
    "## Photos"
   ]
  },
  {
   "cell_type": "code",
   "execution_count": null,
   "metadata": {
    "colab": {
     "base_uri": "https://localhost:8080/"
    },
    "id": "8fEY6L0BZi_y",
    "outputId": "7e7c9090-e8f5-4fd5-f533-2ee6feb86682"
   },
   "outputs": [],
   "source": [
    "df.columns"
   ]
  },
  {
   "cell_type": "code",
   "execution_count": null,
   "metadata": {
    "colab": {
     "base_uri": "https://localhost:8080/"
    },
    "id": "jDogpiySCc9P",
    "outputId": "b1907590-de96-4ab2-9c66-52618352a231"
   },
   "outputs": [],
   "source": [
    "df.photos.tolist()"
   ]
  },
  {
   "cell_type": "code",
   "execution_count": null,
   "metadata": {
    "id": "_Qw9xjAaEzOY"
   },
   "outputs": [],
   "source": [
    "df2['photo_link'] = ''"
   ]
  },
  {
   "cell_type": "code",
   "execution_count": null,
   "metadata": {
    "id": "jx1jve9gDoEe"
   },
   "outputs": [],
   "source": [
    "pattern = r'href=\"(.*?)\"'\n",
    "\n",
    "for index, row in df.iterrows():\n",
    "    photo_info_list = row['photos']\n",
    "    if pd.isnull(photo_info_list):\n",
    "        continue\n",
    "    photo_link = photo_info_list[0].get('html_attributions', '')[0]\n",
    "    res = re.search(pattern, photo_link)\n",
    "\n",
    "    if res:\n",
    "            link = res.group(1)\n",
    "            df2.at[index, 'photo_link'] = link"
   ]
  },
  {
   "cell_type": "code",
   "execution_count": null,
   "metadata": {
    "colab": {
     "base_uri": "https://localhost:8080/",
     "height": 1000
    },
    "id": "Xp9-0yObE6BB",
    "outputId": "5b1f1d1e-a21e-45f1-aec2-cd4adcab8a8c"
   },
   "outputs": [],
   "source": [
    "df2"
   ]
  },
  {
   "cell_type": "markdown",
   "metadata": {
    "id": "3rtA-duIZi_0"
   },
   "source": [
    "## Types"
   ]
  },
  {
   "cell_type": "code",
   "execution_count": null,
   "metadata": {
    "id": "0ENLw7ymZi_1"
   },
   "outputs": [],
   "source": [
    "place_types = ['amusement_park', 'aquarium', 'art_gallery', 'bakery', 'bar',\n",
    "             'beauty_salon', 'book_store', 'cafe','casino',\n",
    "             'clothing_store', 'convenience_store','department_store', 'gym',\n",
    "             'library',\n",
    "             'liquor_store','movie_theater', 'museum',\n",
    "             'night_club','park', 'restaurant'\n",
    "             'shoe_store', 'shopping_mall', 'spa', 'stadium',\n",
    "             'store', 'supermarket', 'tourist_attraction', 'zoo']"
   ]
  },
  {
   "cell_type": "code",
   "execution_count": null,
   "metadata": {
    "colab": {
     "base_uri": "https://localhost:8080/"
    },
    "id": "lZn9MDEvZi_1",
    "outputId": "71efc2de-4684-41c5-a50a-721bd6ebd43d"
   },
   "outputs": [],
   "source": [
    "df.columns"
   ]
  },
  {
   "cell_type": "code",
   "execution_count": null,
   "metadata": {
    "colab": {
     "base_uri": "https://localhost:8080/"
    },
    "id": "k5zxyEzYZi_1",
    "outputId": "a6981098-1682-4c52-ed2f-fa8b9f4b1fa1"
   },
   "outputs": [],
   "source": [
    "df.types.tolist()"
   ]
  },
  {
   "cell_type": "code",
   "execution_count": null,
   "metadata": {
    "id": "Bl3Q_nsvZi_1"
   },
   "outputs": [],
   "source": [
    "df3 = pd.DataFrame()\n",
    "df3[['name', 'place_id']] = df[['name', 'place_id']]"
   ]
  },
  {
   "cell_type": "code",
   "execution_count": null,
   "metadata": {
    "id": "hBvDab7xZi_1"
   },
   "outputs": [],
   "source": [
    "# Create a new DataFrame with dummy variables for each type\n",
    "dummy_df = pd.get_dummies(df['types'].explode())\n",
    "\n",
    "# Reindex the columns to include all possible types\n",
    "dummy_df = dummy_df.reindex(columns=place_types, fill_value=0)\n",
    "\n",
    "# Sum the dummy variables for each type to get the final 1 or 0 values\n",
    "df_types = dummy_df.groupby(level=0).sum()\n",
    "\n",
    "# Concatenate the original DataFrame with the types DataFrame\n",
    "df3 = pd.concat([df3, df_types], axis=1)"
   ]
  },
  {
   "cell_type": "code",
   "execution_count": null,
   "metadata": {
    "id": "XjHv5eEAZi_2"
   },
   "outputs": [],
   "source": [
    "place_types_encoded_final = df3 "
   ]
  },
  {
   "cell_type": "markdown",
   "metadata": {
    "id": "N0S608ahbPVa"
   },
   "source": []
  },
  {
   "cell_type": "code",
   "execution_count": null,
   "metadata": {
    "colab": {
     "base_uri": "https://localhost:8080/",
     "height": 490
    },
    "id": "4M0OHwajZVwh",
    "outputId": "2f335548-0127-48cf-9d59-3a210f49b50d"
   },
   "outputs": [],
   "source": [
    "df.head()"
   ]
  },
  {
   "cell_type": "code",
   "execution_count": null,
   "metadata": {
    "colab": {
     "base_uri": "https://localhost:8080/",
     "height": 461
    },
    "id": "Ek8J5kpXbpdW",
    "outputId": "2f26a9bd-d627-4e2b-fef1-ee7d2a5020d6"
   },
   "outputs": [],
   "source": [
    "df2.head()"
   ]
  },
  {
   "cell_type": "code",
   "execution_count": null,
   "metadata": {
    "colab": {
     "base_uri": "https://localhost:8080/",
     "height": 456
    },
    "id": "_eZPWjP3brwF",
    "outputId": "9ee125e5-1f33-4421-a692-98a6990ebf1f"
   },
   "outputs": [],
   "source": [
    "df3.head()"
   ]
  },
  {
   "cell_type": "code",
   "execution_count": null,
   "metadata": {
    "colab": {
     "base_uri": "https://localhost:8080/"
    },
    "id": "CeoOwhb9bvOI",
    "outputId": "4c1dd035-d755-4e44-c58e-3b79d8068812"
   },
   "outputs": [],
   "source": [
    "df.columns"
   ]
  },
  {
   "cell_type": "code",
   "execution_count": null,
   "metadata": {
    "id": "a_08dIAZbzSf"
   },
   "outputs": [],
   "source": [
    "place_info_all_fields = df[['place_id', 'name', 'business_status', 'formatted_address', 'rating',\n",
    "                            'user_ratings_total', 'geometry_location_lat',\n",
    "                           'geometry_location_lng', 'geometry_viewport_northeast_lat',\n",
    "                           'geometry_viewport_northeast_lng', 'geometry_viewport_southwest_lat',\n",
    "                           'geometry_viewport_southwest_lng',\n",
    "                           'price_level', 'plus_code_global_code']]"
   ]
  },
  {
   "cell_type": "code",
   "execution_count": null,
   "metadata": {
    "id": "A13AAiZQcMFD"
   },
   "outputs": [],
   "source": [
    "place_info_all_fields_2 = pd.merge(place_info_all_fields, df2, on = ['place_id', 'name'], how = 'outer')"
   ]
  },
  {
   "cell_type": "code",
   "execution_count": null,
   "metadata": {
    "colab": {
     "base_uri": "https://localhost:8080/",
     "height": 490
    },
    "id": "e0ERAKC3cjx2",
    "outputId": "02ebfe20-ac80-4028-cbf1-1a2f0faee792"
   },
   "outputs": [],
   "source": [
    "place_info_all_fields_2.head()"
   ]
  },
  {
   "cell_type": "markdown",
   "metadata": {
    "id": "ZVT-Qkg8c5vB"
   },
   "source": [
    "# Combine Selected Fields and All Fields's Columns"
   ]
  },
  {
   "cell_type": "code",
   "execution_count": null,
   "metadata": {
    "colab": {
     "base_uri": "https://localhost:8080/"
    },
    "id": "lCORMnUAd-70",
    "outputId": "b1caeba4-0b16-42a2-c2b2-a01eb132c99c"
   },
   "outputs": [],
   "source": [
    "place_info_new_selected_fields.columns"
   ]
  },
  {
   "cell_type": "code",
   "execution_count": null,
   "metadata": {
    "colab": {
     "base_uri": "https://localhost:8080/"
    },
    "id": "nZGdU-Jkd0TB",
    "outputId": "004fea4a-a334-4124-fcfb-538b9ec43201"
   },
   "outputs": [],
   "source": [
    "place_info_all_fields_2.columns"
   ]
  },
  {
   "cell_type": "code",
   "execution_count": null,
   "metadata": {
    "id": "aUgIHnNbfToi"
   },
   "outputs": [],
   "source": [
    "exclude_columns = ['formatted_address', 'rating', 'user_ratings_total', 'geometry_location_lat',\n",
    "                   'geometry_location_lng', 'geometry_viewport_northeast_lat', 'geometry_viewport_northeast_lng',\n",
    "                   'geometry_viewport_southwest_lat', 'geometry_viewport_southwest_lng', 'price_level',\n",
    "                   'province', 'postal_number', 'street_address', 'kecamatan', 'kota', 'kabupaten','business_status']"
   ]
  },
  {
   "cell_type": "code",
   "execution_count": null,
   "metadata": {
    "id": "VqJLQsjGfbYI"
   },
   "outputs": [],
   "source": [
    "place_info_final = pd.merge(place_info_new_selected_fields, place_info_all_fields_2.drop(columns=exclude_columns), on='name', how='outer')"
   ]
  },
  {
   "cell_type": "code",
   "execution_count": null,
   "metadata": {
    "colab": {
     "base_uri": "https://localhost:8080/",
     "height": 708
    },
    "id": "n7japfvYVSoF",
    "outputId": "38f37b57-a907-4f2c-e6f5-4ef64a0521d9"
   },
   "outputs": [],
   "source": [
    "place_info_final[['name', 'place_id']]"
   ]
  },
  {
   "cell_type": "code",
   "execution_count": null,
   "metadata": {
    "colab": {
     "base_uri": "https://localhost:8080/"
    },
    "id": "dL5ICA5tO3Tr",
    "outputId": "30bfa006-156a-4717-e3dd-effab4dc5288"
   },
   "outputs": [],
   "source": [
    "place_info_final.columns"
   ]
  },
  {
   "cell_type": "code",
   "execution_count": null,
   "metadata": {
    "id": "vQr3JKsSgkAi"
   },
   "outputs": [],
   "source": [
    "place_types_encoded_final"
   ]
  },
  {
   "cell_type": "code",
   "execution_count": null,
   "metadata": {
    "id": "ybWo-WFwOEFk"
   },
   "outputs": [],
   "source": [
    "operation_hours = place_info_final[['name', 'place_id', 'Monday_open_hour',\n",
    "       'Monday_close_hour', 'Tuesday_open_hour', 'Tuesday_close_hour',\n",
    "       'Wednesday_open_hour', 'Wednesday_close_hour', 'Thursday_open_hour',\n",
    "       'Thursday_close_hour', 'Friday_open_hour', 'Friday_close_hour',\n",
    "       'Saturday_open_hour', 'Saturday_close_hour', 'Sunday_open_hour',\n",
    "       'Sunday_close_hour']]"
   ]
  },
  {
   "cell_type": "code",
   "execution_count": null,
   "metadata": {
    "id": "A4tqr0zGfqza"
   },
   "outputs": [],
   "source": [
    "place_info_final = place_info_final.drop(columns = ['Monday_open_hour',\n",
    "       'Monday_close_hour', 'Tuesday_open_hour', 'Tuesday_close_hour',\n",
    "       'Wednesday_open_hour', 'Wednesday_close_hour', 'Thursday_open_hour',\n",
    "       'Thursday_close_hour', 'Friday_open_hour', 'Friday_close_hour',\n",
    "       'Saturday_open_hour', 'Saturday_close_hour', 'Sunday_open_hour',\n",
    "       'Sunday_close_hour'])"
   ]
  },
  {
   "cell_type": "code",
   "execution_count": null,
   "metadata": {
    "colab": {
     "base_uri": "https://localhost:8080/"
    },
    "id": "E4B976ppPn5a",
    "outputId": "2ef0ec96-2f0b-4cb2-879b-be43a4895d8d"
   },
   "outputs": [],
   "source": [
    "place_info_final.columns"
   ]
  },
  {
   "cell_type": "code",
   "execution_count": null,
   "metadata": {
    "id": "5j0eYLTqPs96"
   },
   "outputs": [],
   "source": [
    "place_info_final = place_info_final[['place_id', 'name', 'status', 'formatted_address', 'formatted_phone_number',\n",
    "                                    'geometry_location_lat', 'geometry_location_lng',\n",
    "                                    'geometry_viewport_northeast_lat', 'geometry_viewport_northeast_lng',\n",
    "                                    'geometry_viewport_southwest_lat', 'geometry_viewport_southwest_lng',\n",
    "                                    'opening_hours_weekday_text', 'rating', 'serves_beer',\n",
    "                                    'serves_wine', 'user_ratings_total', 'website', 'price_level',\n",
    "                                    'wheelchair_accessible_entrance', 'street_address', 'kecamatan', 'kota',\n",
    "                                    'kabupaten', 'province', 'postal_number',\n",
    "                                    'plus_code_global_code', 'photo_link']]"
   ]
  },
  {
   "cell_type": "code",
   "execution_count": null,
   "metadata": {
    "id": "LyDwrGWQQimy"
   },
   "outputs": [],
   "source": [
    "place_info_final.columns = ['place_id', 'name', 'status', 'formatted_address', 'formatted_phone_number',\n",
    "                                    'geometry_location_lat', 'geometry_location_lng',\n",
    "                                    'geometry_viewport_northeast_lat', 'geometry_viewport_northeast_lng',\n",
    "                                    'geometry_viewport_southwest_lat', 'geometry_viewport_southwest_lng',\n",
    "                                    'opening_hours_weekday_text', 'rating', 'serves_beer',\n",
    "                                    'serves_wine', 'user_ratings_total', 'website', 'price_level',\n",
    "                                    'wheelchair_accessible_entrance', 'street_address', 'district', 'city',\n",
    "                                    'regency', 'province', 'postal_number',\n",
    "                                    'plus_code_global_code', 'photo_link']"
   ]
  },
  {
   "cell_type": "code",
   "execution_count": null,
   "metadata": {
    "id": "jZEFHggaSlov"
   },
   "outputs": [],
   "source": [
    "new_reviews_df.columns = ['name', 'Author', 'Review', 'Rating', 'Time']"
   ]
  },
  {
   "cell_type": "code",
   "execution_count": null,
   "metadata": {
    "id": "a7J06md8hN1X"
   },
   "outputs": [],
   "source": [
    "temp = place_info_final[['place_id', 'name']]\n",
    "reviews = pd.merge(temp, new_reviews_df, on = 'name', how = 'outer')"
   ]
  },
  {
   "cell_type": "code",
   "execution_count": null,
   "metadata": {
    "id": "s4E-Vm_uSCFw"
   },
   "outputs": [],
   "source": [
    "reviews = reviews.dropna(subset=['Review'])"
   ]
  },
  {
   "cell_type": "code",
   "execution_count": null,
   "metadata": {
    "id": "SS5ZHsXThsd9"
   },
   "outputs": [],
   "source": [
    "operation_hours.to_csv('operation_hours.csv')\n",
    "place_info_final.to_csv('place_info.csv')\n",
    "place_types_encoded_final.to_csv('place_types.csv')\n",
    "reviews.to_csv('place_reviews.csv')"
   ]
  }
 ],
 "metadata": {
  "colab": {
   "provenance": []
  },
  "kernelspec": {
   "display_name": "Python 3 (ipykernel)",
   "language": "python",
   "name": "python3"
  },
  "language_info": {
   "codemirror_mode": {
    "name": "ipython",
    "version": 3
   },
   "file_extension": ".py",
   "mimetype": "text/x-python",
   "name": "python",
   "nbconvert_exporter": "python",
   "pygments_lexer": "ipython3",
   "version": "3.9.6"
  }
 },
 "nbformat": 4,
 "nbformat_minor": 1
}
